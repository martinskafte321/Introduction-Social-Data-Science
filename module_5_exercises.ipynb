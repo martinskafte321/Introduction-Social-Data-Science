{
 "cells": [
  {
   "cell_type": "markdown",
   "metadata": {},
   "source": [
    "# Videos and Exercises for Session 5: Strings, Requests and APIs"
   ]
  },
  {
   "cell_type": "markdown",
   "metadata": {},
   "source": [
    "In Assignment 0 we covered a lot about basic Python, and in the first sessions, we talked a bit about how to deal with different data types in pandas - strings among other. However, we only scratched the surface on string-related topics and in this session, we will be taking a deeper looking at. \n",
    "\n",
    "We will start out with a recap of some basic string operations and build on that to make a query for fetching data. After having finished this combined teaching module and exercise set, you will know the basics of collecting from the web. This notebook is structured as follows:\n",
    "1. String Operations (recap and warm-up):\n",
    "    - Common string operations\n",
    "    - More string operations\n",
    "    - Warm-up exercises\n",
    "2. Saving as Text File\n",
    "3. Python Containers and Dictionaries\n",
    "4. Python and the Web\n",
    "    - Application Programming Interface (API)\n",
    "    - The Punk API\n",
    "    - The API for Statistics Denmark\n",
    "5. Bonus Exercises $-$ Traffic Data in Copenhagen\n",
    "\n",
    "*Alternative sources*: If you get lost, you might find [this page](https://pythonprogramming.net/string-concatenation-formatting-intermediate-python-tutorial/) on pythonprogramming.net useful. [This page](https://www.python-course.eu/python3_sequential_data_types.php) also gives an introduction to the basics of strings and their related data types. "
   ]
  },
  {
   "cell_type": "markdown",
   "metadata": {},
   "source": [
    "# Part 1: String Operations\n",
    "\n",
    "As we have already learned, strings are sequential containers of characters. In Python we use two kinds of characters:\n",
    "-  American Standard Code (`ascii`)\n",
    "    - Characters from English alphabet, numbers, symbols for writing \n",
    "    - 8 bit information\n",
    "\n",
    "- Unicode (`UTF`)  \n",
    "    - Characters from European and Asian language and much more\n",
    "    - 16 bit information\n",
    "    - Available in URLs recently, e.g. [møn.dk](https://møn.dk)        \n",
    "    \n",
    "    \n",
    "Note that while unicode is a little more heavy and costs more space, it is way more flexible and we get less errors when importing data from non-ascii languages. This reason is also why Python adopted unicode as standard since the release of Python 3.\n",
    "\n",
    "To see that strings are sequential containers, see the example below where we slice them like a list or dataframe/array:"
   ]
  },
  {
   "cell_type": "code",
   "execution_count": 1,
   "metadata": {},
   "outputs": [
    {
     "data": {
      "text/plain": [
       "'lice'"
      ]
     },
     "execution_count": 1,
     "metadata": {},
     "output_type": "execute_result"
    }
   ],
   "source": [
    "str1 = 'police'\n",
    "str1[2:]"
   ]
  },
  {
   "cell_type": "markdown",
   "metadata": {},
   "source": [
    "## Common string operations \n",
    "\n",
    "Strings have multiple operations and functions associated. In this exercise, we investigate a few of these. We also explore the sequence form of a string and how it can be sliced and accessed via indices. In the following, we provide a small tour of some of the most important technical features of strings."
   ]
  },
  {
   "cell_type": "markdown",
   "metadata": {},
   "source": [
    "One thing that can be helpful when working with strings is that you can alter the sentence-case of strings by using the string methods `upper`, `lower`, `capitalize`. Consider the example below and try switching `upper()` with one of the other operations:"
   ]
  },
  {
   "cell_type": "code",
   "execution_count": 2,
   "metadata": {},
   "outputs": [
    {
     "data": {
      "text/plain": [
       "'POLICE'"
      ]
     },
     "execution_count": 2,
     "metadata": {},
     "output_type": "execute_result"
    }
   ],
   "source": [
    "str1.upper()"
   ]
  },
  {
   "cell_type": "markdown",
   "metadata": {},
   "source": [
    "We can also use the `replace` method to substitute parts of the strings:"
   ]
  },
  {
   "cell_type": "code",
   "execution_count": 3,
   "metadata": {},
   "outputs": [
    {
     "data": {
      "text/plain": [
       "'malice'"
      ]
     },
     "execution_count": 3,
     "metadata": {},
     "output_type": "execute_result"
    }
   ],
   "source": [
    "str1.replace('po', 'ma')"
   ]
  },
  {
   "cell_type": "markdown",
   "metadata": {},
   "source": [
    "We can also check whether a substring is within a given string and much more. The general syntax is \n",
    "```python \n",
    "T in S\n",
    "``` \n",
    "which checks whether a string `S` contains the substring `T`. We should always get a boolean True/False outcome in return. See two applications below: "
   ]
  },
  {
   "cell_type": "code",
   "execution_count": 4,
   "metadata": {},
   "outputs": [
    {
     "name": "stdout",
     "output_type": "stream",
     "text": [
      "True False\n"
     ]
    }
   ],
   "source": [
    "print('ice' in str1, 'mice' in str1)"
   ]
  },
  {
   "cell_type": "markdown",
   "metadata": {},
   "source": [
    "Another procedure is to add strings together like below:"
   ]
  },
  {
   "cell_type": "code",
   "execution_count": 5,
   "metadata": {},
   "outputs": [
    {
     "data": {
      "text/plain": [
       "'police officer'"
      ]
     },
     "execution_count": 5,
     "metadata": {},
     "output_type": "execute_result"
    }
   ],
   "source": [
    "str2 = 'officer'\n",
    "str1 + ' ' + str2"
   ]
  },
  {
   "cell_type": "markdown",
   "metadata": {},
   "source": [
    "This can be helpful when we want to combine strings of words into sentences or long text files."
   ]
  },
  {
   "cell_type": "markdown",
   "metadata": {},
   "source": [
    "## More string operations \n",
    "In addition to the techniques above, strings are equipped with an array of _methods_, for solving more complex tasks. For example:\n",
    "- `str.join(list)` will insert a string in between each element of a list\n",
    "- `str.strip()` removes spaces in the beginning and end of a word \n",
    "- the f-string fills in specified blanks in a string\n",
    "- `str1.split(str2)` splits `str1` into a list through all places where `str2` shows up\n",
    "\n",
    "Below we illustrate the use of each function:\n",
    "\n",
    "```python\n",
    ">>> \" \".join(['Hello', 'World!']) \n",
    "'Hello World!'\n",
    "\n",
    ">>> ' Hello World!   '.strip() \n",
    "'Hello World!'\n",
    "\n",
    ">>> w = 'World'\n",
    ">>> f'Hello {w}' \n",
    "'Hello World!'\n",
    "\n",
    ">>> 'a,b,c'.split(',') \n",
    "['a','b','c']\n",
    "```"
   ]
  },
  {
   "cell_type": "markdown",
   "metadata": {},
   "source": [
    "## Warm-up String Exercises\n",
    "\n",
    "In the first couple of exercises, you should use the examples above to solve a set of tasks.\n",
    "\n",
    "> **Ex. 5.1.1**: Let `s1='Chameleon'` and `s2='ham'`. Check whether the string `s2` is a substring of `s1`. Is `'hello'` a substring `'goodbye'`?\n",
    "\n"
   ]
  },
  {
   "cell_type": "code",
   "execution_count": 6,
   "metadata": {
    "deletable": false,
    "nbgrader": {
     "cell_type": "code",
     "checksum": "7e90feaaa9a8b2638f9987ed46dae18f",
     "grade": false,
     "grade_id": "cell-993caea0991d84c4",
     "locked": false,
     "schema_version": 3,
     "solution": true,
     "task": false
    }
   },
   "outputs": [
    {
     "name": "stdout",
     "output_type": "stream",
     "text": [
      "True\n",
      "False\n"
     ]
    },
    {
     "ename": "NotImplementedError",
     "evalue": "",
     "output_type": "error",
     "traceback": [
      "\u001b[1;31m---------------------------------------------------------------------------\u001b[0m",
      "\u001b[1;31mNotImplementedError\u001b[0m                       Traceback (most recent call last)",
      "Cell \u001b[1;32mIn[6], line 8\u001b[0m\n\u001b[0;32m      5\u001b[0m \u001b[38;5;28mprint\u001b[39m(s2 \u001b[38;5;129;01min\u001b[39;00m s1)\n\u001b[0;32m      7\u001b[0m \u001b[38;5;28mprint\u001b[39m(\u001b[38;5;124m'\u001b[39m\u001b[38;5;124mhello\u001b[39m\u001b[38;5;124m'\u001b[39m \u001b[38;5;129;01min\u001b[39;00m \u001b[38;5;124m'\u001b[39m\u001b[38;5;124mgoodbye\u001b[39m\u001b[38;5;124m'\u001b[39m)\n\u001b[1;32m----> 8\u001b[0m \u001b[38;5;28;01mraise\u001b[39;00m \u001b[38;5;167;01mNotImplementedError\u001b[39;00m()\n",
      "\u001b[1;31mNotImplementedError\u001b[0m: "
     ]
    }
   ],
   "source": [
    "# YOUR CODE HERE\n",
    "s1='Chameleon' \n",
    "s2='ham'\n",
    "\n",
    "print(s2 in s1)\n",
    "\n",
    "print('hello' in 'goodbye')\n",
    "raise NotImplementedError()"
   ]
  },
  {
   "cell_type": "markdown",
   "metadata": {},
   "source": [
    "> **Ex. 5.1.2**: From the string `s1` select the last four characters. What is the index of the character `a` in `s1`?\n",
    "\n",
    "> *Hint*: We can selecti a substring by slicing it with the `[]` notation, from the start to end where start is included and end is excluded. Recall that Python has zero-based indexing, see explanation [here](https://softwareengineering.stackexchange.com/questions/110804/why-are-zero-based-arrays-the-norm).\n"
   ]
  },
  {
   "cell_type": "code",
   "execution_count": null,
   "metadata": {
    "deletable": false,
    "nbgrader": {
     "cell_type": "code",
     "checksum": "70e7605f0214aacf9c2cc140eafe6362",
     "grade": false,
     "grade_id": "cell-ace323777447ea4a",
     "locked": false,
     "schema_version": 3,
     "solution": true,
     "task": false
    }
   },
   "outputs": [],
   "source": [
    "# YOUR CODE HERE\n",
    "print(s1[-4:])\n",
    "print(s1.index('a'))\n",
    "\n",
    "\n",
    "raise NotImplementedError()"
   ]
  },
  {
   "cell_type": "markdown",
   "metadata": {},
   "source": [
    "> **Ex. 5.1.3:** Use the `join()` and `strip()` functions to retrieve the sentence `The quick brown fox jumps over the lazy dog` from the list  `list_of_words` in the code cell below. \n",
    "\n",
    "> *Hint:* If you want to challenge yourself, see if you can do this in one line with a list comprehension!"
   ]
  },
  {
   "cell_type": "code",
   "execution_count": 19,
   "metadata": {},
   "outputs": [],
   "source": [
    "list_of_words = ['       The        ', '   quick   ', '     brown      ',\n",
    "                 ' fox          ', '          jumps     ', '   over ',\n",
    "                 '          the   ', '  lazy     ', '          dog     ']"
   ]
  },
  {
   "cell_type": "code",
   "execution_count": 22,
   "metadata": {
    "deletable": false,
    "nbgrader": {
     "cell_type": "code",
     "checksum": "5816e1d6d7ca20a08b2e7710b5ec3f09",
     "grade": false,
     "grade_id": "cell-c07cac510187b734",
     "locked": false,
     "schema_version": 3,
     "solution": true,
     "task": false
    }
   },
   "outputs": [
    {
     "name": "stdout",
     "output_type": "stream",
     "text": [
      "The quick brown fox jumps over the lazy dog\n"
     ]
    },
    {
     "ename": "NotImplementedError",
     "evalue": "",
     "output_type": "error",
     "traceback": [
      "\u001b[1;31m---------------------------------------------------------------------------\u001b[0m",
      "\u001b[1;31mNotImplementedError\u001b[0m                       Traceback (most recent call last)",
      "Cell \u001b[1;32mIn[22], line 6\u001b[0m\n\u001b[0;32m      3\u001b[0m text \u001b[38;5;241m=\u001b[39m \u001b[38;5;124m\"\u001b[39m\u001b[38;5;124m \u001b[39m\u001b[38;5;124m\"\u001b[39m\u001b[38;5;241m.\u001b[39mjoin(word\u001b[38;5;241m.\u001b[39mstrip() \u001b[38;5;28;01mfor\u001b[39;00m word \u001b[38;5;129;01min\u001b[39;00m list_of_words)\n\u001b[0;32m      4\u001b[0m \u001b[38;5;28mprint\u001b[39m(text)\n\u001b[1;32m----> 6\u001b[0m \u001b[38;5;28;01mraise\u001b[39;00m \u001b[38;5;167;01mNotImplementedError\u001b[39;00m()\n",
      "\u001b[1;31mNotImplementedError\u001b[0m: "
     ]
    }
   ],
   "source": [
    "# YOUR CODE HERE\n",
    "\n",
    "text = \" \".join(word.strip() for word in list_of_words)\n",
    "print(text)\n",
    "\n",
    "raise NotImplementedError()"
   ]
  },
  {
   "cell_type": "markdown",
   "metadata": {},
   "source": [
    "> **Ex. 5.1.4:** Let `l1 = ['r ', 'Is', '>', ' < ', 'g ', '?']`. Create from `l1` the sentence \"Is r > g?\" using your knowledge about string formatting. Make sure there is only one space in between worlds.\n",
    ">\n",
    "> _Hint:_ You should be able to combine the above information to solve this exercise."
   ]
  },
  {
   "cell_type": "code",
   "execution_count": null,
   "metadata": {
    "deletable": false,
    "nbgrader": {
     "cell_type": "code",
     "checksum": "880f9a61c0db3d7605addf9b06426330",
     "grade": false,
     "grade_id": "cell-9dafd1e8c334c195",
     "locked": false,
     "schema_version": 3,
     "solution": true,
     "task": false
    }
   },
   "outputs": [],
   "source": [
    "# YOUR CODE HERE\n",
    "l1 = ['r ', 'Is', '>', ' < ', 'g ', '?']\n",
    "\n",
    "print(l1[1] + ' ' + l1[0].strip() + ' ' + l1[2] + ' ' +  l1[4].strip() + l1[5])\n",
    "raise NotImplementedError()"
   ]
  },
  {
   "cell_type": "markdown",
   "metadata": {
    "slideshow": {
     "slide_type": "slide"
    }
   },
   "source": [
    "# Part 2: Saving as Text File\n",
    "In this course, we have already seen that we can output tabular data as CSV files. These files are essentially text files with specific structure that allows a computer to identify rows and columns. \n",
    "\n",
    "In the example below, we will learn how to actually save a string directly as a text file. Note how we make a line break using `\\n` - this is a string escape sequence, read more [here](https://docs.python.org/3/reference/lexical_analysis.html#literals)."
   ]
  },
  {
   "cell_type": "code",
   "execution_count": null,
   "metadata": {
    "slideshow": {
     "slide_type": "fragment"
    }
   },
   "outputs": [],
   "source": [
    "my_str = 'This is important...'\n",
    "my_str2 = 'Written in Python!'\n",
    "escape_seq = '\\n'\n",
    "\n",
    "with open('my_file.txt', 'w') as f:\n",
    "    f.write(my_str+escape_seq+my_str2)\n",
    "    \n"
   ]
  },
  {
   "cell_type": "markdown",
   "metadata": {
    "slideshow": {
     "slide_type": "fragment"
    }
   },
   "source": [
    "The code below opens the text file and prints the string."
   ]
  },
  {
   "cell_type": "code",
   "execution_count": null,
   "metadata": {
    "slideshow": {
     "slide_type": "fragment"
    }
   },
   "outputs": [],
   "source": [
    "with open('my_file.txt', 'r') as f:    \n",
    "    print(f.read())"
   ]
  },
  {
   "cell_type": "markdown",
   "metadata": {},
   "source": [
    "> **Ex. 5.2.1:** Create a .txt file called `to_do_list.txt` with a to-do list by looping over the list `to_do = ['1. Hit the gym', '2. Pay bills', '3. Meet George', '4. Buy eggs', '5. Read a book']` and writing each element on a seperate line."
   ]
  },
  {
   "cell_type": "code",
   "execution_count": null,
   "metadata": {},
   "outputs": [],
   "source": [
    "to_do = ['1. Hit the gym', '2. Pay bills', '3. Meet George', '4. Buy eggs', '5. Read a book']\n",
    "\n",
    "for i in to_do:\n",
    "    print(i)"
   ]
  },
  {
   "cell_type": "code",
   "execution_count": null,
   "metadata": {
    "deletable": false,
    "nbgrader": {
     "cell_type": "code",
     "checksum": "5182aae859c995048f1044d657065482",
     "grade": false,
     "grade_id": "cell-e5321552aeca36ad",
     "locked": false,
     "schema_version": 3,
     "solution": true,
     "task": false
    }
   },
   "outputs": [],
   "source": [
    "# YOUR CODE HERE\n",
    "n = '\\n'\n",
    "\n",
    "\n",
    "with open('to_do_list.txt', 'w') as f:\n",
    "    for i in to_do:\n",
    "        f.write(i + n)\n",
    "            \n",
    "raise NotImplementedError()"
   ]
  },
  {
   "cell_type": "markdown",
   "metadata": {
    "slideshow": {
     "slide_type": "slide"
    }
   },
   "source": [
    "Does the file look like you expected?"
   ]
  },
  {
   "cell_type": "code",
   "execution_count": null,
   "metadata": {
    "slideshow": {
     "slide_type": "fragment"
    }
   },
   "outputs": [],
   "source": [
    "with open('to_do_list.txt', 'r') as f:    \n",
    "    print(f.read())"
   ]
  },
  {
   "cell_type": "markdown",
   "metadata": {},
   "source": [
    "# Part 3: Python Containers and Dictionaries\n",
    "\n",
    "Dictionaries (or simply `dict`) are a central building block of python. Python dicts are constructed from pairs of keys and values, making them extremely versatile for data storage. Like list, they can contain deep nested structures, e.g. a dict of dicts of lists. You can learn more about this in the following video:"
   ]
  },
  {
   "cell_type": "code",
   "execution_count": null,
   "metadata": {},
   "outputs": [],
   "source": [
    "from IPython.display import YouTubeVideo\n",
    "YouTubeVideo('XeN7RY1MwFM', width=640, height=360)"
   ]
  },
  {
   "cell_type": "markdown",
   "metadata": {},
   "source": [
    "Try running the code below, where the keys are strings (names from recent Danish prime ministers) and values are also strings (e.g. political affiliation):"
   ]
  },
  {
   "cell_type": "code",
   "execution_count": null,
   "metadata": {
    "slideshow": {
     "slide_type": "-"
    }
   },
   "outputs": [],
   "source": [
    "my_dict1 = {'Anders': \"Venstre\",\n",
    "            'Helle': \"Socialdemokratiet\",\n",
    "            'Lars': \"Venstre\",\n",
    "            'Mette': \"Socialdemokratiet\"}"
   ]
  },
  {
   "cell_type": "markdown",
   "metadata": {
    "slideshow": {
     "slide_type": "slide"
    }
   },
   "source": [
    "Now,  print the party of some (former) Danish prime minister by replacing `'Name'` below."
   ]
  },
  {
   "cell_type": "code",
   "execution_count": null,
   "metadata": {},
   "outputs": [],
   "source": [
    "print(my_dict1['Anders'])"
   ]
  },
  {
   "cell_type": "markdown",
   "metadata": {},
   "source": [
    "> **Ex. 5.3.1**: Create an empty dictionary `words` using the `dict()`function. Then add each of the words in `['animal', 'coffee', 'python', 'unit', 'knowledge', 'tread', 'arise']` as a key, with the value being a boolean indicator for whether the word begins with a vowel. The results should look like `{'bacon': False, 'asynchronous': True ...}`.\n",
    "\n",
    "> _Hint:_ One approach is to first construct a function that asseses whether a given word begins with a vowel or not."
   ]
  },
  {
   "cell_type": "code",
   "execution_count": null,
   "metadata": {
    "deletable": false,
    "nbgrader": {
     "cell_type": "code",
     "checksum": "9833bc08d5bd7e7938c8d329c9c577ce",
     "grade": false,
     "grade_id": "cell-81e592c15ce8ee6d",
     "locked": false,
     "schema_version": 3,
     "solution": true,
     "task": false
    }
   },
   "outputs": [],
   "source": [
    "# YOUR CODE HERE\n",
    "words = dict()\n",
    "words = {'animal': True, 'coffee': False, 'python':True, 'unit':True, 'knowledge':False, 'tread':False, 'arise':True}\n",
    "print(words)\n",
    "\n",
    "raise NotImplementedError()"
   ]
  },
  {
   "cell_type": "markdown",
   "metadata": {},
   "source": [
    "> **Ex. 5.3.2:** Loop through the dictionary `words`. In each iteration, you should print a proper sentence stating whether the current word begins with a vowel or not. \n",
    "\n",
    "> _Hint:_ You can loop through both keys and values simultaneously with the `.items()` method. [This](https://www.tutorialspoint.com/python/python_dictionary.htm) and [this](https://stackoverflow.com/questions/3294889/iterating-over-dictionaries-using-for-loops) might help you."
   ]
  },
  {
   "cell_type": "code",
   "execution_count": null,
   "metadata": {
    "deletable": false,
    "nbgrader": {
     "cell_type": "code",
     "checksum": "8915800d348370e9f3e558b4f842cea1",
     "grade": false,
     "grade_id": "cell-333a6d7713f78839",
     "locked": false,
     "schema_version": 3,
     "solution": true,
     "task": false
    }
   },
   "outputs": [],
   "source": [
    "# YOUR CODE HERE\n",
    "\n",
    "for key, value in words.items():\n",
    "  #  print(key,value,\" \")\n",
    "    print('Is the word,',key.strip(), ', starting with a vovel?', value)\n",
    "\n",
    "raise NotImplementedError()"
   ]
  },
  {
   "cell_type": "markdown",
   "metadata": {
    "slideshow": {
     "slide_type": "slide"
    }
   },
   "source": [
    "In the video, we also introduced the popular JSON file format which can store lists and dictionaries and hold the three fundamental data types `float`, `int` and `str`. The code example below uses the JSON module to save our dictionary. We use a trick by first converting the JSON file to a string. This can be done with the function `dumps` in the module `json`:"
   ]
  },
  {
   "cell_type": "code",
   "execution_count": 9,
   "metadata": {},
   "outputs": [
    {
     "ename": "NameError",
     "evalue": "name 'words' is not defined",
     "output_type": "error",
     "traceback": [
      "\u001b[1;31m---------------------------------------------------------------------------\u001b[0m",
      "\u001b[1;31mNameError\u001b[0m                                 Traceback (most recent call last)",
      "Cell \u001b[1;32mIn[9], line 4\u001b[0m\n\u001b[0;32m      1\u001b[0m \u001b[38;5;28;01mimport\u001b[39;00m \u001b[38;5;21;01mjson\u001b[39;00m\n\u001b[0;32m      3\u001b[0m \u001b[38;5;28;01mwith\u001b[39;00m \u001b[38;5;28mopen\u001b[39m(\u001b[38;5;124m'\u001b[39m\u001b[38;5;124mmy_file.JSON\u001b[39m\u001b[38;5;124m'\u001b[39m, \u001b[38;5;124m'\u001b[39m\u001b[38;5;124mw\u001b[39m\u001b[38;5;124m'\u001b[39m) \u001b[38;5;28;01mas\u001b[39;00m f:\n\u001b[1;32m----> 4\u001b[0m     my_json_str \u001b[38;5;241m=\u001b[39m json\u001b[38;5;241m.\u001b[39mdumps(\u001b[43mwords\u001b[49m) \u001b[38;5;66;03m# convert dictonary to string with JSON formatting\u001b[39;00m\n\u001b[0;32m      5\u001b[0m     f\u001b[38;5;241m.\u001b[39mwrite(my_json_str) \u001b[38;5;66;03m# write the string to file\u001b[39;00m\n\u001b[0;32m      7\u001b[0m \u001b[38;5;28;01mwith\u001b[39;00m \u001b[38;5;28mopen\u001b[39m(\u001b[38;5;124m'\u001b[39m\u001b[38;5;124mmy_file.JSON\u001b[39m\u001b[38;5;124m'\u001b[39m, \u001b[38;5;124m'\u001b[39m\u001b[38;5;124mr\u001b[39m\u001b[38;5;124m'\u001b[39m) \u001b[38;5;28;01mas\u001b[39;00m f:\n",
      "\u001b[1;31mNameError\u001b[0m: name 'words' is not defined"
     ]
    }
   ],
   "source": [
    "import json\n",
    "\n",
    "with open('my_file.JSON', 'w') as f:\n",
    "    my_json_str = json.dumps(words) # convert dictonary to string with JSON formatting\n",
    "    f.write(my_json_str) # write the string to file\n",
    "\n",
    "with open('my_file.JSON', 'r') as f:\n",
    "    print(f.read()) # read the string from file"
   ]
  },
  {
   "cell_type": "markdown",
   "metadata": {},
   "source": [
    "> **Ex. 5.3.3:** Install `https://pypi.org/project/Random-Word/` (documentation [here](https://pypi.org/project/Random-Word/)) by typing `pip install random-word` in your *Anaconda prompt*, and then run the line below. Doing so, you should get a list of 100 randomly drawn words. Now, create a dictionary that contains the length of each of these words (i.e. like `{'livering': 8, 'reiterate': 9,...}`) and save it as a json-file called `r_words.JSON`. Then read it and make sure that you got everything right."
   ]
  },
  {
   "cell_type": "code",
   "execution_count": 10,
   "metadata": {},
   "outputs": [],
   "source": [
    "from random_word import RandomWords\n",
    "r = RandomWords()\n",
    "r_words = [r.get_random_word() for _ in range(100)]\n"
   ]
  },
  {
   "cell_type": "code",
   "execution_count": null,
   "metadata": {
    "deletable": false,
    "nbgrader": {
     "cell_type": "code",
     "checksum": "a798d05c406177a1b63e6aa07331d54b",
     "grade": false,
     "grade_id": "cell-c4a946f4ae699bfc",
     "locked": false,
     "schema_version": 3,
     "solution": true,
     "task": false
    }
   },
   "outputs": [],
   "source": [
    "# YOUR CODE HERE\n",
    "dicts = ()\n",
    "keys = len(r_words)\n",
    "\n",
    "# Create a dictionary with the length of each word\n",
    "word_lengths_dict = {word: len(word) for word in r_words}\n",
    "\n",
    "with open('r_words.JSON','w') as f:\n",
    "    my_json = json.dumps(word_lengths_dict)\n",
    "    f.write(my_json)\n",
    "    \n",
    "with open('r_words.JSON','r') as f:\n",
    "          print(f.read())\n",
    "\n",
    "raise NotImplementedError()"
   ]
  },
  {
   "cell_type": "markdown",
   "metadata": {},
   "source": [
    "<br>\n",
    "\n",
    "# Part 4: Python and the Web\n",
    "\n",
    "The internet is a massive source for collecting data. Watch the video below to get an overview of the most fundamental protocols and how we work with them."
   ]
  },
  {
   "cell_type": "code",
   "execution_count": null,
   "metadata": {},
   "outputs": [],
   "source": [
    "YouTubeVideo('D6FFt0z8pFc', width=640, height=360)"
   ]
  },
  {
   "cell_type": "markdown",
   "metadata": {
    "slideshow": {
     "slide_type": "slide"
    }
   },
   "source": [
    "## Application Programming Interface (API)\n",
    "\n",
    "APIs are protocols that allow us to request information and/or services from the provider of the API. In this course, we are mainly interested in APIs that provide data as a response to our requests. Watch the video below to get a sense of what APIs exist and how they work."
   ]
  },
  {
   "cell_type": "code",
   "execution_count": null,
   "metadata": {},
   "outputs": [],
   "source": [
    "YouTubeVideo('PvMIubOCUD8', width=640, height=360)"
   ]
  },
  {
   "cell_type": "markdown",
   "metadata": {},
   "source": [
    "## Building the Queries\n",
    "We will now move on to understanding how we can interact with a web API in Python. First we will see how to build a query, which is simply a web address. By typing in a specific web address, the web server will receive information from us.\n",
    "\n",
    "In the example below we build a URL that allows us to check out which repositories ISDSUCPH has publicly available."
   ]
  },
  {
   "cell_type": "code",
   "execution_count": null,
   "metadata": {
    "slideshow": {
     "slide_type": "fragment"
    }
   },
   "outputs": [],
   "source": [
    "server_url = 'https://api.github.com'\n",
    "endpoint_path = '/users/isdsucph/repos'\n",
    "\n",
    "url = server_url + endpoint_path\n",
    "\n",
    "print(url)"
   ]
  },
  {
   "cell_type": "markdown",
   "metadata": {
    "slideshow": {
     "slide_type": "slide"
    }
   },
   "source": [
    "## Sending the Query\n",
    "Python has a smart module, named `requests` (get it with `pip install requests`), that allows us to interact with the web. When we request a URL, we get a response in return. Among other things, it allows us to inspect the HTML code. In the example below, we query the URL for the GitHub API we made above. "
   ]
  },
  {
   "cell_type": "code",
   "execution_count": 1,
   "metadata": {
    "slideshow": {
     "slide_type": "fragment"
    }
   },
   "outputs": [],
   "source": [
    "#!pip install requests\n",
    "import requests # import the module requests\n",
    "response = requests.get(url) # submit query with `get` and save response as object"
   ]
  },
  {
   "cell_type": "markdown",
   "metadata": {},
   "source": [
    "When we examine the response, we can see the HTML string is pretty long, so we limit the initial output to the first 1,000 characters. "
   ]
  },
  {
   "cell_type": "code",
   "execution_count": null,
   "metadata": {
    "slideshow": {
     "slide_type": "fragment"
    }
   },
   "outputs": [],
   "source": [
    "print(len(response.text),'\\n') # print length of HTML\n",
    "print(response.text[:1000]) # print first 1,000 characters of HTML "
   ]
  },
  {
   "cell_type": "markdown",
   "metadata": {},
   "source": [
    "Looking closely, we notice how the structure resembles lists and dictionaries (note that depending on the context, these responses can be VERY difficult to make sense of from simply printing - just as in this case). Therefore, we try to convert it by assuming that it is structured as JSON."
   ]
  },
  {
   "cell_type": "code",
   "execution_count": null,
   "metadata": {},
   "outputs": [],
   "source": [
    "response_json = response.json() # convert response to a list of dicts\n",
    "#response_json[0]"
   ]
  },
  {
   "cell_type": "markdown",
   "metadata": {},
   "source": [
    "Now it is easier to see that this is in fact a dictionary. Looking more closely at the output, we can also see that the depth of the dictionary is not trivial - it contains dictionaries of dictionaries.\n",
    "\n",
    "In order to make the output more digestable, use the so-called *pretty printer* that, among other things, arranges the output alphabetically and makes the depth of the output more clearly visible. Take a look and compare with what we had above:"
   ]
  },
  {
   "cell_type": "code",
   "execution_count": 16,
   "metadata": {},
   "outputs": [],
   "source": [
    "import pprint #Data pretty printer\n",
    "#pprint.pprint(response.json()) #Everything is aranged alphabetically and in appropriate levels"
   ]
  },
  {
   "cell_type": "markdown",
   "metadata": {},
   "source": [
    "## The Punk API\n",
    "\n",
    "Now, it is time for you to request information through an API. First, we will work with the punk API that contains information on a large selection of beers. In this part of exercises, you are going to navigate in the information on these beers. Second, you are going to extract information from the DST (Statistics Denmark) API.\n",
    "\n",
    "The [punk API](https://punkapi.com/) serves information about _beers_. It is a well made and well documented API which makes it great for learning about APIs. \n",
    "\n",
    "> **Ex. 5.4.1:** Read the documentation on the Punk API available [here](https://punkapi.com/documentation/v2). What is the server url (i.e. root endpoint) of the Punk API? Does it require authentication? Then use the Punk API to make a request for the first 80 beers brewed after April, 2004 with an ABV of at least 5."
   ]
  },
  {
   "cell_type": "code",
   "execution_count": 23,
   "metadata": {
    "deletable": false,
    "nbgrader": {
     "cell_type": "code",
     "checksum": "0779d90d691b0832d3385b4a1dd546cb",
     "grade": false,
     "grade_id": "cell-d6af29d54fd7ded7",
     "locked": false,
     "schema_version": 3,
     "solution": true,
     "task": false
    }
   },
   "outputs": [],
   "source": [
    "# YOUR CODE HERE\n",
    "\n",
    "response = requests.get('https://api.punkapi.com/v2/beers?/brewed_after=04-2004&abv_gt=5')\n",
    "beer_list = response.json()\n",
    "#pprint.pprint(response.json())\n"
   ]
  },
  {
   "cell_type": "markdown",
   "metadata": {},
   "source": [
    "> **Ex. 5.4.2:** What object type is the API's JSON response? What about the individual items in the container? Convert the response object to a suitable format and answer the following questions:\n",
    "> 1) How many beers are there in the JSON object?\n",
    ">\n",
    "> 2) Print the response with and without the pretty printer. See any difference?\n",
    ">\n",
    "> 3) Now print only the names of the beers in the JSON object using lower case characters.\n",
    ">\n",
    "> 4) Select the beer called Rabiator from the JSON object. What is the suggested food pairing?\n",
    ">\n",
    "> 5) Select the beer called Hello My Name Is Beastie from the JSON object. Which malt ingredients does the Hello My Name Is Beastie contain?\n"
   ]
  },
  {
   "cell_type": "code",
   "execution_count": 20,
   "metadata": {
    "deletable": false,
    "nbgrader": {
     "cell_type": "code",
     "checksum": "09d8a7b769ef0e4201156e70158197be",
     "grade": false,
     "grade_id": "cell-1c6a5eef920b6c70",
     "locked": false,
     "schema_version": 3,
     "solution": true,
     "task": false
    }
   },
   "outputs": [
    {
     "name": "stdout",
     "output_type": "stream",
     "text": [
      "Pilsen Lager\n",
      "Avery Brown Dredge\n",
      "Electric India\n",
      "AB:12\n",
      "AB:07\n",
      "Bramling X\n",
      "Misspent Youth\n",
      "Arcade Nation\n",
      "Mixtape 8\n",
      "Libertine Porter\n",
      "AB:06\n",
      "Russian Doll – India Pale Ale\n",
      "Hello My Name Is Mette-Marit\n",
      "[{'name': 'Extra Pale', 'amount': {'value': 6.12, 'unit': 'kilograms'}}, {'name': 'Caramalt', 'amount': {'value': 0.8, 'unit': 'kilograms'}}]\n",
      "Rabiator\n",
      "['Grilled portabello mushroom burger', 'Chicken sausages with creamy mash', 'Caramel and banana meringue pie']\n",
      "Devine Rebel (w/ Mikkeller)\n",
      "Storm\n",
      "The End Of History\n",
      "Dog B\n",
      "HBC 369\n",
      "10 Heads High\n",
      "Dana - IPA Is Dead\n",
      "AB:05\n",
      "Sorachi Ace\n",
      "Bourbon Baby\n",
      "Shipwrecker Circus (w/ Oskar Blues)\n"
     ]
    }
   ],
   "source": [
    "# YOUR CODE HERE\n",
    "\n",
    "for beer in beer_list:\n",
    "    print(beer['name'])\n",
    "    \n",
    "    if beer['name'] == 'Rabiator':\n",
    "        print(beer['food_pairing'])\n",
    "    elif beer['name'] == 'Hello My Name Is Mette-Marit':\n",
    "        print(beer['ingredients']['malt'])\n"
   ]
  },
  {
   "cell_type": "markdown",
   "metadata": {},
   "source": [
    "> **Ex. 5.4.3:** Save the beers as a JSON file on your machine.\n",
    "\n",
    "> _Hint:_ If still in doubt about how to do this, you might want to take a look at the [json](https://docs.python.org/3/library/json.html) module.\n"
   ]
  },
  {
   "cell_type": "code",
   "execution_count": 22,
   "metadata": {
    "deletable": false,
    "nbgrader": {
     "cell_type": "code",
     "checksum": "ace20a7b7c09517d1318007ea25c33ec",
     "grade": false,
     "grade_id": "cell-d5feea65f34d4ab1",
     "locked": false,
     "schema_version": 3,
     "solution": true,
     "task": false
    }
   },
   "outputs": [],
   "source": [
    "# YOUR CODE HERE\n",
    "\n",
    "with open('beers.JSON','w') as f:\n",
    "    my_json = json.dumps(beer_list)\n",
    "    f.write(my_json)\n"
   ]
  },
  {
   "cell_type": "markdown",
   "metadata": {},
   "source": [
    "## The API for Statistics Denmark \n",
    "\n",
    "Statistics Denmark (DST) provide an API access to their aggregate data. For developers, they supply a [console](https://api.statbank.dk/console) for testing. In this exercise, we will code up a simple script which can collect data from the DST API. \n",
    "\n",
    "> **Ex 5.4.4:** Use the API console to construct a GET request which retrieves the table FOLK1A split by quarter. The return should be in JSON format. We want all available dates.\n",
    ">\n",
    ">Then write a function `construct_link()` which takes as inputs: a table ID (e.g. `'FOLK1A'`) and a list of strings like `['var1=*', 'var2=somevalue']`. The function should return the proper URL for getting a dataset with the specified variables (e.g. in this case all levels of var1, but only where var2=somevalue).\n",
    "\n",
    "> _Hint:_ The time variable is called 'tid'. To select all available values, set the value-id to '*'. Spend a little time with the console to get a sense of how the URLs are constructed.\n"
   ]
  },
  {
   "cell_type": "code",
   "execution_count": 146,
   "metadata": {
    "deletable": false,
    "nbgrader": {
     "cell_type": "code",
     "checksum": "6d92606bf5324f19480c040a7c76c3f8",
     "grade": false,
     "grade_id": "cell-d174a99ed0af2f0e",
     "locked": false,
     "schema_version": 3,
     "solution": true,
     "task": false
    }
   },
   "outputs": [
    {
     "name": "stdout",
     "output_type": "stream",
     "text": [
      "https://api.statbank.dk/v1/data/FOLK1A/JSONSTAT?tid=*&CIVILSTAND=*&K%C3%98N=*\n"
     ]
    }
   ],
   "source": [
    "# YOUR CODE HERE\n",
    "\n",
    "def construct_link(table_id,filters):\n",
    "    \n",
    "    base_url = 'https://api.statbank.dk/v1/data/'\n",
    "    query_string = \"&\".join(filters)\n",
    "    final_url = f'{base_url}{table_id}/JSONSTAT?{query_string}'\n",
    "    \n",
    "    return final_url\n",
    "\n",
    "link = construct_link('FOLK1A',['tid=*','CIVILSTAND=*','K%C3%98N=*'])\n",
    "print(link)"
   ]
  },
  {
   "cell_type": "markdown",
   "metadata": {},
   "source": [
    "When executing the request in the console, you should get a json file as output. Next, lets write some code to load these json files directly into python. \n",
    "\n",
    "\n",
    "> **Ex. 5.4.5:** Use the `requests` module and `construct_link()` to request home value data from the \"EJDFOE1\" table. Get all available years (variable \"Tid\"), but only for Frederiksberg (BOPKOM=147), apartments (EJENTYP=B), market values (VAERDI=100) and average values in DKK units (ENHED=120). Unpack the json payload and store the result. Wrap the whole thing in a function which takes an url as input and returns the corresponding output.\n",
    "\n",
    "> _Hint:_ The `requests.response` object has a `.json()` method. "
   ]
  },
  {
   "cell_type": "code",
   "execution_count": 165,
   "metadata": {
    "deletable": false,
    "nbgrader": {
     "cell_type": "code",
     "checksum": "fa171d0bfbc603977659fd1f56f9b7a2",
     "grade": false,
     "grade_id": "cell-33bba55a2e8d0fc5",
     "locked": false,
     "schema_version": 3,
     "solution": true,
     "task": false
    }
   },
   "outputs": [],
   "source": [
    "# YOUR CODE HERE\n",
    "import pandas as pd\n",
    "\n",
    "def store_api_data(url):\n",
    "    home_data = requests.get(url).json()\n",
    "    return home_data\n",
    "    \n",
    "link = construct_link('EJDFOE1',['tid=*','BOPKOM=147','EJENTYP=B','VAERDI=100','ENHED=120'])\n",
    "\n",
    "home_value = store_api_data(link)\n",
    "#pprint.pprint(home_value)\n"
   ]
  },
  {
   "cell_type": "markdown",
   "metadata": {},
   "source": [
    "> **Ex. 5.4.6:** Extract the values for Frederiksberg in each year. Store the results as a list."
   ]
  },
  {
   "cell_type": "code",
   "execution_count": 166,
   "metadata": {
    "deletable": false,
    "nbgrader": {
     "cell_type": "code",
     "checksum": "f6bd7935f324dbffbf537f86daa78dde",
     "grade": false,
     "grade_id": "cell-792e1879090acb1f",
     "locked": false,
     "schema_version": 3,
     "solution": true,
     "task": false
    }
   },
   "outputs": [
    {
     "name": "stdout",
     "output_type": "stream",
     "text": [
      "      price  year\n",
      "0   1831863  2004\n",
      "1   2432527  2005\n",
      "2   2967807  2006\n",
      "3   2689005  2007\n",
      "4   2411340  2008\n",
      "5   2169275  2009\n",
      "6   2404517  2010\n",
      "7   2476094  2011\n",
      "8   2603080  2012\n",
      "9   2780182  2013\n",
      "10  3043468  2014\n",
      "11  3360457  2015\n",
      "12  3514799  2016\n",
      "13  3671493  2017\n",
      "14  3744034  2018\n",
      "15  3762944  2019\n",
      "16  3792786  2020\n",
      "17  3763303  2021\n",
      "18  3640595  2022\n"
     ]
    }
   ],
   "source": [
    "# YOUR CODE HERE\n",
    "\n",
    "values = home_value['dataset']['value']\n",
    "time_index = home_value['dataset']['dimension']['Tid']['category']['index']\n",
    "\n",
    "price_year = pd.DataFrame([(values[i],list(time_index)[i]) for i in range(len(values))])\n",
    "price_year.columns = ['price','year']\n",
    "print(price_year)"
   ]
  },
  {
   "cell_type": "markdown",
   "metadata": {},
   "source": [
    "> **Ex. 5.4.7:** Repeat 5.4.5 and 5.4.6 but this time only for Copenhagen (BOPKOM=101). Store the numbers in a new list and use the `plot_values` (supplied below) function to plot the (log of) the data. Interpret the plot."
   ]
  },
  {
   "cell_type": "code",
   "execution_count": 2,
   "metadata": {
    "tags": []
   },
   "outputs": [],
   "source": [
    "# Just run this once, do not change it.\n",
    "import matplotlib.pyplot as plt \n",
    "import numpy as np\n",
    "import pandas as pd\n",
    "\n",
    "def plot_values(val1, val2):\n",
    "    val1 = val1\n",
    "    val2 = val2\n",
    "    \"\"\" Plots lineplot of the number of births split by gender.\n",
    "    \n",
    "    Args: \n",
    "        boys: a list of boy births by year\n",
    "        girls: a list of girl births by year\n",
    "    \"\"\"\n",
    "    if not len(val1) == len(val2):\n",
    "        raise ValueError('There must be the same number of observations for boys and girls')\n",
    "    \n",
    "    labels = [f'{year}' for year in range(2004,2023)]\n",
    "    \n",
    "    plt.grid(color='black', linestyle='-', linewidth=0.1, axis='x')\n",
    "    \n",
    "    plt.plot(range(len(val1)), val1, color = 'blue', label = 'Frederiksberg')\n",
    "    plt.plot(range(len(val1)), val2, color = 'red', label = 'Copenhagen')\n",
    "    plt.yscale(\"log\")\n",
    "    plt.xticks([i for i in range(len(val1)) if i%2 == 0],\n",
    "               [l for i,l in zip(range(len(val1)),labels) if i%2 == 0],\n",
    "               rotation = 'horizontal')\n",
    "    plt.xlabel('Year')\n",
    "    plt.ylabel('Market Value of Apartments')\n",
    "    \n",
    "    plt.legend()\n",
    "    plt.show()"
   ]
  },
  {
   "cell_type": "code",
   "execution_count": 169,
   "metadata": {
    "deletable": false,
    "nbgrader": {
     "cell_type": "code",
     "checksum": "61afe17e8fde46f0afffb8e50c5d6b86",
     "grade": false,
     "grade_id": "cell-0ea2577312192992",
     "locked": false,
     "schema_version": 3,
     "solution": true,
     "task": false
    }
   },
   "outputs": [
    {
     "data": {
      "image/png": "[encoded data removed]",
      "text/plain": [
       "<Figure size 640x480 with 1 Axes>"
      ]
     },
     "metadata": {},
     "output_type": "display_data"
    }
   ],
   "source": [
    "# YOUR CODE HERE\n",
    "def store_api_data(url):\n",
    "    home_data = requests.get(url).json()\n",
    "    return home_data\n",
    "    \n",
    "link = construct_link('EJDFOE1',['tid=*','BOPKOM=101','EJENTYP=B','VAERDI=100','ENHED=120'])\n",
    "\n",
    "home_value_101 = store_api_data(link)\n",
    "\n",
    "values = home_value_101['dataset']['value']\n",
    "time_index = home_value_101['dataset']['dimension']['Tid']['category']['index']\n",
    "\n",
    "price_year_101 = pd.DataFrame([(values[i],list(time_index)[i]) for i in range(len(values))])\n",
    "price_year_101.columns = ['price1','year']\n",
    "\n",
    "plot_values(val2 = price_year['price'], val1= price_year_101['price1'])"
   ]
  },
  {
   "cell_type": "markdown",
   "metadata": {},
   "source": [
    "# Part 5: Bonus Exercises $-$ Traffic Data in Copenhagen\n",
    "\n",
    "This set of bonus exercises allows you to apply the tools that you have learned in session 2 to 5. Note that they are not mandatory $-$ rather, our hopes are the exercises will provide you with an additional opportunity to (i) strenghten your data structuring skills and (ii) see how you have already learned a series of skills that work nicely together. \n",
    "\n",
    "In this set of bonus exercises, you will be working with traffic data from Copenhagen Municipality.\n",
    "\n",
    "The municipality have made the data openly available through the [opendata.dk](http://www.opendata.dk/) platform. We will use the data from traffic counters to construct a dataset of hourly traffic. We will use this data to get basic insights on the development in traffic over time and relate it to weather. The gist here is to practice a very important skill in Data Science: being able to quickly fetch data from the web and structure it so that you can work with it. Scraping usually gets a bit more advanced than what we will do today, but the following exercises should give you a taste for how it works. The bulk of these exercise, however, revolve around using the Pandas library to structure and analyze data."
   ]
  },
  {
   "cell_type": "markdown",
   "metadata": {},
   "source": [
    "## Part 5.5.A: Getting some data to work with\n",
    "\n",
    "Hence follows a simple scraping exercise where you (1) collect urls for datasets in the webpage listing data on traffic counters and (2) use these urls to load the data into one dataframe.\n",
    "\n",
    "> **Ex. 5.5.1:** *(Bonus)* Using the requests module, extract the html markup of the webpage data.kk.dk/dataset/faste-trafiktaellinger and store it as a string in a new variable."
   ]
  },
  {
   "cell_type": "code",
   "execution_count": 9,
   "metadata": {
    "deletable": false,
    "nbgrader": {
     "cell_type": "code",
     "checksum": "9176d5fa5e602c0cc9a83fc019b5e06c",
     "grade": false,
     "grade_id": "cell-66d30cd4ddd300f6",
     "locked": false,
     "schema_version": 3,
     "solution": true,
     "task": false
    }
   },
   "outputs": [
    {
     "name": "stdout",
     "output_type": "stream",
     "text": [
      "<!DOCTYPE html>\n",
      "<html lang=\"en\">\n",
      "\n",
      "<head>\n",
      "    <meta charset=\"utf-8\">\n",
      "    <title>\n",
      "        \n",
      "Københavns Kommune\n",
      "\n",
      "    </title>\n",
      "    <div role=\"navigation\" id=\"skip-to-main\" aria-label=\"Gå til hovedindhold\">\n",
      "        <a href=\"#main-content\">Gå til hovedindhold</a>\n",
      "    </div>\n",
      "    <meta name=\"author\" content=\"Datopian\">\n",
      "    <meta name=\"viewport\" content=\"width=device-width, initial-scale=1.0, maximum-scale=1.0, user-scalable=no\">\n",
      "\n",
      "    <!-- Data Explorer CSS -->\n",
      "    <!-- Should be imported before the main one so not to override the custom styling-->\n",
      "    <link rel=\"stylesheet\" type=\"text/css\" href=\"/static/stylesheets/dataexplorer/main.0e85ebd4.chunk.css\">\n",
      "    <link rel=\"stylesheet\" type=\"text/css\" href=\"/static/stylesheets/dataexplorer/2.0f69c0e7.chunk.css\">\n",
      "    <!-- End Data Explorer CSS -->\n",
      "\n",
      "    <link rel=\"stylesheet\" media=\"screen\" href=\"/static/stylesheets/app.css\">\n",
      "    <link rel=\"shortcut icon\" href=\"/static/img/favicon.ico\">  \n",
      "    <script id=\"CookieConsent\" src=\"https://policy.app.cookieinformation.com/uc.js\" data-culture=\"DA\" type=\"text/javascript\"></script>\n",
      "    <script src=\"https://code.jquery.com/jquery-3.3.1.min.js\" integrity=\"sha256-FgpCb/KJQlLNfOu91ta32o/NMZxltwRo8QtmkMRdAu8=\" crossorigin=\"anonymous\"></script>\n",
      "</head>\n",
      "\n",
      "<body class=\"search\">\n",
      "    <div id=\"page\" class=\"flex flex-col justify-between min-h-screen\">\n",
      "        <div>\n",
      "            \n",
      "            <!-- Page header -->\n",
      "            <header>\n",
      "                <div class=\"container mx-auto lg:flex justify-between p-gutter items-center relative\">\n",
      "                    <a href=\"/\" class=\"flex content-center h-8 mr-16\" aria-label=\"Navigere Hjem\">\n",
      "                        <img src=\"/static/img/logo.svg\" alt=\"Open Data DK\" class=\"lg:h-6 max-w-full\" />\n",
      "                    </a>\n",
      "\n",
      "                    <button id=\"nav-toggle\" class=\"absolute top-0 right-0 p-gutter outline-none focus:outline-none focus:text-secondary lg:hidden invisible\">\n",
      "              <svg class=\"w-8 h-8 fill-current\">\n",
      "                <use xlink:href=\"#menu\" />\n",
      "              </svg>\n",
      "            </button>\n",
      "\n",
      "                    <nav class=\"main-nav mt-4 py-2 lg:my-2 bg-white right-0 z-10 lg:relative\" aria-label=\"Webstedsnavigation\">\n",
      "                        <ul class=\"lg:flex md:text-xl lg:text-2xl\">\n",
      "                            <li class=\"mt-1 mr-6\">\n",
      "                                <a class=\"text-white bg-secondary px-6 py-2 whitespace-no-wrap\" target=\"_blank\" href=\"https://www.survey-xact.dk/LinkCollector?key=X3LGR2APJJ15\">Efterspørg data</a>\n",
      "                            </li>\n",
      "                            <li class=\"main-nav_item lg:mx-3\">\n",
      "                                <a class=\"main-nav_link\" href=\"/blog\">Nyheder</a>\n",
      "                            </li>\n",
      "                            <li class=\"main-nav_item lg:mx-3\">\n",
      "                                <a class=\"main-nav_link\" href=\"/search\">Data<svg class=\"hidden w-3 h-3 text-secondary fill-current ml-1 lg:block\"><use xlink:href=\"#dropdown\" /></svg></a>\n",
      "                                <ul class=\"main-nav_subnav\" aria-label=\"Undermenu\">\n",
      "                                    <li>\n",
      "                                        <a class=\"main-nav_link\" href=\"/search\">Datasæt</a>\n",
      "                                    </li>\n",
      "                                    <li>\n",
      "                                        <a class=\"main-nav_link\" href=\"/organization\">Organisationer</a>\n",
      "                                    </li>\n",
      "                                    <li>\n",
      "                                        <a class=\"main-nav_link\" href=\"/collections\">Grupper</a>\n",
      "                                    </li>\n",
      "                                    <li>\n",
      "                                        <a class=\"main-nav_link\" href=\"/andres-data\">Andres data</a>\n",
      "                                    </li>\n",
      "                                </ul>\n",
      "                            </li>\n",
      "                            <li class=\"main-nav_item lg:ml-3\">\n",
      "                                <a class=\"main-nav_link whitespace-no-wrap\" href=\"/about\">Om os <svg class=\"hidden w-3 h-3 text-secondary fill-current ml-1 lg:block\"><use xlink:href=\"#dropdown\" /></svg></a>\n",
      "                                <ul class=\"main-nav_subnav\" aria-label=\"Undermenu\">\n",
      "                                    \n",
      "                                    <li>\n",
      "                                        <a class=\"main-nav_link\" href=\"/hvad-er-open-data-dk\" aria-label=\"Hvad er Open Data DK?\">Hvad er Open Data DK?</a>\n",
      "                                    </li>\n",
      "                                    \n",
      "                                    <li>\n",
      "                                        <a class=\"main-nav_link\" href=\"/hvad-er-aabne-data\" aria-label=\"Hvad er åbne data?\">Hvad er åbne data?</a>\n",
      "                                    </li>\n",
      "                                    \n",
      "                                    <li>\n",
      "                                        <a class=\"main-nav_link\" href=\"/anvend-data\" aria-label=\"Anvend data\">Anvend data</a>\n",
      "                                    </li>\n",
      "                                    \n",
      "                                    <li>\n",
      "                                        <a class=\"main-nav_link\" href=\"/udstil-data\" aria-label=\"Udstil data\">Udstil data</a>\n",
      "                                    </li>\n",
      "                                    \n",
      "                                </ul>\n",
      "                            </li>\n",
      "                            <li class=\"flex text-primary lg:ml-6\">\n",
      "                                <a id=\"search-link\" href=\"/search\">\n",
      "                                    <span class=\"main-nav_link hidden\">Søg i datasæt</span>\n",
      "                                    <svg class=\"main-nav_search-toggle-icon w-8 h-8 hover:fill-secondary outline-none\" data-toggle=\"show\"><use xlink:href=\"#search\" /></svg>\n",
      "                                    <svg class=\"main-nav_search-toggle-icon w-8 h-6 hover:fill-secondary outline-none\" data-toggle=\"hide\"><use xlink:href=\"#cross\" /></svg>\n",
      "                                </a>\n",
      "                                <div class=\"main-nav_search w-full px-6 py-2 lg:p-0 lg:absolute lg:left-0 lg:right-0 lg:pr-12 lg:pointer-events-none\" id=\"header-search\">\n",
      "                                    <!--                    <input id=\"searchInput\" aria-label=\"Søg\" name=\"q\" type=\"text\" class=\"searchInput border-2 border-solid px-3 py-2 lg:px-4 lg:py-3 lg:text-xl outline-none border-secondary w-full pointer-events-auto\" placeholder=\"Søg datasæt\">-->\n",
      "                                    <div class=\"dropdown\">\n",
      "                                        <div class=\"relative\">\n",
      "                                            <input id=\"searchInput\" aria-label=\"Søg\" autocomplete=\"off\" type=\"text\" class=\"searchInput border-2 border-solid px-3 py-2 lg:px-4 lg:py-3 lg:text-xl outline-none border-secondary w-full pointer-events-auto\" placeholder=\"Søg ...\"\n",
      "                                                name=\"q\" required />\n",
      "                                            <button class=\"absolute inset-y-0 right-0 px-3 outline-none\" type=\"submit\">\n",
      "                          <svg class=\"w-6 h-6 fill-white\" aria-label=\"Søg i datasæt\"><use xlink:href=\"#search\" /></svg>\n",
      "                        </button>\n",
      "                                        </div>\n",
      "\n",
      "                                        <div id=\"searchSelect\" class=\"searchSelect\">\n",
      "                                            <div id=\"searchSelect1Div\" class=\"searchSelect1Div relative\">\n",
      "                                                <input id=\"searchSelect1\" aria-label=\"Søg i datasæt\" readonly type=\"text\" class=\"searchSelect1 cursor-pointer hover:bg-secondary focus:bg-secondary border-2 border-solid pl-10 pr-48 py-3 lg:text-xl border-secondary w-full pointer-events-auto\"\n",
      "                                                />\n",
      "                                                <div class=\"pointer-events-none absolute inset-y-0 left-0 flex items-center px-2 text-gray-700\">\n",
      "                                                    <svg class=\"w-6 h-6 fill-primary\" aria-label=\"Søg i datasæt\"><use xlink:href=\"#search\" /></svg>\n",
      "                                                </div>\n",
      "                                                <div class=\"pointer-events-none absolute inset-y-0 right-0 flex items-center px-2 text-gray-700\">\n",
      "                                                    <button class=\"flex-shrink-0 bg-teal-500 hover:bg-teal-700 border-teal-500 text-sm border-4 text-primary py-1 px-2 rounded\" type=\"button\">\n",
      "                              Søg i datasæt\n",
      "                            </button>\n",
      "                                                </div>\n",
      "                                            </div>\n",
      "\n",
      "                                            <div id=\"searchSelect2Div\" class=\"searchSelect2Div relative\">\n",
      "                                                <input id=\"searchSelect2\" aria-label=\"Søg på hjemmeside\" readonly type=\"text\" class=\"searchSelect2 cursor-pointer hover:bg-secondary focus:bg-secondary border-2 border-solid pl-10 pr-48 py-3 lg:text-xl border-secondary w-full pointer-events-auto\"\n",
      "                                                />\n",
      "                                                <div class=\"pointer-events-none absolute inset-y-0 left-0 flex items-center px-2 text-gray-700\">\n",
      "                                                    <svg class=\"w-6 h-6 fill-primary\" aria-label=\"Søg i indhold\"><use xlink:href=\"#search\" /></svg>\n",
      "                                                </div>\n",
      "                                                <div class=\"pointer-events-none absolute inset-y-0 right-0 flex items-center px-2 text-gray-700\">\n",
      "                                                    <button class=\"flex-shrink-0 text-sm border-4 text-primary py-1 px-2 rounded\" type=\"button\">\n",
      "                              Søg på hjemmeside\n",
      "                            </button>\n",
      "                                                </div>\n",
      "                                            </div>\n",
      "                                        </div>\n",
      "                                    </div>\n",
      "                                </div>\n",
      "\n",
      "                            </li>\n",
      "                        </ul>\n",
      "                    </nav>\n",
      "                </div>\n",
      "            </header>\n",
      "            <!-- End of page header -->\n",
      "\n",
      "            \n",
      "<div class=\"container mx-auto p-gutter\">\n",
      "  <nav class=\"breadcrumb\" aria-label=\"Brødkrumme\">\n",
      "    <ol>\n",
      "      <li class=\"breadcrumb_item\">\n",
      "        <a class=\"breadcrumb_link\" href=\"/\">Hjem</a>\n",
      "      </li>\n",
      "      <li class=\"breadcrumb_item\">\n",
      "        <a class=\"breadcrumb_link\" href=\"/organization\">Organisationer</a>\n",
      "      </li>\n",
      "      <li class=\"breadcrumb_item\">\n",
      "        <a class=\"breadcrumb_link\" href=\"/city-of-copenhagen\" aria-current=\"page\">Københavns Kommune</a>\n",
      "      </li>\n",
      "\n",
      "    </ol>\n",
      "  </nav>\n",
      "</div>\n",
      "\n",
      "<div class=\"container mx-auto md:flex p-gutter\">\n",
      "  <div class=\"md:w-1/3 md:mr-gutter\">\n",
      "\n",
      "    <div class=\"mb-gutter md:mr-10 md:pb-2\" role=\"region\" aria-label=\"Om Københavns Kommune\">\n",
      "      <img src=\"https://admin.opendata.dk/uploads/group/2016-04-25-065450.348702cph-logo.png\" class=\"mb-4 h-24\" alt=\"Københavns Kommune logo\">\n",
      "      <h2 class=\"text-primary text-xl font-semibold\">Københavns Kommune</h2>\n",
      "      <p class=\"py-2 text-sm\">\n",
      "        <p>Åbne data fra Københavns Kommune.</p>\n",
      "<p>Har du spørgsmål om data kan du skrive til <a href=\"mailto:bydata@kk.dk\">bydata@kk.dk</a></p>\n",
      "\n",
      "      </p>\n",
      "    </div>\n",
      "\n",
      "    <button id=\"filter-toggle\" class=\"bg-primary w-full text-white mb-6 p-3 invisible md:hidden\" aria-hidden=\"true\">\n",
      "      Toggle filters\n",
      "    </button>\n",
      "    <div class=\"search-filters\">\n",
      "      \n",
      "\n",
      "\n",
      "\n",
      "\n",
      "<section class=\"mb-6 md:pr-10\">\n",
      "  <h2 class=\"bg-gray-200 px-4 py-3 border-t border-gray-200 font-bold\">Tags</h2>\n",
      "  <ul>\n",
      "    \n",
      "    \n",
      "    \n",
      "\n",
      "    \n",
      "    \n",
      "    \n",
      "    <li class=\"border-t border-gray-200\">\n",
      "      <a href=\"/search?q=tags:parkering organization:city-of-copenhagen\" class=\"filter-button hover:text-secondary\" aria-label=\"Tags: parkering (10 results)\">\n",
      "        parkering\n",
      "        <span class=\"filter-button_count\">10</span>\n",
      "      </a>\n",
      "    </li>\n",
      "    \n",
      "    \n",
      "    \n",
      "    \n",
      "    \n",
      "\n",
      "    \n",
      "    \n",
      "    \n",
      "    <li class=\"border-t border-gray-200\">\n",
      "      <a href=\"/search?q=tags:skybrud organization:city-of-copenhagen\" class=\"filter-button hover:text-secondary\" aria-label=\"Tags: skybrud (7 results)\">\n",
      "        skybrud\n",
      "        <span class=\"filter-button_count\">7</span>\n",
      "      </a>\n",
      "    </li>\n",
      "    \n",
      "    \n",
      "    \n",
      "    \n",
      "    \n",
      "\n",
      "    \n",
      "    \n",
      "    \n",
      "    <li class=\"border-t border-gray-200\">\n",
      "      <a href=\"/search?q=tags:veje organization:city-of-copenhagen\" class=\"filter-button hover:text-secondary\" aria-label=\"Tags: veje (6 results)\">\n",
      "        veje\n",
      "        <span class=\"filter-button_count\">6</span>\n",
      "      </a>\n",
      "    </li>\n",
      "    \n",
      "    \n",
      "    \n",
      "    \n",
      "    \n",
      "\n",
      "    \n",
      "    \n",
      "    \n",
      "    <li class=\"border-t border-gray-200\">\n",
      "      <a href=\"/search?q=tags:grænser organization:city-of-copenhagen\" class=\"filter-button hover:text-secondary\" aria-label=\"Tags: grænser (5 results)\">\n",
      "        grænser\n",
      "        <span class=\"filter-button_count\">5</span>\n",
      "      </a>\n",
      "    </li>\n",
      "    \n",
      "    \n",
      "    \n",
      "    \n",
      "    \n",
      "\n",
      "    \n",
      "    \n",
      "    \n",
      "    <li class=\"border-t border-gray-200\">\n",
      "      <a href=\"/search?q=tags:gadebelysning organization:city-of-copenhagen\" class=\"filter-button hover:text-secondary\" aria-label=\"Tags: gadebelysning (5 results)\">\n",
      "        gadebelysning\n",
      "        <span class=\"filter-button_count\">5</span>\n",
      "      </a>\n",
      "    </li>\n",
      "    \n",
      "    \n",
      "    \n",
      "    \n",
      "    \n",
      "    <li class=\"border-t border-gray-200\">\n",
      "      <a href=\"/search?facet.limit.tags=-1&q=organization:city-of-copenhagen\" class=\"filter-button text-secondary\" aria-label=\"Vis mere tags\">\n",
      "        Vis mere\n",
      "      </a>\n",
      "    </li>\n",
      "    \n",
      "  </ul>\n",
      "</section>\n",
      "\n",
      "<section class=\"mb-6 md:pr-10\">\n",
      "  <h2 class=\"bg-gray-200 px-4 py-3 border-t border-gray-200 font-bold\">Formats</h2>\n",
      "  <ul>\n",
      "    \n",
      "    \n",
      "    \n",
      "\n",
      "    \n",
      "    \n",
      "    \n",
      "    <li class=\"border-t border-gray-200\">\n",
      "      <a href=\"/search?q=res_format:GeoJSON organization:city-of-copenhagen\" class=\"filter-button hover:text-secondary\" aria-label=\"Formats: GeoJSON (122 results)\">\n",
      "        GeoJSON\n",
      "        <span class=\"filter-button_count\">122</span>\n",
      "      </a>\n",
      "    </li>\n",
      "    \n",
      "    \n",
      "    \n",
      "    \n",
      "    \n",
      "\n",
      "    \n",
      "    \n",
      "    \n",
      "    <li class=\"border-t border-gray-200\">\n",
      "      <a href=\"/search?q=res_format:CSV organization:city-of-copenhagen\" class=\"filter-button hover:text-secondary\" aria-label=\"Formats: CSV (122 results)\">\n",
      "        CSV\n",
      "        <span class=\"filter-button_count\">122</span>\n",
      "      </a>\n",
      "    </li>\n",
      "    \n",
      "    \n",
      "    \n",
      "    \n",
      "    \n",
      "\n",
      "    \n",
      "    \n",
      "    \n",
      "    <li class=\"border-t border-gray-200\">\n",
      "      <a href=\"/search?q=res_format:SHP organization:city-of-copenhagen\" class=\"filter-button hover:text-secondary\" aria-label=\"Formats: SHP (92 results)\">\n",
      "        SHP\n",
      "        <span class=\"filter-button_count\">92</span>\n",
      "      </a>\n",
      "    </li>\n",
      "    \n",
      "    \n",
      "    \n",
      "    \n",
      "    \n",
      "\n",
      "    \n",
      "    \n",
      "    \n",
      "    <li class=\"border-t border-gray-200\">\n",
      "      <a href=\"/search?q=res_format:Link organization:city-of-copenhagen\" class=\"filter-button hover:text-secondary\" aria-label=\"Formats: Link (40 results)\">\n",
      "        Link\n",
      "        <span class=\"filter-button_count\">40</span>\n",
      "      </a>\n",
      "    </li>\n",
      "    \n",
      "    \n",
      "    \n",
      "    \n",
      "    \n",
      "\n",
      "    \n",
      "    \n",
      "    \n",
      "    <li class=\"border-t border-gray-200\">\n",
      "      <a href=\"/search?q=res_format:PDF organization:city-of-copenhagen\" class=\"filter-button hover:text-secondary\" aria-label=\"Formats: PDF (33 results)\">\n",
      "        PDF\n",
      "        <span class=\"filter-button_count\">33</span>\n",
      "      </a>\n",
      "    </li>\n",
      "    \n",
      "    \n",
      "    \n",
      "    \n",
      "    \n",
      "    <li class=\"border-t border-gray-200\">\n",
      "      <a href=\"/search?facet.limit.res_format=-1&q=organization:city-of-copenhagen\" class=\"filter-button text-secondary\" aria-label=\"Vis mere formater\">\n",
      "        Vis mere\n",
      "      </a>\n",
      "    </li>\n",
      "    \n",
      "  </ul>\n",
      "</section>\n",
      "\n",
      "<section class=\"mb-6 md:pr-10\">\n",
      "  <h2 class=\"bg-gray-200 px-4 py-3 border-t border-gray-200 font-bold\">Opdatering frekvens</h2>\n",
      "  <ul>\n",
      "    \n",
      "    \n",
      "    \n",
      "\n",
      "    \n",
      "    \n",
      "    \n",
      "    <li class=\"border-t border-gray-200\">\n",
      "      <a href=\"/search?q=update_frequency:Frequent organization:city-of-copenhagen\" class=\"filter-button hover:text-secondary\" aria-label=\"Opdatering frekvens: Løbende (173 results)\">\n",
      "        Løbende\n",
      "        <span class=\"filter-button_count\">173</span>\n",
      "      </a>\n",
      "    </li>\n",
      "    \n",
      "    \n",
      "    \n",
      "    \n",
      "    \n",
      "\n",
      "    \n",
      "    \n",
      "    \n",
      "    <li class=\"border-t border-gray-200\">\n",
      "      <a href=\"/search?q=update_frequency:Historical organization:city-of-copenhagen\" class=\"filter-button hover:text-secondary\" aria-label=\"Opdatering frekvens: Historisk (25 results)\">\n",
      "        Historisk\n",
      "        <span class=\"filter-button_count\">25</span>\n",
      "      </a>\n",
      "    </li>\n",
      "    \n",
      "    \n",
      "    \n",
      "    \n",
      "    \n",
      "\n",
      "    \n",
      "    \n",
      "    \n",
      "    <li class=\"border-t border-gray-200\">\n",
      "      <a href=\"/search?q=update_frequency:Yearly organization:city-of-copenhagen\" class=\"filter-button hover:text-secondary\" aria-label=\"Opdatering frekvens: Årligt (19 results)\">\n",
      "        Årligt\n",
      "        <span class=\"filter-button_count\">19</span>\n",
      "      </a>\n",
      "    </li>\n",
      "    \n",
      "    \n",
      "    \n",
      "    \n",
      "    \n",
      "  </ul>\n",
      "</section>\n",
      "\n",
      "<section class=\"mb-6 md:pr-10\">\n",
      "  <h2 class=\"bg-gray-200 px-4 py-3 border-t border-gray-200 font-bold\">Grupper</h2>\n",
      "  <ul>\n",
      "    \n",
      "    \n",
      "    \n",
      "\n",
      "    \n",
      "    \n",
      "    \n",
      "    <li class=\"border-t border-gray-200\">\n",
      "      <a href=\"/search?q=groups:transport organization:city-of-copenhagen\" class=\"filter-button hover:text-secondary\" aria-label=\"Grupper: Transport (75 results)\">\n",
      "        Transport\n",
      "        <span class=\"filter-button_count\">75</span>\n",
      "      </a>\n",
      "    </li>\n",
      "    \n",
      "    \n",
      "    \n",
      "    \n",
      "    \n",
      "\n",
      "    \n",
      "    \n",
      "    \n",
      "    <li class=\"border-t border-gray-200\">\n",
      "      <a href=\"/search?q=groups:regions-cities organization:city-of-copenhagen\" class=\"filter-button hover:text-secondary\" aria-label=\"Grupper: Regioner og byer (56 results)\">\n",
      "        Regioner og byer\n",
      "        <span class=\"filter-button_count\">56</span>\n",
      "      </a>\n",
      "    </li>\n",
      "    \n",
      "    \n",
      "    \n",
      "    \n",
      "    \n",
      "\n",
      "    \n",
      "    \n",
      "    \n",
      "    <li class=\"border-t border-gray-200\">\n",
      "      <a href=\"/search?q=groups:environment organization:city-of-copenhagen\" class=\"filter-button hover:text-secondary\" aria-label=\"Grupper: Miljø (52 results)\">\n",
      "        Miljø\n",
      "        <span class=\"filter-button_count\">52</span>\n",
      "      </a>\n",
      "    </li>\n",
      "    \n",
      "    \n",
      "    \n",
      "    \n",
      "    \n",
      "\n",
      "    \n",
      "    \n",
      "    \n",
      "    <li class=\"border-t border-gray-200\">\n",
      "      <a href=\"/search?q=groups:education-culture-and-sport organization:city-of-copenhagen\" class=\"filter-button hover:text-secondary\" aria-label=\"Grupper: Uddannelse, kultur og sport (28 results)\">\n",
      "        Uddannelse, kultur og sport\n",
      "        <span class=\"filter-button_count\">28</span>\n",
      "      </a>\n",
      "    </li>\n",
      "    \n",
      "    \n",
      "    \n",
      "    \n",
      "    \n",
      "\n",
      "    \n",
      "    \n",
      "    \n",
      "    <li class=\"border-t border-gray-200\">\n",
      "      <a href=\"/search?q=groups:government-public-sector organization:city-of-copenhagen\" class=\"filter-button hover:text-secondary\" aria-label=\"Grupper: Regeringen og den offentlige sektor (13 results)\">\n",
      "        Regeringen og den offentlige sektor\n",
      "        <span class=\"filter-button_count\">13</span>\n",
      "      </a>\n",
      "    </li>\n",
      "    \n",
      "    \n",
      "    \n",
      "    \n",
      "    \n",
      "    <li class=\"border-t border-gray-200\">\n",
      "      <a href=\"/search?facet.limit.groups=-1&q=organization:city-of-copenhagen\" class=\"filter-button text-secondary\" aria-label=\"Vis mere grupper\">\n",
      "        Vis mere\n",
      "      </a>\n",
      "    </li>\n",
      "    \n",
      "  </ul>\n",
      "</section>\n",
      "\n",
      "<section class=\"mb-6 md:pr-10\">\n",
      "  <h2 class=\"bg-gray-200 px-4 py-3 border-t border-gray-200 font-bold\">Organisationer</h2>\n",
      "  <ul>\n",
      "    \n",
      "    \n",
      "    \n",
      "\n",
      "    \n",
      "    \n",
      "    \n",
      "    <li class=\"border-t border-gray-200\">\n",
      "      <a href=\"/search?q=organization:city-of-copenhagen\" class=\"filter-button hover:text-secondary\" aria-label=\"Organisationer: Københavns Kommune (217 results)\">\n",
      "        Københavns Kommune\n",
      "        <span class=\"filter-button_count\">217</span>\n",
      "      </a>\n",
      "    </li>\n",
      "    \n",
      "    \n",
      "    \n",
      "    \n",
      "    \n",
      "  </ul>\n",
      "</section>\n",
      "\n",
      "<section class=\"mb-6 md:pr-10\">\n",
      "  <h2 class=\"bg-gray-200 px-4 py-3 border-t border-gray-200 font-bold\">Licens</h2>\n",
      "  <ul>\n",
      "    \n",
      "    \n",
      "    \n",
      "\n",
      "    \n",
      "    \n",
      "    \n",
      "    <li class=\"border-t border-gray-200\">\n",
      "      <a href=\"/search?q=license_id:CC-BY-4.0 organization:city-of-copenhagen\" class=\"filter-button hover:text-secondary\" aria-label=\"Licens: Creative Commons Attribution 4.0 (216 results)\">\n",
      "        Creative Commons Attribution 4.0\n",
      "        <span class=\"filter-button_count\">216</span>\n",
      "      </a>\n",
      "    </li>\n",
      "    \n",
      "    \n",
      "    \n",
      "    \n",
      "    \n",
      "\n",
      "    \n",
      "    \n",
      "    \n",
      "    <li class=\"border-t border-gray-200\">\n",
      "      <a href=\"/search?q=license_id:CC0-1.0 organization:city-of-copenhagen\" class=\"filter-button hover:text-secondary\" aria-label=\"Licens: CC0 1.0 (1 results)\">\n",
      "        CC0 1.0\n",
      "        <span class=\"filter-button_count\">1</span>\n",
      "      </a>\n",
      "    </li>\n",
      "    \n",
      "    \n",
      "    \n",
      "    \n",
      "    \n",
      "  </ul>\n",
      "</section>\n",
      "\n",
      "\n",
      "    </div>\n",
      "  </div>\n",
      "\n",
      "  <main class=\"md:w-2/3\" id=\"main-content\" tabindex=\"-1\" aria-label=\"Hovedindhold\">\n",
      "\n",
      "    <ul class=\"tabs mb-10\" data-tabs>\n",
      "    \t<li class=\"tabs_item\">\n",
      "        <a class=\"tabs_link outline-none\" data-tabby-default href=\"#datasets\" aria-label=\"Organisationer datasæt\">Datasæt</a>\n",
      "      </li>\n",
      "    \t<li class=\"tabs_item\">\n",
      "        <a class=\"tabs_link outline-none\" href=\"#about\">Om</a>\n",
      "      </li>\n",
      "    </ul>\n",
      "\n",
      "    <div id=\"datasets\">\n",
      "      <!-- datasets tab content -->\n",
      "      <!-- Form -->\n",
      "<form id=\"search-field\" role=\"search\" action=\"/search\" method=\"GET\">\n",
      "  <div class=\"relative mb-5\">\n",
      "    <input id=\"search-input\" aria-label=\"Søg i datasæt\" type=\"text\" class=\"border-2 border-solid border-gray-200 py-4 pl-4 pr-20 text-xl outline-none focus:border-secondary w-full\" placeholder=\"Søg i datasæt\" name=\"q\" value=\"\" autofocus>\n",
      "    <input id=\"search-filter\" type=\"text\" hidden name=\"filter\" value=organization:city-of-copenhagen >\n",
      "      <button id=\"search-button\" class=\"absolute inset-y-0 right-0 w-16 px-4 text-secondary fill-current\" type=\"submit\" aria-label=\"Submit\">\n",
      "        <svg class=\"w-full h-full\"><use xlink:href=\"#search\" /></svg>\n",
      "      </button>\n",
      "    </input>\n",
      "  </div>\n",
      "\n",
      "  \n",
      "\n",
      "  \n",
      "  <div class=\"lg:flex flex-wrap items-center mb-3\">\n",
      "  \n",
      "  \n",
      "  \n",
      "  </div>\n",
      "  \n",
      "\n",
      "  <div class=\"lg:flex items-center justify-between\">\n",
      "    <h1 class=\"text-4xl font-semibold text-primary\">217 fundne resultater</h1>\n",
      "\n",
      "    \n",
      "      <div>\n",
      "        <label for=\"field-order-by\">Sortér efter:</label>\n",
      "        <select class=\"bg-white\" id=\"field-order-by\" name=\"sort\">\n",
      "          <option value=\"score:desc\" >Relevans</option>\n",
      "          <option value=\"title_string:asc\" >Navn stigende</option>\n",
      "          <option value=\"title_string:desc\" >Navn faldende</option>\n",
      "          <option value=\"metadata_modified:desc\" >Sidst modificeret</option>\n",
      "          <option value=\"views_recent:desc\" >Populære</option>\n",
      "        </select>\n",
      "      </div>\n",
      "    \n",
      "  </div>\n",
      "\n",
      "</form>\n",
      "<!-- End of Form -->\n",
      "\n",
      "      <ul>\n",
      "  \n",
      "  <li class=\"mt-10\">\n",
      "    <div>\n",
      "      <h3 class=\"text-2xl font-semibold\">\n",
      "        <a class=\"text-primary\" href=\"/city-of-copenhagen/grundkort\">Grundkort over Københavns Kommune</a>\n",
      "      </h3>\n",
      "      <a href=\"/city-of-copenhagen\" class=\"text-gray-500 block mt-1\">\n",
      "        Københavns Kommune\n",
      "      </a>\n",
      "      <div class=\"leading-relaxed mt-2\">\n",
      "        \n",
      "          <div class=\"markdown-content leading-relaxed\">\n",
      "            <p class=\"block\">\n",
      "              \n",
      "              \n",
      "                <p>Grundkort over Københavns Kommune.</p>\n",
      "<p>CAD formaterne er lavet i Københavns Kommune. Andre formater kan hentes fra <a href=\"https://dataforsyningen.dk/\">https://dataforsyningen.dk/</a></p>\n",
      "<p>CAD formaterne er senest opdateret 11. oktober 2022</p>\n",
      "\n",
      "              \n",
      "            </p>\n",
      "        </div>\n",
      "        \n",
      "      </div>\n",
      "    </div>\n",
      "\n",
      "    <ul class=\"mt-2\">\n",
      "    \n",
      " \n",
      "      \n",
      "      \n",
      "         <span hidden>1</span>\n",
      "         \n",
      "      \n",
      "      \n",
      "         <span hidden>2</span>\n",
      "         \n",
      "      \n",
      "      \n",
      "         <span hidden>3</span>\n",
      "         \n",
      "      \n",
      "      \n",
      "         <span hidden>4</span>\n",
      "         \n",
      "      \n",
      "      \n",
      "       \n",
      "      \n",
      "      \n",
      "      <li class=\"inline\">\n",
      "        <a href=\"/city-of-copenhagen/grundkort\" data-format=\"dwg\" class=\"bg-gray-600 text-sm text-gray-100 px-2 py-1\" style=\"background:;\" aria-label=\"Download grundkort.dwg\">dwg</a>\n",
      "      </li>\n",
      "       \n",
      "      \n",
      "      \n",
      "      <li class=\"inline\">\n",
      "        <a href=\"/city-of-copenhagen/grundkort\" data-format=\"dgn\" class=\"bg-gray-600 text-sm text-gray-100 px-2 py-1\" style=\"background:;\" aria-label=\"Download grundkort.dgn\">dgn</a>\n",
      "      </li>\n",
      "       \n",
      "      \n",
      "      \n",
      "      <li class=\"inline\">\n",
      "        <a href=\"/city-of-copenhagen/grundkort\" data-format=\"ZIP\" class=\"bg-gray-600 text-sm text-gray-100 px-2 py-1\" style=\"background:;\" aria-label=\"Download grundkort.ZIP\">ZIP</a>\n",
      "      </li>\n",
      "       \n",
      "      \n",
      "    </ul>\n",
      "  </li>\n",
      "  \n",
      "  <li class=\"mt-10\">\n",
      "    <div>\n",
      "      <h3 class=\"text-2xl font-semibold\">\n",
      "        <a class=\"text-primary\" href=\"/city-of-copenhagen/toiletter-tmf\">Toiletter TMF</a>\n",
      "      </h3>\n",
      "      <a href=\"/city-of-copenhagen\" class=\"text-gray-500 block mt-1\">\n",
      "        Københavns Kommune\n",
      "      </a>\n",
      "      <div class=\"leading-relaxed mt-2\">\n",
      "        \n",
      "          <div class=\"markdown-content leading-relaxed\">\n",
      "            <p class=\"block\">\n",
      "              \n",
      "              \n",
      "                <p>Toiletter der varetages og driftes af Teknik- og Miljøforvaltningen. Tabellen indeholder oplysninger om bl.a. toilettyper (toilet, toilet med handicap adgang, bemandet, ubemandet og pissoirs), længde…</p>\n",
      "\n",
      "              \n",
      "            </p>\n",
      "        </div>\n",
      "        \n",
      "      </div>\n",
      "    </div>\n",
      "\n",
      "    <ul class=\"mt-2\">\n",
      "    \n",
      " \n",
      "      \n",
      "      \n",
      "         <span hidden>1</span>\n",
      "         \n",
      "      \n",
      "      \n",
      "         <span hidden>2</span>\n",
      "         \n",
      "      \n",
      "       \n",
      "      \n",
      "       \n",
      "      \n",
      "       \n",
      "      \n",
      "       \n",
      "      \n",
      "      \n",
      "      \n",
      "      <li class=\"inline\">\n",
      "        <a href=\"/city-of-copenhagen/toiletter-tmf\" data-format=\"GeoJSON\" class=\"bg-gray-600 text-sm text-gray-100 px-2 py-1\" style=\"background:#2CAAF9;\" aria-label=\"Download toiletter-tmf.GeoJSON\">GeoJSON</a>\n",
      "      </li>\n",
      "       \n",
      "      \n",
      "      \n",
      "      <li class=\"inline\">\n",
      "        <a href=\"/city-of-copenhagen/toiletter-tmf\" data-format=\"CSV\" class=\"bg-gray-600 text-sm text-gray-100 px-2 py-1\" style=\"background:#ffca00;\" aria-label=\"Download toiletter-tmf.CSV\">CSV</a>\n",
      "      </li>\n",
      "       \n",
      "      \n",
      "    </ul>\n",
      "  </li>\n",
      "  \n",
      "  <li class=\"mt-10\">\n",
      "    <div>\n",
      "      <h3 class=\"text-2xl font-semibold\">\n",
      "        <a class=\"text-primary\" href=\"/city-of-copenhagen/udsatte-byomrader\">Udsatte byområder</a>\n",
      "      </h3>\n",
      "      <a href=\"/city-of-copenhagen\" class=\"text-gray-500 block mt-1\">\n",
      "        Københavns Kommune\n",
      "      </a>\n",
      "      <div class=\"leading-relaxed mt-2\">\n",
      "        \n",
      "          <div class=\"markdown-content leading-relaxed\">\n",
      "            <p class=\"block\">\n",
      "              \n",
      "              \n",
      "                <p>Udsatte byområder i København.</p>\n",
      "<p>Læs mere om politikken for udsatte byområder <a href=\"https://www.kk.dk/politik/politikker-og-indsatser/bolig-byggeri-og-byliv/udsatte-byomraader\">her</a></p>\n",
      "\n",
      "              \n",
      "            </p>\n",
      "        </div>\n",
      "        \n",
      "      </div>\n",
      "    </div>\n",
      "\n",
      "    <ul class=\"mt-2\">\n",
      "    \n",
      " \n",
      "      \n",
      "      \n",
      "         <span hidden>1</span>\n",
      "         \n",
      "      \n",
      "      \n",
      "         <span hidden>2</span>\n",
      "         \n",
      "      \n",
      "      \n",
      "         <span hidden>3</span>\n",
      "         \n",
      "      \n",
      "      \n",
      "      \n",
      "      <li class=\"inline\">\n",
      "        <a href=\"/city-of-copenhagen/udsatte-byomrader\" data-format=\"Link\" class=\"bg-gray-600 text-sm text-gray-100 px-2 py-1\" style=\"background:;\" aria-label=\"Download udsatte-byomrader.Link\">Link</a>\n",
      "      </li>\n",
      "       \n",
      "      \n",
      "      \n",
      "      <li class=\"inline\">\n",
      "        <a href=\"/city-of-copenhagen/udsatte-byomrader\" data-format=\"GeoJSON\" class=\"bg-gray-600 text-sm text-gray-100 px-2 py-1\" style=\"background:#2CAAF9;\" aria-label=\"Download udsatte-byomrader.GeoJSON\">GeoJSON</a>\n",
      "      </li>\n",
      "       \n",
      "      \n",
      "      \n",
      "      <li class=\"inline\">\n",
      "        <a href=\"/city-of-copenhagen/udsatte-byomrader\" data-format=\"shape\" class=\"bg-gray-600 text-sm text-gray-100 px-2 py-1\" style=\"background:;\" aria-label=\"Download udsatte-byomrader.shape\">shape</a>\n",
      "      </li>\n",
      "       \n",
      "      \n",
      "    </ul>\n",
      "  </li>\n",
      "  \n",
      "  <li class=\"mt-10\">\n",
      "    <div>\n",
      "      <h3 class=\"text-2xl font-semibold\">\n",
      "        <a class=\"text-primary\" href=\"/city-of-copenhagen/trae-basis-kommunale-traeer\">Træ basis (Kommunale træer)</a>\n",
      "      </h3>\n",
      "      <a href=\"/city-of-copenhagen\" class=\"text-gray-500 block mt-1\">\n",
      "        Københavns Kommune\n",
      "      </a>\n",
      "      <div class=\"leading-relaxed mt-2\">\n",
      "        \n",
      "          <div class=\"markdown-content leading-relaxed\">\n",
      "            <p class=\"block\">\n",
      "              \n",
      "              \n",
      "                <p>Master register der indeholder alle <em>kommunale</em> træer (fx. parktræer, naturtræer, gadetræer samt risikotræer, træer med bakteriekræft og fældede træer) på kommunale veje.</p>\n",
      "<p>Eksisterende træer på…</p>\n",
      "\n",
      "              \n",
      "            </p>\n",
      "        </div>\n",
      "        \n",
      "      </div>\n",
      "    </div>\n",
      "\n",
      "    <ul class=\"mt-2\">\n",
      "    \n",
      " \n",
      "      \n",
      "      \n",
      "         <span hidden>1</span>\n",
      "         \n",
      "      \n",
      "      \n",
      "         <span hidden>2</span>\n",
      "         \n",
      "      \n",
      "      \n",
      "         <span hidden>3</span>\n",
      "         \n",
      "      \n",
      "      \n",
      "      \n",
      "      <li class=\"inline\">\n",
      "        <a href=\"/city-of-copenhagen/trae-basis-kommunale-traeer\" data-format=\"Link\" class=\"bg-gray-600 text-sm text-gray-100 px-2 py-1\" style=\"background:;\" aria-label=\"Download trae-basis-kommunale-traeer.Link\">Link</a>\n",
      "      </li>\n",
      "       \n",
      "      \n",
      "      \n",
      "      <li class=\"inline\">\n",
      "        <a href=\"/city-of-copenhagen/trae-basis-kommunale-traeer\" data-format=\"GeoJSON\" class=\"bg-gray-600 text-sm text-gray-100 px-2 py-1\" style=\"background:#2CAAF9;\" aria-label=\"Download trae-basis-kommunale-traeer.GeoJSON\">GeoJSON</a>\n",
      "      </li>\n",
      "       \n",
      "      \n",
      "      \n",
      "      <li class=\"inline\">\n",
      "        <a href=\"/city-of-copenhagen/trae-basis-kommunale-traeer\" data-format=\"CSV\" class=\"bg-gray-600 text-sm text-gray-100 px-2 py-1\" style=\"background:#ffca00;\" aria-label=\"Download trae-basis-kommunale-traeer.CSV\">CSV</a>\n",
      "      </li>\n",
      "       \n",
      "      \n",
      "    </ul>\n",
      "  </li>\n",
      "  \n",
      "  <li class=\"mt-10\">\n",
      "    <div>\n",
      "      <h3 class=\"text-2xl font-semibold\">\n",
      "        <a class=\"text-primary\" href=\"/city-of-copenhagen/suf-centre\">SUF centre</a>\n",
      "      </h3>\n",
      "      <a href=\"/city-of-copenhagen\" class=\"text-gray-500 block mt-1\">\n",
      "        Københavns Kommune\n",
      "      </a>\n",
      "      <div class=\"leading-relaxed mt-2\">\n",
      "        \n",
      "          <div class=\"markdown-content leading-relaxed\">\n",
      "            <p class=\"block\">\n",
      "              \n",
      "              \n",
      "                <p>Dækker over:</p>\n",
      "<ul>\n",
      "<li><a href=\"https://www.kk.dk/borger/sundhed-og-forebyggelse/genoptraening-og-rehabilitering/kontakt-til-genoptraenings-og-rehabiliteringscentre\">Genoptrænings- og rehabiliteringscentre</a>\n",
      "*…</li>\n",
      "</ul>\n",
      "\n",
      "              \n",
      "            </p>\n",
      "        </div>\n",
      "        \n",
      "      </div>\n",
      "    </div>\n",
      "\n",
      "    <ul class=\"mt-2\">\n",
      "    \n",
      " \n",
      "      \n",
      "      \n",
      "         <span hidden>1</span>\n",
      "         \n",
      "      \n",
      "      \n",
      "      \n",
      "      <li class=\"inline\">\n",
      "        <a href=\"/city-of-copenhagen/suf-centre\" data-format=\"Link\" class=\"bg-gray-600 text-sm text-gray-100 px-2 py-1\" style=\"background:;\" aria-label=\"Download suf-centre.Link\">Link</a>\n",
      "      </li>\n",
      "       \n",
      "      \n",
      "    </ul>\n",
      "  </li>\n",
      "  \n",
      "  <li class=\"mt-10\">\n",
      "    <div>\n",
      "      <h3 class=\"text-2xl font-semibold\">\n",
      "        <a class=\"text-primary\" href=\"/city-of-copenhagen/rck-behandlingsenheder\">RCK behandlingsenheder</a>\n",
      "      </h3>\n",
      "      <a href=\"/city-of-copenhagen\" class=\"text-gray-500 block mt-1\">\n",
      "        Københavns Kommune\n",
      "      </a>\n",
      "      <div class=\"leading-relaxed mt-2\">\n",
      "        \n",
      "          <div class=\"markdown-content leading-relaxed\">\n",
      "            <p class=\"block\">\n",
      "              \n",
      "              \n",
      "                <p><a href=\"https://rusmiddelbehandling.kk.dk/om-os\">Behandlingsenheder</a> under Rådgivningscenter København.</p>\n",
      "\n",
      "              \n",
      "            </p>\n",
      "        </div>\n",
      "        \n",
      "      </div>\n",
      "    </div>\n",
      "\n",
      "    <ul class=\"mt-2\">\n",
      "    \n",
      " \n",
      "      \n",
      "      \n",
      "         <span hidden>1</span>\n",
      "         \n",
      "      \n",
      "      \n",
      "      \n",
      "      <li class=\"inline\">\n",
      "        <a href=\"/city-of-copenhagen/rck-behandlingsenheder\" data-format=\"Link\" class=\"bg-gray-600 text-sm text-gray-100 px-2 py-1\" style=\"background:;\" aria-label=\"Download rck-behandlingsenheder.Link\">Link</a>\n",
      "      </li>\n",
      "       \n",
      "      \n",
      "    </ul>\n",
      "  </li>\n",
      "  \n",
      "  <li class=\"mt-10\">\n",
      "    <div>\n",
      "      <h3 class=\"text-2xl font-semibold\">\n",
      "        <a class=\"text-primary\" href=\"/city-of-copenhagen/raden-over-vej-historisk\">Råden over vej - historisk</a>\n",
      "      </h3>\n",
      "      <a href=\"/city-of-copenhagen\" class=\"text-gray-500 block mt-1\">\n",
      "        Københavns Kommune\n",
      "      </a>\n",
      "      <div class=\"leading-relaxed mt-2\">\n",
      "        \n",
      "          <div class=\"markdown-content leading-relaxed\">\n",
      "            <p class=\"block\">\n",
      "              \n",
      "              \n",
      "                <p>Historisk oversigt over tilladte opstillede containere, skurvogne, lifte, vejarbejde og lignende på veje i Københavns Kommune.</p>\n",
      "\n",
      "              \n",
      "            </p>\n",
      "        </div>\n",
      "        \n",
      "      </div>\n",
      "    </div>\n",
      "\n",
      "    <ul class=\"mt-2\">\n",
      "    \n",
      " \n",
      "      \n",
      "      \n",
      "         <span hidden>1</span>\n",
      "         \n",
      "      \n",
      "      \n",
      "         <span hidden>2</span>\n",
      "         \n",
      "      \n",
      "      \n",
      "      \n",
      "      <li class=\"inline\">\n",
      "        <a href=\"/city-of-copenhagen/raden-over-vej-historisk\" data-format=\"GeoJSON\" class=\"bg-gray-600 text-sm text-gray-100 px-2 py-1\" style=\"background:#2CAAF9;\" aria-label=\"Download raden-over-vej-historisk.GeoJSON\">GeoJSON</a>\n",
      "      </li>\n",
      "       \n",
      "      \n",
      "      \n",
      "      <li class=\"inline\">\n",
      "        <a href=\"/city-of-copenhagen/raden-over-vej-historisk\" data-format=\"CSV\" class=\"bg-gray-600 text-sm text-gray-100 px-2 py-1\" style=\"background:#ffca00;\" aria-label=\"Download raden-over-vej-historisk.CSV\">CSV</a>\n",
      "      </li>\n",
      "       \n",
      "      \n",
      "    </ul>\n",
      "  </li>\n",
      "  \n",
      "  <li class=\"mt-10\">\n",
      "    <div>\n",
      "      <h3 class=\"text-2xl font-semibold\">\n",
      "        <a class=\"text-primary\" href=\"/city-of-copenhagen/kvarter\">Kvarterer</a>\n",
      "      </h3>\n",
      "      <a href=\"/city-of-copenhagen\" class=\"text-gray-500 block mt-1\">\n",
      "        Københavns Kommune\n",
      "      </a>\n",
      "      <div class=\"leading-relaxed mt-2\">\n",
      "        \n",
      "          <div class=\"markdown-content leading-relaxed\">\n",
      "            <p class=\"block\">\n",
      "              \n",
      "              \n",
      "                <p>Opdeling af Københavns kommune i kvarterer. I alt 67 kvarterer.</p>\n",
      "<p>Kvarterer er en opdeling mellem <a href=\"https://www.opendata.dk/city-of-copenhagen/roder\">roder</a> og…</p>\n",
      "\n",
      "              \n",
      "            </p>\n",
      "        </div>\n",
      "        \n",
      "      </div>\n",
      "    </div>\n",
      "\n",
      "    <ul class=\"mt-2\">\n",
      "    \n",
      " \n",
      "      \n",
      "      \n",
      "         <span hidden>1</span>\n",
      "         \n",
      "      \n",
      "      \n",
      "         <span hidden>2</span>\n",
      "         \n",
      "      \n",
      "      \n",
      "         <span hidden>3</span>\n",
      "         \n",
      "      \n",
      "      \n",
      "      \n",
      "      <li class=\"inline\">\n",
      "        <a href=\"/city-of-copenhagen/kvarter\" data-format=\"GeoJSON\" class=\"bg-gray-600 text-sm text-gray-100 px-2 py-1\" style=\"background:#2CAAF9;\" aria-label=\"Download kvarter.GeoJSON\">GeoJSON</a>\n",
      "      </li>\n",
      "       \n",
      "      \n",
      "      \n",
      "      <li class=\"inline\">\n",
      "        <a href=\"/city-of-copenhagen/kvarter\" data-format=\"CSV\" class=\"bg-gray-600 text-sm text-gray-100 px-2 py-1\" style=\"background:#ffca00;\" aria-label=\"Download kvarter.CSV\">CSV</a>\n",
      "      </li>\n",
      "       \n",
      "      \n",
      "      \n",
      "      <li class=\"inline\">\n",
      "        <a href=\"/city-of-copenhagen/kvarter\" data-format=\"shape\" class=\"bg-gray-600 text-sm text-gray-100 px-2 py-1\" style=\"background:;\" aria-label=\"Download kvarter.shape\">shape</a>\n",
      "      </li>\n",
      "       \n",
      "      \n",
      "    </ul>\n",
      "  </li>\n",
      "  \n",
      "  <li class=\"mt-10\">\n",
      "    <div>\n",
      "      <h3 class=\"text-2xl font-semibold\">\n",
      "        <a class=\"text-primary\" href=\"/city-of-copenhagen/karre\">Karré</a>\n",
      "      </h3>\n",
      "      <a href=\"/city-of-copenhagen\" class=\"text-gray-500 block mt-1\">\n",
      "        Københavns Kommune\n",
      "      </a>\n",
      "      <div class=\"leading-relaxed mt-2\">\n",
      "        \n",
      "          <div class=\"markdown-content leading-relaxed\">\n",
      "            <p class=\"block\">\n",
      "              \n",
      "              \n",
      "                <p>En karré er et område <strong>afgrænset</strong> af flere gader (<em>nogen gange svarende til en boligblok</em>). Er endvidere en underinddeling af <a href=\"https://www.opendata.dk/city-of-copenhagen/roder\">roder</a>. Karreer…</p>\n",
      "\n",
      "              \n",
      "            </p>\n",
      "        </div>\n",
      "        \n",
      "      </div>\n",
      "    </div>\n",
      "\n",
      "    <ul class=\"mt-2\">\n",
      "    \n",
      " \n",
      "      \n",
      "      \n",
      "         <span hidden>1</span>\n",
      "         \n",
      "      \n",
      "      \n",
      "         <span hidden>2</span>\n",
      "         \n",
      "      \n",
      "      \n",
      "         <span hidden>3</span>\n",
      "         \n",
      "      \n",
      "      \n",
      "      \n",
      "      <li class=\"inline\">\n",
      "        <a href=\"/city-of-copenhagen/karre\" data-format=\"GeoJSON\" class=\"bg-gray-600 text-sm text-gray-100 px-2 py-1\" style=\"background:#2CAAF9;\" aria-label=\"Download karre.GeoJSON\">GeoJSON</a>\n",
      "      </li>\n",
      "       \n",
      "      \n",
      "      \n",
      "      <li class=\"inline\">\n",
      "        <a href=\"/city-of-copenhagen/karre\" data-format=\"CSV\" class=\"bg-gray-600 text-sm text-gray-100 px-2 py-1\" style=\"background:#ffca00;\" aria-label=\"Download karre.CSV\">CSV</a>\n",
      "      </li>\n",
      "       \n",
      "      \n",
      "      \n",
      "      <li class=\"inline\">\n",
      "        <a href=\"/city-of-copenhagen/karre\" data-format=\"SHP\" class=\"bg-gray-600 text-sm text-gray-100 px-2 py-1\" style=\"background:violet;\" aria-label=\"Download karre.SHP\">SHP</a>\n",
      "      </li>\n",
      "       \n",
      "      \n",
      "    </ul>\n",
      "  </li>\n",
      "  \n",
      "  <li class=\"mt-10\">\n",
      "    <div>\n",
      "      <h3 class=\"text-2xl font-semibold\">\n",
      "        <a class=\"text-primary\" href=\"/city-of-copenhagen/energiforbrug\">Energiforbrug</a>\n",
      "      </h3>\n",
      "      <a href=\"/city-of-copenhagen\" class=\"text-gray-500 block mt-1\">\n",
      "        Københavns Kommune\n",
      "      </a>\n",
      "      <div class=\"leading-relaxed mt-2\">\n",
      "        \n",
      "          <div class=\"markdown-content leading-relaxed\">\n",
      "            <p class=\"block\">\n",
      "              \n",
      "              \n",
      "                <p>Data for energiforbrug i København. Se også <a href=\"https://www.kk.dk/politik/politikker-og-indsatser/klima-og-miljoe/co2-udledning-fra-koebenhavn\">Københavns Klimaregnskab</a></p>\n",
      "\n",
      "              \n",
      "            </p>\n",
      "        </div>\n",
      "        \n",
      "      </div>\n",
      "    </div>\n",
      "\n",
      "    <ul class=\"mt-2\">\n",
      "    \n",
      " \n",
      "      \n",
      "      \n",
      "         <span hidden>1</span>\n",
      "         \n",
      "      \n",
      "       \n",
      "      \n",
      "       \n",
      "      \n",
      "       \n",
      "      \n",
      "      \n",
      "      \n",
      "      <li class=\"inline\">\n",
      "        <a href=\"/city-of-copenhagen/energiforbrug\" data-format=\"ODS\" class=\"bg-gray-600 text-sm text-gray-100 px-2 py-1\" style=\"background:gray;\" aria-label=\"Download energiforbrug.ODS\">ODS</a>\n",
      "      </li>\n",
      "       \n",
      "      \n",
      "    </ul>\n",
      "  </li>\n",
      "  \n",
      "</ul>\n",
      "\n",
      "      <!-- Pagination -->\n",
      "\n",
      "  \n",
      "\n",
      "\n",
      "\n",
      "  <nav aria-label=\"Datasets\" class=\"mt-gutter pt-gutter text-sm\">\n",
      "    <ul class=\"inline-flex border border-gray-200\">\n",
      "      <li class=\"border border-gray-200\">\n",
      "        \n",
      "          <span class=\"block px-3 py-2\">Tidligere</span>\n",
      "        \n",
      "      </li>\n",
      "      \n",
      "        \n",
      "        <li class=\"border border-gray-200\">\n",
      "          <a class=\"block px-3 py-2 text-white bg-secondary secondary-nav_link\" href=\"/search?q=organization:city-of-copenhagen&from=0\">1</a>\n",
      "        </li>\n",
      "        \n",
      "      \n",
      "        \n",
      "        <li class=\"border border-gray-200\">\n",
      "          <a class=\"block px-3 py-2 \" href=\"/search?q=organization:city-of-copenhagen&from=10\">2</a>\n",
      "        </li>\n",
      "        \n",
      "      \n",
      "        \n",
      "        <li class=\"border border-gray-200\">\n",
      "          <a class=\"block px-3 py-2 \" href=\"/search?q=organization:city-of-copenhagen&from=20\">3</a>\n",
      "        </li>\n",
      "        \n",
      "      \n",
      "        \n",
      "        <li class=\"border border-gray-200\">\n",
      "          <span class=\"block px-3 py-2\">...</span>\n",
      "        </li>\n",
      "        \n",
      "      \n",
      "        \n",
      "        <li class=\"border border-gray-200\">\n",
      "          <a class=\"block px-3 py-2 \" href=\"/search?q=organization:city-of-copenhagen&from=210\">22</a>\n",
      "        </li>\n",
      "        \n",
      "      \n",
      "      <li class=\"border border-gray-200\">\n",
      "        \n",
      "          <a class=\"block px-3 py-2 hover:text-white hover:bg-secondary\" href=\"/search?q=organization:city-of-copenhagen&from=10\" aria-label=\"Næste\">\n",
      "            <span class=\"\">Næste</span>\n",
      "          </a>\n",
      "        \n",
      "      </li>\n",
      "    </ul>\n",
      "  </nav>\n",
      "\n",
      "<!-- end of pagination -->\n",
      "\n",
      "      <!-- datasets tab content end -->\n",
      "    </div>\n",
      "\n",
      "    <div id=\"about\">\n",
      "      <!-- about tab content -->\n",
      "      <h1 class=\"text-3xl font-semibold\">Københavns Kommune</h1>\n",
      "\n",
      "      <div class=\"content\">\n",
      "        <p>\n",
      "          <p>Åbne data fra Københavns Kommune.</p>\n",
      "<p>Har du spørgsmål om data kan du skrive til <a href=\"mailto:bydata@kk.dk\">bydata@kk.dk</a></p>\n",
      "\n",
      "        </p>\n",
      "      </div>\n",
      "      <!-- about tab content end -->\n",
      "    </div>\n",
      "\n",
      "  </main>\n",
      "</div>\n",
      "\n",
      "\n",
      "        </div>\n",
      "\n",
      "        <!-- Footer -->\n",
      "        <footer class=\"site-footer bg-primary text-white-75 mt-10 py-gutter text-sm\">\n",
      "            <div class=\"container mx-auto md:flex md:justify-between\">\n",
      "                <div class=\"px-gutter pb-6 md:p-gutter md:w-1/3 md:flex flex-col justify-between\">\n",
      "                    <a class=\"block w-24 mb-10 h-10 text-white-75 hover:text-white\" href=\"https://ckan.org/\">\n",
      "                        <span>Powered by</span> <svg xmlns=\"http://www.w3.org/2000/svg\" viewBox=\"0 0 175.72 57.84\"><title>CKAN</title><path class=\"a\" d=\"M85.32 44.81a18.91 18.91 0 0 1-4.3.45 12.86 12.86 0 0 1-5-.87 8.55 8.55 0 0 1-3.37-2.47 10.17 10.17 0 0 1-1.92-3.85 18.79 18.79 0 0 1-.61-4.94q0-6 2.66-9.17t7.66-3.14a17.58 17.58 0 0 1 3.75.38 14.39 14.39 0 0 1 3.11 1l1.35-5.06A20.75 20.75 0 0 0 84.36 16a26.53 26.53 0 0 0-4.49-.38 16.29 16.29 0 0 0-6.64 1.31 14.23 14.23 0 0 0-5 3.65A16.64 16.64 0 0 0 65 26.09a21.21 21.21 0 0 0-1.12 7.05 22.73 22.73 0 0 0 1 7A14.88 14.88 0 0 0 68 45.65a14.23 14.23 0 0 0 5.13 3.59 18.15 18.15 0 0 0 7.08 1.28 23.38 23.38 0 0 0 2.66-.16q1.38-.16 2.6-.38a20.62 20.62 0 0 0 2.18-.51 6.22 6.22 0 0 0 1.47-.61l-.83-5a15.56 15.56 0 0 1-2.97.95zM112.6 39.78q-2.08-2.53-4.23-4.71a40.07 40.07 0 0 0-4.07-3.65l3.56-3.69q1.89-2 3.75-3.91t3.59-3.88q1.73-1.92 3.21-3.53h-7q-1.15 1.35-2.76 3.11t-3.4 3.69q-1.8 1.92-3.65 3.78l-3.4 3.4V0l-6 1v48.75h6v-16a35.4 35.4 0 0 1 3.78 3 52.85 52.85 0 0 1 3.91 3.94q1.92 2.15 3.69 4.49a53 53 0 0 1 3.11 4.58h7a57 57 0 0 0-3.14-4.84q-1.86-2.61-3.95-5.14z\"/><path class=\"a\" d=\"M141.39 19.14a9.83 9.83 0 0 0-4-2.63 17.31 17.31 0 0 0-6.06-.93 33.25 33.25 0 0 0-5.83.48 18.4 18.4 0 0 0-3.85 1l.71 4.94a18.12 18.12 0 0 1 3.3-.87 28.21 28.21 0 0 1 5.16-.42 8.93 8.93 0 0 1 3.75.67 5.85 5.85 0 0 1 2.28 1.79 6.71 6.71 0 0 1 1.15 2.57 13.46 13.46 0 0 1 .32 2.92v1.67l-.9-.19-1.51-.29q-.86-.16-1.83-.26t-1.86-.1a24.46 24.46 0 0 0-5.39.58 14.1 14.1 0 0 0-4.49 1.79 8.94 8.94 0 0 0-3 3.21 9.5 9.5 0 0 0-1.12 4.74 11.56 11.56 0 0 0 1 4.94 8.36 8.36 0 0 0 2.69 3.3 11.61 11.61 0 0 0 4.1 1.83 22 22 0 0 0 5.19.58q2 0 4-.16t3.75-.35q1.73-.19 3.11-.42l2.15-.35V28.34a19.58 19.58 0 0 0-.64-5.16 10 10 0 0 0-2.18-4.04zm-3 25.87a16.21 16.21 0 0 1-2.72.35q-1.63.1-3.75.1a10.68 10.68 0 0 1-5.58-1.25q-2.05-1.25-2.05-4.46a4.38 4.38 0 0 1 .83-2.79 5.9 5.9 0 0 1 2.08-1.67 8.8 8.8 0 0 1 2.76-.8 22.63 22.63 0 0 1 2.85-.19 23.19 23.19 0 0 1 3.49.22 7.69 7.69 0 0 1 2.08.54zM175.08 24.81a12.17 12.17 0 0 0-2.22-4.81 10.34 10.34 0 0 0-4.2-3.14 16.91 16.91 0 0 0-6.6-1.12 47.14 47.14 0 0 0-7.82.58q-3.4.58-5.45 1.09v32.34h6V21.61l1.06-.19q.74-.13 1.67-.22t2-.16q1-.06 2-.06a11.28 11.28 0 0 1 4 .61 5.47 5.47 0 0 1 2.56 2 8.91 8.91 0 0 1 1.38 3.53 28.5 28.5 0 0 1 .42 5.26v17.37h6V31a28.13 28.13 0 0 0-.8-6.19zM52.59 3.34H1.41L27 28.93 52.59 3.34zM0 4.75v51.18l25.59-25.59L0 4.75zM53.43 57.91V5.32L.85 57.91h52.58z\"/></svg>\n",
      "\n",
      "                    </a>\n",
      "\n",
      "                    <p>\n",
      "                        Copyright 2015 Opendata.dk\n",
      "                    </p>\n",
      "                </div>\n",
      "\n",
      "                <div class=\"px-gutter md:p-gutter md:w-1/3\">\n",
      "                    <div>\n",
      "                        <p>\n",
      "                            <a href=\"https://app.heyloyalty.com/subscribe/10738/3609\" class=\"site-footer_link\">Tilmeld nyhedsbrev</a>\n",
      "                        </p>\n",
      "                        <p>Open Data DK | <a href=\"mailto:info@opendata.dk\" class=\"site-footer_link\">info@opendata.dk</a> | Hack Kampmanns Plads 2 | 8000 Aarhus C</p>\n",
      "                    </div>\n",
      "\n",
      "                    <ul class=\"flex\">\n",
      "                        <li>\n",
      "                            <a target=\"_blank\" href=\"https://www.linkedin.com/company/open-data-dk\" class=\"site-footer_link\"><svg class=\"h-10 w-10\" viewbox=\"0 0 512 512\">\n",
      "               <path d=\"M186.4 142.4c0 19-15.3 34.5-34.2 34.5 -18.9 0-34.2-15.4-34.2-34.5 0-19 15.3-34.5 34.2-34.5C171.1 107.9 186.4 123.4 186.4 142.4zM181.4 201.3h-57.8V388.1h57.8V201.3zM273.8 201.3h-55.4V388.1h55.4c0 0 0-69.3 0-98 0-26.3 12.1-41.9 35.2-41.9 21.3 0 31.5 15 31.5 41.9 0 26.9 0 98 0 98h57.5c0 0 0-68.2 0-118.3 0-50-28.3-74.2-68-74.2 -39.6 0-56.3 30.9-56.3 30.9v-25.2H273.8z\"></path>\n",
      "              </svg></a>\n",
      "                        </li>\n",
      "                        <li>\n",
      "                            <a target=\"_blank\" href=\"https://twitter.com/OpenDataDK\" class=\"site-footer_link\"> <svg class=\"h-10 w-10\" viewbox=\"0 0 512 512\">\n",
      "               <path d=\"M419.6 168.6c-11.7 5.2-24.2 8.7-37.4 10.2 13.4-8.1 23.8-20.8 28.6-36 -12.6 7.5-26.5 12.9-41.3 15.8 -11.9-12.6-28.8-20.6-47.5-20.6 -42 0-72.9 39.2-63.4 79.9 -54.1-2.7-102.1-28.6-134.2-68 -17 29.2-8.8 67.5 20.1 86.9 -10.7-0.3-20.7-3.3-29.5-8.1 -0.7 30.2 20.9 58.4 52.2 64.6 -9.2 2.5-19.2 3.1-29.4 1.1 8.3 25.9 32.3 44.7 60.8 45.2 -27.4 21.4-61.8 31-96.4 27 28.8 18.5 63 29.2 99.8 29.2 120.8 0 189.1-102.1 185-193.6C399.9 193.1 410.9 181.7 419.6 168.6z\"></path>\n",
      "               </svg></a>\n",
      "                        </li>\n",
      "                    </ul>\n",
      "\n",
      "                </div>\n",
      "            </div>\n",
      "        </footer>\n",
      "        <!-- end of footer -->\n",
      "    </div>\n",
      "\n",
      "    <div class=\"hidden\">\n",
      "        <?xml version=\"1.0\" encoding=\"utf-8\"?><svg xmlns=\"http://www.w3.org/2000/svg\" xmlns:xlink=\"http://www.w3.org/1999/xlink\"><symbol viewBox=\"0 0 13 13\" id=\"cross\" xmlns=\"http://www.w3.org/2000/svg\"><path d=\"M13 1.309L7.809 6.5 13 11.691 11.691 13 6.5 7.809 1.309 13 0 11.691 5.191 6.5 0 1.309 1.309 0 6.5 5.191 11.691 0 13 1.309z\"/></symbol><symbol viewBox=\"0 0 11 11\" id=\"dropdown\" xmlns=\"http://www.w3.org/2000/svg\"><path d=\"M10.55 3.616L5.5 8.667.45 3.616h10.1z\"/></symbol><symbol viewBox=\"0 0 640 640\" id=\"menu\" xmlns=\"http://www.w3.org/2000/svg\"><path d=\"M0 96h640v64H0V96zm0 192h640v64H0v-64zm0 192h640v64H0v-64z\"/></symbol><symbol viewBox=\"0 0 32 32\" id=\"search\" xmlns=\"http://www.w3.org/2000/svg\"><path d=\"M21.001 23.307a12.927 12.927 0 0 1-7.985 2.739C5.828 26.046 0 20.216 0 13.023 0 5.83 5.828 0 13.016 0c7.189 0 13.016 5.83 13.016 13.023 0 3.024-1.03 5.807-2.758 8.018l.021-.029L32 29.688 29.69 32l-8.672-8.693H21zm-7.972-.52c5.391 0 9.762-4.374 9.762-9.768 0-5.394-4.37-9.767-9.762-9.767S3.267 7.625 3.267 13.02c0 5.394 4.37 9.767 9.762 9.767z\"/></symbol></svg>\n",
      "    </div>\n",
      "\n",
      "    <script>\n",
      "        document.cookie = 'defaultLocale=' + 'da';\n",
      "\n",
      "        // nav\n",
      "        var navToggle = document.getElementById(\"nav-toggle\");\n",
      "        var navTarget = navToggle.nextElementSibling;\n",
      "\n",
      "        // show toggle\n",
      "        navToggle.classList.remove(\"invisible\");\n",
      "\n",
      "        // hide nav\n",
      "        navTarget.setAttribute(\"data-expanded\", \"false\");\n",
      "\n",
      "        // toggle nav\n",
      "        navToggle.onclick = function() {\n",
      "            let expanded = navToggle.getAttribute('aria-expanded') === 'true' || false;\n",
      "            navToggle.setAttribute('aria-expanded', !expanded);\n",
      "            navTarget.setAttribute(\"data-expanded\", !expanded);\n",
      "        }\n",
      "\n",
      "\n",
      "        // search\n",
      "        // replace link with a button\n",
      "        var searchLink = document.getElementById(\"search-link\");\n",
      "        var searchButton = document.createElement(\"button\");\n",
      "        var searchForm = document.getElementById(\"header-search\");\n",
      "        searchButton.setAttribute(\"class\", \"main-nav_search-toggle\");\n",
      "        searchButton.setAttribute(\"aria-expanded\", \"false\");\n",
      "\n",
      "        while (searchLink.childNodes.length > 0) {\n",
      "            searchButton.appendChild(searchLink.childNodes[0]);\n",
      "        }\n",
      "\n",
      "        searchLink.replaceWith(searchButton);\n",
      "\n",
      "        // button toggles form\n",
      "        searchButton.onclick = function() {\n",
      "            let expanded = searchButton.getAttribute('aria-expanded') === 'true' || false;\n",
      "            searchButton.setAttribute('aria-expanded', !expanded);\n",
      "            searchForm.setAttribute(\"data-expanded\", !expanded);\n",
      "\n",
      "            if (!expanded) {\n",
      "                document.getElementById(\"searchInput\").focus();\n",
      "            }\n",
      "        };\n",
      "\n",
      "        $(\".searchSelect\").css(\"display\", \"none\");\n",
      "\n",
      "        $(document).on('click', function(event) {\n",
      "            if (!event.target.id.includes('searchInput')) {\n",
      "                $(\".searchSelect\").css(\"display\", \"none\");\n",
      "            }\n",
      "        });\n",
      "\n",
      "        $(\".searchInput\").on('focus', function(event) {\n",
      "            let homeSearchFlag = $(this).attr('id').includes(\"Home\") ? \"Home\" : \"\";\n",
      "\n",
      "            let searchFieldValue = $(this).val();\n",
      "            let searchSelect = $(\"#searchSelect\" + homeSearchFlag);\n",
      "\n",
      "            if (searchFieldValue !== \"\") {\n",
      "                searchSelect.css('display', 'block');\n",
      "            }\n",
      "        });\n",
      "\n",
      "        $(\".searchInput\").on('keyup', function(event) {\n",
      "            if (event.originalEvent.code === \"Escape\") {\n",
      "                let homeSearchFlag = $(this).attr('id').includes(\"Home\") ? \"Home\" : \"\";\n",
      "\n",
      "                let searchSelect = $(\"#searchSelect\" + homeSearchFlag);\n",
      "                let searchSelect1 = $(\"#searchSelect1\" + homeSearchFlag);\n",
      "                let searchSelect2 = $(\"#searchSelect2\" + homeSearchFlag);\n",
      "\n",
      "                searchSelect.css('display', 'none');\n",
      "\n",
      "            } else {\n",
      "                let homeSearchFlag = $(this).attr('id').includes(\"Home\") ? \"Home\" : \"\";\n",
      "\n",
      "                let searchSelect = $(\"#searchSelect\" + homeSearchFlag);\n",
      "                let searchSelect1 = $(\"#searchSelect1\" + homeSearchFlag);\n",
      "                let searchSelect2 = $(\"#searchSelect2\" + homeSearchFlag);\n",
      "\n",
      "                searchSelect1.val($(this).val());\n",
      "                searchSelect2.val($(this).val());\n",
      "\n",
      "                if ($(this).val() !== \"\") {\n",
      "                    searchSelect.css('display', 'block');\n",
      "                } else {\n",
      "                    searchSelect.css('display', 'none');\n",
      "                }\n",
      "\n",
      "                if (event.originalEvent.code === \"ArrowUp\") {\n",
      "                    $(this).blur();\n",
      "                    searchSelect2.focus();\n",
      "                } else if (event.originalEvent.code === \"ArrowDown\") {\n",
      "                    $(this).blur();\n",
      "                    searchSelect1.focus();\n",
      "                } else if (event.originalEvent.code === \"Enter\") {\n",
      "                    searchSelect1.focus();\n",
      "                    selectedInput1($(this).val());\n",
      "                }\n",
      "            }\n",
      "        });\n",
      "\n",
      "        $(\".searchSelect1\").on('keyup', function(event) {\n",
      "            let homeSearchFlag = $(this).attr('id').includes(\"Home\") ? \"Home\" : \"\";\n",
      "\n",
      "            let searchInput = $(\"#searchInput\" + homeSearchFlag);\n",
      "            let searchSelect2 = $(\"#searchSelect2\" + homeSearchFlag);\n",
      "\n",
      "            $(this).blur();\n",
      "            if (event.originalEvent.code === \"ArrowUp\") {\n",
      "                searchInput.focus();\n",
      "            } else if (event.originalEvent.code === \"ArrowDown\") {\n",
      "                searchSelect2.focus();\n",
      "            } else if (event.originalEvent.code === (\"Enter\")) {\n",
      "                selectedInput1($(this).val());\n",
      "            } else if (event.originalEvent.code === (\"Escape\")) {\n",
      "                searchInput.focus();\n",
      "                searchSelect.css('display', 'none');\n",
      "            } else {\n",
      "                searchInput.val(searchInput.val() + event.key).focus();\n",
      "            }\n",
      "        });\n",
      "\n",
      "        $(\".searchSelect2\").on('keyup', function(event) {\n",
      "            let homeSearchFlag = $(this).attr('id').includes(\"Home\") ? \"Home\" : \"\";\n",
      "\n",
      "            let searchInput = $(\"#searchInput\" + homeSearchFlag);\n",
      "            let searchSelect1 = $(\"#searchSelect1\" + homeSearchFlag);\n",
      "\n",
      "            $(this).blur();\n",
      "            if (event.originalEvent.code === \"ArrowUp\") {\n",
      "                searchSelect1.focus();\n",
      "            } else if (event.originalEvent.code === \"ArrowDown\") {\n",
      "                searchInput.focus();\n",
      "            } else if (event.originalEvent.code.includes(\"Enter\")) {\n",
      "                selectedInput2($(this).val());\n",
      "            } else if (event.originalEvent.code.includes(\"Escape\")) {\n",
      "                searchInput.focus();\n",
      "                searchSelect.css('display', 'none');\n",
      "            } else {\n",
      "                searchInput.val(searchInput.val() + event.key).focus();\n",
      "            }\n",
      "        });\n",
      "\n",
      "        $(\".searchSelect1\").on('click', (function(event) {\n",
      "            selectedInput1($(this).val())\n",
      "        }));\n",
      "\n",
      "        $(\".searchSelect2\").on('click', function(event) {\n",
      "            selectedInput2($(this).val())\n",
      "        });\n",
      "\n",
      "        function selectedInput1(value) {\n",
      "            window.location.href = window.location.origin + \"/search?q=\" + value;\n",
      "        }\n",
      "\n",
      "        function selectedInput2(value) {\n",
      "            window.location.href = window.location.origin + \"/search/content?q=\" + value\n",
      "        }\n",
      "    </script>\n",
      "    <script type=\"text/javascript\">\n",
      "        /*<![CDATA[*/\n",
      "        (function() {\n",
      "            var sz = document.createElement('script');\n",
      "            sz.type = 'text/javascript';\n",
      "            sz.async = true;\n",
      "            sz.src = '//ssl.siteimprove.com/js/siteanalyze_2240844.js';\n",
      "            var s = document.getElementsByTagName('script')[0];\n",
      "            s.parentNode.insertBefore(sz, s);\n",
      "        })();\n",
      "        /*]]>*/\n",
      "    </script>\n",
      "    \n",
      "<script src=\"//cdn.jsdelivr.net/gh/cferdinandi/tabby@12/dist/js/tabby.polyfills.min.js\"></script>\n",
      "<script>\n",
      "  var filterToggle = document.getElementById(\"filter-toggle\");\n",
      "  var filterTarget = filterToggle.nextElementSibling;\n",
      "\n",
      "  // hide filters\n",
      "  filterTarget.setAttribute(\"data-expanded\", \"false\");\n",
      "\n",
      "  // show toggle\n",
      "  filterToggle.classList.remove(\"invisible\");\n",
      "\n",
      "  // toggle filters with button\n",
      "  filterToggle.onclick = function() {\n",
      "    let expanded = filterToggle.getAttribute('aria-expanded') === 'true' || false;\n",
      "    filterToggle.setAttribute('aria-expanded', !expanded);\n",
      "    filterTarget.setAttribute(\"data-expanded\", !expanded);\n",
      "  }\n",
      "\n",
      "  var tabs = new Tabby('[data-tabs]');\n",
      "\n",
      "</script>\n",
      "\n",
      "</body>\n",
      "\n",
      "</html>\n"
     ]
    }
   ],
   "source": [
    "# YOUR CODE HERE\n",
    "response = requests.get('http://data.kk.dk/dataset/faste-trafiktaellinger', headers = {'name' : 'Martin Skafte Andersen', 'email': 'tgx333@alumni.ku.dk'})\n",
    "trafik_html = response.text\n",
    "print(trafik_html)\n"
   ]
  },
  {
   "cell_type": "markdown",
   "metadata": {},
   "source": [
    "> **Ex. 5.5.2:** *(Bonus)* Using the re module, extract a list of all the urls in the html string and store them in a new variable.\n",
    "\n",
    "> _Hint:_ Try using the re.findall method. You may want to Google around to figure out how to do this. Searching for something along the lines of \"extract all links in html regex python\" and hitting the first StackOverflow link will probably get you farther than reading elaborate documentation."
   ]
  },
  {
   "cell_type": "code",
   "execution_count": 18,
   "metadata": {
    "deletable": false,
    "nbgrader": {
     "cell_type": "code",
     "checksum": "788530dc03e9f126847d8481b20ed13e",
     "grade": false,
     "grade_id": "cell-b6352a75b3acd612",
     "locked": false,
     "schema_version": 3,
     "solution": true,
     "task": false
    }
   },
   "outputs": [
    {
     "name": "stdout",
     "output_type": "stream",
     "text": [
      "https://policy.app.cookieinformation.com/uc.js\", https://code.jquery.com/jquery-3.3.1.min.js\", https://www.survey-xact.dk/LinkCollector?key=X3LGR2APJJ15\">Efterspørg, https://admin.opendata.dk/uploads/group/2016-04-25-065450.348702cph-logo.png\", https://dataforsyningen.dk/\">https://dataforsyningen.dk/</a></p>, https://www.kk.dk/politik/politikker-og-indsatser/bolig-byggeri-og-byliv/udsatte-byomraader\">her</a></p>, https://www.kk.dk/borger/sundhed-og-forebyggelse/genoptraening-og-rehabilitering/kontakt-til-genoptraenings-og-rehabiliteringscentre\">Genoptrænings-, https://rusmiddelbehandling.kk.dk/om-os\">Behandlingsenheder</a>, https://www.opendata.dk/city-of-copenhagen/roder\">roder</a>, https://www.opendata.dk/city-of-copenhagen/roder\">roder</a>., https://www.kk.dk/politik/politikker-og-indsatser/klima-og-miljoe/co2-udledning-fra-koebenhavn\">Københavns, https://ckan.org/\">, http://www.w3.org/2000/svg\", https://app.heyloyalty.com/subscribe/10738/3609\", https://www.linkedin.com/company/open-data-dk\", https://twitter.com/OpenDataDK\", http://www.w3.org/2000/svg\", http://www.w3.org/1999/xlink\"><symbol, http://www.w3.org/2000/svg\"><path, http://www.w3.org/2000/svg\"><path, http://www.w3.org/2000/svg\"><path, http://www.w3.org/2000/svg\"><path\n"
     ]
    }
   ],
   "source": [
    "import re \n",
    "\n",
    "url_pattern = r'https?://\\S+'\n",
    "# Use re.findall to find all matches of URLs in the HTML string\n",
    "urls_list = re.findall(url_pattern, trafik_html)\n",
    "print(', '.join(urls_list)) \n"
   ]
  },
  {
   "cell_type": "markdown",
   "metadata": {},
   "source": [
    "> **Ex. 5.5.3:** *(Bonus)* Create a new variable `datalinks` that only contains the links that point to downloadable traffic data sheets. Some links may be preset more than once on the page. To get the unique links use the `set()` function on `datalinks`.\n",
    "\n",
    "> _Hint:_ You want to filter the results from above. For example to only include urls with the term 'download' in them."
   ]
  },
  {
   "cell_type": "code",
   "execution_count": null,
   "metadata": {
    "deletable": false,
    "nbgrader": {
     "cell_type": "code",
     "checksum": "9c4d2d55e4c1ad109d16434f21f24730",
     "grade": false,
     "grade_id": "cell-474f6f4274f1f6be",
     "locked": false,
     "schema_version": 3,
     "solution": true,
     "task": false
    }
   },
   "outputs": [],
   "source": [
    "# YOUR CODE HERE\n",
    "datalinks = \n",
    "raise NotImplementedError()"
   ]
  },
  {
   "cell_type": "markdown",
   "metadata": {},
   "source": [
    "> **Ex. 5.5.4:** *(Bonus)* Using pd.read_excel method, load the datasets into a list. Your resulting variable should hold a list of Pandas dataframes.\n",
    "\n",
    "> _Hint:_ you may want to set the `skiprows` keyword argument. "
   ]
  },
  {
   "cell_type": "code",
   "execution_count": null,
   "metadata": {
    "deletable": false,
    "nbgrader": {
     "cell_type": "code",
     "checksum": "ec13a7429665e71ab5b4c23f4ba21f5e",
     "grade": false,
     "grade_id": "cell-da5cce0bcf1ee076",
     "locked": false,
     "schema_version": 3,
     "solution": true,
     "task": false
    }
   },
   "outputs": [],
   "source": [
    "# YOUR CODE HERE\n",
    "raise NotImplementedError()"
   ]
  },
  {
   "cell_type": "markdown",
   "metadata": {},
   "source": [
    "> **Ex. 5.5.5:** *(Bonus)* Merge the list of dataframes into a single dataframe."
   ]
  },
  {
   "cell_type": "code",
   "execution_count": null,
   "metadata": {
    "deletable": false,
    "nbgrader": {
     "cell_type": "code",
     "checksum": "106922ebf7ed30f3a851de6b1dcd847e",
     "grade": false,
     "grade_id": "cell-4526c1736e295f0a",
     "locked": false,
     "schema_version": 3,
     "solution": true,
     "task": false
    }
   },
   "outputs": [],
   "source": [
    "# YOUR CODE HERE\n",
    "raise NotImplementedError()"
   ]
  },
  {
   "cell_type": "markdown",
   "metadata": {},
   "source": [
    "## Part 5.5.B Structuring your data\n",
    "\n",
    "If you successfully completed the previous part, you should now have a dataframe with about 183.397 rows (if your number of rows is close but not the same, worry not—it matters little in the following). Well done! But the data is still in no shape for analysis, so we must clean it up a little.\n",
    "\n",
    "161.236 rows (and 30 columns) is a lot of data. ~3.3 MB by my back-of-the-envelope calculations, so not \"Big Data\", but still enough to make your CPU heat up if you don't use it carefully. Pandas is built to handle fairly large dataframes and has advanced functionality to perform very fast operations even when the size of your data grows huge. So instead of working with basic Python we recommend working pandas built-in procedures as they are constructed to be fast on dataframes.\n",
    "\n",
    "Nerd fact: the reason pandas is much faster than pure Python is that dataframes access a lower level programming languages (namely C, C++) which are multiple times faster than Python. The reason it is faster is that it has a higher level of explicitness and thus is more difficult to learn and navigate.\n",
    "\n",
    "> **Ex. 5.5.6:** *(Bonus)* Reset the row indices of your dataframe so the first index is 0 and the last is whatever the number of rows your dataframe has. Also drop the column named 'index' and the one named `Spor`."
   ]
  },
  {
   "cell_type": "code",
   "execution_count": null,
   "metadata": {
    "deletable": false,
    "nbgrader": {
     "cell_type": "code",
     "checksum": "12b5d377a6d783b26c1fd5280b0a9909",
     "grade": false,
     "grade_id": "cell-bba8d42c26534466",
     "locked": false,
     "schema_version": 3,
     "solution": true,
     "task": false
    }
   },
   "outputs": [],
   "source": [
    "# YOUR CODE HERE\n",
    "raise NotImplementedError()"
   ]
  },
  {
   "cell_type": "markdown",
   "metadata": {},
   "source": [
    "> **Ex. 5.5.7:** *(Bonus)* Rename variables from Danish to English using the dictionary below.\n",
    "\n",
    "```python \n",
    "dk_to_uk = {\n",
    "    'Vejnavn':'road_name',\n",
    "    '(UTM32)':'UTM32_north',\n",
    "    '(UTM32).1':'UTM32_east',\n",
    "    'Dato':'date',\n",
    "    'Vej-Id':'road_id'\n",
    "}\n",
    "```"
   ]
  },
  {
   "cell_type": "code",
   "execution_count": null,
   "metadata": {
    "deletable": false,
    "nbgrader": {
     "cell_type": "code",
     "checksum": "8f9f5484502836bbba3fb542b23b6500",
     "grade": false,
     "grade_id": "cell-70b2cbb8cf1b167a",
     "locked": false,
     "schema_version": 3,
     "solution": true,
     "task": false
    }
   },
   "outputs": [],
   "source": [
    "# YOUR CODE HERE\n",
    "raise NotImplementedError()"
   ]
  },
  {
   "cell_type": "markdown",
   "metadata": {},
   "source": [
    "Python is quite efficient. For example, when you create a new dataframe by manipulating an old one, Python notices that—apart from some minor changes—these two objects are almost the same. Since memory is a precious resource, Python will represent the values in the new dataframe as references to the variables in the old dataset. This is great for performance, but if you for whatever reason change some of the values in your old dataframe, values in the new one will also change—and we don't want that! Luckily, we can break this dependency.\n",
    "\n",
    "> **Ex. 5.5.8:** *(Bonus)* Break the dependencies of the dataframe that resulted from Ex. 5.2.7 using the `.copy` method. Delete all other dataframes."
   ]
  },
  {
   "cell_type": "code",
   "execution_count": null,
   "metadata": {
    "deletable": false,
    "nbgrader": {
     "cell_type": "code",
     "checksum": "16a0e29e5b884701fb033db976d23ca1",
     "grade": false,
     "grade_id": "cell-3bc14837561aaf91",
     "locked": false,
     "schema_version": 3,
     "solution": true,
     "task": false
    }
   },
   "outputs": [],
   "source": [
    "# YOUR CODE HERE\n",
    "raise NotImplementedError()"
   ]
  },
  {
   "cell_type": "markdown",
   "metadata": {},
   "source": [
    "Once you have structured appropriately, something that you will want to do again and again is selecting subsets of the data. Specifically, it means that you select specific rows in the dataset based on some column values.\n",
    "\n",
    ">**Ex. 5.5.9:** *(Bonus)* Create a new column in the dataframe called total that is True when the last letter of road_id is T and otherwise False.\n",
    "\n",
    "> _Hint:_ you will need the `pd.Series.str` attribute for this."
   ]
  },
  {
   "cell_type": "code",
   "execution_count": null,
   "metadata": {
    "deletable": false,
    "nbgrader": {
     "cell_type": "code",
     "checksum": "35f0de63708a3b52e5f8d9939a2d0e37",
     "grade": false,
     "grade_id": "cell-d71c49b56465c6de",
     "locked": false,
     "schema_version": 3,
     "solution": true,
     "task": false
    }
   },
   "outputs": [],
   "source": [
    "# YOUR CODE HERE\n",
    "raise NotImplementedError()"
   ]
  },
  {
   "cell_type": "markdown",
   "metadata": {},
   "source": [
    "> **Ex. 5.5.10:** *(Bonus)* Select rows where total is True. Delete all the remaining observations."
   ]
  },
  {
   "cell_type": "code",
   "execution_count": null,
   "metadata": {
    "deletable": false,
    "nbgrader": {
     "cell_type": "code",
     "checksum": "0ba8a70ca32e46791f0f6412bade1dff",
     "grade": false,
     "grade_id": "cell-be16ff389b3ac550",
     "locked": false,
     "schema_version": 3,
     "solution": true,
     "task": false
    }
   },
   "outputs": [],
   "source": [
    "# YOUR CODE HERE\n",
    "raise NotImplementedError()"
   ]
  },
  {
   "cell_type": "markdown",
   "metadata": {},
   "source": [
    "> **Ex. 5.5.11:** *(Bonus)* Make two datasets based on the lists of columns below. Call the dataset with spatial columns data_geo and the other data.\n",
    "\n",
    "```python\n",
    "# Columns for `geo_data`, stored in `geo_columns`\n",
    "spatial_columns = ['road_name', 'UTM32_north', 'UTM32_east']\n",
    "\n",
    "# Columns for `data`, stored in `select_columns`\n",
    "hours = ['kl.{}-{}'.format(str(h).zfill(2), str(h+1).zfill(2)) for h in range(24)]\n",
    "select_columns = ['road_name', 'date'] + hours\n",
    "```"
   ]
  },
  {
   "cell_type": "code",
   "execution_count": null,
   "metadata": {
    "deletable": false,
    "nbgrader": {
     "cell_type": "code",
     "checksum": "f5f9cccfbf6ea83f71ad566f2ff863fc",
     "grade": false,
     "grade_id": "cell-044260f4552d575c",
     "locked": false,
     "schema_version": 3,
     "solution": true,
     "task": false
    }
   },
   "outputs": [],
   "source": [
    "# YOUR CODE HERE\n",
    "raise NotImplementedError()"
   ]
  },
  {
   "cell_type": "markdown",
   "metadata": {},
   "source": [
    "> **Ex. 5.5.12:** *(Bonus)* Drop the duplicate rows in data_geo."
   ]
  },
  {
   "cell_type": "code",
   "execution_count": null,
   "metadata": {
    "deletable": false,
    "nbgrader": {
     "cell_type": "code",
     "checksum": "62c3d4184c078cc649f4ff73b42a46e5",
     "grade": false,
     "grade_id": "cell-34fc8fa941234a18",
     "locked": false,
     "schema_version": 3,
     "solution": true,
     "task": false
    }
   },
   "outputs": [],
   "source": [
    "# YOUR CODE HERE\n",
    "raise NotImplementedError()"
   ]
  },
  {
   "cell_type": "markdown",
   "metadata": {},
   "source": [
    "**Formatting: wide and narrow format**\n",
    "\n",
    "When talking about two-dimensional data (matrices, tables or dataframes, we can call it many things), we can either say that it is in wide or long format (see explanation here, \"wide\" and \"long\" are used interchangably). In Pandas we can use the commands stack and unstack to move between these formats.\n",
    "\n",
    "The wide format has the advantage that it often requires less storage and is easier to read when printed. On the other hand the long format can be easier for modelling, because each observation has its own row. Turns out that the latter is what we most often need.\n",
    "\n",
    "> **Ex. 5.5.13:** *(Bonus)* Turn the dataset from wide to long so hourly data is now vertically stacked. Store this dataset in a dataframe called data. Name the column with hourly information hour_period. Your resulting dataframe should look something like this.\n",
    "\n",
    "> _Hint:_ pandas' melt function may be of use."
   ]
  },
  {
   "cell_type": "code",
   "execution_count": null,
   "metadata": {
    "deletable": false,
    "nbgrader": {
     "cell_type": "code",
     "checksum": "fdb44532dc5c3121108808b0e192ba73",
     "grade": false,
     "grade_id": "cell-8814dd6f2c675c9e",
     "locked": false,
     "schema_version": 3,
     "solution": true,
     "task": false
    }
   },
   "outputs": [],
   "source": [
    "# YOUR CODE HERE\n",
    "raise NotImplementedError()"
   ]
  },
  {
   "cell_type": "markdown",
   "metadata": {},
   "source": [
    "**Categorical data**\n",
    "\n",
    "Categorical data can contain Python objects, usually strings. These are smart if you have variables with string observations that are long and often repeated, e.g. with road names.\n",
    "\n",
    "> **Ex. 5.5.14:** *(Bonus)* Use the `.astype` method to convert the type of the road_name column to categorical."
   ]
  },
  {
   "cell_type": "code",
   "execution_count": null,
   "metadata": {
    "deletable": false,
    "nbgrader": {
     "cell_type": "code",
     "checksum": "bc8cc582f4ae8fc5699481d4687b7a29",
     "grade": false,
     "grade_id": "cell-d94e7ec1af8fce59",
     "locked": false,
     "schema_version": 3,
     "solution": true,
     "task": false
    }
   },
   "outputs": [],
   "source": [
    "# YOUR CODE HERE\n",
    "raise NotImplementedError()"
   ]
  },
  {
   "cell_type": "markdown",
   "metadata": {},
   "source": [
    "## Part 5.5.C:  Structure temporal data\n",
    "\n",
    "Pandas has native support for working with temporal data. This is handy as much 'big data' often has time stamps which we can make Pandas aware of. Once we have encoded temporal data it can be used to extract information such as the hour, second etc.\n",
    "\n",
    "> **Ex. 5.5.15:** *(Bonus)* Create a new column called hour which contains the hour-of-day for each row. "
   ]
  },
  {
   "cell_type": "code",
   "execution_count": null,
   "metadata": {
    "deletable": false,
    "nbgrader": {
     "cell_type": "code",
     "checksum": "646ddff2743eb9b40e49cb18a566c9b9",
     "grade": false,
     "grade_id": "cell-54d6bbbab97b9bae",
     "locked": false,
     "schema_version": 3,
     "solution": true,
     "task": false
    }
   },
   "outputs": [],
   "source": [
    "# YOUR CODE HERE\n",
    "raise NotImplementedError()"
   ]
  },
  {
   "cell_type": "markdown",
   "metadata": {},
   "source": [
    ">**Ex. 5.5.16:** *(Bonus)* Create a new column called time, that contains the time of the row in datetime format. Delete the old temporal columns (hour, hour_period, date) to save memory.\n",
    "\n",
    "> _Hint:_ try making an intermediary series of strings that has all temporal information for the row; then use pandas to_datetime function where you can specify the format of the date string."
   ]
  },
  {
   "cell_type": "code",
   "execution_count": null,
   "metadata": {
    "deletable": false,
    "nbgrader": {
     "cell_type": "code",
     "checksum": "e0336faad2edaa18a961f7dbd9364a26",
     "grade": false,
     "grade_id": "cell-e8d6d81a5e31cd12",
     "locked": false,
     "schema_version": 3,
     "solution": true,
     "task": false
    }
   },
   "outputs": [],
   "source": [
    "# YOUR CODE HERE\n",
    "raise NotImplementedError()"
   ]
  },
  {
   "cell_type": "markdown",
   "metadata": {},
   "source": [
    "> **Ex. 5.5.17:** *(Bonus)* Using your time column make a new column called weekday which stores the weekday (in values between 0 and 6) of the corresponding datetime.\n",
    "\n",
    "> _Hint:_ try using the dt method for the series called time; dt has some relevant methods itself."
   ]
  },
  {
   "cell_type": "code",
   "execution_count": null,
   "metadata": {
    "deletable": false,
    "nbgrader": {
     "cell_type": "code",
     "checksum": "ec12a51ca78cfcfb010958a3a3f38299",
     "grade": false,
     "grade_id": "cell-eeabee7e17bbc24a",
     "locked": false,
     "schema_version": 3,
     "solution": true,
     "task": false
    }
   },
   "outputs": [],
   "source": [
    "# YOUR CODE HERE\n",
    "raise NotImplementedError()"
   ]
  },
  {
   "cell_type": "markdown",
   "metadata": {},
   "source": [
    "## Part 5.5.D: Statistical descriptions of traffic data\n",
    "\n",
    "> **Ex. 5.5.18:** *(Bonus)* Print the \"descriptive statistics\" of the traffic column. Also show a kernel density estimate of the values.\n",
    "\n",
    "> _Hint:_ Use the describe method of pandas dataframes for the first task. Use seaborn for the second. "
   ]
  },
  {
   "cell_type": "code",
   "execution_count": null,
   "metadata": {
    "deletable": false,
    "nbgrader": {
     "cell_type": "code",
     "checksum": "1c8c5a5e2b98bb1b436ce71ccfedb681",
     "grade": false,
     "grade_id": "cell-5543e5d8d126bc40",
     "locked": false,
     "schema_version": 3,
     "solution": true,
     "task": false
    }
   },
   "outputs": [],
   "source": [
    "import seaborn as sb\n",
    "\n",
    "# YOUR CODE HERE\n",
    "raise NotImplementedError()"
   ]
  },
  {
   "cell_type": "markdown",
   "metadata": {},
   "source": [
    "> **Ex. 5.5.19:** *(Bonus)* Which road has the most average traffic?"
   ]
  },
  {
   "cell_type": "code",
   "execution_count": null,
   "metadata": {
    "deletable": false,
    "nbgrader": {
     "cell_type": "code",
     "checksum": "e44658f7686188ab151c6ad871332bba",
     "grade": false,
     "grade_id": "cell-ed14c5a9519b1a33",
     "locked": false,
     "schema_version": 3,
     "solution": true,
     "task": false
    }
   },
   "outputs": [],
   "source": [
    "# YOUR CODE HERE\n",
    "raise NotImplementedError()"
   ]
  },
  {
   "cell_type": "markdown",
   "metadata": {},
   "source": [
    "> **Ex. 5.5.20:** *(Bonus)* Compute annual, average road traffic during day hours (9-17). Which station had the least traffic in 2013? Which station has seen highest growth in traffic from 2013 to 2014?"
   ]
  },
  {
   "cell_type": "code",
   "execution_count": null,
   "metadata": {
    "deletable": false,
    "nbgrader": {
     "cell_type": "code",
     "checksum": "56dc16997bb791aa9bcbd89cf1f5c64d",
     "grade": false,
     "grade_id": "cell-279831757079d3e0",
     "locked": false,
     "schema_version": 3,
     "solution": true,
     "task": false
    }
   },
   "outputs": [],
   "source": [
    "# YOUR CODE HERE\n",
    "raise NotImplementedError()"
   ]
  }
 ],
 "metadata": {
  "kernelspec": {
   "display_name": "Python 3 (ipykernel)",
   "language": "python",
   "name": "python3"
  },
  "language_info": {
   "codemirror_mode": {
    "name": "ipython",
    "version": 3
   },
   "file_extension": ".py",
   "mimetype": "text/x-python",
   "name": "python",
   "nbconvert_exporter": "python",
   "pygments_lexer": "ipython3",
   "version": "3.10.9"
  },
  "varInspector": {
   "cols": {
    "lenName": 16,
    "lenType": 16,
    "lenVar": 40
   },
   "kernels_config": {
    "python": {
     "delete_cmd_postfix": "",
     "delete_cmd_prefix": "del ",
     "library": "var_list.py",
     "varRefreshCmd": "print(var_dic_list())"
    },
    "r": {
     "delete_cmd_postfix": ") ",
     "delete_cmd_prefix": "rm(",
     "library": "var_list.r",
     "varRefreshCmd": "cat(var_dic_list()) "
    }
   },
   "types_to_exclude": [
    "module",
    "function",
    "builtin_function_or_method",
    "instance",
    "_Feature"
   ],
   "window_display": false
  }
 },
 "nbformat": 4,
 "nbformat_minor": 4
}
