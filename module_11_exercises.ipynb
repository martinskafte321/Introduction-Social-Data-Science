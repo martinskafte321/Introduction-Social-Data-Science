{
 "cells": [
  {
   "cell_type": "markdown",
   "metadata": {
    "ExecuteTime": {
     "end_time": "2017-08-23T15:30:03.634114Z",
     "start_time": "2017-08-23T15:30:03.629294Z"
    }
   },
   "source": [
    "# Videos and Exercises for Session 11: Regression and Regularization\n",
    "\n",
    "In this combined teaching module and exercise set, you will learn about linear regression models in a machine learning perspective. We will see how overfitting can arise and how we can tackle it with a modification of the linear regression model.\n",
    "\n",
    "The structure of this notebook is as follows:\n",
    "1. Linear Regression Mechanics\n",
    "2. Overfitting and Underfitting in Linear Regression\n",
    "    - Exploring Overfitting in Linear Regression\n",
    "    - A Cure for Overfitting in Linear Regression\n",
    "3. Modelling Houseprices (Exercise)"
   ]
  },
  {
   "cell_type": "markdown",
   "metadata": {},
   "source": [
    "## Packages\n",
    "First, we need to import our standard stuff. Notice that we are not interested in seeing the convergence warning in scikit-learn, so we suppress them for now."
   ]
  },
  {
   "cell_type": "code",
   "execution_count": 3,
   "metadata": {},
   "outputs": [],
   "source": [
    "import warnings\n",
    "#!pip install sklearn\n",
    "from sklearn.exceptions import ConvergenceWarning\n",
    "warnings.filterwarnings(action='ignore', category=ConvergenceWarning)\n",
    "\n",
    "import matplotlib.pyplot as plt\n",
    "import numpy as np \n",
    "import pandas as pd \n",
    "import seaborn as sns\n",
    "\n",
    "%matplotlib inline"
   ]
  },
  {
   "cell_type": "markdown",
   "metadata": {},
   "source": [
    "# Part 1: Linear Regression Mechanics\n",
    "## Implementing and evaluating the gradient decent \n",
    " \n",
    "Normally we use OLS to estimate linear regression models, but this is only way of solving the problem of minimizing the least squares problem (that minimizes the sum of squared errors). In the video below we show how to implement gradient descent below and compare it along with other approximate solutions to OLS."
   ]
  },
  {
   "cell_type": "code",
   "execution_count": 4,
   "metadata": {},
   "outputs": [
    {
     "data": {
      "image/jpeg": "[encoded data removed]",
      "text/html": [
       "\n",
       "        <iframe\n",
       "            width=\"640\"\n",
       "            height=\"360\"\n",
       "            src=\"https://www.youtube.com/embed/XidjsIseyv0\"\n",
       "            frameborder=\"0\"\n",
       "            allowfullscreen\n",
       "            \n",
       "        ></iframe>\n",
       "        "
      ],
      "text/plain": [
       "<IPython.lib.display.YouTubeVideo at 0x2545d3f1ed0>"
      ]
     },
     "execution_count": 4,
     "metadata": {},
     "output_type": "execute_result"
    }
   ],
   "source": [
    "from IPython.display import YouTubeVideo\n",
    "YouTubeVideo('XidjsIseyv0', width=640, height=360)"
   ]
  },
  {
   "cell_type": "markdown",
   "metadata": {},
   "source": [
    "We continue straight to an exercise where you are to implement a new estimator that we code up from scratch. We solve the numerical optimization using the gradient decent algorithm. This will be very similar to what we just saw in the video, but we will pay a bit more attention to each step in the process.\n",
    "\n",
    "Using our algorithm, we will fit it to some data, and compare our own solution to the standard solution from `sklearn`"
   ]
  },
  {
   "cell_type": "markdown",
   "metadata": {},
   "source": [
    "> **Ex. 11.1.0**: Import the dataset `tips` from the `seaborn`.\n",
    "\n",
    "\n",
    "*Hint*: use the `load_dataset` method in seaborn"
   ]
  },
  {
   "cell_type": "code",
   "execution_count": 27,
   "metadata": {
    "deletable": false,
    "nbgrader": {
     "cell_type": "code",
     "checksum": "6e812556b5b6774ba76a4a1ccb89a169",
     "grade": false,
     "grade_id": "cell-2dd56f36f76bce57",
     "locked": false,
     "schema_version": 3,
     "solution": true,
     "task": false
    }
   },
   "outputs": [
    {
     "data": {
      "text/html": [
       "<div>\n",
       "<style scoped>\n",
       "    .dataframe tbody tr th:only-of-type {\n",
       "        vertical-align: middle;\n",
       "    }\n",
       "\n",
       "    .dataframe tbody tr th {\n",
       "        vertical-align: top;\n",
       "    }\n",
       "\n",
       "    .dataframe thead th {\n",
       "        text-align: right;\n",
       "    }\n",
       "</style>\n",
       "<table border=\"1\" class=\"dataframe\">\n",
       "  <thead>\n",
       "    <tr style=\"text-align: right;\">\n",
       "      <th></th>\n",
       "      <th>total_bill</th>\n",
       "      <th>tip</th>\n",
       "      <th>sex</th>\n",
       "      <th>smoker</th>\n",
       "      <th>day</th>\n",
       "      <th>time</th>\n",
       "      <th>size</th>\n",
       "    </tr>\n",
       "  </thead>\n",
       "  <tbody>\n",
       "    <tr>\n",
       "      <th>0</th>\n",
       "      <td>16.99</td>\n",
       "      <td>1.01</td>\n",
       "      <td>Female</td>\n",
       "      <td>No</td>\n",
       "      <td>Sun</td>\n",
       "      <td>Dinner</td>\n",
       "      <td>2</td>\n",
       "    </tr>\n",
       "    <tr>\n",
       "      <th>1</th>\n",
       "      <td>10.34</td>\n",
       "      <td>1.66</td>\n",
       "      <td>Male</td>\n",
       "      <td>No</td>\n",
       "      <td>Sun</td>\n",
       "      <td>Dinner</td>\n",
       "      <td>3</td>\n",
       "    </tr>\n",
       "    <tr>\n",
       "      <th>2</th>\n",
       "      <td>21.01</td>\n",
       "      <td>3.50</td>\n",
       "      <td>Male</td>\n",
       "      <td>No</td>\n",
       "      <td>Sun</td>\n",
       "      <td>Dinner</td>\n",
       "      <td>3</td>\n",
       "    </tr>\n",
       "    <tr>\n",
       "      <th>3</th>\n",
       "      <td>23.68</td>\n",
       "      <td>3.31</td>\n",
       "      <td>Male</td>\n",
       "      <td>No</td>\n",
       "      <td>Sun</td>\n",
       "      <td>Dinner</td>\n",
       "      <td>2</td>\n",
       "    </tr>\n",
       "    <tr>\n",
       "      <th>4</th>\n",
       "      <td>24.59</td>\n",
       "      <td>3.61</td>\n",
       "      <td>Female</td>\n",
       "      <td>No</td>\n",
       "      <td>Sun</td>\n",
       "      <td>Dinner</td>\n",
       "      <td>4</td>\n",
       "    </tr>\n",
       "  </tbody>\n",
       "</table>\n",
       "</div>"
      ],
      "text/plain": [
       "   total_bill   tip     sex smoker  day    time  size\n",
       "0       16.99  1.01  Female     No  Sun  Dinner     2\n",
       "1       10.34  1.66    Male     No  Sun  Dinner     3\n",
       "2       21.01  3.50    Male     No  Sun  Dinner     3\n",
       "3       23.68  3.31    Male     No  Sun  Dinner     2\n",
       "4       24.59  3.61  Female     No  Sun  Dinner     4"
      ]
     },
     "execution_count": 27,
     "metadata": {},
     "output_type": "execute_result"
    }
   ],
   "source": [
    "# YOUR CODE HERE\n",
    "import seaborn as sns\n",
    "import pandas as pd\n",
    "import sklearn\n",
    "import numpy as np\n",
    "from sklearn.model_selection import train_test_split\n",
    "from sklearn.preprocessing import StandardScaler\n",
    "\n",
    "tips = sns.load_dataset('tips')\n",
    "tips.head()\n",
    "#raise NotImplementedError()"
   ]
  },
  {
   "cell_type": "markdown",
   "metadata": {},
   "source": [
    "> **Ex. 11.1.1**: Convert non-numeric variables to dummy variables for each category (remember to leave one column out for each catagorical variable, so you have a reference). Restructure the data so we get a dataset `y` containing the variable tip, and a dataset `X` containing the \n",
    "features. \n",
    "\n",
    "> *Hint*: You might want to use the `get_dummies` method in pandas, with the `drop_first = True` parameter. "
   ]
  },
  {
   "cell_type": "code",
   "execution_count": 29,
   "metadata": {
    "deletable": false,
    "nbgrader": {
     "cell_type": "code",
     "checksum": "2ce55b897e3acd6727916dffe21150f6",
     "grade": false,
     "grade_id": "cell-2e42eb4f59160bed",
     "locked": false,
     "schema_version": 3,
     "solution": true,
     "task": false
    }
   },
   "outputs": [],
   "source": [
    "# YOUR CODE HERE\n",
    "df_dummies = pd.get_dummies(tips, columns = ['sex','smoker','day','time'], drop_first=True)\n",
    "\n",
    "y = df_dummies['tip']\n",
    "X = df_dummies.drop('tip', axis=1)"
   ]
  },
  {
   "cell_type": "markdown",
   "metadata": {},
   "source": [
    "> **Ex. 11.1.2**: Divide the features and target into test and train data. Make the split 50 pct. of each. The split data should be called `X_train`, `X_test`, `y_train`, `y_test`.\n",
    "\n",
    "> *Hint*: You may use `train_test_split` in `sklearn.model_selection`."
   ]
  },
  {
   "cell_type": "code",
   "execution_count": 46,
   "metadata": {
    "deletable": false,
    "nbgrader": {
     "cell_type": "code",
     "checksum": "eb3675bb8e21477c6f5c76f67a3a5ed0",
     "grade": false,
     "grade_id": "cell-ba197171f1b2bfef",
     "locked": false,
     "schema_version": 3,
     "solution": true,
     "task": false
    }
   },
   "outputs": [],
   "source": [
    "# YOUR CODE HERE\n",
    "X_train, X_test, y_train, y_test = train_test_split(X, y, test_size=0.5, random_state=161193)\n",
    "\n"
   ]
  },
  {
   "cell_type": "markdown",
   "metadata": {},
   "source": [
    "> **Ex. 11.1.3**: Normalize your features by converting to zero mean and one std. deviation.\n",
    "\n",
    "> *Hint*: Take a look at `StandardScaler` in `sklearn.preprocessing`. If in doubt about which distribution to scale, you may read [this post](https://stats.stackexchange.com/questions/174823/how-to-apply-standardization-normalization-to-train-and-testset-if-prediction-i)."
   ]
  },
  {
   "cell_type": "code",
   "execution_count": 49,
   "metadata": {
    "deletable": false,
    "nbgrader": {
     "cell_type": "code",
     "checksum": "5a4d5e2ed6417f454e18385a2804a19b",
     "grade": false,
     "grade_id": "cell-8ab591d5927be1d5",
     "locked": false,
     "schema_version": 3,
     "solution": true,
     "task": false
    }
   },
   "outputs": [],
   "source": [
    "# YOUR CODE HERE\n",
    "scaler = StandardScaler()\n",
    "\n",
    "X_train_scaled = pd.DataFrame(scaler.fit_transform(X_train), columns=X_train.columns,index = X_train.index )\n"
   ]
  },
  {
   "cell_type": "markdown",
   "metadata": {},
   "source": [
    "> **Ex. 11.1.4**: Make a function called `compute_error` to compute the prediction errors given input target `y_`, input features `X_` and input weights `w_`. You should use matrix multiplication.\n",
    ">\n",
    "> *Hint:* You can use the net-input fct. from yesterday.\n",
    "\n"
   ]
  },
  {
   "cell_type": "code",
   "execution_count": 50,
   "metadata": {
    "deletable": false,
    "nbgrader": {
     "cell_type": "code",
     "checksum": "b03c6de7d3488e832c4d3eb123587e17",
     "grade": false,
     "grade_id": "cell-a70101715bbbb443",
     "locked": false,
     "schema_version": 3,
     "solution": true,
     "task": false
    }
   },
   "outputs": [],
   "source": [
    "# YOUR CODE HERE\n",
    "def compute_error(y_,X_,w_):\n",
    "    y_hat = X_.dot(w_)\n",
    "    e = y_ - y_hat\n",
    "    return e\n"
   ]
  },
  {
   "cell_type": "markdown",
   "metadata": {},
   "source": [
    "> **Ex. 11.1.5**: Make a function to update the weights given input target `y_`, input features `X_` and input weights `w_` as well as learning rate, $\\eta$, i.e. greek `eta`. You should use matrix multiplication."
   ]
  },
  {
   "cell_type": "code",
   "execution_count": 52,
   "metadata": {},
   "outputs": [],
   "source": [
    "# INCLUDED IN ASSIGNMENT 2\n",
    "def update_weight(y_, X_, w_,eta):\n",
    "    \n",
    "    e = compute_error(y_,X_,w_)\n",
    "    w_new = w_ + eta * X_.T.dot(e)\n",
    "    \n",
    "    return w_new"
   ]
  },
  {
   "cell_type": "code",
   "execution_count": null,
   "metadata": {
    "deletable": false,
    "nbgrader": {
     "cell_type": "code",
     "checksum": "6cd45bb01781e944c41227e59873a6df",
     "grade": false,
     "grade_id": "cell-049443f1aafb8903",
     "locked": false,
     "schema_version": 3,
     "solution": true,
     "task": false
    }
   },
   "outputs": [],
   "source": []
  },
  {
   "cell_type": "markdown",
   "metadata": {},
   "source": [
    "> **Ex. 11.1.6**: Use the code below to initialize weights `w` at zero given feature set `X`. Notice how we include an extra weight that includes the bias term. Set the learning rate `eta` to 0.001. Make a loop with 50 iterations where you iteratively apply your weight updating function. \n",
    "\n",
    ">```python\n",
    "w = np.zeros(1+X_train.shape[1])\n",
    "```"
   ]
  },
  {
   "cell_type": "code",
   "execution_count": null,
   "metadata": {},
   "outputs": [],
   "source": [
    "# INCLUDED IN ASSIGNMENT 2"
   ]
  },
  {
   "cell_type": "code",
   "execution_count": 56,
   "metadata": {
    "deletable": false,
    "nbgrader": {
     "cell_type": "code",
     "checksum": "6308f5593a6e65ab57b86368ceef6669",
     "grade": false,
     "grade_id": "cell-74c4170d3d5fe322",
     "locked": false,
     "schema_version": 3,
     "solution": true,
     "task": false
    }
   },
   "outputs": [
    {
     "name": "stdout",
     "output_type": "stream",
     "text": [
      "total_bill     0.088274\n",
      "size           0.072454\n",
      "sex_Female    -0.009452\n",
      "smoker_No     -0.000889\n",
      "day_Fri       -0.005949\n",
      "day_Sat       -0.006456\n",
      "day_Sun        0.020698\n",
      "time_Dinner    0.017042\n",
      "dtype: float64\n",
      "total_bill     0.088274\n",
      "size           0.072454\n",
      "sex_Female    -0.009452\n",
      "smoker_No     -0.000889\n",
      "day_Fri       -0.005949\n",
      "day_Sat       -0.006456\n",
      "day_Sun        0.020698\n",
      "time_Dinner    0.017042\n",
      "dtype: float64\n",
      "total_bill     0.088274\n",
      "size           0.072454\n",
      "sex_Female    -0.009452\n",
      "smoker_No     -0.000889\n",
      "day_Fri       -0.005949\n",
      "day_Sat       -0.006456\n",
      "day_Sun        0.020698\n",
      "time_Dinner    0.017042\n",
      "dtype: float64\n",
      "total_bill     0.088274\n",
      "size           0.072454\n",
      "sex_Female    -0.009452\n",
      "smoker_No     -0.000889\n",
      "day_Fri       -0.005949\n",
      "day_Sat       -0.006456\n",
      "day_Sun        0.020698\n",
      "time_Dinner    0.017042\n",
      "dtype: float64\n",
      "total_bill     0.088274\n",
      "size           0.072454\n",
      "sex_Female    -0.009452\n",
      "smoker_No     -0.000889\n",
      "day_Fri       -0.005949\n",
      "day_Sat       -0.006456\n",
      "day_Sun        0.020698\n",
      "time_Dinner    0.017042\n",
      "dtype: float64\n",
      "total_bill     0.088274\n",
      "size           0.072454\n",
      "sex_Female    -0.009452\n",
      "smoker_No     -0.000889\n",
      "day_Fri       -0.005949\n",
      "day_Sat       -0.006456\n",
      "day_Sun        0.020698\n",
      "time_Dinner    0.017042\n",
      "dtype: float64\n",
      "total_bill     0.088274\n",
      "size           0.072454\n",
      "sex_Female    -0.009452\n",
      "smoker_No     -0.000889\n",
      "day_Fri       -0.005949\n",
      "day_Sat       -0.006456\n",
      "day_Sun        0.020698\n",
      "time_Dinner    0.017042\n",
      "dtype: float64\n",
      "total_bill     0.088274\n",
      "size           0.072454\n",
      "sex_Female    -0.009452\n",
      "smoker_No     -0.000889\n",
      "day_Fri       -0.005949\n",
      "day_Sat       -0.006456\n",
      "day_Sun        0.020698\n",
      "time_Dinner    0.017042\n",
      "dtype: float64\n",
      "total_bill     0.088274\n",
      "size           0.072454\n",
      "sex_Female    -0.009452\n",
      "smoker_No     -0.000889\n",
      "day_Fri       -0.005949\n",
      "day_Sat       -0.006456\n",
      "day_Sun        0.020698\n",
      "time_Dinner    0.017042\n",
      "dtype: float64\n",
      "total_bill     0.088274\n",
      "size           0.072454\n",
      "sex_Female    -0.009452\n",
      "smoker_No     -0.000889\n",
      "day_Fri       -0.005949\n",
      "day_Sat       -0.006456\n",
      "day_Sun        0.020698\n",
      "time_Dinner    0.017042\n",
      "dtype: float64\n",
      "total_bill     0.088274\n",
      "size           0.072454\n",
      "sex_Female    -0.009452\n",
      "smoker_No     -0.000889\n",
      "day_Fri       -0.005949\n",
      "day_Sat       -0.006456\n",
      "day_Sun        0.020698\n",
      "time_Dinner    0.017042\n",
      "dtype: float64\n",
      "total_bill     0.088274\n",
      "size           0.072454\n",
      "sex_Female    -0.009452\n",
      "smoker_No     -0.000889\n",
      "day_Fri       -0.005949\n",
      "day_Sat       -0.006456\n",
      "day_Sun        0.020698\n",
      "time_Dinner    0.017042\n",
      "dtype: float64\n",
      "total_bill     0.088274\n",
      "size           0.072454\n",
      "sex_Female    -0.009452\n",
      "smoker_No     -0.000889\n",
      "day_Fri       -0.005949\n",
      "day_Sat       -0.006456\n",
      "day_Sun        0.020698\n",
      "time_Dinner    0.017042\n",
      "dtype: float64\n",
      "total_bill     0.088274\n",
      "size           0.072454\n",
      "sex_Female    -0.009452\n",
      "smoker_No     -0.000889\n",
      "day_Fri       -0.005949\n",
      "day_Sat       -0.006456\n",
      "day_Sun        0.020698\n",
      "time_Dinner    0.017042\n",
      "dtype: float64\n",
      "total_bill     0.088274\n",
      "size           0.072454\n",
      "sex_Female    -0.009452\n",
      "smoker_No     -0.000889\n",
      "day_Fri       -0.005949\n",
      "day_Sat       -0.006456\n",
      "day_Sun        0.020698\n",
      "time_Dinner    0.017042\n",
      "dtype: float64\n",
      "total_bill     0.088274\n",
      "size           0.072454\n",
      "sex_Female    -0.009452\n",
      "smoker_No     -0.000889\n",
      "day_Fri       -0.005949\n",
      "day_Sat       -0.006456\n",
      "day_Sun        0.020698\n",
      "time_Dinner    0.017042\n",
      "dtype: float64\n",
      "total_bill     0.088274\n",
      "size           0.072454\n",
      "sex_Female    -0.009452\n",
      "smoker_No     -0.000889\n",
      "day_Fri       -0.005949\n",
      "day_Sat       -0.006456\n",
      "day_Sun        0.020698\n",
      "time_Dinner    0.017042\n",
      "dtype: float64\n",
      "total_bill     0.088274\n",
      "size           0.072454\n",
      "sex_Female    -0.009452\n",
      "smoker_No     -0.000889\n",
      "day_Fri       -0.005949\n",
      "day_Sat       -0.006456\n",
      "day_Sun        0.020698\n",
      "time_Dinner    0.017042\n",
      "dtype: float64\n",
      "total_bill     0.088274\n",
      "size           0.072454\n",
      "sex_Female    -0.009452\n",
      "smoker_No     -0.000889\n",
      "day_Fri       -0.005949\n",
      "day_Sat       -0.006456\n",
      "day_Sun        0.020698\n",
      "time_Dinner    0.017042\n",
      "dtype: float64\n",
      "total_bill     0.088274\n",
      "size           0.072454\n",
      "sex_Female    -0.009452\n",
      "smoker_No     -0.000889\n",
      "day_Fri       -0.005949\n",
      "day_Sat       -0.006456\n",
      "day_Sun        0.020698\n",
      "time_Dinner    0.017042\n",
      "dtype: float64\n",
      "total_bill     0.088274\n",
      "size           0.072454\n",
      "sex_Female    -0.009452\n",
      "smoker_No     -0.000889\n",
      "day_Fri       -0.005949\n",
      "day_Sat       -0.006456\n",
      "day_Sun        0.020698\n",
      "time_Dinner    0.017042\n",
      "dtype: float64\n",
      "total_bill     0.088274\n",
      "size           0.072454\n",
      "sex_Female    -0.009452\n",
      "smoker_No     -0.000889\n",
      "day_Fri       -0.005949\n",
      "day_Sat       -0.006456\n",
      "day_Sun        0.020698\n",
      "time_Dinner    0.017042\n",
      "dtype: float64\n",
      "total_bill     0.088274\n",
      "size           0.072454\n",
      "sex_Female    -0.009452\n",
      "smoker_No     -0.000889\n",
      "day_Fri       -0.005949\n",
      "day_Sat       -0.006456\n",
      "day_Sun        0.020698\n",
      "time_Dinner    0.017042\n",
      "dtype: float64\n",
      "total_bill     0.088274\n",
      "size           0.072454\n",
      "sex_Female    -0.009452\n",
      "smoker_No     -0.000889\n",
      "day_Fri       -0.005949\n",
      "day_Sat       -0.006456\n",
      "day_Sun        0.020698\n",
      "time_Dinner    0.017042\n",
      "dtype: float64\n",
      "total_bill     0.088274\n",
      "size           0.072454\n",
      "sex_Female    -0.009452\n",
      "smoker_No     -0.000889\n",
      "day_Fri       -0.005949\n",
      "day_Sat       -0.006456\n",
      "day_Sun        0.020698\n",
      "time_Dinner    0.017042\n",
      "dtype: float64\n",
      "total_bill     0.088274\n",
      "size           0.072454\n",
      "sex_Female    -0.009452\n",
      "smoker_No     -0.000889\n",
      "day_Fri       -0.005949\n",
      "day_Sat       -0.006456\n",
      "day_Sun        0.020698\n",
      "time_Dinner    0.017042\n",
      "dtype: float64\n",
      "total_bill     0.088274\n",
      "size           0.072454\n",
      "sex_Female    -0.009452\n",
      "smoker_No     -0.000889\n",
      "day_Fri       -0.005949\n",
      "day_Sat       -0.006456\n",
      "day_Sun        0.020698\n",
      "time_Dinner    0.017042\n",
      "dtype: float64\n",
      "total_bill     0.088274\n",
      "size           0.072454\n",
      "sex_Female    -0.009452\n",
      "smoker_No     -0.000889\n",
      "day_Fri       -0.005949\n",
      "day_Sat       -0.006456\n",
      "day_Sun        0.020698\n",
      "time_Dinner    0.017042\n",
      "dtype: float64\n",
      "total_bill     0.088274\n",
      "size           0.072454\n",
      "sex_Female    -0.009452\n",
      "smoker_No     -0.000889\n",
      "day_Fri       -0.005949\n",
      "day_Sat       -0.006456\n",
      "day_Sun        0.020698\n",
      "time_Dinner    0.017042\n",
      "dtype: float64\n",
      "total_bill     0.088274\n",
      "size           0.072454\n",
      "sex_Female    -0.009452\n",
      "smoker_No     -0.000889\n",
      "day_Fri       -0.005949\n",
      "day_Sat       -0.006456\n",
      "day_Sun        0.020698\n",
      "time_Dinner    0.017042\n",
      "dtype: float64\n",
      "total_bill     0.088274\n",
      "size           0.072454\n",
      "sex_Female    -0.009452\n",
      "smoker_No     -0.000889\n",
      "day_Fri       -0.005949\n",
      "day_Sat       -0.006456\n",
      "day_Sun        0.020698\n",
      "time_Dinner    0.017042\n",
      "dtype: float64\n",
      "total_bill     0.088274\n",
      "size           0.072454\n",
      "sex_Female    -0.009452\n",
      "smoker_No     -0.000889\n",
      "day_Fri       -0.005949\n",
      "day_Sat       -0.006456\n",
      "day_Sun        0.020698\n",
      "time_Dinner    0.017042\n",
      "dtype: float64\n",
      "total_bill     0.088274\n",
      "size           0.072454\n",
      "sex_Female    -0.009452\n",
      "smoker_No     -0.000889\n",
      "day_Fri       -0.005949\n",
      "day_Sat       -0.006456\n",
      "day_Sun        0.020698\n",
      "time_Dinner    0.017042\n",
      "dtype: float64\n",
      "total_bill     0.088274\n",
      "size           0.072454\n",
      "sex_Female    -0.009452\n",
      "smoker_No     -0.000889\n",
      "day_Fri       -0.005949\n",
      "day_Sat       -0.006456\n",
      "day_Sun        0.020698\n",
      "time_Dinner    0.017042\n",
      "dtype: float64\n",
      "total_bill     0.088274\n",
      "size           0.072454\n",
      "sex_Female    -0.009452\n",
      "smoker_No     -0.000889\n",
      "day_Fri       -0.005949\n",
      "day_Sat       -0.006456\n",
      "day_Sun        0.020698\n",
      "time_Dinner    0.017042\n",
      "dtype: float64\n",
      "total_bill     0.088274\n",
      "size           0.072454\n",
      "sex_Female    -0.009452\n",
      "smoker_No     -0.000889\n",
      "day_Fri       -0.005949\n",
      "day_Sat       -0.006456\n",
      "day_Sun        0.020698\n",
      "time_Dinner    0.017042\n",
      "dtype: float64\n",
      "total_bill     0.088274\n",
      "size           0.072454\n",
      "sex_Female    -0.009452\n",
      "smoker_No     -0.000889\n",
      "day_Fri       -0.005949\n",
      "day_Sat       -0.006456\n",
      "day_Sun        0.020698\n",
      "time_Dinner    0.017042\n",
      "dtype: float64\n",
      "total_bill     0.088274\n",
      "size           0.072454\n",
      "sex_Female    -0.009452\n",
      "smoker_No     -0.000889\n",
      "day_Fri       -0.005949\n",
      "day_Sat       -0.006456\n",
      "day_Sun        0.020698\n",
      "time_Dinner    0.017042\n",
      "dtype: float64\n",
      "total_bill     0.088274\n",
      "size           0.072454\n",
      "sex_Female    -0.009452\n",
      "smoker_No     -0.000889\n",
      "day_Fri       -0.005949\n",
      "day_Sat       -0.006456\n",
      "day_Sun        0.020698\n",
      "time_Dinner    0.017042\n",
      "dtype: float64\n",
      "total_bill     0.088274\n",
      "size           0.072454\n",
      "sex_Female    -0.009452\n",
      "smoker_No     -0.000889\n",
      "day_Fri       -0.005949\n",
      "day_Sat       -0.006456\n",
      "day_Sun        0.020698\n",
      "time_Dinner    0.017042\n",
      "dtype: float64\n",
      "total_bill     0.088274\n",
      "size           0.072454\n",
      "sex_Female    -0.009452\n",
      "smoker_No     -0.000889\n",
      "day_Fri       -0.005949\n",
      "day_Sat       -0.006456\n",
      "day_Sun        0.020698\n",
      "time_Dinner    0.017042\n",
      "dtype: float64\n",
      "total_bill     0.088274\n",
      "size           0.072454\n",
      "sex_Female    -0.009452\n",
      "smoker_No     -0.000889\n",
      "day_Fri       -0.005949\n",
      "day_Sat       -0.006456\n",
      "day_Sun        0.020698\n",
      "time_Dinner    0.017042\n",
      "dtype: float64\n",
      "total_bill     0.088274\n",
      "size           0.072454\n",
      "sex_Female    -0.009452\n",
      "smoker_No     -0.000889\n",
      "day_Fri       -0.005949\n",
      "day_Sat       -0.006456\n",
      "day_Sun        0.020698\n",
      "time_Dinner    0.017042\n",
      "dtype: float64\n",
      "total_bill     0.088274\n",
      "size           0.072454\n",
      "sex_Female    -0.009452\n",
      "smoker_No     -0.000889\n",
      "day_Fri       -0.005949\n",
      "day_Sat       -0.006456\n",
      "day_Sun        0.020698\n",
      "time_Dinner    0.017042\n",
      "dtype: float64\n",
      "total_bill     0.088274\n",
      "size           0.072454\n",
      "sex_Female    -0.009452\n",
      "smoker_No     -0.000889\n",
      "day_Fri       -0.005949\n",
      "day_Sat       -0.006456\n",
      "day_Sun        0.020698\n",
      "time_Dinner    0.017042\n",
      "dtype: float64\n",
      "total_bill     0.088274\n",
      "size           0.072454\n",
      "sex_Female    -0.009452\n",
      "smoker_No     -0.000889\n",
      "day_Fri       -0.005949\n",
      "day_Sat       -0.006456\n",
      "day_Sun        0.020698\n",
      "time_Dinner    0.017042\n",
      "dtype: float64\n",
      "total_bill     0.088274\n",
      "size           0.072454\n",
      "sex_Female    -0.009452\n",
      "smoker_No     -0.000889\n",
      "day_Fri       -0.005949\n",
      "day_Sat       -0.006456\n",
      "day_Sun        0.020698\n",
      "time_Dinner    0.017042\n",
      "dtype: float64\n",
      "total_bill     0.088274\n",
      "size           0.072454\n",
      "sex_Female    -0.009452\n",
      "smoker_No     -0.000889\n",
      "day_Fri       -0.005949\n",
      "day_Sat       -0.006456\n",
      "day_Sun        0.020698\n",
      "time_Dinner    0.017042\n",
      "dtype: float64\n",
      "total_bill     0.088274\n",
      "size           0.072454\n",
      "sex_Female    -0.009452\n",
      "smoker_No     -0.000889\n",
      "day_Fri       -0.005949\n",
      "day_Sat       -0.006456\n",
      "day_Sun        0.020698\n",
      "time_Dinner    0.017042\n",
      "dtype: float64\n",
      "total_bill     0.088274\n",
      "size           0.072454\n",
      "sex_Female    -0.009452\n",
      "smoker_No     -0.000889\n",
      "day_Fri       -0.005949\n",
      "day_Sat       -0.006456\n",
      "day_Sun        0.020698\n",
      "time_Dinner    0.017042\n",
      "dtype: float64\n"
     ]
    }
   ],
   "source": [
    "# YOUR CODE HERE\n",
    "w = np.zeros(X_train.shape[1])\n",
    "eta = 0.001\n",
    "\n",
    "for i in range(50):\n",
    "    test = update_weight(y_train,X_train_scaled, w_ = w, eta = eta)\n",
    "    print(test)\n"
   ]
  },
  {
   "cell_type": "markdown",
   "metadata": {},
   "source": [
    "> **Ex. 11.1.7**: Make a function to compute the mean squared error. Alter the loop so it makes 100 iterations and computes the MSE for test and train after each iteration, plot these in one figure. \n",
    "\n",
    "> Hint: You can use the following code to check that your model works:\n",
    ">```python\n",
    "from sklearn.linear_model import LinearRegression\n",
    "reg = LinearRegression()\n",
    "reg.fit(X_train, y_train)\n",
    "assert((w[1:] - reg.coef_).sum() < 0.01)\n",
    "```"
   ]
  },
  {
   "cell_type": "code",
   "execution_count": null,
   "metadata": {
    "deletable": false,
    "nbgrader": {
     "cell_type": "code",
     "checksum": "863ac125b673cb711cfc5269a05d1bf5",
     "grade": false,
     "grade_id": "cell-5cabc75ac6152434",
     "locked": false,
     "schema_version": 3,
     "solution": true,
     "task": false
    }
   },
   "outputs": [],
   "source": [
    "# YOUR CODE HERE\n",
    "raise NotImplementedError()\n",
    "\n",
    "pd.Series(MSE_train).plot()\n",
    "pd.Series(MSE_test).plot()"
   ]
  },
  {
   "cell_type": "markdown",
   "metadata": {},
   "source": [
    "# Part 2: Overfitting and Underfitting in Linear Regression \n",
    "\n",
    "## Exploring Overfitting in Linear Regression\n",
    "How does overfitting manifest itself in linear regression? In the video below we simulate what happens as make a better and better taylor approximation, i.e. we estimate a polynomial of higher and higher order. Two issues arise simultaneously - one is related to the number of parameters and the to the size of the parameters. "
   ]
  },
  {
   "cell_type": "code",
   "execution_count": 1,
   "metadata": {},
   "outputs": [
    {
     "ename": "NameError",
     "evalue": "name 'YouTubeVideo' is not defined",
     "output_type": "error",
     "traceback": [
      "\u001b[1;31m---------------------------------------------------------------------------\u001b[0m",
      "\u001b[1;31mNameError\u001b[0m                                 Traceback (most recent call last)",
      "Input \u001b[1;32mIn [1]\u001b[0m, in \u001b[0;36m<cell line: 1>\u001b[1;34m()\u001b[0m\n\u001b[1;32m----> 1\u001b[0m \u001b[43mYouTubeVideo\u001b[49m(\u001b[38;5;124m'\u001b[39m\u001b[38;5;124mNPARac_fnXw\u001b[39m\u001b[38;5;124m'\u001b[39m, width\u001b[38;5;241m=\u001b[39m\u001b[38;5;241m640\u001b[39m, height\u001b[38;5;241m=\u001b[39m\u001b[38;5;241m360\u001b[39m)\n",
      "\u001b[1;31mNameError\u001b[0m: name 'YouTubeVideo' is not defined"
     ]
    }
   ],
   "source": [
    "YouTubeVideo('NPARac_fnXw', width=640, height=360)"
   ]
  },
  {
   "cell_type": "markdown",
   "metadata": {},
   "source": [
    "## A Cure for Overfitting in Linear Regression\n",
    "\n",
    "How do we fix the two issues of excessively large weights/coefficients and too many spurious solutions? The video below provides a solution by directly incorporating these issues into the optimization problem."
   ]
  },
  {
   "cell_type": "code",
   "execution_count": 2,
   "metadata": {},
   "outputs": [
    {
     "ename": "NameError",
     "evalue": "name 'YouTubeVideo' is not defined",
     "output_type": "error",
     "traceback": [
      "\u001b[1;31m---------------------------------------------------------------------------\u001b[0m",
      "\u001b[1;31mNameError\u001b[0m                                 Traceback (most recent call last)",
      "Input \u001b[1;32mIn [2]\u001b[0m, in \u001b[0;36m<cell line: 1>\u001b[1;34m()\u001b[0m\n\u001b[1;32m----> 1\u001b[0m \u001b[43mYouTubeVideo\u001b[49m(\u001b[38;5;124m'\u001b[39m\u001b[38;5;124mSzPuyUCA5Mw\u001b[39m\u001b[38;5;124m'\u001b[39m, width\u001b[38;5;241m=\u001b[39m\u001b[38;5;241m640\u001b[39m, height\u001b[38;5;241m=\u001b[39m\u001b[38;5;241m360\u001b[39m)\n",
      "\u001b[1;31mNameError\u001b[0m: name 'YouTubeVideo' is not defined"
     ]
    }
   ],
   "source": [
    "YouTubeVideo('SzPuyUCA5Mw', width=640, height=360)"
   ]
  },
  {
   "cell_type": "markdown",
   "metadata": {},
   "source": [
    "Above we tackled overfitting, but what about ***underfitting***? The video below shows how to address underfitting and also zooms in on some important details about regularization."
   ]
  },
  {
   "cell_type": "code",
   "execution_count": 3,
   "metadata": {},
   "outputs": [
    {
     "ename": "NameError",
     "evalue": "name 'YouTubeVideo' is not defined",
     "output_type": "error",
     "traceback": [
      "\u001b[1;31m---------------------------------------------------------------------------\u001b[0m",
      "\u001b[1;31mNameError\u001b[0m                                 Traceback (most recent call last)",
      "Input \u001b[1;32mIn [3]\u001b[0m, in \u001b[0;36m<cell line: 1>\u001b[1;34m()\u001b[0m\n\u001b[1;32m----> 1\u001b[0m \u001b[43mYouTubeVideo\u001b[49m(\u001b[38;5;124m'\u001b[39m\u001b[38;5;124m64VOY77PHPk\u001b[39m\u001b[38;5;124m'\u001b[39m, width\u001b[38;5;241m=\u001b[39m\u001b[38;5;241m640\u001b[39m, height\u001b[38;5;241m=\u001b[39m\u001b[38;5;241m360\u001b[39m)\n",
      "\u001b[1;31mNameError\u001b[0m: name 'YouTubeVideo' is not defined"
     ]
    }
   ],
   "source": [
    "YouTubeVideo('64VOY77PHPk', width=640, height=360)"
   ]
  },
  {
   "cell_type": "markdown",
   "metadata": {},
   "source": [
    "> **Ex. 11.2.1 (BONUS)**: Is it possible to add a penalty to our linear model above and solve this Lasso model with gradient descent? Is there a simple fix?\n",
    ">\n",
    "> *Hint:* Gradient descent essentially relies on a differentiable loss function (read more [here](https://stats.stackexchange.com/questions/177800/why-proximal-gradient-descent-instead-of-plain-subgradient-methods-for-lasso))"
   ]
  },
  {
   "cell_type": "code",
   "execution_count": null,
   "metadata": {
    "deletable": false,
    "nbgrader": {
     "cell_type": "code",
     "checksum": "04b4c075a4bad7561c1e03bf809f7faf",
     "grade": false,
     "grade_id": "cell-6aa146e9c530b2b4",
     "locked": false,
     "schema_version": 3,
     "solution": true,
     "task": false
    }
   },
   "outputs": [],
   "source": [
    "# YOUR CODE HERE\n",
    "raise NotImplementedError()"
   ]
  },
  {
   "cell_type": "markdown",
   "metadata": {},
   "source": [
    "# Part 3: Modelling Houseprices\n",
    "In this example, we will try to predict houseprices using a lot of variable (or features as they are called in Machine Learning). We are going to work with Kaggle's dataset on house prices, see information [here](https://www.kaggle.com/c/house-prices-advanced-regression-techniques). Kaggle is an organization that hosts competitions in building predictive models."
   ]
  },
  {
   "cell_type": "markdown",
   "metadata": {},
   "source": [
    "> **Ex. 11.3.0:** Load the california housing data with scikit-learn using the code below. Now:\n",
    "> 1. Inspect *cal_house*. How are the data stored?\n",
    "> 2. Create a pandas DataFrame called *X*, using `data`. Name the columns using `feature_names`.\n",
    "> 3. Crate a pandas Series called *y* using `target`.\n",
    "> 4. Make a train test split of equal size."
   ]
  },
  {
   "cell_type": "code",
   "execution_count": null,
   "metadata": {
    "deletable": false,
    "nbgrader": {
     "cell_type": "code",
     "checksum": "08ca919735b17dfbf96058bf07f4eeab",
     "grade": false,
     "grade_id": "cell-5f14e576643ac94c",
     "locked": false,
     "schema_version": 3,
     "solution": true,
     "task": false
    }
   },
   "outputs": [],
   "source": [
    "from sklearn.datasets import fetch_california_housing\n",
    "from sklearn.model_selection import train_test_split\n",
    "\n",
    "cal_house = fetch_california_housing()    \n",
    "\n",
    "# YOUR CODE HERE\n",
    "raise NotImplementedError()"
   ]
  },
  {
   "cell_type": "markdown",
   "metadata": {},
   "source": [
    "\n",
    "\n",
    "> **Ex.11.3.1**: Generate interactions between all features to third degree (make sure you **exclude** the bias/intercept term). How many variables are there? Will OLS fail? After making interactions, rescale the features to have zero mean, unit std. deviation. Should you use the distribution of the training data to rescale the test data?  \n",
    "\n",
    "> *Hint 1*: Try importing `PolynomialFeatures` from `sklearn.preprocessing`\n",
    "\n",
    "> *Hint 2*: If in doubt about which distribution to scale, you may read [this post](https://stats.stackexchange.com/questions/174823/how-to-apply-standardization-normalization-to-train-and-testset-if-prediction-i)."
   ]
  },
  {
   "cell_type": "code",
   "execution_count": null,
   "metadata": {},
   "outputs": [],
   "source": [
    "# INCLUDED IN ASSIGNMENT 2"
   ]
  },
  {
   "cell_type": "code",
   "execution_count": null,
   "metadata": {
    "deletable": false,
    "nbgrader": {
     "cell_type": "code",
     "checksum": "ed00cd67cc7a2e431594d4cfe29da085",
     "grade": false,
     "grade_id": "cell-4aacfe9c22772c42",
     "locked": false,
     "schema_version": 3,
     "solution": true,
     "task": false
    }
   },
   "outputs": [],
   "source": [
    "# YOUR CODE HERE\n",
    "raise NotImplementedError()"
   ]
  },
  {
   "cell_type": "markdown",
   "metadata": {},
   "source": [
    "> **Ex.11.3.2**: Estimate the Lasso model on the rescaled train data set, using values of $\\lambda$ in the range from $10^{-4}$ to $10^4$. For each $\\lambda$  calculate and save the Root Mean Squared Error (RMSE) for the rescaled test and train data. Take a look at the fitted coefficients for different sizes of $\\lambda$. What happens when $\\lambda$ increases? Why?\n",
    "\n",
    "> *Hint 1*: use `logspace` in numpy to create the range.\n",
    "\n",
    "> *Hint 2*: read about the `coef_` feature [here](https://scikit-learn.org/stable/modules/generated/sklearn.linear_model.Lasso.html#sklearn.linear_model.Lasso).\n"
   ]
  },
  {
   "cell_type": "code",
   "execution_count": null,
   "metadata": {},
   "outputs": [],
   "source": [
    "# INCLUDED IN ASSIGNMENT 2"
   ]
  },
  {
   "cell_type": "code",
   "execution_count": null,
   "metadata": {
    "deletable": false,
    "nbgrader": {
     "cell_type": "code",
     "checksum": "a5cb040dc44fd9a9f591f1193a1311ab",
     "grade": false,
     "grade_id": "cell-d981c29cec05057b",
     "locked": false,
     "schema_version": 3,
     "solution": true,
     "task": false
    }
   },
   "outputs": [],
   "source": [
    "# YOUR CODE HERE\n",
    "raise NotImplementedError()"
   ]
  },
  {
   "cell_type": "markdown",
   "metadata": {},
   "source": [
    "> **Ex.11.3.3**: Make a plot with the lambdas on the x-axis and the RMSE measures on the y-axis. What happens to RMSE for train and test data as $\\lambda$ increases? The x-axis should be log scaled. Which one are we interested in minimizing? \n",
    "\n",
    "> Bonus: Can you find the lambda that gives the lowest MSE-test score?"
   ]
  },
  {
   "cell_type": "code",
   "execution_count": null,
   "metadata": {},
   "outputs": [],
   "source": [
    "# INCLUDED IN ASSIGNMENT 2"
   ]
  },
  {
   "cell_type": "code",
   "execution_count": null,
   "metadata": {
    "deletable": false,
    "nbgrader": {
     "cell_type": "code",
     "checksum": "3469299a7668bf4275e2824d1d454144",
     "grade": false,
     "grade_id": "cell-5a2846b33750acbc",
     "locked": false,
     "schema_version": 3,
     "solution": true,
     "task": false
    }
   },
   "outputs": [],
   "source": [
    "# INCLUDED IN ASSIGNMENT 2# YOUR CODE HERE\n",
    "raise NotImplementedError()"
   ]
  }
 ],
 "metadata": {
  "kernelspec": {
   "display_name": "Python 3 (ipykernel)",
   "language": "python",
   "name": "python3"
  },
  "language_info": {
   "codemirror_mode": {
    "name": "ipython",
    "version": 3
   },
   "file_extension": ".py",
   "mimetype": "text/x-python",
   "name": "python",
   "nbconvert_exporter": "python",
   "pygments_lexer": "ipython3",
   "version": "3.10.9"
  },
  "nav_menu": {},
  "toc": {
   "navigate_menu": true,
   "number_sections": false,
   "sideBar": true,
   "threshold": 6,
   "toc_cell": false,
   "toc_section_display": "block",
   "toc_window_display": true
  },
  "varInspector": {
   "cols": {
    "lenName": 16,
    "lenType": 16,
    "lenVar": 40
   },
   "kernels_config": {
    "python": {
     "delete_cmd_postfix": "",
     "delete_cmd_prefix": "del ",
     "library": "var_list.py",
     "varRefreshCmd": "print(var_dic_list())"
    },
    "r": {
     "delete_cmd_postfix": ") ",
     "delete_cmd_prefix": "rm(",
     "library": "var_list.r",
     "varRefreshCmd": "cat(var_dic_list()) "
    }
   },
   "types_to_exclude": [
    "module",
    "function",
    "builtin_function_or_method",
    "instance",
    "_Feature"
   ],
   "window_display": false
  }
 },
 "nbformat": 4,
 "nbformat_minor": 4
}
