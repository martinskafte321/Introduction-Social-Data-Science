{
 "cells": [
  {
   "cell_type": "markdown",
   "metadata": {
    "deletable": false,
    "editable": false,
    "nbgrader": {
     "cell_type": "markdown",
     "checksum": "dc9cb9f12c86ceb41857a025207ab586",
     "grade": false,
     "grade_id": "cell-781c9f44f3bffeb0",
     "locked": true,
     "schema_version": 3,
     "solution": false,
     "task": false
    }
   },
   "source": [
    "> In all assignments you will be solving exercises posted in a Jupyter notebook that looks like this one. \n",
    "\n",
    "> **Note (that only applies if you did not download this assignment from Absalon but got it from Github):** Because you will generally be cloning a Github repository that only we can push to, you should **NEVER EDIT** any of the files you pull from Github. Instead, what you should do is to **make a copy of this notebook and save it somewhere else** on your computer, not inside the `isds2023` folder that you cloned, and write your answers in there. If you edit the notebook you pulled from Github, those edits (possible your solutions to the assignment) may be overwritten and **lost** the next time you pull from Github. This is important, so don't hesitate to ask if it is unclear. If you downloaded this file from Absalon, you should have no problems!"
   ]
  },
  {
   "cell_type": "markdown",
   "metadata": {},
   "source": [
    "# Assignment 0 \n",
    "\n",
    "## Practical information\n",
    "For having this assignment approved you must \n",
    "* Handin no later than Thursday, **July 27th at 12.00 (noon)**.\n",
    "* Work alone for this assignment (this will benefit YOU in the long run!).\n",
    "\n",
    "If you are having difficulties solving the majority of the exercises, please let us know. You can ask your questions in a github issue in the [isds repo](https://github.com/isdsucph/isds2023/issues).\n",
    "\n",
    "**Note**: \n",
    "- It is important that you submit your edited version of this [.ipynb file](https://fileinfo.com/extension/ipynb#:~:text=An%20IPYNB%20file%20is%20a,Python%20language%20and%20their%20data.) as a .ipynb file and nothing else. \n",
    "    - This is because of the grading software used to grade the assignments. \n",
    "- If many of you are struggling, we might host a virtual workshop before the due date, where we cover the skills required to answer this problem set."
   ]
  },
  {
   "cell_type": "markdown",
   "metadata": {},
   "source": [
    "## Where to start and aim\n",
    "\n",
    "This assignment is intended to ensure that you all know some basic python when you begin the summer school. The material will be explained in the notebook. Along the way we will point to additional resources if you want the material presented in a different manner.\n",
    "\n",
    "A very good (but perhaps slightly confusing) approach to learning anything programming related is to simply search google whenever you have a question, or cannot get your code to run. In 99% of the cases the first or second result will contain an answer to your question, and this saves you the time required to look for the right pages in a book, or the right tutorial on some website.\n",
    "\n",
    "#### Firts things first\n",
    "Here is a video that Andreas made a few years ago. It is a great overview of what Python is and is not. Run the cell to show the video. If the video does not run, open the link [here](https://youtu.be/kaSz6n9ePik).\n"
   ]
  },
  {
   "cell_type": "code",
   "execution_count": null,
   "metadata": {
    "tags": []
   },
   "outputs": [],
   "source": [
    "from IPython.display import YouTubeVideo\n",
    "YouTubeVideo('kaSz6n9ePik', width=640, height=360)"
   ]
  },
  {
   "cell_type": "code",
   "execution_count": null,
   "metadata": {
    "tags": []
   },
   "outputs": [],
   "source": [
    "print(\"hello world\")"
   ]
  },
  {
   "cell_type": "markdown",
   "metadata": {},
   "source": [
    "#### Jupyter\n",
    "In this course we use Jupyter for working with Python as it provides a clean interface and makes it easy to iterate on working with data. As mentioned on our [course page](https://isdsucph.github.io/isds2023/post/install/), the notebooks used in this course can either be run using the classic notebook interface or JupyterLab. JupyterLab is an extension of the classic notebook interface and provides, among others, a file browser and a ready to use dark mode theme. The videos in this assignment are recorded using the classic notebook interface but you are welcome to follow them using JupyterLab. \n",
    "\n",
    "Again, run the cell below to show the video. If the video does not run open the link [here](https://youtu.be/0U0MYrPLuI4)."
   ]
  },
  {
   "cell_type": "code",
   "execution_count": null,
   "metadata": {},
   "outputs": [],
   "source": [
    "YouTubeVideo('0U0MYrPLuI4', width=640, height=360)"
   ]
  },
  {
   "cell_type": "markdown",
   "metadata": {},
   "source": [
    "### **<font color=\"red\">STOP!</font>**\n",
    "\n",
    "#### Checklist on Jupyter\n",
    "\n",
    "\n",
    "Before you move on from here part make sure that you :\n",
    "- Can execute a cell - check that the video loads and runs above\n",
    "- Can edit a cell\n",
    "- Add and remove cells\n",
    "\n",
    "I recommend checking out my short guide on the most relevant hotkeys for being fast with Jupyter.\n"
   ]
  },
  {
   "cell_type": "markdown",
   "metadata": {},
   "source": [
    "## Overview of notebook\n",
    "This notebook consists of two independent parts. The first about basic Python where you get familiar with the most important concepts and tools. The second part is a short introduction to pandas which is a tool for structuring data in Python\n",
    "\n",
    "#### Overview of Python content\n",
    "In this integrated assignment and teaching module, we will learn the following things about basic Python:\n",
    "- Fundamental data types: numeric, string and boolean\n",
    "- Operators: numerical and logical\n",
    "- Conditional logic\n",
    "- Containers with indices\n",
    "- Loops: for and while\n",
    "- Reuseable code: functions, classes and modules\n",
    "\n",
    "*Additional sources*: You may find that the explainations here are insufficient. You can check out the reading list for the course [here](https://isdsucph.github.io/isds2023/page/readings/)). \n",
    "\n",
    "Alternatively, if you don't like that material, we suggest you try one of the three different resources for learning Python that you can use to learn the necessary skills for answering the questions. \n",
    "\n",
    "- Videos: [pythonprogramming.net fundamental](https://pythonprogramming.net/python-fundamental-tutorials/) (basics and intermediate)\n",
    "\n",
    "- A tutorial website: [The official python 3 tutorial](https://docs.python.org/3/tutorial/introduction.html) (sections 3, 4 and 5)\n",
    "\n",
    "- A book: [learn python the hard way](https://learnpythonthehardway.org/) \n",
    "\n",
    "You are free to pick from either of the above, or find your own ressources online."
   ]
  },
  {
   "cell_type": "markdown",
   "metadata": {},
   "source": [
    "## A quick note on using this notebook\n",
    "Below each problem you will find two code cells. The first one contains the line \n",
    "```python\n",
    "raise NotImplementedError()\n",
    "```\n",
    "Erase this line and implement your answer here. \n",
    "\n",
    "The cell below is blank and cannot be edited. Under the hood, this contains a number of `assert` statements. These check if your answer is correct when you hand in your answers. Do not edit, delete, or move the blank cells. Otherwise, we cannot grade your notebook!"
   ]
  },
  {
   "cell_type": "markdown",
   "metadata": {
    "slideshow": {
     "slide_type": "slide"
    }
   },
   "source": [
    "# 0.1 Fundamentals of Python\n",
    "## Elementary Data Types"
   ]
  },
  {
   "cell_type": "markdown",
   "metadata": {},
   "source": [
    "*Can you give me an example of what data python is working with?*\n",
    "\n",
    "Watch the video below to get an explanation."
   ]
  },
  {
   "cell_type": "code",
   "execution_count": null,
   "metadata": {
    "tags": []
   },
   "outputs": [],
   "source": [
    "YouTubeVideo('r7IvHf0Rz4c', width=640, height=360)"
   ]
  },
  {
   "cell_type": "markdown",
   "metadata": {
    "slideshow": {
     "slide_type": "fragment"
    }
   },
   "source": [
    "#### Examples with data types\n",
    "Execute the cell below to create a variable `A` as a float equal to 1.5:"
   ]
  },
  {
   "cell_type": "code",
   "execution_count": null,
   "metadata": {
    "slideshow": {
     "slide_type": "-"
    }
   },
   "outputs": [],
   "source": [
    "A = 1.5"
   ]
  },
  {
   "cell_type": "markdown",
   "metadata": {
    "slideshow": {
     "slide_type": "fragment"
    }
   },
   "source": [
    "Execute the cell below to convert the variable `A` to an integer by typing: "
   ]
  },
  {
   "cell_type": "code",
   "execution_count": null,
   "metadata": {
    "slideshow": {
     "slide_type": "-"
    }
   },
   "outputs": [],
   "source": [
    "int(A) # rounds down, i.e. floor "
   ]
  },
  {
   "cell_type": "markdown",
   "metadata": {
    "slideshow": {
     "slide_type": "fragment"
    }
   },
   "source": [
    "We can do the same for converting to `float`, `str`, `bool`. Note some may at first come across as slightly odd:"
   ]
  },
  {
   "cell_type": "code",
   "execution_count": null,
   "metadata": {
    "slideshow": {
     "slide_type": "-"
    }
   },
   "outputs": [],
   "source": [
    "bool(A)"
   ]
  },
  {
   "cell_type": "markdown",
   "metadata": {
    "slideshow": {
     "slide_type": "fragment"
    }
   },
   "source": [
    "While some are simply not allowed:"
   ]
  },
  {
   "cell_type": "code",
   "execution_count": null,
   "metadata": {
    "slideshow": {
     "slide_type": "-"
    }
   },
   "outputs": [],
   "source": [
    "float('A') # Attempt at converting the string (text) 'A' to a number"
   ]
  },
  {
   "cell_type": "markdown",
   "metadata": {
    "slideshow": {
     "slide_type": "slide"
    }
   },
   "source": [
    "## Printing Stuff\n",
    "\n",
    "An essential procedure in Python is `print`. Try executing some code - in this case, printing a string of text:"
   ]
  },
  {
   "cell_type": "code",
   "execution_count": null,
   "metadata": {
    "slideshow": {
     "slide_type": "fragment"
    }
   },
   "outputs": [],
   "source": [
    "my_str = 'I can do in Python, whatever I want' # define a string of text\n",
    "print(my_str) # print it"
   ]
  },
  {
   "cell_type": "markdown",
   "metadata": {
    "slideshow": {
     "slide_type": "slide"
    }
   },
   "source": [
    "We can also print several objects at the same time. Try it!"
   ]
  },
  {
   "cell_type": "code",
   "execution_count": null,
   "metadata": {
    "slideshow": {
     "slide_type": "fragment"
    }
   },
   "outputs": [],
   "source": [
    "my_var1 = 33\n",
    "my_var2 = 2\n",
    "print(my_var1, my_var2)"
   ]
  },
  {
   "cell_type": "markdown",
   "metadata": {
    "slideshow": {
     "slide_type": "fragment"
    }
   },
   "source": [
    "*Why do we print?*\n",
    "- It allows us to inspect values\n",
    "    - For instance when trying to understand why a piece of code does not give us what we expect (i.e. debugging)\n",
    "- In particular helpful when inspecting intermediate output (within a function, loops etc.).\n"
   ]
  },
  {
   "cell_type": "markdown",
   "metadata": {
    "slideshow": {
     "slide_type": "slide"
    }
   },
   "source": [
    "## Debugging \n",
    "\n",
    "*What happens if my code has errors?*\n",
    "- Either you fix it or you're in trouble. See below on how we handle them.\n"
   ]
  },
  {
   "cell_type": "markdown",
   "metadata": {
    "slideshow": {
     "slide_type": "fragment"
    }
   },
   "source": [
    "Try executing the following code block that we have already tried to execute once:"
   ]
  },
  {
   "cell_type": "code",
   "execution_count": null,
   "metadata": {
    "slideshow": {
     "slide_type": "-"
    }
   },
   "outputs": [],
   "source": [
    "float('A')"
   ]
  },
  {
   "cell_type": "markdown",
   "metadata": {},
   "source": [
    "*What does the error message mean?*\n",
    "\n",
    "See the video below for an interpretation of the problem and how to fix it."
   ]
  },
  {
   "cell_type": "code",
   "execution_count": null,
   "metadata": {
    "tags": []
   },
   "outputs": [],
   "source": [
    "YouTubeVideo('wEjO-0rx0c0', width=640, height=360)    "
   ]
  },
  {
   "cell_type": "markdown",
   "metadata": {
    "slideshow": {
     "slide_type": "slide"
    }
   },
   "source": [
    "## Numeric Operators"
   ]
  },
  {
   "cell_type": "markdown",
   "metadata": {
    "slideshow": {
     "slide_type": "slide"
    }
   },
   "source": [
    "*What numeric computations can python do?*\n",
    "\n",
    "An operator in Python manipulates various data types."
   ]
  },
  {
   "cell_type": "markdown",
   "metadata": {
    "slideshow": {
     "slide_type": "fragment"
    }
   },
   "source": [
    "We have seen addition `+`. Other basic numeric operators:\n",
    "- multiplication `*`;\n",
    "- subtraction `-`; \n",
    "- division `/`;\n",
    "- power, `**` \n",
    "\n",
    "Try executing the code below. Explain in words what the expression does."
   ]
  },
  {
   "cell_type": "code",
   "execution_count": null,
   "metadata": {
    "tags": []
   },
   "outputs": [],
   "source": [
    "2**4 "
   ]
  },
  {
   "cell_type": "markdown",
   "metadata": {
    "deletable": false,
    "editable": false,
    "nbgrader": {
     "cell_type": "markdown",
     "checksum": "3910831456a131d90ddcd60a8209e930",
     "grade": false,
     "grade_id": "cell-245e1eb6a38e435e",
     "locked": true,
     "schema_version": 3,
     "solution": false,
     "task": false
    }
   },
   "source": [
    "Having seen all the information, you are now ready for the first exercise. The exercise is found below in the indented text. You should provide your answer in the cell below using Python code. Remember not to edit, delete, or move the empty cell.\n",
    "> **Ex. 0.1.1:**  Add the two integers `3` and `5` and store the result in the variable named `answer_001`"
   ]
  },
  {
   "cell_type": "code",
   "execution_count": null,
   "metadata": {
    "deletable": false,
    "nbgrader": {
     "cell_type": "code",
     "checksum": "88b12e5767b3e3caf2803464356b1073",
     "grade": false,
     "grade_id": "problem_001",
     "locked": false,
     "schema_version": 3,
     "solution": true
    }
   },
   "outputs": [],
   "source": [
    "#answer_001 = \n",
    "# YOUR CODE HERE\n",
    "raise NotImplementedError()"
   ]
  },
  {
   "cell_type": "code",
   "execution_count": null,
   "metadata": {
    "deletable": false,
    "editable": false,
    "nbgrader": {
     "cell_type": "code",
     "checksum": "cc2bd93fcad2537a97ad7f583173a1d4",
     "grade": true,
     "grade_id": "problem_001_tests",
     "locked": true,
     "points": 1,
     "schema_version": 3,
     "solution": false,
     "task": false
    }
   },
   "outputs": [],
   "source": []
  },
  {
   "cell_type": "markdown",
   "metadata": {
    "deletable": false,
    "editable": false,
    "nbgrader": {
     "cell_type": "markdown",
     "checksum": "b777da39f2c295c134ea67378aeaae85",
     "grade": false,
     "grade_id": "cell-361e6bb2642d6b47",
     "locked": true,
     "schema_version": 3,
     "solution": false,
     "task": false
    }
   },
   "source": [
    "### Problem 0.1.2\n",
    "Python also has a built in data type called a _string_. This is simply a sequence of letters/characters and can thus contain names, sentences etc. To define a string in python, you need to wrap your sentence in either double or single quotation marks. For example you could write `\"Hello world!\"`. \n",
    "\n",
    "> **Ex. 0.1.2:** In python the `+` is not only used for numbers. Use the `+` to add together the three strings `\"Social\"`, `\"Data\"`, `\"Science\"` and `\"Intro\"` without any whitespace. What is the result? Store it in a new variable called `answer_002`"
   ]
  },
  {
   "cell_type": "code",
   "execution_count": null,
   "metadata": {
    "deletable": false,
    "nbgrader": {
     "cell_type": "code",
     "checksum": "6adee586247cb8a8bac1b600359e52ea",
     "grade": false,
     "grade_id": "problem_002",
     "locked": false,
     "schema_version": 3,
     "solution": true
    }
   },
   "outputs": [],
   "source": [
    "#answer_002 =\n",
    "# YOUR CODE HERE\n",
    "raise NotImplementedError()"
   ]
  },
  {
   "cell_type": "code",
   "execution_count": null,
   "metadata": {
    "deletable": false,
    "editable": false,
    "nbgrader": {
     "cell_type": "code",
     "checksum": "d9e1e32cb1061f057c602602e82709e9",
     "grade": true,
     "grade_id": "problem_002_tests",
     "locked": true,
     "points": 1,
     "schema_version": 3,
     "solution": false,
     "task": false
    }
   },
   "outputs": [],
   "source": []
  },
  {
   "cell_type": "markdown",
   "metadata": {
    "slideshow": {
     "slide_type": "slide"
    }
   },
   "source": [
    "## Boolean Operators\n",
    "\n",
    "Helpful advice: If you are not certain what a boolean value is, try and go back to [Fundamental Data Types](#Fundmental-Data-Types)"
   ]
  },
  {
   "cell_type": "markdown",
   "metadata": {
    "slideshow": {
     "slide_type": "fragment"
    }
   },
   "source": [
    "*What else can operators do?*\n",
    "\n",
    "We can check the validity of a statement - using the equal operator, `==`, or not equal operator `!=`. Try the examples below:"
   ]
  },
  {
   "cell_type": "code",
   "execution_count": null,
   "metadata": {
    "slideshow": {
     "slide_type": "fragment"
    }
   },
   "outputs": [],
   "source": [
    "3 == (2 + 1)"
   ]
  },
  {
   "cell_type": "code",
   "execution_count": null,
   "metadata": {
    "slideshow": {
     "slide_type": "fragment"
    }
   },
   "outputs": [],
   "source": [
    "3 != (2 + 1)"
   ]
  },
  {
   "cell_type": "code",
   "execution_count": null,
   "metadata": {},
   "outputs": [],
   "source": [
    "11 != 2 * 5"
   ]
  },
  {
   "cell_type": "markdown",
   "metadata": {
    "slideshow": {
     "slide_type": "fragment"
    }
   },
   "source": [
    "In all these cases, the outcomes were boolean.\n",
    "\n",
    "We can also do numeric comparisons, such as greater than `>`, greater than or equal `>=`, etc.:"
   ]
  },
  {
   "cell_type": "code",
   "execution_count": null,
   "metadata": {},
   "outputs": [],
   "source": [
    "11 <= 2 * 5"
   ]
  },
  {
   "cell_type": "markdown",
   "metadata": {
    "slideshow": {
     "slide_type": "slide"
    }
   },
   "source": [
    "*How can we manipulate boolean values?*\n",
    "\n",
    "Combining boolean values can be done using:\n",
    "\n",
    "- the `and` operator - equivalent to `&`\n",
    "- the `or` operator - equivalent to `|`"
   ]
  },
  {
   "cell_type": "markdown",
   "metadata": {
    "slideshow": {
     "slide_type": "fragment"
    }
   },
   "source": [
    "Let's try this!"
   ]
  },
  {
   "cell_type": "code",
   "execution_count": null,
   "metadata": {
    "slideshow": {
     "slide_type": "-"
    }
   },
   "outputs": [],
   "source": [
    "print(True | False)\n",
    "print(True & False)"
   ]
  },
  {
   "cell_type": "markdown",
   "metadata": {
    "slideshow": {
     "slide_type": "slide"
    }
   },
   "source": [
    "*What other things can we do?*"
   ]
  },
  {
   "cell_type": "markdown",
   "metadata": {
    "slideshow": {
     "slide_type": "fragment"
    }
   },
   "source": [
    "We can negate/reverse the statement with the `not` operator:"
   ]
  },
  {
   "cell_type": "code",
   "execution_count": null,
   "metadata": {
    "slideshow": {
     "slide_type": "-"
    }
   },
   "outputs": [],
   "source": [
    "not (True and False)"
   ]
  },
  {
   "cell_type": "markdown",
   "metadata": {
    "deletable": false,
    "editable": false,
    "nbgrader": {
     "cell_type": "markdown",
     "checksum": "d2d15934344663fb01cd315dc36c3f08",
     "grade": false,
     "grade_id": "cell-abbc02668f8866e1",
     "locked": true,
     "schema_version": 3,
     "solution": false,
     "task": false
    }
   },
   "source": [
    "### Problem 0.1.3\n",
    "Above you added two integers together, and got a result of `8`. Python separates numbers in two classes, the _integers_ $...,-1,0,1,2,...$ and the _floats_, which are an approximation of the real numbers $\\mathbb{R}$ (exactly how floats differ from reals is taught in introductory computer science courses).\n",
    "\n",
    "\n",
    "> **Ex. 0.1.3:**  \n",
    "* Add `1.7` to `4`, store the result in the variable `answer_0031`.\n",
    "* What is `0.667 * 100` in python? Store the result in the variable `answer_0032`\n",
    "\n",
    "> *Note:* the notebook will only print out the result of the last line in each cell."
   ]
  },
  {
   "cell_type": "code",
   "execution_count": null,
   "metadata": {
    "deletable": false,
    "nbgrader": {
     "cell_type": "code",
     "checksum": "0e02472aad8f8147094aa6b019a7ceed",
     "grade": false,
     "grade_id": "problem_003",
     "locked": false,
     "schema_version": 3,
     "solution": true
    }
   },
   "outputs": [],
   "source": [
    "#answer_0031 =\n",
    "#answer_0032 =\n",
    "# YOUR CODE HERE\n",
    "raise NotImplementedError()"
   ]
  },
  {
   "cell_type": "code",
   "execution_count": null,
   "metadata": {
    "deletable": false,
    "editable": false,
    "nbgrader": {
     "cell_type": "code",
     "checksum": "f12c7fdf91aaaf00f6a89da331ac076e",
     "grade": true,
     "grade_id": "problem_003_tests",
     "locked": true,
     "points": 1,
     "schema_version": 3,
     "solution": false,
     "task": false
    }
   },
   "outputs": [],
   "source": []
  },
  {
   "cell_type": "markdown",
   "metadata": {
    "slideshow": {
     "slide_type": "slide"
    }
   },
   "source": [
    "## Containers "
   ]
  },
  {
   "cell_type": "markdown",
   "metadata": {
    "slideshow": {
     "slide_type": "slide"
    }
   },
   "source": [
    "*What is a composite data type?*\n",
    "\n",
    "A data type that can contain more than entry of data, e.g. multiple numbers."
   ]
  },
  {
   "cell_type": "markdown",
   "metadata": {
    "slideshow": {
     "slide_type": "slide"
    }
   },
   "source": [
    "*What are the most fundamental composite data types?*\n",
    "\n",
    "Three of the most fundamental composite data types   are the _tuple_, the _list_ and the _dictionary_. \n",
    "\n",
    "* The _tuple_ is declared with round parentheses, e.g. `(1, 2, 3)` each element in the tuple is separated by a comma. One you have declared a tuple you cannot change it's content without making a copy of the tuple first (you will read that the tuple is an _immutable_ data type).\n",
    "\n",
    "* The _list_ is almost identical to the tuple. It is declared using square parentheses, e.g. `[1, 2, 3]`. Unlike the tuple, a list can be changed after definition, by adding, changing or removing elements. This is called a _mutable_ data type.\n",
    "\n",
    "* The _dictionary_ or simply _dict_ is also a mutable data type. Unlike the other data types the dict works like a lookup table, where each element of data stored in the dictionary is associated with a name. To look up an item in the dictionary you don't need to know its position in the dictionary, only its name. The dict is defined with curly braces and a colon to separate the name from the value, e.g. `{'name_of_first_entry': 1, 'name_of_second_entry: 2}`.\n",
    "\n",
    "Watch the video below to get an explanation why these data structures are really important."
   ]
  },
  {
   "cell_type": "code",
   "execution_count": null,
   "metadata": {},
   "outputs": [],
   "source": [
    "YouTubeVideo('8yIupGinliw', width=640, height=360)    "
   ]
  },
  {
   "cell_type": "markdown",
   "metadata": {
    "deletable": false,
    "editable": false,
    "nbgrader": {
     "cell_type": "markdown",
     "checksum": "d2d0a706e1ce8371a91c15a0c7b45c79",
     "grade": false,
     "grade_id": "cell-e88c3899410ccb72",
     "locked": true,
     "schema_version": 3,
     "solution": false,
     "task": false
    }
   },
   "source": [
    "### Problem 0.1.4\n",
    "\n",
    "> **Ex. 0.1.4:** Define the variable `y` as a list containing the elements `'k', 2, 'b', 9`. Also define a variable `z` which is a tuple containing the same elements. Try to access the 0th element of `y` (python is 0-indexed) and the 1st element of `z`. Store these two values in the two variables `answer_004_y0` and `answer_004_z1`.\n",
    "\n",
    "> *Hint:* To access the _n_'th element of a list/tuple write `myData[n]`, for example `y[0]` gets the 0th element of `y`. "
   ]
  },
  {
   "cell_type": "code",
   "execution_count": null,
   "metadata": {
    "deletable": false,
    "nbgrader": {
     "cell_type": "code",
     "checksum": "0d31d473ca0bb4b47d8398a713666f9a",
     "grade": false,
     "grade_id": "problem_004",
     "locked": false,
     "schema_version": 3,
     "solution": true
    }
   },
   "outputs": [],
   "source": [
    "# YOUR CODE HERE\n",
    "raise NotImplementedError()"
   ]
  },
  {
   "cell_type": "code",
   "execution_count": null,
   "metadata": {
    "deletable": false,
    "editable": false,
    "nbgrader": {
     "cell_type": "code",
     "checksum": "58637afbf5ad2525a9f846a74ec22dff",
     "grade": true,
     "grade_id": "problem_004_tests",
     "locked": true,
     "points": 1,
     "schema_version": 3,
     "solution": false,
     "task": false
    }
   },
   "outputs": [],
   "source": []
  },
  {
   "cell_type": "markdown",
   "metadata": {
    "slideshow": {
     "slide_type": "slide"
    }
   },
   "source": [
    "# 0.2 Control Flow"
   ]
  },
  {
   "cell_type": "markdown",
   "metadata": {
    "slideshow": {
     "slide_type": "-"
    }
   },
   "source": [
    "## If-then syntax\n",
    "\n",
    "_Control flow_ means writing code that controls the way data or information flows through the program. The concepts of control flow should be recognizable outside of coding as well. For example when you go shopping you might want to buy koldskål, but only **if** the kammerjunker are on sale. **else** you will buy icecream. These kinds of logic come up everywhere in coding; self driving cars should go forward only **if** the light is green, items should be listed for sale in a web shop only **if** they are in stock, stars should be put on the estimates **if** they are significant etc. \n",
    "\n",
    "Another kind of control flow deals with doing things repeatedly. For example dishes should be done **while** there are still dirty dishes to wash, **for** each student **in** social data science a grade should be given, etc.\n",
    "\n",
    "In the following problems you will work with both kinds of control flow. "
   ]
  },
  {
   "cell_type": "markdown",
   "metadata": {
    "slideshow": {
     "slide_type": "slide"
    }
   },
   "source": [
    "*How can we activate code based on data in Python?*\n",
    "\n",
    "In Python, the syntax is easy with the `if` syntax. \n",
    "\n",
    "```python\n",
    "if statement:  \n",
    "    code\n",
    "```\n",
    "\n",
    "In the example above, the block called `code` is run if the condition called `statement` is true (either a variable or an expression)."
   ]
  },
  {
   "cell_type": "markdown",
   "metadata": {
    "slideshow": {
     "slide_type": "slide"
    }
   },
   "source": [
    "#### Examples using if\n",
    "Try to run the examples:"
   ]
  },
  {
   "cell_type": "code",
   "execution_count": null,
   "metadata": {
    "slideshow": {
     "slide_type": "-"
    }
   },
   "outputs": [],
   "source": [
    "my_statement = (4 == 4)\n",
    "if my_statement:  \n",
    "    print (\"I'm being executed, yay!\")"
   ]
  },
  {
   "cell_type": "markdown",
   "metadata": {
    "slideshow": {
     "slide_type": "slide"
    }
   },
   "source": [
    "#### Introducing an alternative\n",
    "\n",
    "\n",
    "If the statement in our condition is false, then we can execute other code\n",
    "with the `else` statement. Try the example below - and change the boolean value of `my_statement`.\n"
   ]
  },
  {
   "cell_type": "code",
   "execution_count": null,
   "metadata": {},
   "outputs": [],
   "source": [
    "my_statement = False\n",
    "if my_statement:  \n",
    "    print (\"I'm being executed, yay!\")\n",
    "else:\n",
    "    print (\"Shoot! I'm still being executed!\")"
   ]
  },
  {
   "cell_type": "markdown",
   "metadata": {},
   "source": [
    "#### More material\n",
    "\n",
    "We have not covered the statements `break` and `continue`, or `try` and `except` which are also control flow statements. These are slightly more advanced, but it can be a good idea to look them up yourself. \n"
   ]
  },
  {
   "cell_type": "markdown",
   "metadata": {
    "deletable": false,
    "editable": false,
    "nbgrader": {
     "cell_type": "markdown",
     "checksum": "28642ca1d3c2797073df448f6c654d48",
     "grade": false,
     "grade_id": "cell-95021b488d6bc2d2",
     "locked": true,
     "schema_version": 3,
     "solution": false,
     "task": false
    }
   },
   "source": [
    "### Problem 0.2.1\n",
    "In python the if/else logic consists of three keywords: *if*, *elif* (else if) and *else*. The if and elif keywords should be followed by a logical statement that is either `True` or `False`. The code that should be executed `if` the logic is `True` is written on the lines below the `if`, and should be indented one TAB (or 4 spaces). Finally all control flow statements must end with a colon. \n",
    "\n",
    "> **Ex. 0.2.1:**  Read the code in the cell below. Assign a value to the variable `x` that makes the code print \"Good job!\""
   ]
  },
  {
   "cell_type": "code",
   "execution_count": null,
   "metadata": {
    "deletable": false,
    "nbgrader": {
     "cell_type": "code",
     "checksum": "50ad704271ed22ded3c0cf238eab5797",
     "grade": false,
     "grade_id": "problem_021",
     "locked": false,
     "schema_version": 3,
     "solution": true
    }
   },
   "outputs": [],
   "source": [
    "# YOUR CODE HERE\n",
    "raise NotImplementedError()\n",
    "\n",
    "if x > 5:\n",
    "    answer_021_sentinel = 0\n",
    "    print(\"x is too large\")\n",
    "\n",
    "elif x >= 3 and x <= 5:\n",
    "    answer_021_sentinel = 1\n",
    "    print(\"Good job!\")\n",
    "\n",
    "else: \n",
    "    answer_021_sentinel = 0    \n",
    "    print(\"x is too small\")\n",
    "    "
   ]
  },
  {
   "cell_type": "code",
   "execution_count": null,
   "metadata": {
    "deletable": false,
    "editable": false,
    "nbgrader": {
     "cell_type": "code",
     "checksum": "b065ed6afcc87c9f32f9324658fbb101",
     "grade": true,
     "grade_id": "problem_021_tests",
     "locked": true,
     "points": 1,
     "schema_version": 3,
     "solution": false,
     "task": false
    }
   },
   "outputs": [],
   "source": []
  },
  {
   "cell_type": "markdown",
   "metadata": {
    "deletable": false,
    "editable": false,
    "nbgrader": {
     "cell_type": "markdown",
     "checksum": "902f1bd2d94fbcc142420c89b7305369",
     "grade": false,
     "grade_id": "cell-e95feb3ae1b033d2",
     "locked": true,
     "schema_version": 3,
     "solution": false,
     "task": false
    }
   },
   "source": [
    "### Problem 0.2.2\n",
    "Above we used two different types of comparison: `>=` and `<`. To compare two values and check whether they are equal, python uses double equal signs `==` (remember a single = was used to assign values to a variable). \n",
    "\n",
    "> **Ex. 0.2.2:**  The code below draws a random number between 0 and 1 and stores in the variable `randnum`. Write an if/else block that defines a new variable `answer_022` which is equal to 1 if `randnum <= 0.1` and is 0 if `randnum > 0.1`. That is, write code that defines \n",
    "\n",
    "<br>\n",
    "$$\n",
    "\\text{answer_022} = \\begin{cases}\n",
    "1 \\text{  if } \\text{randnum} \\leq 0.1 \\\\\n",
    "0 \\text{  if } \\text{randnum} > 0.1\n",
    "\\end{cases}\n",
    "$$"
   ]
  },
  {
   "cell_type": "code",
   "execution_count": null,
   "metadata": {
    "deletable": false,
    "nbgrader": {
     "cell_type": "code",
     "checksum": "3428d16adf6b5e1e1566fbee1802a616",
     "grade": false,
     "grade_id": "problem_022",
     "locked": false,
     "schema_version": 3,
     "solution": true
    }
   },
   "outputs": [],
   "source": [
    "import random\n",
    "randnum = random.uniform(0,1)\n",
    "\n",
    "# YOUR CODE HERE\n",
    "raise NotImplementedError()"
   ]
  },
  {
   "cell_type": "code",
   "execution_count": null,
   "metadata": {
    "deletable": false,
    "editable": false,
    "nbgrader": {
     "cell_type": "code",
     "checksum": "6bf22db3456a1de1fea881666984cc70",
     "grade": true,
     "grade_id": "problem_022_tests",
     "locked": true,
     "points": 1,
     "schema_version": 3,
     "solution": false,
     "task": false
    }
   },
   "outputs": [],
   "source": []
  },
  {
   "cell_type": "markdown",
   "metadata": {
    "slideshow": {
     "slide_type": "slide"
    }
   },
   "source": [
    "## Loops "
   ]
  },
  {
   "cell_type": "markdown",
   "metadata": {
    "slideshow": {
     "slide_type": "fragment"
    }
   },
   "source": [
    "#### For loops\n",
    "\n",
    "Control flow that does the same thing repeatedly is called a _loop_. In python you can loop through anything that is _iterable_, e.g. anything where it makes sense to say \"for each element in this item, do whatever.\" \n",
    "\n",
    "Lists, tuples and dictionaries are all iterable, and can thus be looped over. This kind of loop is called a _for loop_. The basic syntax is \n",
    "\n",
    "```python\n",
    "for element in some_iterable:\n",
    "    do_something(element)\n",
    "```\n",
    "where `element` is a temporary name given to the current element reached in the loop, and `do_something` can be any valid python function applied to `element`. \n",
    "\n",
    "Example - try the following code:"
   ]
  },
  {
   "cell_type": "code",
   "execution_count": null,
   "metadata": {
    "slideshow": {
     "slide_type": "-"
    }
   },
   "outputs": [],
   "source": [
    "A = []\n",
    "\n",
    "for i in [1, 3, 5]:\n",
    "    i_squared = i ** 2\n",
    "    A.append(i_squared)\n",
    "    \n",
    "print(A)"
   ]
  },
  {
   "cell_type": "markdown",
   "metadata": {
    "slideshow": {
     "slide_type": "fragment"
    }
   },
   "source": [
    "For loops are smart when: iterating over files in a directory; iterating over specific set of columns."
   ]
  },
  {
   "cell_type": "markdown",
   "metadata": {
    "slideshow": {
     "slide_type": "fragment"
    }
   },
   "source": [
    "*Quiz*: How does Python know where the code associated with inside of the loop begins?"
   ]
  },
  {
   "cell_type": "markdown",
   "metadata": {
    "slideshow": {
     "slide_type": "fragment"
    }
   },
   "source": [
    "*Answer*: By indenting the line with four whitespaces, see example above. This is the same as the if statements."
   ]
  },
  {
   "cell_type": "markdown",
   "metadata": {
    "deletable": false,
    "editable": false,
    "nbgrader": {
     "cell_type": "markdown",
     "checksum": "561b78a683a6ce52c293041a123e096b",
     "grade": false,
     "grade_id": "cell-befaad6598037139",
     "locked": true,
     "schema_version": 3,
     "solution": false,
     "task": false
    }
   },
   "source": [
    "> **Ex. 0.2.3:**  Begin by initializing an emply list in the variable `answer_023` (simply write `answer_023 = []`). Then loop trough the list `y` that you defined in [problem 0.1.4](#Problem-0.1.4). For each element in `y`, multiply that element by 7 and *append* it to `answer_023`. (You can finish off by showing the content of `answer_023` after the loop has run.)\n",
    "\n",
    "> *Hint:* To append data to a list you can write `answer_023.append(new_element)` where `new_element` is the new data that you want to append."
   ]
  },
  {
   "cell_type": "code",
   "execution_count": null,
   "metadata": {
    "deletable": false,
    "nbgrader": {
     "cell_type": "code",
     "checksum": "4ce84a9aea2ebdf3b2c8d6a0917f9a23",
     "grade": false,
     "grade_id": "problem_023",
     "locked": false,
     "schema_version": 3,
     "solution": true
    }
   },
   "outputs": [],
   "source": [
    "# YOUR CODE HERE\n",
    "raise NotImplementedError()"
   ]
  },
  {
   "cell_type": "code",
   "execution_count": null,
   "metadata": {
    "deletable": false,
    "editable": false,
    "nbgrader": {
     "cell_type": "code",
     "checksum": "bbb8d8c9939bc5fffcf8bc436a94cdf6",
     "grade": true,
     "grade_id": "problem_023_tests",
     "locked": true,
     "points": 1,
     "schema_version": 3,
     "solution": false,
     "task": false
    }
   },
   "outputs": [],
   "source": []
  },
  {
   "cell_type": "markdown",
   "metadata": {
    "slideshow": {
     "slide_type": "slide"
    }
   },
   "source": [
    "#### While loops\n",
    "\n",
    "The other kind of loop in Python is the _while loop_. Instead of looping over an iterable, the `while` loop continues going as long as a supplied logical condition is True. \n",
    "\n",
    "Most commonly, the while loop is combined with a counting variable that keeps track of how many times the loop has been run. \n",
    "\n",
    "One specific application where a while loop can be useful is data collection on the internet (scraping) which is often open ended. Another application is when we are computing something that we do not know how long will take to compute, e.g. when a model is being estimated.\n",
    "\n",
    "The basic syntax is seen in the example below. This code will run 100 times before stopping. At each iteration, it checks that `i` is smaller than 100. If it is, it does something and adds 1 to the variable `i` before repeating.\n",
    "\n",
    "```python \n",
    "\n",
    "i = 0\n",
    "while i < 100:\n",
    "    do_something()    \n",
    "    i = i + 1\n",
    "```\n",
    "\n",
    "In the example below, we provide an example of what `do_something()` can be. Try the code below and explain why it outputs what it does."
   ]
  },
  {
   "cell_type": "code",
   "execution_count": null,
   "metadata": {
    "slideshow": {
     "slide_type": "-"
    }
   },
   "outputs": [],
   "source": [
    "i = 0\n",
    "L = []\n",
    "while (i < 5):\n",
    "    L.append(i * 3)\n",
    "    i += 1\n",
    "\n",
    "print(L)    "
   ]
  },
  {
   "cell_type": "markdown",
   "metadata": {
    "deletable": false,
    "editable": false,
    "nbgrader": {
     "cell_type": "markdown",
     "checksum": "eb1c677f9716898671885f88dff14e3b",
     "grade": false,
     "grade_id": "cell-13adbf8a8eef8e87",
     "locked": true,
     "schema_version": 3,
     "solution": false,
     "task": false
    }
   },
   "source": [
    "### Problem 0.2.4\n",
    "> **Ex. 0.2.4:**  Begin by defining an empty list named `answer_024`. Write a while loop that runs from $i=0$ up to but not including $i=1500$. In each loop, it should determine whether the current value of `i` is a multiple of 19. If it is, append the number to the answer list `answer_024`. (recall that $i$ is divisible by $a$ if $i \\text{ mod } a = 0$. The modulo operator in python is `%`)\n",
    "\n",
    "> *Hint:* The `if` statement does not need to be followed by an `else`. You can simply code the `if` part and python will automatically skip it and continue if the logical condition is False.\n",
    ">\n",
    "> *Hint:* Remember to increment `i` in each iteration. Otherwise the program will run forever. If this happens, press _kernel > interrupt_ in the menu bar. "
   ]
  },
  {
   "cell_type": "code",
   "execution_count": null,
   "metadata": {
    "deletable": false,
    "nbgrader": {
     "cell_type": "code",
     "checksum": "36c9d9977e6120777a936d63e28f8305",
     "grade": false,
     "grade_id": "problem_024",
     "locked": false,
     "schema_version": 3,
     "solution": true
    }
   },
   "outputs": [],
   "source": [
    "i = 0\n",
    "answer_024 = []\n",
    "# YOUR CODE HERE\n",
    "raise NotImplementedError()"
   ]
  },
  {
   "cell_type": "code",
   "execution_count": null,
   "metadata": {
    "deletable": false,
    "editable": false,
    "nbgrader": {
     "cell_type": "code",
     "checksum": "49d7d58d7cb133d36a784866b6c447e4",
     "grade": true,
     "grade_id": "problem_024_tests",
     "locked": true,
     "points": 1,
     "schema_version": 3,
     "solution": false,
     "task": false
    }
   },
   "outputs": [],
   "source": []
  },
  {
   "cell_type": "markdown",
   "metadata": {
    "slideshow": {
     "slide_type": "slide"
    }
   },
   "source": [
    "# 0.3. Reusable Code"
   ]
  },
  {
   "cell_type": "markdown",
   "metadata": {
    "slideshow": {
     "slide_type": "fragment"
    }
   },
   "source": [
    "## Functions\n",
    "\n",
    "If you have never programmed in anything but statistical software such as Stata or SAS, the concept of functions might be new to you. In python, a function is simply a \"recipe\" that is first written, and then later used to compute something. \n",
    "\n",
    "Conceptually, functions in programming are similar to functions in math. They have between $0$ and \"$\\infty$\" inputs, do some calculation using their inputs and then return between 1 and \"$\\infty$\" outputs. \n",
    "\n",
    "By making these recipes, we can save time by making a concise function that undertakes exactly the task that we want to complete. \n",
    "\n",
    "Python contains a large number of [built-in functions](https://docs.python.org/3/library/functions.html). Below, you are given examples of how to use the most commonly used built-ins. You should make yourself comfortable using each of the functions shown below."
   ]
  },
  {
   "cell_type": "code",
   "execution_count": null,
   "metadata": {},
   "outputs": [],
   "source": [
    "# Setup for the examples. We define two lists to show you the built-in functions.\n",
    "l1 = [0, 10, 20, 30, 40, 50, 60, 70, 80, 90]\n",
    "l2 = ['a', 'b', 'c', 'd', 'e', 'f', 'g', 'h', 'i', 'j']"
   ]
  },
  {
   "cell_type": "code",
   "execution_count": null,
   "metadata": {},
   "outputs": [],
   "source": [
    "# The len(x) function gives you the length of the input\n",
    "len(l2)"
   ]
  },
  {
   "cell_type": "code",
   "execution_count": null,
   "metadata": {},
   "outputs": [],
   "source": [
    "# The abs(x) function returns the absolute value of x\n",
    "abs(-5)"
   ]
  },
  {
   "cell_type": "code",
   "execution_count": null,
   "metadata": {},
   "outputs": [],
   "source": [
    "# The min(x) and max(x) functions return the minimum and maximum of the input.\n",
    "min(l1), max(l1)"
   ]
  },
  {
   "cell_type": "code",
   "execution_count": null,
   "metadata": {},
   "outputs": [],
   "source": [
    "# The map(function, Iterable) function applies the supplied function to each element in Iterable:\n",
    "# Note that the list() call just converts the result to a list\n",
    "list(map(len, l2))"
   ]
  },
  {
   "cell_type": "code",
   "execution_count": null,
   "metadata": {},
   "outputs": [],
   "source": [
    "# The range([start], stop, [step]) function returns a range of numbers from `start` to `stop`, in increments of `step`.\n",
    "# The values in [] are optional.\n",
    "# If no start value is set, it defaults to 0.\n",
    "# If no step value is set it defaults to 1. \n",
    "# A stop value must always be set.\n",
    "\n",
    "print(\"Range from 0 to 100, step=1:\", range(100))\n",
    "print(\"Range from 0 to 100, step=2:\", range(0, 100, 2))\n",
    "print(\"Range from 10 to 65, step=3:\", range(10, 65, 3))"
   ]
  },
  {
   "cell_type": "code",
   "execution_count": null,
   "metadata": {},
   "outputs": [],
   "source": [
    "# The reversed(x) function reverses the input.\n",
    "# We can then loop trough it backwards\n",
    "l1_reverse = reversed(l1)\n",
    "\n",
    "for e in l1_reverse:\n",
    "    print(e)"
   ]
  },
  {
   "cell_type": "code",
   "execution_count": null,
   "metadata": {},
   "outputs": [],
   "source": [
    "# The enumerate(x) function returns the index of the item as well as the item itself in sequence.\n",
    "# With it, you can loop through things while keeping track of their position:\n",
    "l2_enumerate = enumerate(l2)\n",
    "\n",
    "for index, element in l2_enumerate:\n",
    "    print(index, element)"
   ]
  },
  {
   "cell_type": "code",
   "execution_count": null,
   "metadata": {},
   "outputs": [],
   "source": [
    "# The zip(x,y,...) function \"zips\" together two or more iterables allowing you to loop through them pairwise:\n",
    "l1l2_zip = zip(l1, l2)\n",
    "\n",
    "for e1, e2 in l1l2_zip:\n",
    "    print(e1, e2)\n"
   ]
  },
  {
   "cell_type": "markdown",
   "metadata": {},
   "source": [
    "#### The how\n",
    "You can also write your own python functions. A python function is defined with the `def` keyword, followed by a user-defined name of the function, the inputs to the function and a colon. On the following lines, the _function body_ is written, indented by one TAB. \n",
    "\n",
    "Functions use the keyword `return` to signal what values the function should return after doing its calculations on the inputs. For example, we can define a function named `my_first_function` seen in the cell below. Run the cell below and explain the printed output.\n",
    "\n"
   ]
  },
  {
   "cell_type": "code",
   "execution_count": null,
   "metadata": {},
   "outputs": [],
   "source": [
    "def my_first_function(x): # takes input x\n",
    "    x_squared = x ** 2 # x squared\n",
    "    return x_squared + 1\n",
    "\n",
    "print('Output for input of 0: ', my_first_function(0))\n",
    "print('Output for input of 1: ', my_first_function(1))\n",
    "print('Output for input of 2: ', my_first_function(2))\n",
    "print('Output for input of 3: ', my_first_function(3))"
   ]
  },
  {
   "cell_type": "markdown",
   "metadata": {},
   "source": [
    "We can also make more complex functions. The function below, named `my_second_function`, takes two inputs `a` and `b` that is used to compute the values $a^b$ (written in python as `a ** b`) and $b^a$ and returns the larger of the two. \n",
    "\n",
    "Provide the function below with different inputs of `a` and `b`. Explain the output to yourself. "
   ]
  },
  {
   "cell_type": "code",
   "execution_count": null,
   "metadata": {},
   "outputs": [],
   "source": [
    "def my_second_function(a, b):\n",
    "    v1 = a ** b\n",
    "    v2 = b ** a\n",
    "    \n",
    "    if v1 > v2:\n",
    "        return v1\n",
    "    else:\n",
    "        return v2"
   ]
  },
  {
   "cell_type": "markdown",
   "metadata": {
    "deletable": false,
    "editable": false,
    "nbgrader": {
     "cell_type": "markdown",
     "checksum": "ee7333dd1f9dc06654e1c9cecd7d0796",
     "grade": false,
     "grade_id": "cell-9fcc6fd59e0d3fd9",
     "locked": true,
     "schema_version": 3,
     "solution": false,
     "task": false
    }
   },
   "source": [
    "### Problem 0.3.1\n",
    "> **Ex. 0.3.1:**  Write a function called `minimum` that takes as input a list of numbers, and returns the index and value of the minimum number as a `tuple`. Use your function to calculate the index and value of the minimum number in the list `[-342, 195, 573, -234, 762, -175, 847, -882, 153, -22]`. \n",
    "Store the result of this computation in a variable named `answer_031`.\n",
    "\n",
    "> *Hint:* A [\"pythonic\"](https://stackoverflow.com/questions/25011078/what-does-pythonic-mean#:~:text=Pythonic%20means%20code%20that%20doesn,is%20intended%20to%20be%20used) way to keep count of the index of the minimum value would be to loop over the list of numbers by using the [enumerate](#Functions) function on the list of numbers."
   ]
  },
  {
   "cell_type": "code",
   "execution_count": null,
   "metadata": {
    "deletable": false,
    "nbgrader": {
     "cell_type": "code",
     "checksum": "d15789f4c0b93ecd9fcb3fa528a89c1e",
     "grade": false,
     "grade_id": "problem_031",
     "locked": false,
     "schema_version": 3,
     "solution": true,
     "task": false
    }
   },
   "outputs": [],
   "source": [
    "# YOUR CODE HERE\n",
    "raise NotImplementedError()"
   ]
  },
  {
   "cell_type": "code",
   "execution_count": null,
   "metadata": {
    "deletable": false,
    "editable": false,
    "nbgrader": {
     "cell_type": "code",
     "checksum": "554505067375e859babdf59bcd391fd5",
     "grade": true,
     "grade_id": "problem_031_tests",
     "locked": true,
     "points": 1,
     "schema_version": 3,
     "solution": false,
     "task": false
    }
   },
   "outputs": [],
   "source": []
  },
  {
   "cell_type": "markdown",
   "metadata": {
    "deletable": false,
    "editable": false,
    "nbgrader": {
     "cell_type": "markdown",
     "checksum": "76669a916e097238ff5a3ac541e1d204",
     "grade": false,
     "grade_id": "cell-ced9fcf972a8b992",
     "locked": true,
     "schema_version": 3,
     "solution": false,
     "task": false
    }
   },
   "source": [
    "### Problem 0.3.2\n",
    "> **Ex. 0.3.2:**  Write a function called `average` that takes as input a list of numbers, and returns the average of the values in the list. Use your function to calculate the average of the values `[-1, 2, -3, 4, 0, -4, 3, -2, 1]`. Store the result of this computation in a variable named `answer_032`."
   ]
  },
  {
   "cell_type": "code",
   "execution_count": null,
   "metadata": {
    "deletable": false,
    "nbgrader": {
     "cell_type": "code",
     "checksum": "c0fc06c0e8a62916f26e045d43ff0b29",
     "grade": false,
     "grade_id": "problem_032",
     "locked": false,
     "schema_version": 3,
     "solution": true,
     "task": false
    }
   },
   "outputs": [],
   "source": [
    "# YOUR CODE HERE\n",
    "raise NotImplementedError()"
   ]
  },
  {
   "cell_type": "code",
   "execution_count": null,
   "metadata": {
    "deletable": false,
    "editable": false,
    "nbgrader": {
     "cell_type": "code",
     "checksum": "9c8e39d8c229ea2d05d8c39256543059",
     "grade": true,
     "grade_id": "problem_032_tests",
     "locked": true,
     "points": 1,
     "schema_version": 3,
     "solution": false,
     "task": false
    }
   },
   "outputs": [],
   "source": []
  },
  {
   "cell_type": "markdown",
   "metadata": {
    "deletable": false,
    "editable": false,
    "nbgrader": {
     "cell_type": "markdown",
     "checksum": "2dd7ae7a9b3123582e7c1c3a1e3d5850",
     "grade": false,
     "grade_id": "cell-ff0740c5de5d7610",
     "locked": true,
     "schema_version": 3,
     "solution": false,
     "task": false
    }
   },
   "source": [
    "### Problem 0.3.3\n",
    "Recall that [Eulers constant](https://en.wikipedia.org/wiki/E_(mathematical_constant)) $e$ can be calculated as \n",
    "$$\n",
    "e=\\lim_{n\\rightarrow \\infty}\\left(1+\\frac{x}{n}\\right)^{n}\n",
    "$$\n",
    "Of course we cannot compute the limit on a finite memory computer. Instead we can calculate approximations by taking $n$ large enough.\n",
    "\n",
    "> **Ex. 0.3.3:** Write a function named `eulers_e` that takes two inputs `x` and `n`, calculates \n",
    "$$\n",
    "\\left(1+\\frac{x}{n}\\right)^{n}\n",
    "$$\n",
    "and returns this value. Use your function to calculate `eulers_e(1, 5)` and store this value in the variable `answer_033`."
   ]
  },
  {
   "cell_type": "code",
   "execution_count": null,
   "metadata": {
    "deletable": false,
    "nbgrader": {
     "cell_type": "code",
     "checksum": "f42b959b99eb739c7501418f78b56892",
     "grade": false,
     "grade_id": "problem_033",
     "locked": false,
     "schema_version": 3,
     "solution": true
    }
   },
   "outputs": [],
   "source": [
    "# YOUR CODE HERE\n",
    "raise NotImplementedError()"
   ]
  },
  {
   "cell_type": "code",
   "execution_count": null,
   "metadata": {
    "deletable": false,
    "editable": false,
    "nbgrader": {
     "cell_type": "code",
     "checksum": "c522266064ba2b052a764fef355eea83",
     "grade": true,
     "grade_id": "problem_033_tests",
     "locked": true,
     "points": 2,
     "schema_version": 3,
     "solution": false,
     "task": false
    }
   },
   "outputs": [],
   "source": []
  },
  {
   "cell_type": "markdown",
   "metadata": {
    "deletable": false,
    "editable": false,
    "nbgrader": {
     "cell_type": "markdown",
     "checksum": "cb0aa613304da86dbb53a8a2e6519cea",
     "grade": false,
     "grade_id": "cell-6495aeac08e14c37",
     "locked": true,
     "schema_version": 3,
     "solution": false,
     "task": false
    }
   },
   "source": [
    "### Problem 0.3.4\n",
    "The inverse of the exponential is the [logarithm](https://en.wikipedia.org/wiki/Logarithm). Like the exponential function, there are limit definitions of the logarithm. One of these is \n",
    "$$\n",
    "\\log(x) = 2 \\cdot \\sum_{k=0}^{\\infty} \\frac{1}{2k+1} \\left( \\frac{x-1}{x+1} \\right)^{2k+1}\n",
    "$$\n",
    "\n",
    "where $\\sum_{k=0}^{\\infty}$ signifies the sum of infinitely many elements, starting from $k=0$. Each element in the sum takes the value $\\frac{1}{2k+1} \\left( \\frac{x-1}{x+1} \\right)^{2k+1}$ for some $k$. As before, we must approximate this with a finite sum. \n",
    "\n",
    "> **Ex. 0.3.4:**  Define another function called `natural_logarithm` which takes two inputs `x` and `k_max`. In the function body calculate \n",
    "$$\n",
    "2 \\cdot \\sum_{k=0}^{k\\_max} \\frac{1}{2k+1} \\left( \\frac{x-1}{x+1} \\right)^{2k+1}\n",
    "$$\n",
    "and return this value. Use your function to calculate `natural_logarithm(2.71, 1)`. Store this value in a variable named `answer_034`.\n",
    "\n",
    "> *Hint:* to calculate the sum, first initialize a value total = 0, loop through $k\\in \\{0, 1, \\ldots, k\\_max\\}$ and compute $\\frac{1}{2k+1} \\left( \\frac{x-1}{x+1} \\right)^{2k+1}$. Add the computed value to your total in each step of the loop. After finalizing the loop you can then multiply the total by 2 and return the result."
   ]
  },
  {
   "cell_type": "code",
   "execution_count": null,
   "metadata": {
    "deletable": false,
    "nbgrader": {
     "cell_type": "code",
     "checksum": "1e1eb6ada69f698d6f00a24fe6eb84d4",
     "grade": false,
     "grade_id": "problem_034",
     "locked": false,
     "schema_version": 3,
     "solution": true
    }
   },
   "outputs": [],
   "source": [
    "# YOUR CODE HERE\n",
    "raise NotImplementedError()"
   ]
  },
  {
   "cell_type": "code",
   "execution_count": null,
   "metadata": {
    "deletable": false,
    "editable": false,
    "nbgrader": {
     "cell_type": "code",
     "checksum": "402545ace96452b6d6e6329342ae54f2",
     "grade": true,
     "grade_id": "problem_034_tests",
     "locked": true,
     "points": 2,
     "schema_version": 3,
     "solution": false,
     "task": false
    }
   },
   "outputs": [],
   "source": []
  },
  {
   "cell_type": "markdown",
   "metadata": {
    "deletable": false,
    "editable": false,
    "nbgrader": {
     "cell_type": "markdown",
     "checksum": "e55a237d1d73b6fcaba095e0eda1e0dd",
     "grade": false,
     "grade_id": "cell-d45534ff87b27de8",
     "locked": true,
     "schema_version": 3,
     "solution": false,
     "task": false
    }
   },
   "source": [
    "### Problem 0.3.5\n",
    "Just like numbers, strings and data types, python treats functions as an object. This means you can write functions, that take a function as input and functions that return functions after being executed. This is sometimes a useful tool to have when you need to add extra functionality to an already existing function, or if you need to write _function factories_.\n",
    "\n",
    "> **Ex. 0.3.5:**  Write a function called `exponentiate` that takes one input named `func`. In the body of `exponentiate` define a nested function (i.e. a function within a function) called `with_exp` that takes two inputs `x` and `k`. The nested function should return `func(e, k)` where `e = eulers_e(x, k)`. The outer function should return the nested function `with_exp`, i.e. write something like\n",
    "\n",
    ">```python\n",
    "def exponentiate(func):\n",
    "    def with_exp(x, k):\n",
    "        e = eulers_e(x, k)\n",
    "        value = #[FILL IN]\n",
    "        return value\n",
    "    return with_exp\n",
    "```\n",
    "\n",
    "> Call the `exponentiate` function on `natural_logarithm` and store the result in a new variable called `logexp`. Then call `logexp(1, 100)` and store this value in the variable `answer_035`."
   ]
  },
  {
   "cell_type": "code",
   "execution_count": null,
   "metadata": {
    "deletable": false,
    "nbgrader": {
     "cell_type": "code",
     "checksum": "8f2df8f7525bff11a7c2168ba8ba791e",
     "grade": false,
     "grade_id": "problem_035",
     "locked": false,
     "schema_version": 3,
     "solution": true
    }
   },
   "outputs": [],
   "source": [
    "# YOUR CODE HERE\n",
    "raise NotImplementedError()"
   ]
  },
  {
   "cell_type": "code",
   "execution_count": null,
   "metadata": {
    "deletable": false,
    "editable": false,
    "nbgrader": {
     "cell_type": "code",
     "checksum": "b640c6bf93393730ef9d28dc6f0f8843",
     "grade": true,
     "grade_id": "problem_035_tests",
     "locked": true,
     "points": 2,
     "schema_version": 3,
     "solution": false,
     "task": false
    }
   },
   "outputs": [],
   "source": []
  },
  {
   "cell_type": "markdown",
   "metadata": {},
   "source": [
    "## Getting More General\n",
    "\n",
    "#### Modules\n",
    "\n",
    "Whatever we attempt in programming, it is likely nowadays that someone has done it before us. Therefore, we can reuse code which allows to \n",
    "1. save time by using others' code, and\n",
    "2. learn from  others' code. \n",
    "\n",
    "Moreover, often the code implemented by someone with more experience is likely to work better and faster than what we can come up with! That's why we introduce modules. These are packages of Python code that we can load - and by doing that, we get access to powerful tools.\n",
    "\n",
    "Let's see how modules work. Run the cell below to load a module called `numpy` which allows us to work with linear algebra and other numeric tools. "
   ]
  },
  {
   "cell_type": "code",
   "execution_count": null,
   "metadata": {
    "slideshow": {
     "slide_type": "-"
    }
   },
   "outputs": [],
   "source": [
    "import numpy as np"
   ]
  },
  {
   "cell_type": "markdown",
   "metadata": {
    "slideshow": {
     "slide_type": "fragment"
    }
   },
   "source": [
    "Let's  create an `array` with numpy."
   ]
  },
  {
   "cell_type": "code",
   "execution_count": null,
   "metadata": {
    "slideshow": {
     "slide_type": "-"
    }
   },
   "outputs": [],
   "source": [
    "row1 = [1, 2]\n",
    "row2 = [3, 4]\n",
    "table = [row1, row2]\n",
    "\n",
    "my_array = np.array(table)\n",
    "my_array"
   ]
  },
  {
   "cell_type": "markdown",
   "metadata": {
    "slideshow": {
     "slide_type": "fragment"
    }
   },
   "source": [
    "*What is a numpy array?*\n",
    "\n",
    "An n-dimensional container that can store specific data types, e.g. bool and float. The arrays come with certain available methods and tools. E.g. 2-d array can act like a matrix, in 3-d it can act like a tensor. "
   ]
  },
  {
   "cell_type": "markdown",
   "metadata": {
    "slideshow": {
     "slide_type": "fragment"
    }
   },
   "source": [
    "Objects can have useful attributes and methods that are built-in. These are accessed using `\".\"` Example, an array can be transposed as follows:"
   ]
  },
  {
   "cell_type": "code",
   "execution_count": null,
   "metadata": {
    "slideshow": {
     "slide_type": "-"
    }
   },
   "outputs": [],
   "source": [
    "my_array.T"
   ]
  },
  {
   "cell_type": "markdown",
   "metadata": {},
   "source": [
    "#### Classes\n",
    "\n",
    "In Python, we can also define our types of objects, which is known as `class`. Each class contains rules and properties that governs how objects of the class will behave. If you are curious and want to learn, which is totally optional, then read more [here](https://docs.python.org/3/tutorial/classes.html) (note: quite technical). Otherwise move on to part 0.4."
   ]
  },
  {
   "cell_type": "markdown",
   "metadata": {},
   "source": [
    "# 0.4 Pandas for data structuring\n",
    "\n",
    "You may ask yourself: Why do we need to learn data structuring? \n",
    "\n",
    "Data never comes in the form of our model. We need to 'wrangle' our data. As of right now, even the most advanced techniques needs data in a structured format to work with it.\n",
    "\n",
    "<font color=\"red\">STOP!</font> Before proceeding, make sure that you have completed all the material above (expect the optional part on Python classes).\n"
   ]
  },
  {
   "cell_type": "markdown",
   "metadata": {},
   "source": [
    "## An Overview\n",
    "\n",
    "In the motivation in the beginning of the class, we discussed how a number of modules were driving the recent popularity of Python. The most important one is pandas - which is a neat tool for working with tabular data. \n",
    "\n",
    "Tabular data is like the table below. Each row is an observation which consist of two entries, one for each of the columns/fields, i.e. animal and day.  \n",
    "\n",
    "| index | Animal     | Date           |\n",
    "|---------------:|:-----------|:---------------|\n",
    "|  Observation 1 | Elk        | July 1, 2019   |\n",
    "|  Observation 2 | Pig        | July 3, 2019   |\n",
    "\n",
    "What pandas provides is a smart way of structuring data. It has two fundamental data types, see below. These are essentially just container but come with a lot of extra functionality for structuring data and performing analysis. \n",
    "\n",
    "- `Series`: tabular data with a single column (field)\n",
    "  - akin to a vector in mathematics\n",
    "  - has labelled columns (e.g. Animal and Date above) and named rows, called indices.\n",
    "- `DataFrame`: tabular data that allows for more than one column (multiple fields)\n",
    "  - akin to a matrix in mathematics  \n",
    "  \n",
    "Run the code below to make your first pandas dataframe. Try to print it and explain the content it shows."
   ]
  },
  {
   "cell_type": "code",
   "execution_count": null,
   "metadata": {},
   "outputs": [],
   "source": [
    "import pandas as pd\n",
    "\n",
    "df1 = pd.DataFrame(data=[[1, 2],[3, 4],[5, 6],[7, 8]],\n",
    "                   index=['i', 'ii','iii','iv'],\n",
    "                   columns=['A', 'B'])"
   ]
  },
  {
   "cell_type": "markdown",
   "metadata": {
    "slideshow": {
     "slide_type": "fragment"
    }
   },
   "source": [
    "The code below makes a series from a list. We can see that it contains all the four fundamental data types!"
   ]
  },
  {
   "cell_type": "code",
   "execution_count": null,
   "metadata": {
    "slideshow": {
     "slide_type": "-"
    }
   },
   "outputs": [],
   "source": [
    "L = [1, 1.2, 'abc', True]\n",
    "ser1 = pd.Series(L)"
   ]
  },
  {
   "cell_type": "markdown",
   "metadata": {},
   "source": [
    "Now you may ask yourself: *why don't we just use numpy?* \n",
    "\n",
    "There are many reasons. Pandas is easier for loading, structuring and and making simple analysis of tabular data. However, in many cases, if you are working with custom data or need to performing fast and complex array computations, then numpy is a better option. If you are interested see discussion [here](https://stackoverflow.com/questions/30067051/python-what-are-the-major-improvement-of-pandas-over-numpy-scipy)."
   ]
  },
  {
   "cell_type": "markdown",
   "metadata": {},
   "source": [
    "## Switching Among Python, Numpy and Pandas"
   ]
  },
  {
   "cell_type": "markdown",
   "metadata": {
    "slideshow": {
     "slide_type": "fragment"
    }
   },
   "source": [
    "Pandas dataframes can be thought of as numpy arrays with some additional stuff. Note that columns can have different datatypes!\n",
    "\n",
    "Most functions from `numpy` can be applied directly to Pandas. We can convert a DataFrame to a `numpy` array with `values` attribute:"
   ]
  },
  {
   "cell_type": "code",
   "execution_count": null,
   "metadata": {
    "slideshow": {
     "slide_type": "-"
    }
   },
   "outputs": [],
   "source": [
    "df1.values"
   ]
  },
  {
   "cell_type": "markdown",
   "metadata": {
    "slideshow": {
     "slide_type": "fragment"
    }
   },
   "source": [
    "In Python, we can describe it as a *list of lists*."
   ]
  },
  {
   "cell_type": "code",
   "execution_count": null,
   "metadata": {
    "slideshow": {
     "slide_type": "-"
    }
   },
   "outputs": [],
   "source": [
    "df1.values.tolist()"
   ]
  },
  {
   "cell_type": "markdown",
   "metadata": {},
   "source": [
    "Both dataframes and series have indices which are both a blessing and a curse. These indices means that we can often convert a Series into a dictionary:"
   ]
  },
  {
   "cell_type": "code",
   "execution_count": null,
   "metadata": {},
   "outputs": [],
   "source": [
    "ser1.to_dict()"
   ]
  },
  {
   "cell_type": "markdown",
   "metadata": {},
   "source": [
    "**<font color=\"red\">WARNING!#@</font>**: Series indices are NOT unique thus we may lose data if we convert to a dict which requires unique keys."
   ]
  },
  {
   "cell_type": "markdown",
   "metadata": {},
   "source": [
    "## Inspection\n",
    "Often we want to see what our dataframe contains. This can be done by putting the dataframe at the end of our cell, then it will automatically be printed.\n",
    "\n",
    "The example below consist of 100 rows, with 5 columns of random data. We see that putting the dataframe in the end prints the dataframe."
   ]
  },
  {
   "cell_type": "code",
   "execution_count": null,
   "metadata": {},
   "outputs": [],
   "source": [
    "df2 = pd.DataFrame(data=np.random.rand(100, 5), \n",
    "                   columns=['A','B','C','D','E'])\n",
    "df2"
   ]
  },
  {
   "cell_type": "markdown",
   "metadata": {},
   "source": [
    "We can also use `head` and the `tail` method that select respectively the first and last observations in a DataFrame. The code below prints the first four rows."
   ]
  },
  {
   "cell_type": "code",
   "execution_count": null,
   "metadata": {},
   "outputs": [],
   "source": [
    "df3 = df2.head(n=4)\n",
    "df3"
   ]
  },
  {
   "cell_type": "markdown",
   "metadata": {},
   "source": [
    "## Input-output\n",
    "\n",
    "We can load and save dataframes from our computer or the internet. Try the code below to save our dataframe as a CSV file called `my_data.csv`. If you are unsure what a CSV file is then check [the Wikipedia  description](https://en.wikipedia.org/wiki/Comma-separated_values)."
   ]
  },
  {
   "cell_type": "code",
   "execution_count": null,
   "metadata": {},
   "outputs": [],
   "source": [
    "df3.to_csv('my_data.csv')"
   ]
  },
  {
   "cell_type": "markdown",
   "metadata": {},
   "source": [
    "\n",
    "Loading data is just as easy. Some data sources are open and easy to collect data from. They do not require formatting as they come in a table format. The code below load a CSV file on school test data from NYC. "
   ]
  },
  {
   "cell_type": "code",
   "execution_count": null,
   "metadata": {},
   "outputs": [],
   "source": [
    "my_url = 'https://data.cityofnewyork.us/api/views/zt9s-n5aj/rows.csv'\n",
    "my_df = pd.read_csv(my_url)\n",
    "\n",
    "my_df.head(10)"
   ]
  },
  {
   "cell_type": "markdown",
   "metadata": {},
   "source": [
    "#### Working with weather data\n",
    "We move on to the next problem in the assignment. These are part of other exercises that you will see later in the course and also use weather data. Our source will be National Oceanic and Atmospheric Administration (NOAA) which have a global data collection going back a couple of centuries. This collection is called Global Historical Climatology Network (GHCN). The data contains daily weather recorded at the weather stations. A description of GHCN can be found [here](https://www1.ncdc.noaa.gov/pub/data/ghcn/daily/by_year/readme-by_year.txt)."
   ]
  },
  {
   "cell_type": "markdown",
   "metadata": {
    "deletable": false,
    "editable": false,
    "nbgrader": {
     "cell_type": "markdown",
     "checksum": "3bfdb1ce6a0547faa70da61ce2f1ebf9",
     "grade": false,
     "grade_id": "cell-cd4ddfa624733d63",
     "locked": true,
     "schema_version": 3,
     "solution": false,
     "task": false
    }
   },
   "source": [
    "> **Ex. 0.4.1:** Use Pandas' CSV reader to fetch  daily data weather from 1863 for various stations - available here: https://www1.ncdc.noaa.gov/pub/data/ghcn/daily/by_year/. Save the dataframe in the variable `df_weather`. \n",
    "\n",
    "> *Hints*: you will need to give `read_csv` some keywords. Here are some suggestions\n",
    "  - Specify the path, as the URL linking directly to the 1863 file as in the example above. To do this, open ftp link and scroll through the .csv files and copy the link address of the right CSV file. \n",
    "  - for [compressed files](https://www.winzip.com/win/en/gz-file.html) you may need to specify the keyword `compression` when calling the `.read_csv` method.\n",
    "  - `header` can be specified as the CSV has no column names.  "
   ]
  },
  {
   "cell_type": "code",
   "execution_count": null,
   "metadata": {
    "deletable": false,
    "nbgrader": {
     "cell_type": "code",
     "checksum": "ec191db08234e357d15d9ade76fd1bdb",
     "grade": false,
     "grade_id": "problem_041",
     "locked": false,
     "schema_version": 3,
     "solution": true,
     "task": false
    }
   },
   "outputs": [],
   "source": [
    "# YOUR CODE HERE\n",
    "raise NotImplementedError()"
   ]
  },
  {
   "cell_type": "code",
   "execution_count": null,
   "metadata": {
    "deletable": false,
    "editable": false,
    "nbgrader": {
     "cell_type": "code",
     "checksum": "eed5219412adaac4639835c985d7ede7",
     "grade": true,
     "grade_id": "problem_041_tests",
     "locked": true,
     "points": 2,
     "schema_version": 3,
     "solution": false,
     "task": false
    }
   },
   "outputs": [],
   "source": []
  },
  {
   "cell_type": "markdown",
   "metadata": {
    "slideshow": {
     "slide_type": "fragment"
    }
   },
   "source": [
    "## Selecting Rows and Columns\n",
    "\n",
    "In pandas there are two canonical ways of accessing subsets of a dataframe.\n",
    "- The `iloc` attribute: access rows and columns using integer indices (like a list).\n",
    "- The `loc` attribute: access rows and columns using immutable keys, e.g. numbers, strings (like a dictionary).\n",
    "\n",
    "In what follows we will describe some different way of selection using `.iloc` and `.loc` as well as a simpler way of simply accesing the dataframe using `[]`. The different ways are meant to give you an overview. \n",
    " \n",
    "#### Using list of keys/indices\n",
    "\n",
    "Below is an example of using the `iloc` attribute to select specific rows:"
   ]
  },
  {
   "cell_type": "code",
   "execution_count": null,
   "metadata": {},
   "outputs": [],
   "source": [
    "df1 # show df1 before indexing it with .iloc[]"
   ]
  },
  {
   "cell_type": "code",
   "execution_count": null,
   "metadata": {
    "slideshow": {
     "slide_type": "-"
    }
   },
   "outputs": [],
   "source": [
    "my_irows = [0, 3]\n",
    "df1.iloc[my_irows]"
   ]
  },
  {
   "cell_type": "markdown",
   "metadata": {
    "slideshow": {
     "slide_type": "fragment"
    }
   },
   "source": [
    "We can select columns and rows simultaneously. Below is an example of using the `loc` attribute, which does that:"
   ]
  },
  {
   "cell_type": "code",
   "execution_count": null,
   "metadata": {
    "slideshow": {
     "slide_type": "-"
    }
   },
   "outputs": [],
   "source": [
    "my_rows = ['i', 'iii']\n",
    "my_cols = ['A']\n",
    "df1.loc[my_rows, my_cols]"
   ]
  },
  {
   "cell_type": "markdown",
   "metadata": {},
   "source": [
    "#### Using thresholds\n",
    "We can also use `iloc` and `loc` for selecting rows and/or columns below or above some treshold, see below. Note that whether or not the `:` is on front determines whether it is above or below."
   ]
  },
  {
   "cell_type": "code",
   "execution_count": null,
   "metadata": {},
   "outputs": [],
   "source": [
    "df2.iloc[:3, :4]"
   ]
  },
  {
   "cell_type": "markdown",
   "metadata": {},
   "source": [
    "#### Using boolean data\n",
    "If we provide the dataframe with a boolean, it will select rows (also works with `iloc` and `loc`). We will see soon that this is an extremely useful way of selecting certain rows."
   ]
  },
  {
   "cell_type": "code",
   "execution_count": null,
   "metadata": {},
   "outputs": [],
   "source": [
    "df3[[True, False, False, True]]"
   ]
  },
  {
   "cell_type": "markdown",
   "metadata": {},
   "source": [
    "#### Selecting columns\n",
    "\n",
    "Often we need to select specific columns. If we provide the dataframe with a list of column names it will make a dataframe keep only these columns:"
   ]
  },
  {
   "cell_type": "code",
   "execution_count": null,
   "metadata": {},
   "outputs": [],
   "source": [
    "df3[['B', 'D']]"
   ]
  },
  {
   "cell_type": "markdown",
   "metadata": {
    "deletable": false,
    "editable": false,
    "nbgrader": {
     "cell_type": "markdown",
     "checksum": "05e5e858397f9dd91820015dfba95c35",
     "grade": false,
     "grade_id": "cell-d06f35bef661c21e",
     "locked": true,
     "schema_version": 3,
     "solution": false,
     "task": false
    }
   },
   "source": [
    "\n",
    "> **Ex 0.4.2:** Select the *four* left-most columns which contain: station identifier, data, observation type, observation value. Rename them as *'station', 'datetime', 'obs_type', 'obs_value'*. \n",
    "\n",
    "> *Hints:* \n",
    "- rename can be done with `df.columns = cols` where `cols` is a list of column names.\n",
    "- we can require that column values come from a list of values by using the [.isin](https://pandas.pydata.org/pandas-docs/stable/reference/api/pandas.Series.isin.html) method for a pandas Series\n"
   ]
  },
  {
   "cell_type": "code",
   "execution_count": null,
   "metadata": {
    "deletable": false,
    "nbgrader": {
     "cell_type": "code",
     "checksum": "9532ab0d4cc469db9186fd47cc230907",
     "grade": false,
     "grade_id": "problem_042",
     "locked": false,
     "schema_version": 3,
     "solution": true,
     "task": false
    }
   },
   "outputs": [],
   "source": [
    "# YOUR CODE HERE\n",
    "raise NotImplementedError()"
   ]
  },
  {
   "cell_type": "code",
   "execution_count": null,
   "metadata": {
    "deletable": false,
    "editable": false,
    "nbgrader": {
     "cell_type": "code",
     "checksum": "5e1468d1c1911711facc906ab29a2c32",
     "grade": true,
     "grade_id": "problem_042_tests",
     "locked": true,
     "points": 1,
     "schema_version": 3,
     "solution": false,
     "task": false
    },
    "tags": []
   },
   "outputs": [],
   "source": []
  },
  {
   "cell_type": "markdown",
   "metadata": {},
   "source": [
    "## Basic Operations \n",
    "\n",
    "How do perform elementary operations like we learned for basic Python? E.g. numeric operations such as summation (`+`) or logical operations such as greater than (`>`). Actually we are in luck - they are exactly the same. \n",
    "\n",
    "Let's see how it works for numeric data using a numpy array (works the same way as Pandas)."
   ]
  },
  {
   "cell_type": "code",
   "execution_count": null,
   "metadata": {
    "slideshow": {
     "slide_type": "-"
    }
   },
   "outputs": [],
   "source": [
    "my_arr1 = np.array([2, 3, 2, 1, 1])\n",
    "my_arr2 = my_arr1 ** 2\n",
    "my_arr2"
   ]
  },
  {
   "cell_type": "markdown",
   "metadata": {
    "slideshow": {
     "slide_type": "slide"
    }
   },
   "source": [
    "*Can we do the same with two vectors?* Yes, we can also do elementwise addition, multiplication, subtractions etc. of series. Example: "
   ]
  },
  {
   "cell_type": "code",
   "execution_count": null,
   "metadata": {
    "slideshow": {
     "slide_type": "fragment"
    }
   },
   "outputs": [],
   "source": [
    "my_arr1 + my_arr2"
   ]
  },
  {
   "cell_type": "markdown",
   "metadata": {
    "slideshow": {
     "slide_type": "fragment"
    }
   },
   "source": [
    "## Changing and Copying Data\n",
    "\n",
    "Everything in the dataframe can be changed. For instance, we can also update our dataframe with new values, e.g. by making new variables or overwriting existing ones. In the example below we add a new column to add a DataFrame. "
   ]
  },
  {
   "cell_type": "code",
   "execution_count": null,
   "metadata": {},
   "outputs": [],
   "source": [
    "df2['F'] = df2['A'] > df2['D']\n",
    "df2.head(10)"
   ]
  },
  {
   "cell_type": "markdown",
   "metadata": {},
   "source": [
    "**<font color=\"red\">WARNING! X#@</font>**: If you work on a subset of data from another dataframe, then this dataframe is what is known as a *view*! Therefore, all changes made in the view will also be made in the original version. \n",
    "\n",
    "In the example below, we try to change the dataframe `df2` which is a view of `df3`, and we get a *warning*. Thus, changes to `df3` also happen in `df2`. Notice that we can also use `loc` for changing the data."
   ]
  },
  {
   "cell_type": "code",
   "execution_count": null,
   "metadata": {},
   "outputs": [],
   "source": [
    "df3.loc[:,'D'] = df3['A'] - df3['E']\n",
    "print(df2['D'].head(3), '\\n')\n",
    "print(df3['D'].head(3))"
   ]
  },
  {
   "cell_type": "markdown",
   "metadata": {},
   "source": [
    "To avoid the problem of having a *view*, we can instead *copy* the data as in the example below. Try to verify that if you change things in `df4` things do not change in `df2`."
   ]
  },
  {
   "cell_type": "code",
   "execution_count": null,
   "metadata": {},
   "outputs": [],
   "source": [
    "df4 = df2.copy()"
   ]
  },
  {
   "cell_type": "code",
   "execution_count": null,
   "metadata": {},
   "outputs": [],
   "source": [
    "# Verify that the code from above doesn't throw the same \"SettingWithCopyWarning\" \n",
    "# when using the copied dataframe, df4, instead of df3.\n",
    "df4.loc[:, 'D'] = df4['A'] - df4['E']"
   ]
  },
  {
   "cell_type": "markdown",
   "metadata": {
    "deletable": false,
    "editable": false,
    "nbgrader": {
     "cell_type": "markdown",
     "checksum": "ec7abcaa9e983d0cd17eec1c96bc5d6f",
     "grade": false,
     "grade_id": "cell-80e9e149602c985b",
     "locked": true,
     "schema_version": 3,
     "solution": false,
     "task": false
    }
   },
   "source": [
    "\n",
    "> **Ex. 0.4.3:**  Further, select the subset of data for the station `EZE00100082` and only observations for maximal temperature. Make a copy of the DataFrame and store this in the variable `df_select`. Explain in a one or two sentences how copying works. Write your answer in a multi line comment like `\"\"\" Your answer here \"\"\"`.\n",
    "\n",
    "> *Hint*: The `&` operator works elementwise on boolean series (like `and` in core python). This allows to combine conditions for selections."
   ]
  },
  {
   "cell_type": "code",
   "execution_count": null,
   "metadata": {
    "deletable": false,
    "nbgrader": {
     "cell_type": "code",
     "checksum": "63cc7f13a9679a8db28d4ffe6b633447",
     "grade": false,
     "grade_id": "problem_043",
     "locked": false,
     "schema_version": 3,
     "solution": true,
     "task": false
    }
   },
   "outputs": [],
   "source": [
    "# YOUR CODE HERE\n",
    "raise NotImplementedError()"
   ]
  },
  {
   "cell_type": "code",
   "execution_count": null,
   "metadata": {
    "deletable": false,
    "editable": false,
    "nbgrader": {
     "cell_type": "code",
     "checksum": "62c45fd0e776f8e6946453a2887b70e7",
     "grade": true,
     "grade_id": "problem_043_tests",
     "locked": true,
     "points": 1,
     "schema_version": 3,
     "solution": false,
     "task": false
    }
   },
   "outputs": [],
   "source": []
  },
  {
   "cell_type": "markdown",
   "metadata": {
    "deletable": false,
    "editable": false,
    "nbgrader": {
     "cell_type": "markdown",
     "checksum": "fd42e361a277b6144bf0090e68d6a511",
     "grade": false,
     "grade_id": "cell-29b9cf9eca9bf7d1",
     "locked": true,
     "schema_version": 3,
     "solution": false,
     "task": false
    }
   },
   "source": [
    "> **Ex 0.4.4:** Make sure that max temperature is correctly formated (how many decimals should we add? one? Look through this .txt file for an answer https://www1.ncdc.noaa.gov/pub/data/ghcn/daily/readme.txt). Make a new column called `TMAX_F` where you have converted the temperature variables to Fahrenheit.\n",
    "\n",
    "> *Hint*: Conversion is $F = 32 + 1.8*C$ where $F$ is Fahrenheit and $C$ is Celsius."
   ]
  },
  {
   "cell_type": "code",
   "execution_count": null,
   "metadata": {
    "deletable": false,
    "nbgrader": {
     "cell_type": "code",
     "checksum": "14b3a2094eb8f8413b5dec97cb67d890",
     "grade": false,
     "grade_id": "problem_044",
     "locked": false,
     "schema_version": 3,
     "solution": true,
     "task": false
    }
   },
   "outputs": [],
   "source": [
    "# YOUR CODE HERE\n",
    "raise NotImplementedError()"
   ]
  },
  {
   "cell_type": "code",
   "execution_count": null,
   "metadata": {
    "deletable": false,
    "editable": false,
    "nbgrader": {
     "cell_type": "code",
     "checksum": "8a0f96e38cb14c71689f74421044d7aa",
     "grade": true,
     "grade_id": "problem_044_tests",
     "locked": true,
     "points": 1,
     "schema_version": 3,
     "solution": false,
     "task": false
    }
   },
   "outputs": [],
   "source": []
  },
  {
   "cell_type": "markdown",
   "metadata": {},
   "source": [
    "## Changing and Rearranging Indices"
   ]
  },
  {
   "cell_type": "markdown",
   "metadata": {},
   "source": [
    "In addition to replacing values of our data, we can also rearrange the order of variables and rows as well as make new ones. We have already seen how to change column names but we can also reset the index, as seen below. Alternatively, we can set our own custom index using [`set_index`](https://pandas.pydata.org/pandas-docs/stable/reference/api/pandas.DataFrame.set_index.html), with temporal data etc. which provides the DataFrame with new functionality."
   ]
  },
  {
   "cell_type": "code",
   "execution_count": null,
   "metadata": {},
   "outputs": [],
   "source": [
    "df1_new_index = df1.reset_index(drop=True)\n",
    "df1_new_index"
   ]
  },
  {
   "cell_type": "markdown",
   "metadata": {},
   "source": [
    "A powerful tool for re-organizing the data is to `sort` the data. That is, we can re-organize rows (or columns) such that they are ascending or descending according to one or more columns."
   ]
  },
  {
   "cell_type": "code",
   "execution_count": null,
   "metadata": {},
   "outputs": [],
   "source": [
    "df3_sorted = df3.sort_values(by=['A','B'], ascending=True)\n",
    "df3_sorted"
   ]
  },
  {
   "cell_type": "markdown",
   "metadata": {
    "deletable": false,
    "editable": false,
    "nbgrader": {
     "cell_type": "markdown",
     "checksum": "cbb8067af07dc7963f51c73eed4e9324",
     "grade": false,
     "grade_id": "cell-943bb851b2fda450",
     "locked": true,
     "schema_version": 3,
     "solution": false,
     "task": false
    }
   },
   "source": [
    "> **Ex 0.4.5:**  Inspect the indices in `df_select`. Are they following the sequence of natural numbers, 0,1,2,...? If not, reset the index and make sure to drop the old."
   ]
  },
  {
   "cell_type": "code",
   "execution_count": null,
   "metadata": {
    "deletable": false,
    "nbgrader": {
     "cell_type": "code",
     "checksum": "5c9d3c3b79089955ddb8f45471e6dd52",
     "grade": false,
     "grade_id": "problem_045",
     "locked": false,
     "schema_version": 3,
     "solution": true,
     "task": false
    }
   },
   "outputs": [],
   "source": [
    "# YOUR CODE HERE\n",
    "raise NotImplementedError()"
   ]
  },
  {
   "cell_type": "code",
   "execution_count": null,
   "metadata": {
    "deletable": false,
    "editable": false,
    "nbgrader": {
     "cell_type": "code",
     "checksum": "a395739db15aa2770caa89333e78d9f6",
     "grade": true,
     "grade_id": "problem_045_tests",
     "locked": true,
     "points": 1,
     "schema_version": 3,
     "solution": false,
     "task": false
    }
   },
   "outputs": [],
   "source": []
  },
  {
   "cell_type": "markdown",
   "metadata": {
    "deletable": false,
    "editable": false,
    "nbgrader": {
     "cell_type": "markdown",
     "checksum": "b9e5a8cc35c161640bc52b40e3b4972e",
     "grade": false,
     "grade_id": "cell-9ce1b7a6c622b8ab",
     "locked": true,
     "schema_version": 3,
     "solution": false,
     "task": false
    }
   },
   "source": [
    "> **Ex 0.4.6:** Make a new DataFrame where you have sorted by the maximum temperature. Save this DataFrame as the variable `df_sorted`. What is the date for the first and last observations?"
   ]
  },
  {
   "cell_type": "code",
   "execution_count": null,
   "metadata": {
    "deletable": false,
    "nbgrader": {
     "cell_type": "code",
     "checksum": "d8e940a4d860a004bb9ab08d2e7f9b41",
     "grade": false,
     "grade_id": "problem_046",
     "locked": false,
     "schema_version": 3,
     "solution": true,
     "task": false
    }
   },
   "outputs": [],
   "source": [
    "# YOUR CODE HERE\n",
    "raise NotImplementedError()"
   ]
  },
  {
   "cell_type": "code",
   "execution_count": null,
   "metadata": {
    "deletable": false,
    "editable": false,
    "nbgrader": {
     "cell_type": "code",
     "checksum": "39185f88a9f3a3dc916c8f82de141e70",
     "grade": true,
     "grade_id": "problem_046_tests",
     "locked": true,
     "points": 1,
     "schema_version": 3,
     "solution": false,
     "task": false
    }
   },
   "outputs": [],
   "source": []
  },
  {
   "cell_type": "markdown",
   "metadata": {},
   "source": [
    "### Combining what we have learned\n",
    "In the final exercise, we will combine some of the things that we have learned throughout this assignment. In particular, we'll:\n",
    "1. Code a function that can preprocess some data.\n",
    "2. Iterate over an iterable and apply our function on the specific object at each iteration.\n",
    "3. Concatenate everything into a single pandas DataFrame."
   ]
  },
  {
   "cell_type": "markdown",
   "metadata": {},
   "source": [
    "#### f-strings\n",
    "One last concept that could be helpful in the following exercise is the concept of [f-strings](https://www.freecodecamp.org/news/python-f-strings-tutorial-how-to-use-f-strings-for-string-formatting/). \n",
    "f-strings are a nice way to easily format strings in Python. \n",
    "\n",
    "Say that we want a function to return an url address for a specific website with one or more characters in the url replaced. \n",
    "\n",
    "In the following example, we want to get the url of the website of Wikipedia in different languages. This can be done by changing the part of the url string: https://en.wikipedia.org/. To do this, we can utilize f-strings. \n",
    "\n",
    "As an example, consider the function `change_url` below. It takes as input the variable `chars` and returns the string stored in the variable `url` with `chars` inserted inside the curly brackets. Setting `chars = \"da\"` and applying the function returns https://da.wikipedia.org/, the Danish wikipedia site. For more examples of f-strings, see [here](https://realpython.com/python-f-strings/#f-strings-a-new-and-improved-way-to-format-strings-in-python)."
   ]
  },
  {
   "cell_type": "code",
   "execution_count": null,
   "metadata": {},
   "outputs": [],
   "source": [
    "def change_url(chars):\n",
    "    url = f\"https://{chars}.wikipedia.org/\"\n",
    "    return url\n",
    "\n",
    "chars = \"da\"\n",
    "change_url(chars)"
   ]
  },
  {
   "cell_type": "markdown",
   "metadata": {
    "deletable": false,
    "editable": false,
    "nbgrader": {
     "cell_type": "markdown",
     "checksum": "48f65b74784092b1854ea44372189a3d",
     "grade": false,
     "grade_id": "cell-f0f04fc04db9ca33",
     "locked": true,
     "schema_version": 3,
     "solution": false,
     "task": false
    }
   },
   "source": [
    "> **Ex. 0.5.0:** Use the `change_url` function above together with a list comprehension to get a list with the url of Wikipedia in the languages contained in the list `[\"en\", \"da\", \"de\"]`. Store the result in the variable `answer_050`."
   ]
  },
  {
   "cell_type": "code",
   "execution_count": null,
   "metadata": {
    "deletable": false,
    "nbgrader": {
     "cell_type": "code",
     "checksum": "c39b9c618e1e65af50e174b1df6fc902",
     "grade": false,
     "grade_id": "problem_050",
     "locked": false,
     "schema_version": 3,
     "solution": true,
     "task": false
    }
   },
   "outputs": [],
   "source": [
    "# YOUR CODE HERE\n",
    "raise NotImplementedError()"
   ]
  },
  {
   "cell_type": "code",
   "execution_count": null,
   "metadata": {
    "deletable": false,
    "editable": false,
    "nbgrader": {
     "cell_type": "code",
     "checksum": "c94789bb78fd9f6a3559e9d6a276ad64",
     "grade": true,
     "grade_id": "problem_050_tests",
     "locked": true,
     "points": 1,
     "schema_version": 3,
     "solution": false,
     "task": false
    }
   },
   "outputs": [],
   "source": []
  },
  {
   "cell_type": "markdown",
   "metadata": {
    "deletable": false,
    "editable": false,
    "nbgrader": {
     "cell_type": "markdown",
     "checksum": "8a780a099e45617861d26f7d28a6ef09",
     "grade": false,
     "grade_id": "cell-7c012a7a011e3327",
     "locked": true,
     "schema_version": 3,
     "solution": false,
     "task": false
    }
   },
   "source": [
    "> **Ex. 0.5.1:** Finally, returning to the weather data, get the weather data for the years 1860-1863 and turn this into a single DataFrame. In order to do this follow the steps below: \n",
    "1. Create a function named `load_weather` that takes as input an integer and returns a preprocessed DataFrame by loading the url of  `'https://www1.ncdc.noaa.gov/pub/data/ghcn/daily/by_year/1863.csv.gz'` with the last integer of the given year replaced\n",
    "    - Process the loaded DataFrame by using .iloc[] and changing the column names for each year as we previously did for the year 1863\n",
    "3. Store the DataFrames in a list called `list_of_dfs`\n",
    "4. Convert the list into a single DataFrame by [concatenating vertically](https://pandas.pydata.org/docs/reference/api/pandas.concat.html) \n",
    "5. Store the final DataFrame as the variable `df_weather_period` and reset the index "
   ]
  },
  {
   "cell_type": "code",
   "execution_count": null,
   "metadata": {
    "deletable": false,
    "nbgrader": {
     "cell_type": "code",
     "checksum": "fbeea084642e6ae137829823e187b427",
     "grade": false,
     "grade_id": "problem_051",
     "locked": false,
     "schema_version": 3,
     "solution": true,
     "task": false
    }
   },
   "outputs": [],
   "source": [
    "# YOUR CODE HERE\n",
    "raise NotImplementedError()"
   ]
  },
  {
   "cell_type": "code",
   "execution_count": null,
   "metadata": {
    "deletable": false,
    "editable": false,
    "nbgrader": {
     "cell_type": "code",
     "checksum": "14d5710aefd9a42666c950f0fe589a38",
     "grade": true,
     "grade_id": "problem_051_tests",
     "locked": true,
     "points": 3,
     "schema_version": 3,
     "solution": false,
     "task": false
    },
    "tags": []
   },
   "outputs": [],
   "source": []
  }
 ],
 "metadata": {
  "kernelspec": {
   "display_name": "Python 3 (ipykernel)",
   "language": "python",
   "name": "python3"
  },
  "language_info": {
   "codemirror_mode": {
    "name": "ipython",
    "version": 3
   },
   "file_extension": ".py",
   "mimetype": "text/x-python",
   "name": "python",
   "nbconvert_exporter": "python",
   "pygments_lexer": "ipython3",
   "version": "3.10.9"
  },
  "varInspector": {
   "cols": {
    "lenName": 16,
    "lenType": 16,
    "lenVar": 40
   },
   "kernels_config": {
    "python": {
     "delete_cmd_postfix": "",
     "delete_cmd_prefix": "del ",
     "library": "var_list.py",
     "varRefreshCmd": "print(var_dic_list())"
    },
    "r": {
     "delete_cmd_postfix": ") ",
     "delete_cmd_prefix": "rm(",
     "library": "var_list.r",
     "varRefreshCmd": "cat(var_dic_list()) "
    }
   },
   "types_to_exclude": [
    "module",
    "function",
    "builtin_function_or_method",
    "instance",
    "_Feature"
   ],
   "window_display": false
  }
 },
 "nbformat": 4,
 "nbformat_minor": 4
}
