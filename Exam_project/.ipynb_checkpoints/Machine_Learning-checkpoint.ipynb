{
 "cells": [
  {
   "cell_type": "code",
   "execution_count": 253,
   "id": "5cf00bc2-4498-44cb-ae9c-8ab0b4cc27f0",
   "metadata": {},
   "outputs": [],
   "source": [
    "%matplotlib inline\n",
    "import numpy as np\n",
    "import pandas as pd\n",
    "import matplotlib.pyplot as plt"
   ]
  },
  {
   "cell_type": "markdown",
   "id": "bb8a2578-53db-4b98-84e0-7819f18879f9",
   "metadata": {},
   "source": [
    "# Data Cleaning"
   ]
  },
  {
   "cell_type": "code",
   "execution_count": 734,
   "id": "d35becb3-9bac-478d-b3e4-2ee9aedaf11f",
   "metadata": {},
   "outputs": [],
   "source": [
    "df = pd.read_csv('cleaned_data.csv', sep=';')"
   ]
  },
  {
   "cell_type": "code",
   "execution_count": 735,
   "id": "dcafe552-e8e9-4870-adaa-5bb0db0edd13",
   "metadata": {},
   "outputs": [],
   "source": [
    "# Create dummy variables for the 'Category' column\n",
    "dummy_1 = pd.get_dummies(df['property_type'], prefix='type')\n",
    "dummy_2 = pd.get_dummies(df['heating_source'], prefix = '')\n",
    "\n",
    "# Concatenate the dummy variables with the original DataFrame\n",
    "df_with_dummies = pd.concat([df, dummy_1,dummy_2], axis=1)"
   ]
  },
  {
   "cell_type": "code",
   "execution_count": 736,
   "id": "7e88810b-79a6-49f9-bcd9-2b98cbb854d8",
   "metadata": {},
   "outputs": [],
   "source": [
    "df_clean = df_with_dummies.drop(columns=['Maskinhus, garage mv.','Energimærke_nan', 'property_type',\n",
    "                                         'heating_source'])\n",
    "df_clean = df_clean.dropna().reset_index(drop=True)"
   ]
  },
  {
   "cell_type": "code",
   "execution_count": 737,
   "id": "b170af39-fb31-4868-a105-2aec504feeff",
   "metadata": {},
   "outputs": [
    {
     "name": "stderr",
     "output_type": "stream",
     "text": [
      "C:\\Users\\marko\\AppData\\Local\\Temp/ipykernel_21376/557726641.py:2: FutureWarning: The default value of regex will change from True to False in a future version. In addition, single character regular expressions will *not* be treated as literal strings when regex=True.\n",
      "  df_clean['Ejerudgift'] = df_clean['Ejerudgift'].str.replace(\".\", \"\")\n"
     ]
    },
    {
     "data": {
      "text/html": [
       "<div>\n",
       "<style scoped>\n",
       "    .dataframe tbody tr th:only-of-type {\n",
       "        vertical-align: middle;\n",
       "    }\n",
       "\n",
       "    .dataframe tbody tr th {\n",
       "        vertical-align: top;\n",
       "    }\n",
       "\n",
       "    .dataframe thead th {\n",
       "        text-align: right;\n",
       "    }\n",
       "</style>\n",
       "<table border=\"1\" class=\"dataframe\">\n",
       "  <thead>\n",
       "    <tr style=\"text-align: right;\">\n",
       "      <th></th>\n",
       "      <th>Rum</th>\n",
       "      <th>Toilet</th>\n",
       "      <th>Boligareal</th>\n",
       "      <th>Grundareal</th>\n",
       "      <th>Kontantpris</th>\n",
       "      <th>Ejerudgift</th>\n",
       "      <th>Plan</th>\n",
       "      <th>city_distance</th>\n",
       "      <th>Age</th>\n",
       "      <th>Energimærke_B</th>\n",
       "      <th>...</th>\n",
       "      <th>close_city_Copenhagen</th>\n",
       "      <th>close_city_Odense</th>\n",
       "      <th>type_Andelsbolig</th>\n",
       "      <th>type_Lejlighed</th>\n",
       "      <th>type_Rækkehus</th>\n",
       "      <th>type_Villa</th>\n",
       "      <th>_clean_renewable</th>\n",
       "      <th>_non_clean</th>\n",
       "      <th>_non_renewable</th>\n",
       "      <th>_other</th>\n",
       "    </tr>\n",
       "  </thead>\n",
       "  <tbody>\n",
       "    <tr>\n",
       "      <th>0</th>\n",
       "      <td>6.0</td>\n",
       "      <td>2.0</td>\n",
       "      <td>190.0</td>\n",
       "      <td>1.006</td>\n",
       "      <td>4945000.0</td>\n",
       "      <td>3481.0</td>\n",
       "      <td>1.0</td>\n",
       "      <td>60.51143</td>\n",
       "      <td>4.0</td>\n",
       "      <td>0</td>\n",
       "      <td>...</td>\n",
       "      <td>0</td>\n",
       "      <td>0</td>\n",
       "      <td>0</td>\n",
       "      <td>0</td>\n",
       "      <td>0</td>\n",
       "      <td>1</td>\n",
       "      <td>1</td>\n",
       "      <td>0</td>\n",
       "      <td>0</td>\n",
       "      <td>0</td>\n",
       "    </tr>\n",
       "    <tr>\n",
       "      <th>1</th>\n",
       "      <td>5.0</td>\n",
       "      <td>3.0</td>\n",
       "      <td>187.0</td>\n",
       "      <td>1.405</td>\n",
       "      <td>3995000.0</td>\n",
       "      <td>331.0</td>\n",
       "      <td>1.0</td>\n",
       "      <td>61.33861</td>\n",
       "      <td>66.0</td>\n",
       "      <td>0</td>\n",
       "      <td>...</td>\n",
       "      <td>0</td>\n",
       "      <td>1</td>\n",
       "      <td>0</td>\n",
       "      <td>0</td>\n",
       "      <td>0</td>\n",
       "      <td>1</td>\n",
       "      <td>1</td>\n",
       "      <td>0</td>\n",
       "      <td>0</td>\n",
       "      <td>0</td>\n",
       "    </tr>\n",
       "    <tr>\n",
       "      <th>2</th>\n",
       "      <td>4.0</td>\n",
       "      <td>2.0</td>\n",
       "      <td>146.0</td>\n",
       "      <td>930.000</td>\n",
       "      <td>3495000.0</td>\n",
       "      <td>2979.0</td>\n",
       "      <td>2.0</td>\n",
       "      <td>63.09367</td>\n",
       "      <td>47.0</td>\n",
       "      <td>0</td>\n",
       "      <td>...</td>\n",
       "      <td>0</td>\n",
       "      <td>1</td>\n",
       "      <td>0</td>\n",
       "      <td>0</td>\n",
       "      <td>0</td>\n",
       "      <td>1</td>\n",
       "      <td>0</td>\n",
       "      <td>0</td>\n",
       "      <td>1</td>\n",
       "      <td>0</td>\n",
       "    </tr>\n",
       "    <tr>\n",
       "      <th>3</th>\n",
       "      <td>5.0</td>\n",
       "      <td>2.0</td>\n",
       "      <td>143.0</td>\n",
       "      <td>391.000</td>\n",
       "      <td>7395000.0</td>\n",
       "      <td>3242.0</td>\n",
       "      <td>1.0</td>\n",
       "      <td>64.48529</td>\n",
       "      <td>145.0</td>\n",
       "      <td>0</td>\n",
       "      <td>...</td>\n",
       "      <td>0</td>\n",
       "      <td>1</td>\n",
       "      <td>0</td>\n",
       "      <td>0</td>\n",
       "      <td>0</td>\n",
       "      <td>1</td>\n",
       "      <td>1</td>\n",
       "      <td>0</td>\n",
       "      <td>0</td>\n",
       "      <td>0</td>\n",
       "    </tr>\n",
       "    <tr>\n",
       "      <th>4</th>\n",
       "      <td>4.0</td>\n",
       "      <td>2.0</td>\n",
       "      <td>150.0</td>\n",
       "      <td>617.000</td>\n",
       "      <td>2195000.0</td>\n",
       "      <td>2921.0</td>\n",
       "      <td>2.0</td>\n",
       "      <td>63.19188</td>\n",
       "      <td>96.0</td>\n",
       "      <td>0</td>\n",
       "      <td>...</td>\n",
       "      <td>0</td>\n",
       "      <td>1</td>\n",
       "      <td>0</td>\n",
       "      <td>0</td>\n",
       "      <td>0</td>\n",
       "      <td>1</td>\n",
       "      <td>1</td>\n",
       "      <td>0</td>\n",
       "      <td>0</td>\n",
       "      <td>0</td>\n",
       "    </tr>\n",
       "    <tr>\n",
       "      <th>...</th>\n",
       "      <td>...</td>\n",
       "      <td>...</td>\n",
       "      <td>...</td>\n",
       "      <td>...</td>\n",
       "      <td>...</td>\n",
       "      <td>...</td>\n",
       "      <td>...</td>\n",
       "      <td>...</td>\n",
       "      <td>...</td>\n",
       "      <td>...</td>\n",
       "      <td>...</td>\n",
       "      <td>...</td>\n",
       "      <td>...</td>\n",
       "      <td>...</td>\n",
       "      <td>...</td>\n",
       "      <td>...</td>\n",
       "      <td>...</td>\n",
       "      <td>...</td>\n",
       "      <td>...</td>\n",
       "      <td>...</td>\n",
       "      <td>...</td>\n",
       "    </tr>\n",
       "    <tr>\n",
       "      <th>4379</th>\n",
       "      <td>4.0</td>\n",
       "      <td>1.0</td>\n",
       "      <td>96.0</td>\n",
       "      <td>734.000</td>\n",
       "      <td>2875000.0</td>\n",
       "      <td>1876.0</td>\n",
       "      <td>1.0</td>\n",
       "      <td>14.38579</td>\n",
       "      <td>63.0</td>\n",
       "      <td>0</td>\n",
       "      <td>...</td>\n",
       "      <td>1</td>\n",
       "      <td>0</td>\n",
       "      <td>0</td>\n",
       "      <td>1</td>\n",
       "      <td>0</td>\n",
       "      <td>0</td>\n",
       "      <td>1</td>\n",
       "      <td>0</td>\n",
       "      <td>0</td>\n",
       "      <td>0</td>\n",
       "    </tr>\n",
       "    <tr>\n",
       "      <th>4380</th>\n",
       "      <td>3.0</td>\n",
       "      <td>1.0</td>\n",
       "      <td>70.0</td>\n",
       "      <td>583.000</td>\n",
       "      <td>1395000.0</td>\n",
       "      <td>2044.0</td>\n",
       "      <td>1.0</td>\n",
       "      <td>2.03041</td>\n",
       "      <td>107.0</td>\n",
       "      <td>0</td>\n",
       "      <td>...</td>\n",
       "      <td>0</td>\n",
       "      <td>1</td>\n",
       "      <td>0</td>\n",
       "      <td>1</td>\n",
       "      <td>0</td>\n",
       "      <td>0</td>\n",
       "      <td>1</td>\n",
       "      <td>0</td>\n",
       "      <td>0</td>\n",
       "      <td>0</td>\n",
       "    </tr>\n",
       "    <tr>\n",
       "      <th>4381</th>\n",
       "      <td>5.0</td>\n",
       "      <td>2.0</td>\n",
       "      <td>80.0</td>\n",
       "      <td>525.000</td>\n",
       "      <td>1499000.0</td>\n",
       "      <td>1582.0</td>\n",
       "      <td>1.0</td>\n",
       "      <td>1.69283</td>\n",
       "      <td>76.0</td>\n",
       "      <td>0</td>\n",
       "      <td>...</td>\n",
       "      <td>0</td>\n",
       "      <td>1</td>\n",
       "      <td>0</td>\n",
       "      <td>1</td>\n",
       "      <td>0</td>\n",
       "      <td>0</td>\n",
       "      <td>1</td>\n",
       "      <td>0</td>\n",
       "      <td>0</td>\n",
       "      <td>0</td>\n",
       "    </tr>\n",
       "    <tr>\n",
       "      <th>4382</th>\n",
       "      <td>2.0</td>\n",
       "      <td>2.0</td>\n",
       "      <td>63.0</td>\n",
       "      <td>318.000</td>\n",
       "      <td>1175000.0</td>\n",
       "      <td>2669.0</td>\n",
       "      <td>2.0</td>\n",
       "      <td>35.99106</td>\n",
       "      <td>87.0</td>\n",
       "      <td>0</td>\n",
       "      <td>...</td>\n",
       "      <td>0</td>\n",
       "      <td>0</td>\n",
       "      <td>0</td>\n",
       "      <td>1</td>\n",
       "      <td>0</td>\n",
       "      <td>0</td>\n",
       "      <td>1</td>\n",
       "      <td>0</td>\n",
       "      <td>0</td>\n",
       "      <td>0</td>\n",
       "    </tr>\n",
       "    <tr>\n",
       "      <th>4383</th>\n",
       "      <td>5.0</td>\n",
       "      <td>2.0</td>\n",
       "      <td>129.0</td>\n",
       "      <td>1.292</td>\n",
       "      <td>6995000.0</td>\n",
       "      <td>502.0</td>\n",
       "      <td>1.0</td>\n",
       "      <td>23.29483</td>\n",
       "      <td>108.0</td>\n",
       "      <td>0</td>\n",
       "      <td>...</td>\n",
       "      <td>1</td>\n",
       "      <td>0</td>\n",
       "      <td>0</td>\n",
       "      <td>1</td>\n",
       "      <td>0</td>\n",
       "      <td>0</td>\n",
       "      <td>1</td>\n",
       "      <td>0</td>\n",
       "      <td>0</td>\n",
       "      <td>0</td>\n",
       "    </tr>\n",
       "  </tbody>\n",
       "</table>\n",
       "<p>4384 rows × 30 columns</p>\n",
       "</div>"
      ],
      "text/plain": [
       "      Rum  Toilet  Boligareal  Grundareal  Kontantpris  Ejerudgift  Plan  \\\n",
       "0     6.0     2.0       190.0       1.006    4945000.0      3481.0   1.0   \n",
       "1     5.0     3.0       187.0       1.405    3995000.0       331.0   1.0   \n",
       "2     4.0     2.0       146.0     930.000    3495000.0      2979.0   2.0   \n",
       "3     5.0     2.0       143.0     391.000    7395000.0      3242.0   1.0   \n",
       "4     4.0     2.0       150.0     617.000    2195000.0      2921.0   2.0   \n",
       "...   ...     ...         ...         ...          ...         ...   ...   \n",
       "4379  4.0     1.0        96.0     734.000    2875000.0      1876.0   1.0   \n",
       "4380  3.0     1.0        70.0     583.000    1395000.0      2044.0   1.0   \n",
       "4381  5.0     2.0        80.0     525.000    1499000.0      1582.0   1.0   \n",
       "4382  2.0     2.0        63.0     318.000    1175000.0      2669.0   2.0   \n",
       "4383  5.0     2.0       129.0       1.292    6995000.0       502.0   1.0   \n",
       "\n",
       "      city_distance    Age  Energimærke_B  ...  close_city_Copenhagen  \\\n",
       "0          60.51143    4.0              0  ...                      0   \n",
       "1          61.33861   66.0              0  ...                      0   \n",
       "2          63.09367   47.0              0  ...                      0   \n",
       "3          64.48529  145.0              0  ...                      0   \n",
       "4          63.19188   96.0              0  ...                      0   \n",
       "...             ...    ...            ...  ...                    ...   \n",
       "4379       14.38579   63.0              0  ...                      1   \n",
       "4380        2.03041  107.0              0  ...                      0   \n",
       "4381        1.69283   76.0              0  ...                      0   \n",
       "4382       35.99106   87.0              0  ...                      0   \n",
       "4383       23.29483  108.0              0  ...                      1   \n",
       "\n",
       "      close_city_Odense  type_Andelsbolig  type_Lejlighed  type_Rækkehus  \\\n",
       "0                     0                 0               0              0   \n",
       "1                     1                 0               0              0   \n",
       "2                     1                 0               0              0   \n",
       "3                     1                 0               0              0   \n",
       "4                     1                 0               0              0   \n",
       "...                 ...               ...             ...            ...   \n",
       "4379                  0                 0               1              0   \n",
       "4380                  1                 0               1              0   \n",
       "4381                  1                 0               1              0   \n",
       "4382                  0                 0               1              0   \n",
       "4383                  0                 0               1              0   \n",
       "\n",
       "      type_Villa  _clean_renewable  _non_clean  _non_renewable  _other  \n",
       "0              1                 1           0               0       0  \n",
       "1              1                 1           0               0       0  \n",
       "2              1                 0           0               1       0  \n",
       "3              1                 1           0               0       0  \n",
       "4              1                 1           0               0       0  \n",
       "...          ...               ...         ...             ...     ...  \n",
       "4379           0                 1           0               0       0  \n",
       "4380           0                 1           0               0       0  \n",
       "4381           0                 1           0               0       0  \n",
       "4382           0                 1           0               0       0  \n",
       "4383           0                 1           0               0       0  \n",
       "\n",
       "[4384 rows x 30 columns]"
      ]
     },
     "execution_count": 737,
     "metadata": {},
     "output_type": "execute_result"
    }
   ],
   "source": [
    "df_clean['Ejerudgift'] = df_clean['Ejerudgift'].astype(str)\n",
    "df_clean['Ejerudgift'] = df_clean['Ejerudgift'].str.replace(\".\", \"\")\n",
    "df_clean['Ejerudgift'] = df_clean['Ejerudgift'].astype(float)\n",
    "df_clean"
   ]
  },
  {
   "cell_type": "markdown",
   "id": "6c8f068e-1e0f-4695-b92d-56496417ca8d",
   "metadata": {},
   "source": [
    "Remove outliers"
   ]
  },
  {
   "cell_type": "code",
   "execution_count": 738,
   "id": "e9f8b0b7-23ed-4e81-b048-8bf60863a0e0",
   "metadata": {},
   "outputs": [],
   "source": [
    "column_to_remove_outliers = ['Kontantpris','Ejerudgift','Boligareal','city_distance', 'Rum', 'Age', 'Grundareal']\n",
    "\n",
    "def remove_outliers_iqr(data, column):\n",
    "    Q1 = data[column].quantile(0.25)\n",
    "    Q3 = data[column].quantile(0.75)\n",
    "    IQR = Q3 - Q1\n",
    "    lower_bound = Q1 - 1.5 * IQR\n",
    "    upper_bound = Q3 + 1.5 * IQR\n",
    "    return data[(data[column] >= lower_bound) & (data[column] <= upper_bound)]\n",
    "\n",
    "for column in columns_to_remove_outliers:\n",
    "    df_clean = remove_outliers_iqr(df_clean, column)"
   ]
  },
  {
   "cell_type": "markdown",
   "id": "f6a825bc-7b50-44e7-a387-d3d79d5a310a",
   "metadata": {},
   "source": [
    "Focus just on Copenhagen. <br>\n",
    "Or decrease the distance to cities."
   ]
  },
  {
   "cell_type": "code",
   "execution_count": 739,
   "id": "57ecad16-6f2c-4ab4-ab50-dc84645d5819",
   "metadata": {},
   "outputs": [],
   "source": [
    "#df_clean = df_clean[df_clean['close_city_Copenhagen'] == 1]\n",
    "#df_clean = df_clean.drop(columns=['close_city_Aarhus','close_city_Copenhagen','close_city_Odense'])\n",
    "#df_clean = df_clean[df_clean['city_distance'] <= 20]\n",
    "#df_clean"
   ]
  },
  {
   "cell_type": "markdown",
   "id": "47b95fe4-fdc9-42a8-bc97-40cc0664c571",
   "metadata": {},
   "source": [
    "# Machine learning models"
   ]
  },
  {
   "cell_type": "code",
   "execution_count": 766,
   "id": "3c88ab3f-7c55-4d89-9209-9d1b2dd3ad05",
   "metadata": {},
   "outputs": [],
   "source": [
    "from sklearn.metrics import mean_squared_error as mse\n",
    "from sklearn.metrics import r2_score\n",
    "from sklearn.pipeline import make_pipeline\n",
    "from sklearn.model_selection import train_test_split\n",
    "from sklearn.preprocessing import PolynomialFeatures, StandardScaler\n",
    "from sklearn.linear_model import LinearRegression, Lasso"
   ]
  },
  {
   "cell_type": "code",
   "execution_count": 767,
   "id": "322fa8d0-ae6d-4ce5-890c-936170e44a18",
   "metadata": {},
   "outputs": [],
   "source": [
    "y = df_clean['Kontantpris']\n",
    "X = df_clean.drop(columns=['Kontantpris'])"
   ]
  },
  {
   "cell_type": "code",
   "execution_count": 768,
   "id": "dade7483-d6c6-462f-92e7-bf3d7833a2fb",
   "metadata": {},
   "outputs": [],
   "source": [
    "X_dev, X_test, y_dev, y_test = train_test_split(X, y, test_size=0.3, random_state=10)\n",
    "#X_train, X_val, y_train, y_val = train_test_split(X_dev, y_dev, test_size=1/2, random_state=10)"
   ]
  },
  {
   "cell_type": "markdown",
   "id": "b44b8db3-3e81-4cc2-82d1-fba9d307976f",
   "metadata": {},
   "source": [
    "## Linear Regression"
   ]
  },
  {
   "cell_type": "code",
   "execution_count": 778,
   "id": "2a9c7fce-bd92-4171-a645-9d35e793f012",
   "metadata": {},
   "outputs": [
    {
     "name": "stdout",
     "output_type": "stream",
     "text": [
      "928803.4633185108 927552.9351441006\n"
     ]
    }
   ],
   "source": [
    "pipe_lr = make_pipeline(PolynomialFeatures(degree=1, include_bias=False),\n",
    "                        StandardScaler(),\n",
    "                        LinearRegression())\n",
    "\n",
    "pipe_lr.fit(X_dev, y_dev)\n",
    "y_train_pred = pipe_lr.predict(X_dev)\n",
    "y_test_pred = pipe_lr.predict(X_test)\n",
    "\n",
    "train_rmse = np.sqrt(mse(y_dev, y_train_pred))\n",
    "test_rmse = np.sqrt(mse(y_test, y_test_pred))\n",
    "print(train_rmse,test_rmse)"
   ]
  },
  {
   "cell_type": "code",
   "execution_count": 779,
   "id": "c45c9112-c1ad-4b45-8dc0-b63b2587c375",
   "metadata": {},
   "outputs": [
    {
     "data": {
      "image/png": "[encoded data removed]",
      "text/plain": [
       "<Figure size 432x288 with 1 Axes>"
      ]
     },
     "metadata": {},
     "output_type": "display_data"
    }
   ],
   "source": [
    "# Plot y_test vs y_pred\n",
    "plt.scatter(y_test, y_test_pred, color='blue', label='Actual vs Predicted')\n",
    "plt.plot([y_test.min(), y_test.max()], [y_test.min(), y_test.max()], linestyle='--', color='red', label='Ideal Line')\n",
    "plt.xlabel('Actual Values')\n",
    "plt.ylabel('Predicted Values')\n",
    "plt.title('Actual vs Predicted Values')\n",
    "plt.legend()\n",
    "plt.show()"
   ]
  },
  {
   "cell_type": "code",
   "execution_count": 780,
   "id": "ceb2347b-6fab-46df-a59d-4cd238f93c09",
   "metadata": {},
   "outputs": [
    {
     "data": {
      "text/plain": [
       "0.5696414895519766"
      ]
     },
     "execution_count": 780,
     "metadata": {},
     "output_type": "execute_result"
    }
   ],
   "source": [
    "r2_linear = r2_score(y_test, y_test_pred)\n",
    "r2_linear"
   ]
  },
  {
   "cell_type": "code",
   "execution_count": 801,
   "id": "35aa7eda-e7fe-499b-9ae5-2674533f1b4d",
   "metadata": {},
   "outputs": [
    {
     "name": "stdout",
     "output_type": "stream",
     "text": [
      "Coefficients: {'memory': None, 'steps': [('polynomialfeatures', PolynomialFeatures(degree=1, include_bias=False)), ('standardscaler', StandardScaler()), ('linearregression', LinearRegression())], 'verbose': False, 'polynomialfeatures': PolynomialFeatures(degree=1, include_bias=False), 'standardscaler': StandardScaler(), 'linearregression': LinearRegression(), 'polynomialfeatures__degree': 1, 'polynomialfeatures__include_bias': False, 'polynomialfeatures__interaction_only': False, 'polynomialfeatures__order': 'C', 'standardscaler__copy': True, 'standardscaler__with_mean': True, 'standardscaler__with_std': True, 'linearregression__copy_X': True, 'linearregression__fit_intercept': True, 'linearregression__n_jobs': None, 'linearregression__normalize': False, 'linearregression__positive': False}\n"
     ]
    }
   ],
   "source": [
    "coefficients = pipe_lr.get_params(deep=True)\n",
    "print(\"Coefficients:\", coefficients)\n"
   ]
  },
  {
   "cell_type": "code",
   "execution_count": 802,
   "id": "456db9ae-02e8-411c-b91f-7d9352f636a8",
   "metadata": {},
   "outputs": [
    {
     "name": "stdout",
     "output_type": "stream",
     "text": [
      "Coefficients: [ 6.23498377e+04  1.34518899e+05  2.39876548e+05  1.10276297e+05\n",
      "  4.06479826e+05 -3.91859019e+04 -4.74533232e+05 -1.04639172e+05\n",
      " -1.18932120e+05 -3.52691462e+05 -4.61084707e+05 -4.10178967e+05\n",
      " -2.79015849e+05 -2.52380858e+05  1.04839140e+05 -5.37083783e+04\n",
      " -1.17638094e+04 -3.85445347e+04  2.80806173e+05  5.82588349e+05\n",
      "  2.26035329e+05 -3.81101972e+09 -3.06863220e+17 -2.95052692e+17\n",
      " -3.99597090e+17 -1.09281154e+16 -7.26091106e+15 -8.58200462e+15\n",
      " -2.46313752e+15]\n"
     ]
    }
   ],
   "source": [
    "coefficients = pipe_lr.named_steps['linearregression'].coef_\n",
    "print(\"Coefficients:\", coefficients)\n",
    "scaling_factors = pipe_lr.named_steps['standardscaler'].scale_\n",
    "rescaled_coefficients = coefficients / scaling_factors"
   ]
  },
  {
   "cell_type": "code",
   "execution_count": 803,
   "id": "b2a87bf8-e5ff-403a-980b-dc89512664e0",
   "metadata": {},
   "outputs": [
    {
     "data": {
      "image/png": "[encoded data removed]",
      "text/plain": [
       "<Figure size 864x432 with 2 Axes>"
      ]
     },
     "metadata": {},
     "output_type": "display_data"
    }
   ],
   "source": [
    "# Create a DataFrame with rescaled coefficients and feature names\n",
    "coef_df = pd.DataFrame(rescaled_coefficients, X.columns, columns=['Coefficient'])\n",
    "\n",
    "# Split coefficients into positive and negative parts\n",
    "positive_coef = coef_df[coef_df['Coefficient'] > 0]\n",
    "negative_coef = coef_df[coef_df['Coefficient'] < 0]\n",
    "\n",
    "# Create subplots with positive and negative coefficients\n",
    "fig, (ax1, ax2) = plt.subplots(1, 2, figsize=(12, 6))\n",
    "positive_coef.plot(kind='barh', ax=ax1)\n",
    "negative_coef.plot(kind='barh', ax=ax2)\n",
    "\n",
    "ax1.set_title('Positive Coefficients')\n",
    "ax2.set_title('Negative Coefficients')\n",
    "\n",
    "plt.tight_layout()\n",
    "plt.show()"
   ]
  },
  {
   "cell_type": "markdown",
   "id": "208b2b2b-203e-4179-8c6d-aae0646d64b8",
   "metadata": {},
   "source": [
    "## Lasso"
   ]
  },
  {
   "cell_type": "code",
   "execution_count": 757,
   "id": "a36384a7-b1c8-439c-8974-6f0e86fd83ac",
   "metadata": {},
   "outputs": [
    {
     "name": "stdout",
     "output_type": "stream",
     "text": [
      "Optimal lambda: 6158.482110660255\n",
      "Validation MSE: 829915498172.589\n"
     ]
    }
   ],
   "source": [
    "perform = [] # Store performance\n",
    "lambdas = np.logspace(-8, 8, 20) # Grid of lambdas\n",
    "\n",
    "# FOR EACH LAMBDA, FIT A MODEL ON TRAINING DATA, CHECK PERFORMANCE ON VALIDATION AND STORE MSE\n",
    "for lambda_ in lambdas:\n",
    "    pipe_lasso = make_pipeline(PolynomialFeatures(degree=1, include_bias=False), \n",
    "                               StandardScaler(),\n",
    "                               Lasso(alpha=lambda_, random_state=161193))\n",
    "    pipe_lasso.fit(X_dev, y_dev)\n",
    "    y_pred = pipe_lasso.predict(X_test)\n",
    "    perform.append(mse(y_pred, y_test))\n",
    "\n",
    "# CRATE A SERIES WITH PERFORMANCE AND FIND PARM WITH LOWEST MSE    \n",
    "hyperparam_perform = pd.Series(perform,index=lambdas)\n",
    "optimal = hyperparam_perform.nsmallest(1)    \n",
    "print('Optimal lambda:', optimal.index[0])\n",
    "print('Validation MSE: %.3f' % optimal.values[0])"
   ]
  },
  {
   "cell_type": "code",
   "execution_count": 758,
   "id": "6ba01d81-c46c-4572-923e-269261e54083",
   "metadata": {},
   "outputs": [
    {
     "data": {
      "image/png": "[encoded data removed]",
      "text/plain": [
       "<Figure size 576x432 with 1 Axes>"
      ]
     },
     "metadata": {},
     "output_type": "display_data"
    }
   ],
   "source": [
    "# Create a line plot of MSE values\n",
    "plt.figure(figsize=(8, 6))\n",
    "plt.plot(lambdas, perform, marker='o')\n",
    "plt.xscale('log')  # Use a logarithmic scale for x-axis (optional)\n",
    "plt.title('MSE vs. Alpha (Lasso Regularization)')\n",
    "plt.xlabel('Alpha (Lambda)')\n",
    "plt.ylabel('Mean Squared Error (MSE)')\n",
    "plt.grid(True)\n",
    "plt.show()"
   ]
  },
  {
   "cell_type": "code",
   "execution_count": 759,
   "id": "74e32a30-fcf7-4825-9122-a635f23ef759",
   "metadata": {},
   "outputs": [],
   "source": [
    "lasso_model = Lasso(alpha=6158.482110660255)  # Adjust the alpha parameter as needed\n",
    "lasso_model.fit(X_dev, y_dev)\n",
    "\n",
    "# Make predictions on the test set\n",
    "y_pred = lasso_model.predict(X_test)\n",
    "\n",
    "# Calculate the Mean Squared Error (MSE)\n",
    "#mse = mse(y_test, y_pred)"
   ]
  },
  {
   "cell_type": "code",
   "execution_count": 760,
   "id": "f546454f-507b-411a-bd26-af965c335381",
   "metadata": {},
   "outputs": [
    {
     "data": {
      "image/png": "[encoded data removed]",
      "text/plain": [
       "<Figure size 576x432 with 1 Axes>"
      ]
     },
     "metadata": {},
     "output_type": "display_data"
    }
   ],
   "source": [
    "plt.figure(figsize=(8, 6))\n",
    "plt.scatter(y_test, y_pred, alpha=0.5)\n",
    "plt.plot([min(y_test), max(y_test)], [min(y_test), max(y_test)], color='red', linestyle='--')\n",
    "plt.title('Predicted vs. Actual Values (Lasso Regression)')\n",
    "plt.xlabel('Actual Values')\n",
    "plt.ylabel('Predicted Values')\n",
    "plt.show()"
   ]
  },
  {
   "cell_type": "markdown",
   "id": "9f0e3726-49ff-44e5-a6a9-5b820d10b2d7",
   "metadata": {},
   "source": [
    "## Ridge"
   ]
  },
  {
   "cell_type": "code",
   "execution_count": 761,
   "id": "214da711-4765-48bc-9606-144494c4c112",
   "metadata": {},
   "outputs": [
    {
     "name": "stdout",
     "output_type": "stream",
     "text": [
      "Optimal lambda: 1e-08\n",
      "Validation MSE: 1198879907694.813\n"
     ]
    }
   ],
   "source": [
    "from sklearn.linear_model import Ridge\n",
    "\n",
    "\n",
    "performance = [] # Store performance\n",
    "lambdas = np.logspace(-8, 8, 20) # Grid of lambdas\n",
    "\n",
    "# FOR EACH LAMBDA, FIT A MODEL ON TRAINING DATA, CHECK PERFORMANCE ON VALIDATION AND STORE MSE\n",
    "for lambda_ in lambdas:\n",
    "    pipe_ridge = make_pipeline(PolynomialFeatures(degree=1, include_bias=False), \n",
    "                           StandardScaler(),\n",
    "                           Ridge(alpha=6400, random_state=161193))\n",
    "    pipe_ridge.fit(X_dev,y_dev)\n",
    "    y_pred = pipe_ridge.predict(X_test)\n",
    "    performance.append(mse(y_pred, y_test))\n",
    "\n",
    "# CRATE A SERIES WITH PERFORMANCE AND FIND PARM WITH LOWEST MSE    \n",
    "hyperparam_perform = pd.Series(performance,index=lambdas)\n",
    "optimal = hyperparam_perform.nsmallest(1)    \n",
    "print('Optimal lambda:', optimal.index[0])\n",
    "print('Validation MSE: %.3f' % optimal.values[0])"
   ]
  },
  {
   "cell_type": "code",
   "execution_count": 762,
   "id": "a53967aa-3592-4a15-991e-721d03a47ed6",
   "metadata": {},
   "outputs": [
    {
     "name": "stdout",
     "output_type": "stream",
     "text": [
      "1198879907694.8127\n"
     ]
    }
   ],
   "source": [
    "pipe_ridge = make_pipeline(PolynomialFeatures(degree=1, include_bias=False), \n",
    "                           StandardScaler(),\n",
    "                           Ridge(alpha=6400, random_state=161193))\n",
    "pipe_ridge.fit(X_dev,y_dev)\n",
    "y_pred = pipe_ridge.predict(X_test)\n",
    "# Calculate Mean Squared Error\n",
    "print(mse(y_test, y_pred))"
   ]
  },
  {
   "cell_type": "code",
   "execution_count": 763,
   "id": "676677b6-108e-421e-a03d-415032c9f0b3",
   "metadata": {},
   "outputs": [
    {
     "data": {
      "image/png": "[encoded data removed]",
      "text/plain": [
       "<Figure size 576x432 with 1 Axes>"
      ]
     },
     "metadata": {},
     "output_type": "display_data"
    }
   ],
   "source": [
    "# Create a line plot of MSE values\n",
    "plt.figure(figsize=(8, 6))\n",
    "plt.plot(lambdas, performance, marker='o')\n",
    "plt.xscale('log')  # Use a logarithmic scale for x-axis (optional)\n",
    "plt.title('MSE vs. Alpha (Ridge Regularization)')\n",
    "plt.xlabel('Alpha (Lambda)')\n",
    "plt.ylabel('Mean Squared Error (MSE)')\n",
    "plt.grid(True)\n",
    "plt.show()"
   ]
  },
  {
   "cell_type": "markdown",
   "id": "9256ae38-7f31-4006-bb14-2002ae6eca0e",
   "metadata": {},
   "source": [
    "## Model Validation"
   ]
  },
  {
   "cell_type": "markdown",
   "id": "00110ea8-11d9-4d6a-9f34-4db014d6a0d5",
   "metadata": {},
   "source": [
    "Select optimal hypterparameters"
   ]
  },
  {
   "cell_type": "code",
   "execution_count": 774,
   "id": "2dc94d95-6ff4-42e9-b580-13baccc586ae",
   "metadata": {},
   "outputs": [],
   "source": [
    "from sklearn.model_selection import GridSearchCV\n",
    "from sklearn.linear_model import ElasticNet\n",
    "\n",
    "lambdas = np.logspace(-4, 4, 10) # Grid of lambdas\n",
    "\n",
    "pipe_el = make_pipeline(PolynomialFeatures(degree=2, include_bias=False), \n",
    "                        StandardScaler(),\n",
    "                        ElasticNet())\n",
    "\n",
    "gs = GridSearchCV(estimator=pipe_el, \n",
    "                  param_grid={'elasticnet__alpha':lambdas,\n",
    "                              'elasticnet__l1_ratio':np.linspace(0,1,10)}, \n",
    "                  scoring='neg_mean_squared_error', \n",
    "                  cv=10)\n",
    "\n",
    "#gs.fit(X_dev, y_dev)\n",
    "#print(mse(gs.predict(X_test),y_test))"
   ]
  },
  {
   "cell_type": "code",
   "execution_count": null,
   "id": "71810ed3-4353-4267-8359-d6b626bf646f",
   "metadata": {},
   "outputs": [],
   "source": []
  },
  {
   "cell_type": "code",
   "execution_count": null,
   "id": "0f1fc88f-61a9-47b9-9a1e-f3c505e682a8",
   "metadata": {},
   "outputs": [],
   "source": []
  },
  {
   "cell_type": "code",
   "execution_count": null,
   "id": "d1c9b9cd-99c2-4586-8978-a945a9c1cca5",
   "metadata": {},
   "outputs": [],
   "source": []
  },
  {
   "cell_type": "code",
   "execution_count": null,
   "id": "700853c2-da82-4444-b25a-56c8d84c1701",
   "metadata": {},
   "outputs": [],
   "source": []
  },
  {
   "cell_type": "markdown",
   "id": "ac026d5d-8e18-41f6-ab56-a7bc1de07a72",
   "metadata": {},
   "source": [
    "## Compare Models"
   ]
  },
  {
   "cell_type": "markdown",
   "id": "c87c2515-a66c-46ca-bf25-02472dec4c20",
   "metadata": {},
   "source": [
    "### Compare R squared "
   ]
  },
  {
   "cell_type": "code",
   "execution_count": null,
   "id": "36c3cdd0-2196-4198-9e3c-005c81f31ee9",
   "metadata": {},
   "outputs": [],
   "source": []
  },
  {
   "cell_type": "code",
   "execution_count": null,
   "id": "4e60d040-b752-4203-abdf-5875d4eb03f7",
   "metadata": {},
   "outputs": [],
   "source": []
  },
  {
   "cell_type": "markdown",
   "id": "74eafe0a-8efe-4d4e-9fca-913e4784707a",
   "metadata": {},
   "source": [
    "### Learning curves"
   ]
  },
  {
   "cell_type": "code",
   "execution_count": 764,
   "id": "9381e160-dbc0-4601-9638-2b8827070976",
   "metadata": {},
   "outputs": [
    {
     "data": {
      "text/html": [
       "<div>\n",
       "<style scoped>\n",
       "    .dataframe tbody tr th:only-of-type {\n",
       "        vertical-align: middle;\n",
       "    }\n",
       "\n",
       "    .dataframe tbody tr th {\n",
       "        vertical-align: top;\n",
       "    }\n",
       "\n",
       "    .dataframe thead th {\n",
       "        text-align: right;\n",
       "    }\n",
       "</style>\n",
       "<table border=\"1\" class=\"dataframe\">\n",
       "  <thead>\n",
       "    <tr style=\"text-align: right;\">\n",
       "      <th></th>\n",
       "      <th>Train</th>\n",
       "      <th>Test</th>\n",
       "    </tr>\n",
       "    <tr>\n",
       "      <th>sample size</th>\n",
       "      <th></th>\n",
       "      <th></th>\n",
       "    </tr>\n",
       "  </thead>\n",
       "  <tbody>\n",
       "    <tr>\n",
       "      <th>66</th>\n",
       "      <td>5.153717e+11</td>\n",
       "      <td>1.185710e+12</td>\n",
       "    </tr>\n",
       "    <tr>\n",
       "      <th>132</th>\n",
       "      <td>6.275147e+11</td>\n",
       "      <td>1.061798e+12</td>\n",
       "    </tr>\n",
       "    <tr>\n",
       "      <th>198</th>\n",
       "      <td>6.676269e+11</td>\n",
       "      <td>9.499761e+11</td>\n",
       "    </tr>\n",
       "    <tr>\n",
       "      <th>264</th>\n",
       "      <td>7.509423e+11</td>\n",
       "      <td>9.552356e+11</td>\n",
       "    </tr>\n",
       "    <tr>\n",
       "      <th>330</th>\n",
       "      <td>7.660382e+11</td>\n",
       "      <td>9.271289e+11</td>\n",
       "    </tr>\n",
       "    <tr>\n",
       "      <th>396</th>\n",
       "      <td>7.943431e+11</td>\n",
       "      <td>8.843553e+11</td>\n",
       "    </tr>\n",
       "    <tr>\n",
       "      <th>463</th>\n",
       "      <td>8.062229e+11</td>\n",
       "      <td>8.816009e+11</td>\n",
       "    </tr>\n",
       "    <tr>\n",
       "      <th>529</th>\n",
       "      <td>8.247814e+11</td>\n",
       "      <td>8.652929e+11</td>\n",
       "    </tr>\n",
       "    <tr>\n",
       "      <th>595</th>\n",
       "      <td>8.317134e+11</td>\n",
       "      <td>8.549548e+11</td>\n",
       "    </tr>\n",
       "    <tr>\n",
       "      <th>661</th>\n",
       "      <td>8.248757e+11</td>\n",
       "      <td>8.484545e+11</td>\n",
       "    </tr>\n",
       "  </tbody>\n",
       "</table>\n",
       "</div>"
      ],
      "text/plain": [
       "                    Train          Test\n",
       "sample size                            \n",
       "66           5.153717e+11  1.185710e+12\n",
       "132          6.275147e+11  1.061798e+12\n",
       "198          6.676269e+11  9.499761e+11\n",
       "264          7.509423e+11  9.552356e+11\n",
       "330          7.660382e+11  9.271289e+11\n",
       "396          7.943431e+11  8.843553e+11\n",
       "463          8.062229e+11  8.816009e+11\n",
       "529          8.247814e+11  8.652929e+11\n",
       "595          8.317134e+11  8.549548e+11\n",
       "661          8.248757e+11  8.484545e+11"
      ]
     },
     "execution_count": 764,
     "metadata": {},
     "output_type": "execute_result"
    }
   ],
   "source": [
    "# LOAD FROM SCIKIT-LEARN\n",
    "from sklearn.model_selection import learning_curve\n",
    "\n",
    "train_sizes, train_scores, test_scores = \\\n",
    "    learning_curve(estimator=pipe_lr,\n",
    "                   X=X_train,\n",
    "                   y=y_train,\n",
    "                   train_sizes=np.arange(0.05, 1.05, .05),\n",
    "                   scoring='neg_mean_squared_error',                 \n",
    "                   cv=10)\n",
    "    \n",
    "mse_ = pd.DataFrame({'Train':-train_scores.mean(axis=1),\n",
    "                     'Test':-test_scores.mean(axis=1)})\\\n",
    "        .set_index(pd.Index(train_sizes,name='sample size'))\n",
    "\n",
    "mse_.head(10)"
   ]
  },
  {
   "cell_type": "code",
   "execution_count": 765,
   "id": "f08a67e3-6264-4993-8a42-fa9018b28059",
   "metadata": {},
   "outputs": [
    {
     "data": {
      "image/png": "[encoded data removed]",
      "text/plain": [
       "<Figure size 504x216 with 1 Axes>"
      ]
     },
     "metadata": {},
     "output_type": "display_data"
    }
   ],
   "source": [
    "f_learn, ax = plt.subplots(figsize=(7,3))\n",
    "ax.plot(train_sizes,np.sqrt(-test_scores.mean(1)), alpha=0.25, linewidth=2, label ='Test', color='blue') # negated, because we already use neg_MSE\n",
    "ax.plot(train_sizes,np.sqrt(-train_scores.mean(1)), alpha=0.25, linewidth=2, label='Train', color='orange') # negated, because we already use neg_MSE\n",
    "\n",
    "ax.set_title('Mean performance')\n",
    "ax.set_ylabel('Root-Mean squared error')\n",
    "ax.legend();"
   ]
  },
  {
   "cell_type": "code",
   "execution_count": null,
   "id": "640d604e-b96a-4eff-b7f9-96bd85fd1132",
   "metadata": {},
   "outputs": [],
   "source": []
  },
  {
   "cell_type": "markdown",
   "id": "8b3db110-01e2-4494-a559-f3b522b5d128",
   "metadata": {},
   "source": [
    "# Normal OLS for comparison"
   ]
  },
  {
   "cell_type": "code",
   "execution_count": 751,
   "id": "5e1d111d-0316-4d26-a181-a17c99a02507",
   "metadata": {},
   "outputs": [
    {
     "name": "stdout",
     "output_type": "stream",
     "text": [
      "                            OLS Regression Results                            \n",
      "==============================================================================\n",
      "Dep. Variable:            Kontantpris   R-squared:                       0.570\n",
      "Model:                            OLS   Adj. R-squared:                  0.567\n",
      "Method:                 Least Squares   F-statistic:                     198.6\n",
      "Date:                Wed, 16 Aug 2023   Prob (F-statistic):               0.00\n",
      "Time:                        14:20:53   Log-Likelihood:                -59420.\n",
      "No. Observations:                3920   AIC:                         1.189e+05\n",
      "Df Residuals:                    3893   BIC:                         1.191e+05\n",
      "Df Model:                          26                                         \n",
      "Covariance Type:            nonrobust                                         \n",
      "=========================================================================================\n",
      "                            coef    std err          t      P>|t|      [0.025      0.975]\n",
      "-----------------------------------------------------------------------------------------\n",
      "const                  8.727e+05    6.6e+04     13.215      0.000    7.43e+05       1e+06\n",
      "Rum                    3.617e+04   1.65e+04      2.194      0.028    3842.775    6.85e+04\n",
      "Toilet                 2.249e+05   3.08e+04      7.313      0.000    1.65e+05    2.85e+05\n",
      "Boligareal             4060.7928    506.777      8.013      0.000    3067.220    5054.366\n",
      "Grundareal               10.2808      1.181      8.705      0.000       7.965      12.596\n",
      "Ejerudgift              388.3629     15.443     25.148      0.000     358.086     418.640\n",
      "Plan                  -5.946e+04   2.49e+04     -2.392      0.017   -1.08e+05   -1.07e+04\n",
      "city_distance         -1.504e+04    537.959    -27.962      0.000   -1.61e+04    -1.4e+04\n",
      "Age                   -2498.0212    396.692     -6.297      0.000   -3275.766   -1720.277\n",
      "Energimærke_B         -4.066e+05   7.18e+04     -5.666      0.000   -5.47e+05   -2.66e+05\n",
      "Energimærke_C         -6.874e+05   5.69e+04    -12.081      0.000   -7.99e+05   -5.76e+05\n",
      "Energimærke_D         -9.332e+05   5.94e+04    -15.705      0.000   -1.05e+06   -8.17e+05\n",
      "Energimærke_E         -1.111e+06    6.9e+04    -16.113      0.000   -1.25e+06   -9.76e+05\n",
      "Energimærke_F         -1.213e+06   8.69e+04    -13.969      0.000   -1.38e+06   -1.04e+06\n",
      "Energimærke_G         -1.364e+06   1.01e+05    -13.460      0.000   -1.56e+06   -1.17e+06\n",
      "Kælder_1               2.515e+05   3.95e+04      6.361      0.000    1.74e+05    3.29e+05\n",
      "Garage_1              -2.709e+05   8.26e+04     -3.279      0.001   -4.33e+05   -1.09e+05\n",
      "Drivhus_1             -1.171e+05   1.01e+05     -1.157      0.248   -3.16e+05    8.14e+04\n",
      "Erhverv_1             -1.598e+05   9.91e+04     -1.613      0.107   -3.54e+05    3.44e+04\n",
      "close_city_Aarhus      5.755e+05   5.81e+04      9.905      0.000    4.62e+05    6.89e+05\n",
      "close_city_Copenhagen  1.175e+06   6.07e+04     19.366      0.000    1.06e+06    1.29e+06\n",
      "close_city_Odense      5.195e+05   5.98e+04      8.689      0.000    4.02e+05    6.37e+05\n",
      "type_Andelsbolig      -1.545e-10   3.98e-11     -3.877      0.000   -2.33e-10   -7.64e-11\n",
      "type_Lejlighed         2.535e+05   4.22e+04      6.006      0.000    1.71e+05    3.36e+05\n",
      "type_Rækkehus          2.559e+05   4.34e+04      5.899      0.000    1.71e+05    3.41e+05\n",
      "type_Villa             3.633e+05   3.86e+04      9.412      0.000    2.88e+05    4.39e+05\n",
      "_clean_renewable       1.475e+05   4.58e+04      3.220      0.001    5.77e+04    2.37e+05\n",
      "_non_clean             6.809e+04   6.53e+04      1.043      0.297   -5.99e+04    1.96e+05\n",
      "_non_renewable         2.062e+05   5.85e+04      3.525      0.000    9.15e+04    3.21e+05\n",
      "_other                 4.509e+05   1.43e+05      3.145      0.002     1.7e+05    7.32e+05\n",
      "==============================================================================\n",
      "Omnibus:                      556.412   Durbin-Watson:                   1.408\n",
      "Prob(Omnibus):                  0.000   Jarque-Bera (JB):             1016.448\n",
      "Skew:                           0.908   Prob(JB):                    1.91e-221\n",
      "Kurtosis:                       4.710   Cond. No.                     1.89e+16\n",
      "==============================================================================\n",
      "\n",
      "Notes:\n",
      "[1] Standard Errors assume that the covariance matrix of the errors is correctly specified.\n",
      "[2] The smallest eigenvalue is 1.87e-21. This might indicate that there are\n",
      "strong multicollinearity problems or that the design matrix is singular.\n"
     ]
    },
    {
     "name": "stderr",
     "output_type": "stream",
     "text": [
      "C:\\Users\\marko\\anaconda3\\lib\\site-packages\\statsmodels\\tsa\\tsatools.py:142: FutureWarning: In a future version of pandas all arguments of concat except for the argument 'objs' will be keyword-only\n",
      "  x = pd.concat(x[::order], 1)\n"
     ]
    }
   ],
   "source": [
    "import pandas as pd\n",
    "import numpy as np\n",
    "import statsmodels.api as sm\n",
    "\n",
    "# Add a constant term to X\n",
    "X = sm.add_constant(X)\n",
    "\n",
    "# Fit OLS regression model\n",
    "model = sm.OLS(y, X).fit()\n",
    "\n",
    "# Print regression summary\n",
    "print(model.summary())"
   ]
  },
  {
   "cell_type": "code",
   "execution_count": null,
   "id": "ae7ca3bf-8c22-475d-9c83-8bb39ffa1aa3",
   "metadata": {},
   "outputs": [],
   "source": []
  }
 ],
 "metadata": {
  "kernelspec": {
   "display_name": "Python 3 (ipykernel)",
   "language": "python",
   "name": "python3"
  },
  "language_info": {
   "codemirror_mode": {
    "name": "ipython",
    "version": 3
   },
   "file_extension": ".py",
   "mimetype": "text/x-python",
   "name": "python",
   "nbconvert_exporter": "python",
   "pygments_lexer": "ipython3",
   "version": "3.9.7"
  }
 },
 "nbformat": 4,
 "nbformat_minor": 5
}
