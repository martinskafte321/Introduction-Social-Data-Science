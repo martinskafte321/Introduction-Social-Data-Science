{
 "cells": [
  {
   "cell_type": "code",
   "execution_count": 1,
   "id": "5cf00bc2-4498-44cb-ae9c-8ab0b4cc27f0",
   "metadata": {},
   "outputs": [],
   "source": [
    "%matplotlib inline\n",
    "import numpy as np\n",
    "import pandas as pd\n",
    "import matplotlib.pyplot as plt"
   ]
  },
  {
   "cell_type": "markdown",
   "id": "bb8a2578-53db-4b98-84e0-7819f18879f9",
   "metadata": {},
   "source": [
    "# Data Cleaning"
   ]
  },
  {
   "cell_type": "code",
   "execution_count": 2,
   "id": "d35becb3-9bac-478d-b3e4-2ee9aedaf11f",
   "metadata": {},
   "outputs": [],
   "source": [
    "df = pd.read_csv('cleaned_data.csv', sep=';')"
   ]
  },
  {
   "cell_type": "code",
   "execution_count": 3,
   "id": "dcafe552-e8e9-4870-adaa-5bb0db0edd13",
   "metadata": {},
   "outputs": [],
   "source": [
    "# Create dummy variables for the 'Category' column\n",
    "dummy_1 = pd.get_dummies(df['property_type'], prefix='type')\n",
    "dummy_2 = pd.get_dummies(df['heating_source'], prefix = '')\n",
    "\n",
    "# Concatenate the dummy variables with the original DataFrame\n",
    "df_with_dummies = pd.concat([df, dummy_1,dummy_2], axis=1)"
   ]
  },
  {
   "cell_type": "code",
   "execution_count": 7,
   "id": "0cee2547-57fa-46f3-9dc3-a597faf5680f",
   "metadata": {},
   "outputs": [
    {
     "data": {
      "text/html": [
       "<div>\n",
       "<style scoped>\n",
       "    .dataframe tbody tr th:only-of-type {\n",
       "        vertical-align: middle;\n",
       "    }\n",
       "\n",
       "    .dataframe tbody tr th {\n",
       "        vertical-align: top;\n",
       "    }\n",
       "\n",
       "    .dataframe thead th {\n",
       "        text-align: right;\n",
       "    }\n",
       "</style>\n",
       "<table border=\"1\" class=\"dataframe\">\n",
       "  <thead>\n",
       "    <tr style=\"text-align: right;\">\n",
       "      <th></th>\n",
       "      <th>Rum</th>\n",
       "      <th>Toilet</th>\n",
       "      <th>Boligareal</th>\n",
       "      <th>Grundareal</th>\n",
       "      <th>Kontantpris</th>\n",
       "      <th>Ejerudgift</th>\n",
       "      <th>Plan</th>\n",
       "      <th>city_distance</th>\n",
       "      <th>Age</th>\n",
       "      <th>property_type</th>\n",
       "      <th>...</th>\n",
       "      <th>close_city_Copenhagen</th>\n",
       "      <th>close_city_Odense</th>\n",
       "      <th>type_Andelsbolig</th>\n",
       "      <th>type_Lejlighed</th>\n",
       "      <th>type_Rækkehus</th>\n",
       "      <th>type_Villa</th>\n",
       "      <th>_clean_renewable</th>\n",
       "      <th>_non_clean</th>\n",
       "      <th>_non_renewable</th>\n",
       "      <th>_other</th>\n",
       "    </tr>\n",
       "  </thead>\n",
       "  <tbody>\n",
       "    <tr>\n",
       "      <th>0</th>\n",
       "      <td>6</td>\n",
       "      <td>2</td>\n",
       "      <td>190</td>\n",
       "      <td>1</td>\n",
       "      <td>4945000</td>\n",
       "      <td>3</td>\n",
       "      <td>1</td>\n",
       "      <td>60.51143</td>\n",
       "      <td>4.0</td>\n",
       "      <td>Villa</td>\n",
       "      <td>...</td>\n",
       "      <td>0</td>\n",
       "      <td>0</td>\n",
       "      <td>0</td>\n",
       "      <td>0</td>\n",
       "      <td>0</td>\n",
       "      <td>1</td>\n",
       "      <td>1</td>\n",
       "      <td>0</td>\n",
       "      <td>0</td>\n",
       "      <td>0</td>\n",
       "    </tr>\n",
       "    <tr>\n",
       "      <th>1</th>\n",
       "      <td>5</td>\n",
       "      <td>3</td>\n",
       "      <td>187</td>\n",
       "      <td>1</td>\n",
       "      <td>3995000</td>\n",
       "      <td>3</td>\n",
       "      <td>1</td>\n",
       "      <td>61.33861</td>\n",
       "      <td>66.0</td>\n",
       "      <td>Villa</td>\n",
       "      <td>...</td>\n",
       "      <td>0</td>\n",
       "      <td>1</td>\n",
       "      <td>0</td>\n",
       "      <td>0</td>\n",
       "      <td>0</td>\n",
       "      <td>1</td>\n",
       "      <td>1</td>\n",
       "      <td>0</td>\n",
       "      <td>0</td>\n",
       "      <td>0</td>\n",
       "    </tr>\n",
       "    <tr>\n",
       "      <th>2</th>\n",
       "      <td>4</td>\n",
       "      <td>2</td>\n",
       "      <td>146</td>\n",
       "      <td>930</td>\n",
       "      <td>3495000</td>\n",
       "      <td>2</td>\n",
       "      <td>2</td>\n",
       "      <td>63.09367</td>\n",
       "      <td>47.0</td>\n",
       "      <td>Villa</td>\n",
       "      <td>...</td>\n",
       "      <td>0</td>\n",
       "      <td>1</td>\n",
       "      <td>0</td>\n",
       "      <td>0</td>\n",
       "      <td>0</td>\n",
       "      <td>1</td>\n",
       "      <td>0</td>\n",
       "      <td>0</td>\n",
       "      <td>1</td>\n",
       "      <td>0</td>\n",
       "    </tr>\n",
       "    <tr>\n",
       "      <th>3</th>\n",
       "      <td>5</td>\n",
       "      <td>2</td>\n",
       "      <td>143</td>\n",
       "      <td>391</td>\n",
       "      <td>7395000</td>\n",
       "      <td>3</td>\n",
       "      <td>1</td>\n",
       "      <td>64.48529</td>\n",
       "      <td>145.0</td>\n",
       "      <td>Villa</td>\n",
       "      <td>...</td>\n",
       "      <td>0</td>\n",
       "      <td>1</td>\n",
       "      <td>0</td>\n",
       "      <td>0</td>\n",
       "      <td>0</td>\n",
       "      <td>1</td>\n",
       "      <td>1</td>\n",
       "      <td>0</td>\n",
       "      <td>0</td>\n",
       "      <td>0</td>\n",
       "    </tr>\n",
       "    <tr>\n",
       "      <th>4</th>\n",
       "      <td>4</td>\n",
       "      <td>2</td>\n",
       "      <td>150</td>\n",
       "      <td>617</td>\n",
       "      <td>2195000</td>\n",
       "      <td>2</td>\n",
       "      <td>2</td>\n",
       "      <td>63.19188</td>\n",
       "      <td>96.0</td>\n",
       "      <td>Villa</td>\n",
       "      <td>...</td>\n",
       "      <td>0</td>\n",
       "      <td>1</td>\n",
       "      <td>0</td>\n",
       "      <td>0</td>\n",
       "      <td>0</td>\n",
       "      <td>1</td>\n",
       "      <td>1</td>\n",
       "      <td>0</td>\n",
       "      <td>0</td>\n",
       "      <td>0</td>\n",
       "    </tr>\n",
       "    <tr>\n",
       "      <th>...</th>\n",
       "      <td>...</td>\n",
       "      <td>...</td>\n",
       "      <td>...</td>\n",
       "      <td>...</td>\n",
       "      <td>...</td>\n",
       "      <td>...</td>\n",
       "      <td>...</td>\n",
       "      <td>...</td>\n",
       "      <td>...</td>\n",
       "      <td>...</td>\n",
       "      <td>...</td>\n",
       "      <td>...</td>\n",
       "      <td>...</td>\n",
       "      <td>...</td>\n",
       "      <td>...</td>\n",
       "      <td>...</td>\n",
       "      <td>...</td>\n",
       "      <td>...</td>\n",
       "      <td>...</td>\n",
       "      <td>...</td>\n",
       "      <td>...</td>\n",
       "    </tr>\n",
       "    <tr>\n",
       "      <th>4777</th>\n",
       "      <td>4</td>\n",
       "      <td>1</td>\n",
       "      <td>96</td>\n",
       "      <td>734</td>\n",
       "      <td>2875000</td>\n",
       "      <td>1</td>\n",
       "      <td>1</td>\n",
       "      <td>14.38579</td>\n",
       "      <td>63.0</td>\n",
       "      <td>Lejlighed</td>\n",
       "      <td>...</td>\n",
       "      <td>1</td>\n",
       "      <td>0</td>\n",
       "      <td>0</td>\n",
       "      <td>1</td>\n",
       "      <td>0</td>\n",
       "      <td>0</td>\n",
       "      <td>1</td>\n",
       "      <td>0</td>\n",
       "      <td>0</td>\n",
       "      <td>0</td>\n",
       "    </tr>\n",
       "    <tr>\n",
       "      <th>4778</th>\n",
       "      <td>3</td>\n",
       "      <td>1</td>\n",
       "      <td>70</td>\n",
       "      <td>583</td>\n",
       "      <td>1395000</td>\n",
       "      <td>2</td>\n",
       "      <td>1</td>\n",
       "      <td>2.03041</td>\n",
       "      <td>107.0</td>\n",
       "      <td>Lejlighed</td>\n",
       "      <td>...</td>\n",
       "      <td>0</td>\n",
       "      <td>1</td>\n",
       "      <td>0</td>\n",
       "      <td>1</td>\n",
       "      <td>0</td>\n",
       "      <td>0</td>\n",
       "      <td>1</td>\n",
       "      <td>0</td>\n",
       "      <td>0</td>\n",
       "      <td>0</td>\n",
       "    </tr>\n",
       "    <tr>\n",
       "      <th>4779</th>\n",
       "      <td>5</td>\n",
       "      <td>2</td>\n",
       "      <td>80</td>\n",
       "      <td>525</td>\n",
       "      <td>1499000</td>\n",
       "      <td>1</td>\n",
       "      <td>1</td>\n",
       "      <td>1.69283</td>\n",
       "      <td>76.0</td>\n",
       "      <td>Lejlighed</td>\n",
       "      <td>...</td>\n",
       "      <td>0</td>\n",
       "      <td>1</td>\n",
       "      <td>0</td>\n",
       "      <td>1</td>\n",
       "      <td>0</td>\n",
       "      <td>0</td>\n",
       "      <td>1</td>\n",
       "      <td>0</td>\n",
       "      <td>0</td>\n",
       "      <td>0</td>\n",
       "    </tr>\n",
       "    <tr>\n",
       "      <th>4780</th>\n",
       "      <td>2</td>\n",
       "      <td>2</td>\n",
       "      <td>63</td>\n",
       "      <td>318</td>\n",
       "      <td>1175000</td>\n",
       "      <td>2</td>\n",
       "      <td>2</td>\n",
       "      <td>35.99106</td>\n",
       "      <td>87.0</td>\n",
       "      <td>Lejlighed</td>\n",
       "      <td>...</td>\n",
       "      <td>0</td>\n",
       "      <td>0</td>\n",
       "      <td>0</td>\n",
       "      <td>1</td>\n",
       "      <td>0</td>\n",
       "      <td>0</td>\n",
       "      <td>1</td>\n",
       "      <td>0</td>\n",
       "      <td>0</td>\n",
       "      <td>0</td>\n",
       "    </tr>\n",
       "    <tr>\n",
       "      <th>4781</th>\n",
       "      <td>5</td>\n",
       "      <td>2</td>\n",
       "      <td>129</td>\n",
       "      <td>1</td>\n",
       "      <td>6995000</td>\n",
       "      <td>5</td>\n",
       "      <td>1</td>\n",
       "      <td>23.29483</td>\n",
       "      <td>108.0</td>\n",
       "      <td>Lejlighed</td>\n",
       "      <td>...</td>\n",
       "      <td>1</td>\n",
       "      <td>0</td>\n",
       "      <td>0</td>\n",
       "      <td>1</td>\n",
       "      <td>0</td>\n",
       "      <td>0</td>\n",
       "      <td>1</td>\n",
       "      <td>0</td>\n",
       "      <td>0</td>\n",
       "      <td>0</td>\n",
       "    </tr>\n",
       "  </tbody>\n",
       "</table>\n",
       "<p>4782 rows × 40 columns</p>\n",
       "</div>"
      ],
      "text/plain": [
       "      Rum  Toilet  Boligareal  Grundareal  Kontantpris  Ejerudgift  Plan  \\\n",
       "0       6       2         190           1      4945000           3     1   \n",
       "1       5       3         187           1      3995000           3     1   \n",
       "2       4       2         146         930      3495000           2     2   \n",
       "3       5       2         143         391      7395000           3     1   \n",
       "4       4       2         150         617      2195000           2     2   \n",
       "...   ...     ...         ...         ...          ...         ...   ...   \n",
       "4777    4       1          96         734      2875000           1     1   \n",
       "4778    3       1          70         583      1395000           2     1   \n",
       "4779    5       2          80         525      1499000           1     1   \n",
       "4780    2       2          63         318      1175000           2     2   \n",
       "4781    5       2         129           1      6995000           5     1   \n",
       "\n",
       "      city_distance    Age property_type  ... close_city_Copenhagen  \\\n",
       "0          60.51143    4.0         Villa  ...                     0   \n",
       "1          61.33861   66.0         Villa  ...                     0   \n",
       "2          63.09367   47.0         Villa  ...                     0   \n",
       "3          64.48529  145.0         Villa  ...                     0   \n",
       "4          63.19188   96.0         Villa  ...                     0   \n",
       "...             ...    ...           ...  ...                   ...   \n",
       "4777       14.38579   63.0     Lejlighed  ...                     1   \n",
       "4778        2.03041  107.0     Lejlighed  ...                     0   \n",
       "4779        1.69283   76.0     Lejlighed  ...                     0   \n",
       "4780       35.99106   87.0     Lejlighed  ...                     0   \n",
       "4781       23.29483  108.0     Lejlighed  ...                     1   \n",
       "\n",
       "      close_city_Odense  type_Andelsbolig  type_Lejlighed  type_Rækkehus  \\\n",
       "0                     0                 0               0              0   \n",
       "1                     1                 0               0              0   \n",
       "2                     1                 0               0              0   \n",
       "3                     1                 0               0              0   \n",
       "4                     1                 0               0              0   \n",
       "...                 ...               ...             ...            ...   \n",
       "4777                  0                 0               1              0   \n",
       "4778                  1                 0               1              0   \n",
       "4779                  1                 0               1              0   \n",
       "4780                  0                 0               1              0   \n",
       "4781                  0                 0               1              0   \n",
       "\n",
       "      type_Villa  _clean_renewable  _non_clean  _non_renewable  _other  \n",
       "0              1                 1           0               0       0  \n",
       "1              1                 1           0               0       0  \n",
       "2              1                 0           0               1       0  \n",
       "3              1                 1           0               0       0  \n",
       "4              1                 1           0               0       0  \n",
       "...          ...               ...         ...             ...     ...  \n",
       "4777           0                 1           0               0       0  \n",
       "4778           0                 1           0               0       0  \n",
       "4779           0                 1           0               0       0  \n",
       "4780           0                 1           0               0       0  \n",
       "4781           0                 1           0               0       0  \n",
       "\n",
       "[4782 rows x 40 columns]"
      ]
     },
     "execution_count": 7,
     "metadata": {},
     "output_type": "execute_result"
    }
   ],
   "source": [
    "df_with_dummies"
   ]
  },
  {
   "cell_type": "code",
   "execution_count": 8,
   "id": "7e88810b-79a6-49f9-bcd9-2b98cbb854d8",
   "metadata": {},
   "outputs": [],
   "source": [
    "df_clean = df_with_dummies.drop(columns=['Energimærke_nan', 'property_type',\n",
    "                                         'heating_source'])\n",
    "df_clean = df_clean.dropna().reset_index(drop=True)"
   ]
  },
  {
   "cell_type": "code",
   "execution_count": 9,
   "id": "b170af39-fb31-4868-a105-2aec504feeff",
   "metadata": {},
   "outputs": [
    {
     "name": "stderr",
     "output_type": "stream",
     "text": [
      "C:\\Users\\marko\\AppData\\Local\\Temp/ipykernel_19444/557726641.py:2: FutureWarning: The default value of regex will change from True to False in a future version. In addition, single character regular expressions will *not* be treated as literal strings when regex=True.\n",
      "  df_clean['Ejerudgift'] = df_clean['Ejerudgift'].str.replace(\".\", \"\")\n"
     ]
    },
    {
     "data": {
      "text/html": [
       "<div>\n",
       "<style scoped>\n",
       "    .dataframe tbody tr th:only-of-type {\n",
       "        vertical-align: middle;\n",
       "    }\n",
       "\n",
       "    .dataframe tbody tr th {\n",
       "        vertical-align: top;\n",
       "    }\n",
       "\n",
       "    .dataframe thead th {\n",
       "        text-align: right;\n",
       "    }\n",
       "</style>\n",
       "<table border=\"1\" class=\"dataframe\">\n",
       "  <thead>\n",
       "    <tr style=\"text-align: right;\">\n",
       "      <th></th>\n",
       "      <th>Rum</th>\n",
       "      <th>Toilet</th>\n",
       "      <th>Boligareal</th>\n",
       "      <th>Grundareal</th>\n",
       "      <th>Kontantpris</th>\n",
       "      <th>Ejerudgift</th>\n",
       "      <th>Plan</th>\n",
       "      <th>city_distance</th>\n",
       "      <th>Age</th>\n",
       "      <th>Energimærke_A</th>\n",
       "      <th>...</th>\n",
       "      <th>close_city_Copenhagen</th>\n",
       "      <th>close_city_Odense</th>\n",
       "      <th>type_Andelsbolig</th>\n",
       "      <th>type_Lejlighed</th>\n",
       "      <th>type_Rækkehus</th>\n",
       "      <th>type_Villa</th>\n",
       "      <th>_clean_renewable</th>\n",
       "      <th>_non_clean</th>\n",
       "      <th>_non_renewable</th>\n",
       "      <th>_other</th>\n",
       "    </tr>\n",
       "  </thead>\n",
       "  <tbody>\n",
       "    <tr>\n",
       "      <th>0</th>\n",
       "      <td>6</td>\n",
       "      <td>2</td>\n",
       "      <td>190</td>\n",
       "      <td>1</td>\n",
       "      <td>4945000</td>\n",
       "      <td>3.0</td>\n",
       "      <td>1</td>\n",
       "      <td>60.51143</td>\n",
       "      <td>4.0</td>\n",
       "      <td>1</td>\n",
       "      <td>...</td>\n",
       "      <td>0</td>\n",
       "      <td>0</td>\n",
       "      <td>0</td>\n",
       "      <td>0</td>\n",
       "      <td>0</td>\n",
       "      <td>1</td>\n",
       "      <td>1</td>\n",
       "      <td>0</td>\n",
       "      <td>0</td>\n",
       "      <td>0</td>\n",
       "    </tr>\n",
       "    <tr>\n",
       "      <th>1</th>\n",
       "      <td>5</td>\n",
       "      <td>3</td>\n",
       "      <td>187</td>\n",
       "      <td>1</td>\n",
       "      <td>3995000</td>\n",
       "      <td>3.0</td>\n",
       "      <td>1</td>\n",
       "      <td>61.33861</td>\n",
       "      <td>66.0</td>\n",
       "      <td>0</td>\n",
       "      <td>...</td>\n",
       "      <td>0</td>\n",
       "      <td>1</td>\n",
       "      <td>0</td>\n",
       "      <td>0</td>\n",
       "      <td>0</td>\n",
       "      <td>1</td>\n",
       "      <td>1</td>\n",
       "      <td>0</td>\n",
       "      <td>0</td>\n",
       "      <td>0</td>\n",
       "    </tr>\n",
       "    <tr>\n",
       "      <th>2</th>\n",
       "      <td>4</td>\n",
       "      <td>2</td>\n",
       "      <td>146</td>\n",
       "      <td>930</td>\n",
       "      <td>3495000</td>\n",
       "      <td>2.0</td>\n",
       "      <td>2</td>\n",
       "      <td>63.09367</td>\n",
       "      <td>47.0</td>\n",
       "      <td>0</td>\n",
       "      <td>...</td>\n",
       "      <td>0</td>\n",
       "      <td>1</td>\n",
       "      <td>0</td>\n",
       "      <td>0</td>\n",
       "      <td>0</td>\n",
       "      <td>1</td>\n",
       "      <td>0</td>\n",
       "      <td>0</td>\n",
       "      <td>1</td>\n",
       "      <td>0</td>\n",
       "    </tr>\n",
       "    <tr>\n",
       "      <th>3</th>\n",
       "      <td>5</td>\n",
       "      <td>2</td>\n",
       "      <td>143</td>\n",
       "      <td>391</td>\n",
       "      <td>7395000</td>\n",
       "      <td>3.0</td>\n",
       "      <td>1</td>\n",
       "      <td>64.48529</td>\n",
       "      <td>145.0</td>\n",
       "      <td>0</td>\n",
       "      <td>...</td>\n",
       "      <td>0</td>\n",
       "      <td>1</td>\n",
       "      <td>0</td>\n",
       "      <td>0</td>\n",
       "      <td>0</td>\n",
       "      <td>1</td>\n",
       "      <td>1</td>\n",
       "      <td>0</td>\n",
       "      <td>0</td>\n",
       "      <td>0</td>\n",
       "    </tr>\n",
       "    <tr>\n",
       "      <th>4</th>\n",
       "      <td>4</td>\n",
       "      <td>2</td>\n",
       "      <td>150</td>\n",
       "      <td>617</td>\n",
       "      <td>2195000</td>\n",
       "      <td>2.0</td>\n",
       "      <td>2</td>\n",
       "      <td>63.19188</td>\n",
       "      <td>96.0</td>\n",
       "      <td>0</td>\n",
       "      <td>...</td>\n",
       "      <td>0</td>\n",
       "      <td>1</td>\n",
       "      <td>0</td>\n",
       "      <td>0</td>\n",
       "      <td>0</td>\n",
       "      <td>1</td>\n",
       "      <td>1</td>\n",
       "      <td>0</td>\n",
       "      <td>0</td>\n",
       "      <td>0</td>\n",
       "    </tr>\n",
       "    <tr>\n",
       "      <th>...</th>\n",
       "      <td>...</td>\n",
       "      <td>...</td>\n",
       "      <td>...</td>\n",
       "      <td>...</td>\n",
       "      <td>...</td>\n",
       "      <td>...</td>\n",
       "      <td>...</td>\n",
       "      <td>...</td>\n",
       "      <td>...</td>\n",
       "      <td>...</td>\n",
       "      <td>...</td>\n",
       "      <td>...</td>\n",
       "      <td>...</td>\n",
       "      <td>...</td>\n",
       "      <td>...</td>\n",
       "      <td>...</td>\n",
       "      <td>...</td>\n",
       "      <td>...</td>\n",
       "      <td>...</td>\n",
       "      <td>...</td>\n",
       "      <td>...</td>\n",
       "    </tr>\n",
       "    <tr>\n",
       "      <th>4777</th>\n",
       "      <td>4</td>\n",
       "      <td>1</td>\n",
       "      <td>96</td>\n",
       "      <td>734</td>\n",
       "      <td>2875000</td>\n",
       "      <td>1.0</td>\n",
       "      <td>1</td>\n",
       "      <td>14.38579</td>\n",
       "      <td>63.0</td>\n",
       "      <td>0</td>\n",
       "      <td>...</td>\n",
       "      <td>1</td>\n",
       "      <td>0</td>\n",
       "      <td>0</td>\n",
       "      <td>1</td>\n",
       "      <td>0</td>\n",
       "      <td>0</td>\n",
       "      <td>1</td>\n",
       "      <td>0</td>\n",
       "      <td>0</td>\n",
       "      <td>0</td>\n",
       "    </tr>\n",
       "    <tr>\n",
       "      <th>4778</th>\n",
       "      <td>3</td>\n",
       "      <td>1</td>\n",
       "      <td>70</td>\n",
       "      <td>583</td>\n",
       "      <td>1395000</td>\n",
       "      <td>2.0</td>\n",
       "      <td>1</td>\n",
       "      <td>2.03041</td>\n",
       "      <td>107.0</td>\n",
       "      <td>0</td>\n",
       "      <td>...</td>\n",
       "      <td>0</td>\n",
       "      <td>1</td>\n",
       "      <td>0</td>\n",
       "      <td>1</td>\n",
       "      <td>0</td>\n",
       "      <td>0</td>\n",
       "      <td>1</td>\n",
       "      <td>0</td>\n",
       "      <td>0</td>\n",
       "      <td>0</td>\n",
       "    </tr>\n",
       "    <tr>\n",
       "      <th>4779</th>\n",
       "      <td>5</td>\n",
       "      <td>2</td>\n",
       "      <td>80</td>\n",
       "      <td>525</td>\n",
       "      <td>1499000</td>\n",
       "      <td>1.0</td>\n",
       "      <td>1</td>\n",
       "      <td>1.69283</td>\n",
       "      <td>76.0</td>\n",
       "      <td>0</td>\n",
       "      <td>...</td>\n",
       "      <td>0</td>\n",
       "      <td>1</td>\n",
       "      <td>0</td>\n",
       "      <td>1</td>\n",
       "      <td>0</td>\n",
       "      <td>0</td>\n",
       "      <td>1</td>\n",
       "      <td>0</td>\n",
       "      <td>0</td>\n",
       "      <td>0</td>\n",
       "    </tr>\n",
       "    <tr>\n",
       "      <th>4780</th>\n",
       "      <td>2</td>\n",
       "      <td>2</td>\n",
       "      <td>63</td>\n",
       "      <td>318</td>\n",
       "      <td>1175000</td>\n",
       "      <td>2.0</td>\n",
       "      <td>2</td>\n",
       "      <td>35.99106</td>\n",
       "      <td>87.0</td>\n",
       "      <td>0</td>\n",
       "      <td>...</td>\n",
       "      <td>0</td>\n",
       "      <td>0</td>\n",
       "      <td>0</td>\n",
       "      <td>1</td>\n",
       "      <td>0</td>\n",
       "      <td>0</td>\n",
       "      <td>1</td>\n",
       "      <td>0</td>\n",
       "      <td>0</td>\n",
       "      <td>0</td>\n",
       "    </tr>\n",
       "    <tr>\n",
       "      <th>4781</th>\n",
       "      <td>5</td>\n",
       "      <td>2</td>\n",
       "      <td>129</td>\n",
       "      <td>1</td>\n",
       "      <td>6995000</td>\n",
       "      <td>5.0</td>\n",
       "      <td>1</td>\n",
       "      <td>23.29483</td>\n",
       "      <td>108.0</td>\n",
       "      <td>0</td>\n",
       "      <td>...</td>\n",
       "      <td>1</td>\n",
       "      <td>0</td>\n",
       "      <td>0</td>\n",
       "      <td>1</td>\n",
       "      <td>0</td>\n",
       "      <td>0</td>\n",
       "      <td>1</td>\n",
       "      <td>0</td>\n",
       "      <td>0</td>\n",
       "      <td>0</td>\n",
       "    </tr>\n",
       "  </tbody>\n",
       "</table>\n",
       "<p>4782 rows × 37 columns</p>\n",
       "</div>"
      ],
      "text/plain": [
       "      Rum  Toilet  Boligareal  Grundareal  Kontantpris  Ejerudgift  Plan  \\\n",
       "0       6       2         190           1      4945000         3.0     1   \n",
       "1       5       3         187           1      3995000         3.0     1   \n",
       "2       4       2         146         930      3495000         2.0     2   \n",
       "3       5       2         143         391      7395000         3.0     1   \n",
       "4       4       2         150         617      2195000         2.0     2   \n",
       "...   ...     ...         ...         ...          ...         ...   ...   \n",
       "4777    4       1          96         734      2875000         1.0     1   \n",
       "4778    3       1          70         583      1395000         2.0     1   \n",
       "4779    5       2          80         525      1499000         1.0     1   \n",
       "4780    2       2          63         318      1175000         2.0     2   \n",
       "4781    5       2         129           1      6995000         5.0     1   \n",
       "\n",
       "      city_distance    Age  Energimærke_A  ...  close_city_Copenhagen  \\\n",
       "0          60.51143    4.0              1  ...                      0   \n",
       "1          61.33861   66.0              0  ...                      0   \n",
       "2          63.09367   47.0              0  ...                      0   \n",
       "3          64.48529  145.0              0  ...                      0   \n",
       "4          63.19188   96.0              0  ...                      0   \n",
       "...             ...    ...            ...  ...                    ...   \n",
       "4777       14.38579   63.0              0  ...                      1   \n",
       "4778        2.03041  107.0              0  ...                      0   \n",
       "4779        1.69283   76.0              0  ...                      0   \n",
       "4780       35.99106   87.0              0  ...                      0   \n",
       "4781       23.29483  108.0              0  ...                      1   \n",
       "\n",
       "      close_city_Odense  type_Andelsbolig  type_Lejlighed  type_Rækkehus  \\\n",
       "0                     0                 0               0              0   \n",
       "1                     1                 0               0              0   \n",
       "2                     1                 0               0              0   \n",
       "3                     1                 0               0              0   \n",
       "4                     1                 0               0              0   \n",
       "...                 ...               ...             ...            ...   \n",
       "4777                  0                 0               1              0   \n",
       "4778                  1                 0               1              0   \n",
       "4779                  1                 0               1              0   \n",
       "4780                  0                 0               1              0   \n",
       "4781                  0                 0               1              0   \n",
       "\n",
       "      type_Villa  _clean_renewable  _non_clean  _non_renewable  _other  \n",
       "0              1                 1           0               0       0  \n",
       "1              1                 1           0               0       0  \n",
       "2              1                 0           0               1       0  \n",
       "3              1                 1           0               0       0  \n",
       "4              1                 1           0               0       0  \n",
       "...          ...               ...         ...             ...     ...  \n",
       "4777           0                 1           0               0       0  \n",
       "4778           0                 1           0               0       0  \n",
       "4779           0                 1           0               0       0  \n",
       "4780           0                 1           0               0       0  \n",
       "4781           0                 1           0               0       0  \n",
       "\n",
       "[4782 rows x 37 columns]"
      ]
     },
     "execution_count": 9,
     "metadata": {},
     "output_type": "execute_result"
    }
   ],
   "source": [
    "df_clean['Ejerudgift'] = df_clean['Ejerudgift'].astype(str)\n",
    "df_clean['Ejerudgift'] = df_clean['Ejerudgift'].str.replace(\".\", \"\")\n",
    "df_clean['Ejerudgift'] = df_clean['Ejerudgift'].astype(float)\n",
    "df_clean"
   ]
  },
  {
   "cell_type": "markdown",
   "id": "6c8f068e-1e0f-4695-b92d-56496417ca8d",
   "metadata": {},
   "source": [
    "Remove outliers"
   ]
  },
  {
   "cell_type": "code",
   "execution_count": 11,
   "id": "e9f8b0b7-23ed-4e81-b048-8bf60863a0e0",
   "metadata": {},
   "outputs": [],
   "source": [
    "columns_to_remove_outliers = ['Kontantpris','Ejerudgift','Boligareal','city_distance', 'Rum', 'Age', 'Grundareal']\n",
    "\n",
    "def remove_outliers_iqr(data, column):\n",
    "    Q1 = data[column].quantile(0.25)\n",
    "    Q3 = data[column].quantile(0.75)\n",
    "    IQR = Q3 - Q1\n",
    "    lower_bound = Q1 - 1.5 * IQR\n",
    "    upper_bound = Q3 + 1.5 * IQR\n",
    "    return data[(data[column] >= lower_bound) & (data[column] <= upper_bound)]\n",
    "\n",
    "for column in columns_to_remove_outliers:\n",
    "    df_clean = remove_outliers_iqr(df_clean, column)"
   ]
  },
  {
   "cell_type": "markdown",
   "id": "848b941b-42a3-49cb-862e-94a4d5686aac",
   "metadata": {},
   "source": [
    "Drop duplicates"
   ]
  },
  {
   "cell_type": "code",
   "execution_count": null,
   "id": "0bb25a97-b566-419e-afc2-1cf2728284f2",
   "metadata": {},
   "outputs": [],
   "source": [
    "duplicates = df_clean[df_clean.duplicated()]\n",
    "print(duplicates.shape)\n",
    "df_clean = df_clean.drop_duplicates()"
   ]
  },
  {
   "cell_type": "markdown",
   "id": "f6a825bc-7b50-44e7-a387-d3d79d5a310a",
   "metadata": {},
   "source": [
    "Focus just on Copenhagen. <br>\n",
    "Or decrease the distance to cities."
   ]
  },
  {
   "cell_type": "code",
   "execution_count": null,
   "id": "57ecad16-6f2c-4ab4-ab50-dc84645d5819",
   "metadata": {},
   "outputs": [],
   "source": [
    "#df_clean = df_clean[df_clean['close_city_Copenhagen'] == 1]\n",
    "#df_clean = df_clean.drop(columns=['close_city_Aarhus','close_city_Copenhagen','close_city_Odense'])\n",
    "#df_clean = df_clean[df_clean['city_distance'] <= 20]\n",
    "#df_clean"
   ]
  },
  {
   "cell_type": "markdown",
   "id": "47b95fe4-fdc9-42a8-bc97-40cc0664c571",
   "metadata": {},
   "source": [
    "# Machine learning models"
   ]
  },
  {
   "cell_type": "code",
   "execution_count": 45,
   "id": "3c88ab3f-7c55-4d89-9209-9d1b2dd3ad05",
   "metadata": {},
   "outputs": [],
   "source": [
    "from sklearn.metrics import mean_squared_error as mse\n",
    "from sklearn.metrics import r2_score\n",
    "from sklearn.pipeline import make_pipeline\n",
    "from sklearn.model_selection import train_test_split\n",
    "from sklearn.preprocessing import PolynomialFeatures, StandardScaler\n",
    "from sklearn.linear_model import LinearRegression, Lasso\n",
    "from sklearn.linear_model import LassoCV"
   ]
  },
  {
   "cell_type": "code",
   "execution_count": 91,
   "id": "322fa8d0-ae6d-4ce5-890c-936170e44a18",
   "metadata": {},
   "outputs": [],
   "source": [
    "y = df_clean['Kontantpris']\n",
    "X = df_clean.drop(columns=['Kontantpris'])"
   ]
  },
  {
   "cell_type": "code",
   "execution_count": 47,
   "id": "dade7483-d6c6-462f-92e7-bf3d7833a2fb",
   "metadata": {},
   "outputs": [],
   "source": [
    "X_dev, X_test, y_dev, y_test = train_test_split(X, y, test_size=0.3, random_state=10)\n",
    "#X_train, X_val, y_train, y_val = train_test_split(X_dev, y_dev, test_size=1/2, random_state=10)"
   ]
  },
  {
   "cell_type": "markdown",
   "id": "b44b8db3-3e81-4cc2-82d1-fba9d307976f",
   "metadata": {},
   "source": [
    "## Linear Regression"
   ]
  },
  {
   "cell_type": "code",
   "execution_count": 48,
   "id": "2a9c7fce-bd92-4171-a645-9d35e793f012",
   "metadata": {},
   "outputs": [
    {
     "name": "stdout",
     "output_type": "stream",
     "text": [
      "825916.277159577 829767.2156964527\n"
     ]
    }
   ],
   "source": [
    "pipe_lr = make_pipeline(PolynomialFeatures(degree=1, include_bias=False),\n",
    "                        StandardScaler(),\n",
    "                        LinearRegression())\n",
    "\n",
    "pipe_lr.fit(X_dev, y_dev)\n",
    "y_train_pred = pipe_lr.predict(X_dev)\n",
    "y_test_pred = pipe_lr.predict(X_test)\n",
    "\n",
    "train_rmse = np.sqrt(mse(y_dev, y_train_pred))\n",
    "test_rmse = np.sqrt(mse(y_test, y_test_pred))\n",
    "print(train_rmse,test_rmse)"
   ]
  },
  {
   "cell_type": "code",
   "execution_count": 49,
   "id": "c45c9112-c1ad-4b45-8dc0-b63b2587c375",
   "metadata": {},
   "outputs": [
    {
     "data": {
      "image/png": "[encoded data removed]",
      "text/plain": [
       "<Figure size 432x288 with 1 Axes>"
      ]
     },
     "metadata": {
      "needs_background": "light"
     },
     "output_type": "display_data"
    }
   ],
   "source": [
    "# Plot y_test vs y_pred\n",
    "plt.scatter(y_test, y_test_pred, color='blue', label='Actual vs Predicted')\n",
    "plt.plot([y_test.min(), y_test.max()], [y_test.min(), y_test.max()], linestyle='--', color='red', label='Ideal Line')\n",
    "plt.xlabel('Actual Values')\n",
    "plt.ylabel('Predicted Values')\n",
    "plt.title('Actual vs Predicted Values')\n",
    "plt.legend()\n",
    "plt.show()"
   ]
  },
  {
   "cell_type": "code",
   "execution_count": 50,
   "id": "ceb2347b-6fab-46df-a59d-4cd238f93c09",
   "metadata": {},
   "outputs": [
    {
     "data": {
      "text/plain": [
       "0.7040266462721683"
      ]
     },
     "execution_count": 50,
     "metadata": {},
     "output_type": "execute_result"
    }
   ],
   "source": [
    "r2_linear = r2_score(y_test, y_test_pred)\n",
    "r2_linear"
   ]
  },
  {
   "cell_type": "code",
   "execution_count": 18,
   "id": "35aa7eda-e7fe-499b-9ae5-2674533f1b4d",
   "metadata": {},
   "outputs": [
    {
     "name": "stdout",
     "output_type": "stream",
     "text": [
      "Coefficients: {'memory': None, 'steps': [('polynomialfeatures', PolynomialFeatures(degree=1, include_bias=False)), ('standardscaler', StandardScaler()), ('linearregression', LinearRegression())], 'verbose': False, 'polynomialfeatures': PolynomialFeatures(degree=1, include_bias=False), 'standardscaler': StandardScaler(), 'linearregression': LinearRegression(), 'polynomialfeatures__degree': 1, 'polynomialfeatures__include_bias': False, 'polynomialfeatures__interaction_only': False, 'polynomialfeatures__order': 'C', 'standardscaler__copy': True, 'standardscaler__with_mean': True, 'standardscaler__with_std': True, 'linearregression__copy_X': True, 'linearregression__fit_intercept': True, 'linearregression__n_jobs': None, 'linearregression__normalize': False, 'linearregression__positive': False}\n"
     ]
    }
   ],
   "source": [
    "coefficients = pipe_lr.get_params(deep=True)\n",
    "print(\"Coefficients:\", coefficients)\n"
   ]
  },
  {
   "cell_type": "code",
   "execution_count": 19,
   "id": "456db9ae-02e8-411c-b91f-7d9352f636a8",
   "metadata": {},
   "outputs": [
    {
     "name": "stdout",
     "output_type": "stream",
     "text": [
      "Coefficients: [ 1.20299897e+04  9.08127223e+04  2.48660115e+05  1.87672320e+04\n",
      "  8.75309711e+05 -4.25208118e+04 -3.56797541e+05 -1.43017649e+04\n",
      "  1.61467610e+05  2.94455534e+04 -7.59260034e+04 -2.06053513e+05\n",
      " -1.68814619e+05 -1.10728899e+05 -1.24461533e+05  3.51111311e+16\n",
      "  3.51111311e+16 -1.11273738e+14  2.57177456e+17  2.57177456e+17\n",
      "  5.77830387e+16  5.77830387e+16  3.81051929e+16  3.81051929e+16\n",
      "  5.02676023e+16  8.13298299e+16  8.56090788e+16  7.45943952e+16\n",
      "  2.26261465e+17  6.52168050e+17  5.04524213e+17  7.72649471e+17\n",
      "  1.48669209e+17  8.63269589e+16  1.22573253e+17  4.02362952e+16]\n"
     ]
    }
   ],
   "source": [
    "coefficients = pipe_lr.named_steps['linearregression'].coef_\n",
    "print(\"Coefficients:\", coefficients)\n",
    "scaling_factors = pipe_lr.named_steps['standardscaler'].scale_\n",
    "rescaled_coefficients = coefficients / scaling_factors"
   ]
  },
  {
   "cell_type": "code",
   "execution_count": 20,
   "id": "b2a87bf8-e5ff-403a-980b-dc89512664e0",
   "metadata": {},
   "outputs": [
    {
     "data": {
      "image/png": "[encoded data removed]",
      "text/plain": [
       "<Figure size 864x432 with 2 Axes>"
      ]
     },
     "metadata": {
      "needs_background": "light"
     },
     "output_type": "display_data"
    }
   ],
   "source": [
    "# Create a DataFrame with rescaled coefficients and feature names\n",
    "coef_df = pd.DataFrame(rescaled_coefficients, X.columns, columns=['Coefficient'])\n",
    "\n",
    "# Split coefficients into positive and negative parts\n",
    "positive_coef = coef_df[coef_df['Coefficient'] > 0]\n",
    "negative_coef = coef_df[coef_df['Coefficient'] < 0]\n",
    "\n",
    "# Create subplots with positive and negative coefficients\n",
    "fig, (ax1, ax2) = plt.subplots(1, 2, figsize=(12, 6))\n",
    "positive_coef.plot(kind='barh', ax=ax1)\n",
    "negative_coef.plot(kind='barh', ax=ax2)\n",
    "\n",
    "ax1.set_title('Positive Coefficients')\n",
    "ax2.set_title('Negative Coefficients')\n",
    "\n",
    "plt.tight_layout()\n",
    "plt.show()"
   ]
  },
  {
   "cell_type": "markdown",
   "id": "208b2b2b-203e-4179-8c6d-aae0646d64b8",
   "metadata": {},
   "source": [
    "## Lasso"
   ]
  },
  {
   "cell_type": "code",
   "execution_count": 98,
   "id": "a36384a7-b1c8-439c-8974-6f0e86fd83ac",
   "metadata": {},
   "outputs": [
    {
     "name": "stderr",
     "output_type": "stream",
     "text": [
      "C:\\Users\\marko\\anaconda3\\lib\\site-packages\\sklearn\\linear_model\\_coordinate_descent.py:530: ConvergenceWarning: Objective did not converge. You might want to increase the number of iterations. Duality gap: 77108408886593.0, tolerance: 653217738133.4655\n",
      "  model = cd_fast.enet_coordinate_descent(\n",
      "C:\\Users\\marko\\anaconda3\\lib\\site-packages\\sklearn\\linear_model\\_coordinate_descent.py:530: ConvergenceWarning: Objective did not converge. You might want to increase the number of iterations. Duality gap: 76812625876769.5, tolerance: 653217738133.4655\n",
      "  model = cd_fast.enet_coordinate_descent(\n",
      "C:\\Users\\marko\\anaconda3\\lib\\site-packages\\sklearn\\linear_model\\_coordinate_descent.py:530: ConvergenceWarning: Objective did not converge. You might want to increase the number of iterations. Duality gap: 76817973836662.5, tolerance: 653217738133.4655\n",
      "  model = cd_fast.enet_coordinate_descent(\n",
      "C:\\Users\\marko\\anaconda3\\lib\\site-packages\\sklearn\\linear_model\\_coordinate_descent.py:530: ConvergenceWarning: Objective did not converge. You might want to increase the number of iterations. Duality gap: 76818123331688.25, tolerance: 653217738133.4655\n",
      "  model = cd_fast.enet_coordinate_descent(\n"
     ]
    },
    {
     "name": "stdout",
     "output_type": "stream",
     "text": [
      "Optimal lambda: 464.1588833612773\n",
      "Test MSE: 706095013950.733\n"
     ]
    },
    {
     "name": "stderr",
     "output_type": "stream",
     "text": [
      "C:\\Users\\marko\\anaconda3\\lib\\site-packages\\sklearn\\linear_model\\_coordinate_descent.py:530: ConvergenceWarning: Objective did not converge. You might want to increase the number of iterations. Duality gap: 76818469348652.0, tolerance: 653217738133.4655\n",
      "  model = cd_fast.enet_coordinate_descent(\n",
      "C:\\Users\\marko\\anaconda3\\lib\\site-packages\\sklearn\\linear_model\\_coordinate_descent.py:530: ConvergenceWarning: Objective did not converge. You might want to increase the number of iterations. Duality gap: 59162246185858.75, tolerance: 653217738133.4655\n",
      "  model = cd_fast.enet_coordinate_descent(\n"
     ]
    }
   ],
   "source": [
    "perform = [] # Store performance\n",
    "lambdas = np.logspace(-8, 8, 10) # Grid of lambdas\n",
    "\n",
    "# FOR EACH LAMBDA, FIT A MODEL ON TRAINING DATA, CHECK PERFORMANCE ON VALIDATION AND STORE MSE\n",
    "for lambda_ in lambdas:\n",
    "    pipe_lasso = make_pipeline(PolynomialFeatures(degree=1, include_bias=False), \n",
    "                               StandardScaler(),\n",
    "                               Lasso(alpha=lambda_, random_state=161193))\n",
    "    pipe_lasso.fit(X_dev, y_dev)\n",
    "    y_pred = pipe_lasso.predict(X_test)\n",
    "    perform.append(mse(y_pred, y_test))\n",
    "\n",
    "# CRATE A SERIES WITH PERFORMANCE AND FIND PARM WITH LOWEST MSE    \n",
    "hyperparam_perform = pd.Series(perform,index=lambdas)\n",
    "optimal = hyperparam_perform.nsmallest(1)    \n",
    "print('Optimal lambda:', optimal.index[0])\n",
    "print('Test MSE: %.3f' % optimal.values[0])"
   ]
  },
  {
   "cell_type": "code",
   "execution_count": 99,
   "id": "6ba01d81-c46c-4572-923e-269261e54083",
   "metadata": {},
   "outputs": [
    {
     "data": {
      "image/png": "[encoded data removed]",
      "text/plain": [
       "<Figure size 576x432 with 1 Axes>"
      ]
     },
     "metadata": {
      "needs_background": "light"
     },
     "output_type": "display_data"
    }
   ],
   "source": [
    "# Create a line plot of MSE values\n",
    "plt.figure(figsize=(8, 6))\n",
    "plt.plot(lambdas, perform, marker='o')\n",
    "plt.xscale('log')  # Use a logarithmic scale for x-axis (optional)\n",
    "plt.title('MSE vs. Alpha (Lasso Regularization)')\n",
    "plt.xlabel('Alpha (Lambda)')\n",
    "plt.ylabel('Mean Squared Error (MSE)')\n",
    "plt.grid(True)\n",
    "plt.show()"
   ]
  },
  {
   "cell_type": "code",
   "execution_count": 100,
   "id": "74e32a30-fcf7-4825-9122-a635f23ef759",
   "metadata": {},
   "outputs": [
    {
     "name": "stdout",
     "output_type": "stream",
     "text": [
      "RMSE: 839657.6375471062\n",
      "R-squared: 0.6946566234127409\n"
     ]
    }
   ],
   "source": [
    "from sklearn.metrics import mean_squared_error as mse\n",
    "\n",
    "scaler = StandardScaler()\n",
    "\n",
    "X_dev = scaler.fit_transform(X_dev)\n",
    "X_test = scaler.transform(X_test)\n",
    "\n",
    "lasso_model = Lasso(alpha=6158.482110660255)  # Adjust the alpha parameter as needed\n",
    "lasso_model.fit(X_dev, y_dev)\n",
    "\n",
    "# Make predictions on the test set\n",
    "y_pred = lasso_model.predict(X_test)\n",
    "\n",
    "# Calculate the Mean Squared Error (MSE)\n",
    "rmse = np.sqrt(mse(y_test, y_pred))\n",
    "print(\"RMSE:\",rmse)\n",
    "r2 = r2_score(y_test, y_pred)\n",
    "print(\"R-squared:\", r2)"
   ]
  },
  {
   "cell_type": "code",
   "execution_count": 101,
   "id": "f546454f-507b-411a-bd26-af965c335381",
   "metadata": {},
   "outputs": [
    {
     "data": {
      "image/png": "[encoded data removed]",
      "text/plain": [
       "<Figure size 576x432 with 1 Axes>"
      ]
     },
     "metadata": {
      "needs_background": "light"
     },
     "output_type": "display_data"
    }
   ],
   "source": [
    "plt.figure(figsize=(8, 6))\n",
    "plt.scatter(y_test, y_pred, alpha=0.5)\n",
    "plt.plot([min(y_test), max(y_test)], [min(y_test), max(y_test)], color='red', linestyle='--')\n",
    "plt.title('Predicted vs. Actual Values (Lasso Regression)')\n",
    "plt.xlabel('Actual Values')\n",
    "plt.ylabel('Predicted Values')\n",
    "plt.show()"
   ]
  },
  {
   "cell_type": "code",
   "execution_count": 63,
   "id": "e1f7f715-821c-4296-88fe-c533418c9ec2",
   "metadata": {},
   "outputs": [
    {
     "name": "stdout",
     "output_type": "stream",
     "text": [
      "Best Alpha: 6280.2914418342725\n",
      "R-squared: 0.7048445313439402\n"
     ]
    }
   ],
   "source": [
    "alphas = np.logspace(-8, 8, 100)\n",
    "# Create LassoCV model with cross-validation\n",
    "lasso_cv = LassoCV(alphas=alphas, cv=5, random_state=161193)\n",
    "\n",
    "# Fit the model to your data\n",
    "lasso_cv.fit(X_dev, y_dev)\n",
    "\n",
    "# Get the best alpha value\n",
    "best_alpha = lasso_cv.alpha_\n",
    "print(\"Best Alpha:\", best_alpha)\n",
    "\n",
    "# Calculate R-squared on the test set\n",
    "r2 = lasso_cv.score(X_test, y_test)\n",
    "print(\"R-squared:\", r2)"
   ]
  },
  {
   "cell_type": "markdown",
   "id": "9f0e3726-49ff-44e5-a6a9-5b820d10b2d7",
   "metadata": {},
   "source": [
    "## Ridge"
   ]
  },
  {
   "cell_type": "code",
   "execution_count": 77,
   "id": "214da711-4765-48bc-9606-144494c4c112",
   "metadata": {},
   "outputs": [
    {
     "name": "stdout",
     "output_type": "stream",
     "text": [
      "Optimal lambda: 1e-08\n",
      "Validation MSE: 1198881462166.713\n"
     ]
    }
   ],
   "source": [
    "from sklearn.linear_model import Ridge\n",
    "from sklearn.metrics import mean_squared_error as mse\n",
    "\n",
    "\n",
    "\n",
    "performance = [] # Store performance\n",
    "lambdas = np.logspace(-8, 8, 20) # Grid of lambdas\n",
    "\n",
    "# FOR EACH LAMBDA, FIT A MODEL ON TRAINING DATA, CHECK PERFORMANCE ON VALIDATION AND STORE MSE\n",
    "for lambda_ in lambdas:\n",
    "    pipe_ridge = make_pipeline(PolynomialFeatures(degree=1, include_bias=False), \n",
    "                           StandardScaler(),\n",
    "                           Ridge(alpha=6400, random_state=161193))\n",
    "    pipe_ridge.fit(X_dev,y_dev)\n",
    "    y_pred = pipe_ridge.predict(X_test)\n",
    "    performance.append(mse(y_pred, y_test))\n",
    "\n",
    "# CRATE A SERIES WITH PERFORMANCE AND FIND PARM WITH LOWEST MSE    \n",
    "hyperparam_perform = pd.Series(performance,index=lambdas)\n",
    "optimal = hyperparam_perform.nsmallest(1)    \n",
    "print('Optimal lambda:', optimal.index[0])\n",
    "print('Validation MSE: %.3f' % optimal.values[0])"
   ]
  },
  {
   "cell_type": "code",
   "execution_count": 126,
   "id": "a53967aa-3592-4a15-991e-721d03a47ed6",
   "metadata": {},
   "outputs": [
    {
     "name": "stdout",
     "output_type": "stream",
     "text": [
      "1104374.922628878\n"
     ]
    }
   ],
   "source": [
    "pipe_ridge = make_pipeline(PolynomialFeatures(degree=1, include_bias=False), \n",
    "                           StandardScaler(),\n",
    "                           Ridge(alpha=6400, random_state=161193))\n",
    "pipe_ridge.fit(X_dev,y_dev)\n",
    "y_pred = pipe_ridge.predict(X_test)\n",
    "# Calculate Mean Squared Error\n",
    "print(np.sqrt(mse(y_test, y_pred)))"
   ]
  },
  {
   "cell_type": "code",
   "execution_count": 79,
   "id": "676677b6-108e-421e-a03d-415032c9f0b3",
   "metadata": {},
   "outputs": [
    {
     "data": {
      "image/png": "[encoded data removed]",
      "text/plain": [
       "<Figure size 576x432 with 1 Axes>"
      ]
     },
     "metadata": {
      "needs_background": "light"
     },
     "output_type": "display_data"
    }
   ],
   "source": [
    "# Create a line plot of MSE values\n",
    "plt.figure(figsize=(8, 6))\n",
    "plt.plot(lambdas, performance, marker='o')\n",
    "plt.xscale('log')  # Use a logarithmic scale for x-axis (optional)\n",
    "plt.title('MSE vs. Alpha (Ridge Regularization)')\n",
    "plt.xlabel('Alpha (Lambda)')\n",
    "plt.ylabel('Mean Squared Error (MSE)')\n",
    "plt.grid(True)\n",
    "plt.show()"
   ]
  },
  {
   "cell_type": "code",
   "execution_count": 65,
   "id": "7f9d5e44-31bd-4358-a9d0-acfd5a33e921",
   "metadata": {},
   "outputs": [
    {
     "name": "stdout",
     "output_type": "stream",
     "text": [
      "Best Alpha: 34.30469286314926\n",
      "R-squared: 0.7039017182276783\n"
     ]
    }
   ],
   "source": [
    "from sklearn.linear_model import RidgeCV\n",
    "\n",
    "# Create a range of alpha values on a logarithmic scale\n",
    "alphas = np.logspace(-8, 8, 100)\n",
    "\n",
    "# Create RidgeCV model with cross-validation\n",
    "ridge_cv = RidgeCV(alphas=alphas, cv=5)\n",
    "\n",
    "# Fit the model to your data\n",
    "ridge_cv.fit(X_dev, y_dev)\n",
    "\n",
    "# Get the best alpha value\n",
    "best_alpha = ridge_cv.alpha_\n",
    "print(\"Best Alpha:\", best_alpha)\n",
    "\n",
    "# Calculate R-squared on the test set\n",
    "r2 = ridge_cv.score(X_test, y_test)\n",
    "print(\"R-squared:\", r2)"
   ]
  },
  {
   "cell_type": "markdown",
   "id": "9256ae38-7f31-4006-bb14-2002ae6eca0e",
   "metadata": {},
   "source": [
    "## Model Validation"
   ]
  },
  {
   "cell_type": "markdown",
   "id": "00110ea8-11d9-4d6a-9f34-4db014d6a0d5",
   "metadata": {},
   "source": [
    "Select optimal hypterparameters"
   ]
  },
  {
   "cell_type": "code",
   "execution_count": 68,
   "id": "2dc94d95-6ff4-42e9-b580-13baccc586ae",
   "metadata": {},
   "outputs": [],
   "source": [
    "from sklearn.model_selection import GridSearchCV\n",
    "from sklearn.linear_model import ElasticNet\n",
    "\n",
    "lambdas = np.logspace(-4, 4, 10) # Grid of lambdas\n",
    "\n",
    "pipe_el = make_pipeline(PolynomialFeatures(degree=1, include_bias=False), \n",
    "                        StandardScaler(),\n",
    "                        ElasticNet())\n",
    "\n",
    "gs = GridSearchCV(estimator=pipe_el, \n",
    "                  param_grid={'elasticnet__alpha':lambdas,\n",
    "                              'elasticnet__l1_ratio':np.linspace(0,1,10)}, \n",
    "                  scoring='neg_mean_squared_error', \n",
    "                  cv=5)\n",
    "\n",
    "#gs.fit(X_dev, y_dev)\n",
    "#print(mse(gs.predict(X_test),y_test))"
   ]
  },
  {
   "cell_type": "code",
   "execution_count": 73,
   "id": "71810ed3-4353-4267-8359-d6b626bf646f",
   "metadata": {},
   "outputs": [
    {
     "data": {
      "text/plain": [
       "'\\n# Fit the grid search to your data\\ngrid_search.fit(X_dev, y_dev)\\n\\n# Get the best parameters and model\\nbest_params = grid_search.best_params_\\nbest_model = grid_search.best_estimator_\\n\\n# Make predictions using the best model\\ny_pred = best_model.predict(X_test)\\n\\n# Calculate R-squared on the test set\\nr2 = r2_score(y_test, y_pred)\\nprint(\"Best Parameters:\", best_params)\\nprint(\"Best R-squared:\", r2)'"
      ]
     },
     "execution_count": 73,
     "metadata": {},
     "output_type": "execute_result"
    }
   ],
   "source": [
    "# Create a parameter grid for alpha and l1_ratio\n",
    "param_grid = {\n",
    "    'alpha': np.logspace(-6, 2, 9),      # Range of alpha values on a logarithmic scale\n",
    "    'l1_ratio': np.linspace(0.0, 1.0, 11) # Range of l1_ratio values from 0 to 1\n",
    "}\n",
    "\n",
    "# Create ElasticNet model\n",
    "elastic_net = ElasticNet()\n",
    "\n",
    "# Create GridSearchCV instance\n",
    "grid_search = GridSearchCV(elastic_net, param_grid, cv=5, scoring='neg_mean_squared_error')\n",
    "\"\"\"\n",
    "# Fit the grid search to your data\n",
    "grid_search.fit(X_dev, y_dev)\n",
    "\n",
    "# Get the best parameters and model\n",
    "best_params = grid_search.best_params_\n",
    "best_model = grid_search.best_estimator_\n",
    "\n",
    "# Make predictions using the best model\n",
    "y_pred = best_model.predict(X_test)\n",
    "\n",
    "# Calculate R-squared on the test set\n",
    "r2 = r2_score(y_test, y_pred)\n",
    "print(\"Best Parameters:\", best_params)\n",
    "print(\"Best R-squared:\", r2)\"\"\""
   ]
  },
  {
   "cell_type": "code",
   "execution_count": null,
   "id": "0f1fc88f-61a9-47b9-9a1e-f3c505e682a8",
   "metadata": {},
   "outputs": [],
   "source": []
  },
  {
   "cell_type": "code",
   "execution_count": null,
   "id": "d1c9b9cd-99c2-4586-8978-a945a9c1cca5",
   "metadata": {},
   "outputs": [],
   "source": []
  },
  {
   "cell_type": "code",
   "execution_count": null,
   "id": "700853c2-da82-4444-b25a-56c8d84c1701",
   "metadata": {},
   "outputs": [],
   "source": []
  },
  {
   "cell_type": "markdown",
   "id": "ac026d5d-8e18-41f6-ab56-a7bc1de07a72",
   "metadata": {},
   "source": [
    "## Compare Models"
   ]
  },
  {
   "cell_type": "markdown",
   "id": "74eafe0a-8efe-4d4e-9fca-913e4784707a",
   "metadata": {},
   "source": [
    "### Learning curves"
   ]
  },
  {
   "cell_type": "code",
   "execution_count": 74,
   "id": "9381e160-dbc0-4601-9638-2b8827070976",
   "metadata": {},
   "outputs": [
    {
     "data": {
      "text/html": [
       "<div>\n",
       "<style scoped>\n",
       "    .dataframe tbody tr th:only-of-type {\n",
       "        vertical-align: middle;\n",
       "    }\n",
       "\n",
       "    .dataframe tbody tr th {\n",
       "        vertical-align: top;\n",
       "    }\n",
       "\n",
       "    .dataframe thead th {\n",
       "        text-align: right;\n",
       "    }\n",
       "</style>\n",
       "<table border=\"1\" class=\"dataframe\">\n",
       "  <thead>\n",
       "    <tr style=\"text-align: right;\">\n",
       "      <th></th>\n",
       "      <th>Train</th>\n",
       "      <th>Test</th>\n",
       "    </tr>\n",
       "    <tr>\n",
       "      <th>sample size</th>\n",
       "      <th></th>\n",
       "      <th></th>\n",
       "    </tr>\n",
       "  </thead>\n",
       "  <tbody>\n",
       "    <tr>\n",
       "      <th>126</th>\n",
       "      <td>5.530926e+11</td>\n",
       "      <td>9.381367e+11</td>\n",
       "    </tr>\n",
       "    <tr>\n",
       "      <th>253</th>\n",
       "      <td>5.820460e+11</td>\n",
       "      <td>7.980487e+11</td>\n",
       "    </tr>\n",
       "    <tr>\n",
       "      <th>380</th>\n",
       "      <td>6.152386e+11</td>\n",
       "      <td>7.935402e+11</td>\n",
       "    </tr>\n",
       "    <tr>\n",
       "      <th>507</th>\n",
       "      <td>6.449154e+11</td>\n",
       "      <td>7.413194e+11</td>\n",
       "    </tr>\n",
       "    <tr>\n",
       "      <th>634</th>\n",
       "      <td>6.683089e+11</td>\n",
       "      <td>7.271029e+11</td>\n",
       "    </tr>\n",
       "    <tr>\n",
       "      <th>760</th>\n",
       "      <td>6.705736e+11</td>\n",
       "      <td>7.253227e+11</td>\n",
       "    </tr>\n",
       "    <tr>\n",
       "      <th>887</th>\n",
       "      <td>6.807317e+11</td>\n",
       "      <td>7.176967e+11</td>\n",
       "    </tr>\n",
       "    <tr>\n",
       "      <th>1014</th>\n",
       "      <td>6.825647e+11</td>\n",
       "      <td>7.174895e+11</td>\n",
       "    </tr>\n",
       "    <tr>\n",
       "      <th>1141</th>\n",
       "      <td>6.970068e+11</td>\n",
       "      <td>7.179718e+11</td>\n",
       "    </tr>\n",
       "    <tr>\n",
       "      <th>1268</th>\n",
       "      <td>6.947122e+11</td>\n",
       "      <td>7.123864e+11</td>\n",
       "    </tr>\n",
       "  </tbody>\n",
       "</table>\n",
       "</div>"
      ],
      "text/plain": [
       "                    Train          Test\n",
       "sample size                            \n",
       "126          5.530926e+11  9.381367e+11\n",
       "253          5.820460e+11  7.980487e+11\n",
       "380          6.152386e+11  7.935402e+11\n",
       "507          6.449154e+11  7.413194e+11\n",
       "634          6.683089e+11  7.271029e+11\n",
       "760          6.705736e+11  7.253227e+11\n",
       "887          6.807317e+11  7.176967e+11\n",
       "1014         6.825647e+11  7.174895e+11\n",
       "1141         6.970068e+11  7.179718e+11\n",
       "1268         6.947122e+11  7.123864e+11"
      ]
     },
     "execution_count": 74,
     "metadata": {},
     "output_type": "execute_result"
    }
   ],
   "source": [
    "# LOAD FROM SCIKIT-LEARN\n",
    "from sklearn.model_selection import learning_curve\n",
    "\n",
    "train_sizes, train_scores, test_scores = \\\n",
    "    learning_curve(estimator=pipe_lr,\n",
    "                   X=X_dev,\n",
    "                   y=y_dev,\n",
    "                   train_sizes=np.arange(0.05, 1.05, .05),\n",
    "                   scoring='neg_mean_squared_error',                 \n",
    "                   cv=10)\n",
    "    \n",
    "mse_ = pd.DataFrame({'Train':-train_scores.mean(axis=1),\n",
    "                     'Test':-test_scores.mean(axis=1)})\\\n",
    "        .set_index(pd.Index(train_sizes,name='sample size'))\n",
    "\n",
    "mse_.head(10)"
   ]
  },
  {
   "cell_type": "code",
   "execution_count": 75,
   "id": "f08a67e3-6264-4993-8a42-fa9018b28059",
   "metadata": {},
   "outputs": [
    {
     "data": {
      "image/png": "[encoded data removed]",
      "text/plain": [
       "<Figure size 504x216 with 1 Axes>"
      ]
     },
     "metadata": {
      "needs_background": "light"
     },
     "output_type": "display_data"
    }
   ],
   "source": [
    "f_learn, ax = plt.subplots(figsize=(7,3))\n",
    "ax.plot(train_sizes,np.sqrt(-test_scores.mean(1)), alpha=0.25, linewidth=2, label ='Test', color='blue') # negated, because we already use neg_MSE\n",
    "ax.plot(train_sizes,np.sqrt(-train_scores.mean(1)), alpha=0.25, linewidth=2, label='Train', color='orange') # negated, because we already use neg_MSE\n",
    "\n",
    "ax.set_title('Mean performance')\n",
    "ax.set_ylabel('Root-Mean squared error')\n",
    "ax.legend();"
   ]
  },
  {
   "cell_type": "code",
   "execution_count": null,
   "id": "640d604e-b96a-4eff-b7f9-96bd85fd1132",
   "metadata": {},
   "outputs": [],
   "source": []
  },
  {
   "cell_type": "markdown",
   "id": "8b3db110-01e2-4494-a559-f3b522b5d128",
   "metadata": {},
   "source": [
    "# Normal OLS for comparison"
   ]
  },
  {
   "cell_type": "code",
   "execution_count": 76,
   "id": "5e1d111d-0316-4d26-a181-a17c99a02507",
   "metadata": {},
   "outputs": [
    {
     "name": "stdout",
     "output_type": "stream",
     "text": [
      "                            OLS Regression Results                            \n",
      "==============================================================================\n",
      "Dep. Variable:            Kontantpris   R-squared:                       0.708\n",
      "Model:                            OLS   Adj. R-squared:                  0.706\n",
      "Method:                 Least Squares   F-statistic:                     345.4\n",
      "Date:                Thu, 17 Aug 2023   Prob (F-statistic):               0.00\n",
      "Time:                        11:29:12   Log-Likelihood:                -60562.\n",
      "No. Observations:                4026   AIC:                         1.212e+05\n",
      "Df Residuals:                    3997   BIC:                         1.214e+05\n",
      "Df Model:                          28                                         \n",
      "Covariance Type:            nonrobust                                         \n",
      "=========================================================================================\n",
      "                            coef    std err          t      P>|t|      [0.025      0.975]\n",
      "-----------------------------------------------------------------------------------------\n",
      "Rum                    1.133e+04   1.65e+04      0.685      0.493   -2.11e+04    4.37e+04\n",
      "Toilet                 1.431e+05   2.95e+04      4.846      0.000    8.52e+04    2.01e+05\n",
      "Boligareal             4939.7496    584.315      8.454      0.000    3794.166    6085.333\n",
      "Grundareal               95.5222     41.402      2.307      0.021      14.351     176.693\n",
      "Ejerudgift             7.932e+05   1.63e+04     48.742      0.000    7.61e+05    8.25e+05\n",
      "Plan                  -4.537e+04   2.29e+04     -1.978      0.048   -9.03e+04    -395.813\n",
      "city_distance         -1.127e+04    494.270    -22.795      0.000   -1.22e+04   -1.03e+04\n",
      "Age                    -431.1833    476.277     -0.905      0.365   -1364.951     502.585\n",
      "Energimærke_A          5.569e+05   9.21e+04      6.044      0.000    3.76e+05    7.38e+05\n",
      "Energimærke_B          4.939e+04   9.35e+04      0.528      0.598   -1.34e+05    2.33e+05\n",
      "Energimærke_C         -2.051e+05   8.51e+04     -2.410      0.016   -3.72e+05   -3.83e+04\n",
      "Energimærke_D         -4.654e+05   8.61e+04     -5.407      0.000   -6.34e+05   -2.97e+05\n",
      "Energimærke_E         -5.561e+05   9.22e+04     -6.032      0.000   -7.37e+05   -3.75e+05\n",
      "Energimærke_F         -6.303e+05   1.05e+05     -6.006      0.000   -8.36e+05   -4.25e+05\n",
      "Energimærke_G         -7.842e+05   1.19e+05     -6.571      0.000   -1.02e+06    -5.5e+05\n",
      "Kælder_0              -2.649e+04   2.29e+04     -1.155      0.248   -7.15e+04    1.85e+04\n",
      "Kælder_1               2.078e+05   2.88e+04      7.228      0.000    1.51e+05    2.64e+05\n",
      "Udhus_1                1.814e+05   3.67e+04      4.945      0.000    1.09e+05    2.53e+05\n",
      "Garage_0               1.857e+05   3.76e+04      4.935      0.000    1.12e+05    2.59e+05\n",
      "Garage_1              -4354.2984   4.74e+04     -0.092      0.927   -9.73e+04    8.86e+04\n",
      "Drivhus_0              1.586e+05   4.59e+04      3.453      0.001    6.86e+04    2.49e+05\n",
      "Drivhus_1              2.274e+04   5.82e+04      0.391      0.696   -9.14e+04    1.37e+05\n",
      "Erhverv_0               1.68e+05   3.98e+04      4.222      0.000       9e+04    2.46e+05\n",
      "Erhverv_1              1.338e+04   4.99e+04      0.268      0.789   -8.45e+04    1.11e+05\n",
      "close_city_Aalborg    -3.412e+05   3.86e+04     -8.839      0.000   -4.17e+05   -2.66e+05\n",
      "close_city_Aarhus       1.17e+05   2.46e+04      4.754      0.000    6.87e+04    1.65e+05\n",
      "close_city_Copenhagen  3.527e+05   2.74e+04     12.882      0.000    2.99e+05    4.06e+05\n",
      "close_city_Odense      5.288e+04   2.74e+04      1.929      0.054    -857.825    1.07e+05\n",
      "type_Andelsbolig       7.495e+05   8.11e+04      9.238      0.000     5.9e+05    9.09e+05\n",
      "type_Lejlighed         -1.84e+05   4.02e+04     -4.573      0.000   -2.63e+05   -1.05e+05\n",
      "type_Rækkehus         -1.787e+05   4.28e+04     -4.174      0.000   -2.63e+05   -9.47e+04\n",
      "type_Villa            -2.054e+05   4.12e+04     -4.992      0.000   -2.86e+05   -1.25e+05\n",
      "_clean_renewable       2.732e+04   4.12e+04      0.664      0.507   -5.34e+04    1.08e+05\n",
      "_non_clean            -6.296e+04   6.15e+04     -1.024      0.306   -1.83e+05    5.75e+04\n",
      "_non_renewable         2.352e+04   5.11e+04      0.461      0.645   -7.66e+04    1.24e+05\n",
      "_other                 1.935e+05   1.13e+05      1.713      0.087   -2.79e+04    4.15e+05\n",
      "==============================================================================\n",
      "Omnibus:                      491.592   Durbin-Watson:                   1.477\n",
      "Prob(Omnibus):                  0.000   Jarque-Bera (JB):             1053.860\n",
      "Skew:                           0.744   Prob(JB):                    1.44e-229\n",
      "Kurtosis:                       5.016   Cond. No.                     1.28e+16\n",
      "==============================================================================\n",
      "\n",
      "Notes:\n",
      "[1] Standard Errors assume that the covariance matrix of the errors is correctly specified.\n",
      "[2] The smallest eigenvalue is 7.74e-24. This might indicate that there are\n",
      "strong multicollinearity problems or that the design matrix is singular.\n"
     ]
    },
    {
     "name": "stderr",
     "output_type": "stream",
     "text": [
      "C:\\Users\\marko\\anaconda3\\lib\\site-packages\\statsmodels\\tsa\\tsatools.py:142: FutureWarning: In a future version of pandas all arguments of concat except for the argument 'objs' will be keyword-only\n",
      "  x = pd.concat(x[::order], 1)\n"
     ]
    }
   ],
   "source": [
    "import pandas as pd\n",
    "import numpy as np\n",
    "import statsmodels.api as sm\n",
    "\n",
    "# Add a constant term to X\n",
    "X = sm.add_constant(X)\n",
    "\n",
    "# Fit OLS regression model\n",
    "model = sm.OLS(y, X).fit()\n",
    "\n",
    "# Print regression summary\n",
    "print(model.summary())"
   ]
  },
  {
   "cell_type": "code",
   "execution_count": null,
   "id": "ae7ca3bf-8c22-475d-9c83-8bb39ffa1aa3",
   "metadata": {},
   "outputs": [],
   "source": []
  },
  {
   "cell_type": "markdown",
   "id": "86456de7-b8e4-4f31-83ed-ea3f560b28ad",
   "metadata": {},
   "source": [
    "# Data Visualization"
   ]
  },
  {
   "cell_type": "code",
   "execution_count": 107,
   "id": "5e9cddb0-b7e2-4447-b899-08510f95cd42",
   "metadata": {},
   "outputs": [],
   "source": [
    "apply_fcts = ['median', 'mean']\n",
    "mean_prices = df.groupby('property_type')['Kontantpris'].agg(apply_fcts)"
   ]
  },
  {
   "cell_type": "code",
   "execution_count": 108,
   "id": "5252f461-32e4-4074-a6d3-76bf13a71cb7",
   "metadata": {},
   "outputs": [
    {
     "data": {
      "image/png": "[encoded data removed]",
      "text/plain": [
       "<Figure size 432x288 with 1 Axes>"
      ]
     },
     "metadata": {
      "needs_background": "light"
     },
     "output_type": "display_data"
    }
   ],
   "source": [
    "mean_prices.plot(kind='bar')\n",
    "plt.xlabel('Property Type')\n",
    "plt.ylabel('Mean Kontantpris')\n",
    "plt.title('Mean Kontantpris by Property Type')\n",
    "plt.xticks(rotation=45)\n",
    "plt.show()"
   ]
  },
  {
   "cell_type": "code",
   "execution_count": 124,
   "id": "0cc1ba75-a795-4754-9305-bb04bbf5255f",
   "metadata": {},
   "outputs": [
    {
     "data": {
      "text/html": [
       "<div>\n",
       "<style scoped>\n",
       "    .dataframe tbody tr th:only-of-type {\n",
       "        vertical-align: middle;\n",
       "    }\n",
       "\n",
       "    .dataframe tbody tr th {\n",
       "        vertical-align: top;\n",
       "    }\n",
       "\n",
       "    .dataframe thead th {\n",
       "        text-align: right;\n",
       "    }\n",
       "</style>\n",
       "<table border=\"1\" class=\"dataframe\">\n",
       "  <thead>\n",
       "    <tr style=\"text-align: right;\">\n",
       "      <th></th>\n",
       "      <th>Kontantpris</th>\n",
       "      <th>Rum</th>\n",
       "      <th>Toilet</th>\n",
       "      <th>Boligareal</th>\n",
       "      <th>Grundareal</th>\n",
       "      <th>Age</th>\n",
       "      <th>close_city_Copenhagen</th>\n",
       "      <th>close_city_Odense</th>\n",
       "      <th>close_city_Aarhus</th>\n",
       "    </tr>\n",
       "  </thead>\n",
       "  <tbody>\n",
       "    <tr>\n",
       "      <th>count</th>\n",
       "      <td>4782</td>\n",
       "      <td>4782</td>\n",
       "      <td>4782</td>\n",
       "      <td>4782</td>\n",
       "      <td>4782</td>\n",
       "      <td>4782</td>\n",
       "      <td>4782</td>\n",
       "      <td>4782</td>\n",
       "      <td>4782</td>\n",
       "    </tr>\n",
       "    <tr>\n",
       "      <th>mean</th>\n",
       "      <td>2909893</td>\n",
       "      <td>5</td>\n",
       "      <td>2</td>\n",
       "      <td>143</td>\n",
       "      <td>2102</td>\n",
       "      <td>71</td>\n",
       "      <td>0</td>\n",
       "      <td>0</td>\n",
       "      <td>0</td>\n",
       "    </tr>\n",
       "    <tr>\n",
       "      <th>min</th>\n",
       "      <td>95000</td>\n",
       "      <td>1</td>\n",
       "      <td>1</td>\n",
       "      <td>21</td>\n",
       "      <td>0</td>\n",
       "      <td>-1</td>\n",
       "      <td>0</td>\n",
       "      <td>0</td>\n",
       "      <td>0</td>\n",
       "    </tr>\n",
       "    <tr>\n",
       "      <th>max</th>\n",
       "      <td>32500000</td>\n",
       "      <td>19</td>\n",
       "      <td>7</td>\n",
       "      <td>735</td>\n",
       "      <td>339000</td>\n",
       "      <td>446</td>\n",
       "      <td>1</td>\n",
       "      <td>1</td>\n",
       "      <td>1</td>\n",
       "    </tr>\n",
       "  </tbody>\n",
       "</table>\n",
       "</div>"
      ],
      "text/plain": [
       "       Kontantpris   Rum  Toilet  Boligareal  Grundareal   Age  \\\n",
       "count         4782  4782    4782        4782        4782  4782   \n",
       "mean       2909893     5       2         143        2102    71   \n",
       "min          95000     1       1          21           0    -1   \n",
       "max       32500000    19       7         735      339000   446   \n",
       "\n",
       "       close_city_Copenhagen  close_city_Odense  close_city_Aarhus  \n",
       "count                   4782               4782               4782  \n",
       "mean                       0                  0                  0  \n",
       "min                        0                  0                  0  \n",
       "max                        1                  1                  1  "
      ]
     },
     "execution_count": 124,
     "metadata": {},
     "output_type": "execute_result"
    }
   ],
   "source": [
    "# Specify the columns and statistics you want\n",
    "selected_columns = ['Kontantpris', 'Rum', 'Toilet', 'Boligareal', 'Grundareal', 'Age', 'close_city_Copenhagen', 'close_city_Odense', 'close_city_Aarhus']\n",
    "selected_stats = ['count', 'mean', 'min', 'max']\n",
    "\n",
    "# Calculate descriptive statistics\n",
    "statistics = df[selected_columns].agg(selected_stats)\n",
    "formatted_statistics = statistics.applymap(lambda x: int(x) if x == int(x) else int(round(x)))\n",
    "formatted_statistics"
   ]
  },
  {
   "cell_type": "code",
   "execution_count": 125,
   "id": "0eef8d13-21d2-4aec-aa89-85fef78f1f79",
   "metadata": {},
   "outputs": [
    {
     "name": "stdout",
     "output_type": "stream",
     "text": [
      "\\begin{tabular}{lrrrrrrrrr}\n",
      "\\toprule\n",
      "{} &  Kontantpris &   Rum &  Toilet &  Boligareal &  Grundareal &   Age &  close\\_city\\_Copenhagen &  close\\_city\\_Odense &  close\\_city\\_Aarhus \\\\\n",
      "\\midrule\n",
      "count &         4782 &  4782 &    4782 &        4782 &        4782 &  4782 &                   4782 &               4782 &               4782 \\\\\n",
      "mean  &      2909893 &     5 &       2 &         143 &        2102 &    71 &                      0 &                  0 &                  0 \\\\\n",
      "min   &        95000 &     1 &       1 &          21 &           0 &    -1 &                      0 &                  0 &                  0 \\\\\n",
      "max   &     32500000 &    19 &       7 &         735 &      339000 &   446 &                      1 &                  1 &                  1 \\\\\n",
      "\\bottomrule\n",
      "\\end{tabular}\n",
      "\n"
     ]
    }
   ],
   "source": [
    "# Convert statistics to LaTeX table\n",
    "latex_table = formatted_statistics.to_latex()\n",
    "\n",
    "# Print or save the LaTeX table\n",
    "print(latex_table)"
   ]
  },
  {
   "cell_type": "code",
   "execution_count": null,
   "id": "6ab2a057-7dc5-472e-9825-20a8a5e47d7a",
   "metadata": {},
   "outputs": [],
   "source": []
  }
 ],
 "metadata": {
  "kernelspec": {
   "display_name": "Python 3 (ipykernel)",
   "language": "python",
   "name": "python3"
  },
  "language_info": {
   "codemirror_mode": {
    "name": "ipython",
    "version": 3
   },
   "file_extension": ".py",
   "mimetype": "text/x-python",
   "name": "python",
   "nbconvert_exporter": "python",
   "pygments_lexer": "ipython3",
   "version": "3.9.7"
  }
 },
 "nbformat": 4,
 "nbformat_minor": 5
}
