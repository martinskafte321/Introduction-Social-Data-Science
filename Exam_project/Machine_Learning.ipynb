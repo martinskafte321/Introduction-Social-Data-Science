{
 "cells": [
  {
   "cell_type": "code",
   "execution_count": 1,
   "id": "5cf00bc2-4498-44cb-ae9c-8ab0b4cc27f0",
   "metadata": {},
   "outputs": [],
   "source": [
    "%matplotlib inline\n",
    "import numpy as np\n",
    "import pandas as pd\n",
    "import matplotlib.pyplot as plt"
   ]
  },
  {
   "cell_type": "code",
   "execution_count": 4,
   "id": "248b9515-8e07-4bec-89d2-fe33fdcbb004",
   "metadata": {},
   "outputs": [
    {
     "name": "stdout",
     "output_type": "stream",
     "text": [
      "['Type', 'Udbudsform', 'Energimærke', 'Varmekilde', 'Byggeår', 'Rum', 'Bad', 'Toilet', 'Plan', 'Boligareal', 'Kælder', 'Udhus', 'Grundareal', 'Kontantpris', 'Ejerudgift', 'address', 'description', 'zip code', 'Ombygget', 'Etage', 'Depot i kælder', 'Carport', 'Garage', 'Drivhus', 'Udestue', 'Fritliggende overdækning', 'Erhverv', 'Garage/udhus', 'Købspris', 'Teknisk Pris', 'Ydelse', 'Ukendt', '(UDFASES) Bygning til erhvervsmæssig produktion vedrørende landbrug, gartneri, råstofudvinding o. lign', 'Fritliggende udestue', 'Ukendt bygning', 'Disp. rum', 'Pulterrum', 'Altan', 'Carport/Udhus ', 'Leje pr. md.', 'Depositum', 'Vindfang', 'Overdækket areal', 'Overdækning', 'Hønsehus', 'Legehus', 'Lade og garage', 'Tiloversbleven landbrugsbygning', 'Udhus (gildesal)', 'Stald til kvæg, får mv.', 'Maskinhus, garage mv.', 'Lade til foder, afgrøder mv.', 'pulterrum', 'Væksthus', 'Bygning til industri uden integreret produktionsapparat', 'Skur', 'Unnamed: 56', 'overdækket areal', 'Anneks', 'Anneks i tilknytning til helårsbolig.', 'Anden bygning til landbrug mv.', 'altan/terrasse', 'Overdækket terrasse', 'Lade/garage', 'Maskinhus', 'kælderrum', 'Pejsestue', 'Stald', 'Lade', 'Kælderrum', 'Loftrum', 'Altan ', 'Anneks i tilknytning til fritids- og sommerhus', 'Fritliggende enfamiliehus', 'Lade til halm, hø mv.', 'Depotrum ', 'Fyrrum', 'Værksted', 'Maskinhus&nbsp;', 'Staldbygning', 'altan', 'Drivhus 2', 'Sommerhus', 'kælder', 'Redskabsrum', 'Bolig', 'Brændeskur', 'Anden bygning til serviceerhverv', 'Udestue ', 'Stald til svin', 'Stald til fjerkræ', 'Bygning til kontor', 'Landbrugsbygning', 'Svinestald', 'tagetage', 'Cykelskur', 'Udhuse', 'Bygning til detailhandel', 'garage/udhus', 'værksted', 'maskinhus, garage mv.', 'Andre bygninger til landbrug mv.', 'Overdækning/brændeskur', 'Indendørs swimmingpool rum', 'Overdækkede arealer', 'Carport/udhus', 'Fællesrum i bygning 2 (værksted) ', 'Carport/Skur', 'altan/tagterrasse', 'areal af åben altan/tagterrasse', 'Anneks indeholdt i det samlede boligareal', 'Depotrum', 'Bygning til lager', 'Overdækket terrasse ', 'Anden bygning til transport, handel etc', 'Værksted 109 m2 + 3 vær. til bolig 94 m2', 'Bygning til erhvervsmæssig produktion vedrørende landbrug, gartneri', 'Underetage', 'Hestestald', 'Ridehal', 'Anden bygning til fritidsformål', 'Beboelse', 'Swimming pool', 'Erhverv - Værksted/Lade bygning', 'Nørrebro 8B, stuen Værksted ', 'Andel fælleshus', 'Kælder under garage', 'balkonareal', 'Lagerbygning', 'Anden bygning til institutionsformål', 'Kælderum ', 'Pulterrum på loftet', 'Loftværelse ', 'Kælder, jf. BBR-meddelelse', 'Stald&nbsp;', 'Pavillon', 'tagterrasse', 'Gammel mølle - bygning til fritidsformål', 'Badeværelse i kælder godkendt til beboelse', 'Parkeringspergola', 'anden villa', 'Bygning til erhvervsmæssig produktion vedrørende landbrug, gartneri, råstofudvinding o. lign', 'Hundehus', 'Bygning til erhvervsmæssig produktion', 'Bygning til erhvervsmæssig produktion i', '210', 'Anden bygning til produktion', 'Fritliggende udhus', 'Pulterrum i kælder', 'Anden bygning til helårsbeboelse', 'Orangeri', 'Overdækket areal ', 'Teknikrum', 'Isoleret skur/disponibelt rum', 'Overdækket terasse', 'staldbygning', 'maskinhus', 'Værksted/erhverv', 'Garage/Værksted', 'Lejlighed', 'Altan/terrasse', 'hobbyrum/indbygget udhus', 'stue/udestue', 'Depotrum i kælder', 'Bygning til træning og opstaldning af heste', 'Udekøkken/Udhus', 'Brugsret kælderrum', 'Erhvervsdel', 'Andel i fællesareal', 'Udhus/Værksted', 'Overterrasse/overdækning', 'Vaskehus', 'Overdækket altan', 'Erhvervsareal', 'Anneks med erhvervsstatus', 'Overdækket terrasse jf. fælles BBR', 'Overdækket arealt', 'Minkhal', 'Lysthus (ikke registreret på BBR)', 'Garage (ikke registreret på BBR)', 'Loftsrum', 'depotrum', 'Bygning til parkering af flere end to køretøjer i tilknytning til boliger', 'Kælder i maskinhus', 'Garage i kælder', 'hems og loftrum', 'øvrige arealer', 'Dobbelthus', 'Bygning til parkering- og transportanlæg', 'Fordelingstal:   238/710', 'Altan på ca. 6m2', 'Uudmyttet loftsrum', 'Værksted/udhus', 'overdækning', 'Erhverv - Anden bygning til landbrug mv.', 'Erhverv - Lade til foder, afgrøder mv.', 'Strygestue', 'Skabsrum', 'Viktuolierum', 'Kælderum', 'garage', 'City', 'Road']\n"
     ]
    }
   ],
   "source": [
    "with pd.option_context('display.max_columns', None):\n",
    "    print(df.columns.tolist())"
   ]
  },
  {
   "cell_type": "code",
   "execution_count": 21,
   "id": "27b2c13f-35e7-46be-aaa0-a575990f4721",
   "metadata": {},
   "outputs": [
    {
     "data": {
      "text/plain": [
       "(3868, 8)"
      ]
     },
     "execution_count": 21,
     "metadata": {},
     "output_type": "execute_result"
    }
   ],
   "source": [
    "df = pd.read_csv('content.csv')\n",
    "ml = df[['Byggeår', 'Rum', 'Bad', 'Toilet', \n",
    "         'Plan', 'Boligareal', 'Kontantpris', 'Ejerudgift']]\n",
    "ml = ml.dropna()\n",
    "ml.shape"
   ]
  },
  {
   "cell_type": "code",
   "execution_count": 22,
   "id": "dc1e769d-3bbd-4b22-acac-352d301e64ff",
   "metadata": {},
   "outputs": [
    {
     "name": "stdout",
     "output_type": "stream",
     "text": [
      "<class 'pandas.core.frame.DataFrame'>\n",
      "Int64Index: 3868 entries, 0 to 5069\n",
      "Data columns (total 8 columns):\n",
      " #   Column       Non-Null Count  Dtype  \n",
      "---  ------       --------------  -----  \n",
      " 0   Byggeår      3868 non-null   float64\n",
      " 1   Rum          3868 non-null   float64\n",
      " 2   Bad          3868 non-null   float64\n",
      " 3   Toilet       3868 non-null   float64\n",
      " 4   Plan         3868 non-null   float64\n",
      " 5   Boligareal   3868 non-null   float64\n",
      " 6   Kontantpris  3868 non-null   object \n",
      " 7   Ejerudgift   3868 non-null   float64\n",
      "dtypes: float64(7), object(1)\n",
      "memory usage: 272.0+ KB\n"
     ]
    }
   ],
   "source": [
    "ml.info()"
   ]
  },
  {
   "cell_type": "code",
   "execution_count": 27,
   "id": "25543d17-ea67-44f0-a4ee-0e20fd6eae96",
   "metadata": {},
   "outputs": [
    {
     "name": "stderr",
     "output_type": "stream",
     "text": [
      "C:\\Users\\marko\\AppData\\Local\\Temp/ipykernel_13436/625537078.py:1: FutureWarning: The default value of regex will change from True to False in a future version. In addition, single character regular expressions will *not* be treated as literal strings when regex=True.\n",
      "  y = ml['Kontantpris'].str.replace('.', '').astype(float)\n"
     ]
    }
   ],
   "source": [
    "y = ml['Kontantpris'].str.replace('.', '').astype(float)\n",
    "X = ml.drop(columns=['Kontantpris'])"
   ]
  },
  {
   "cell_type": "code",
   "execution_count": 31,
   "id": "a36384a7-b1c8-439c-8974-6f0e86fd83ac",
   "metadata": {},
   "outputs": [
    {
     "name": "stderr",
     "output_type": "stream",
     "text": [
      "C:\\Users\\marko\\anaconda3\\lib\\site-packages\\sklearn\\linear_model\\_coordinate_descent.py:530: ConvergenceWarning: Objective did not converge. You might want to increase the number of iterations. Duality gap: 2351095290760818.5, tolerance: 770140539118.303\n",
      "  model = cd_fast.enet_coordinate_descent(\n",
      "C:\\Users\\marko\\anaconda3\\lib\\site-packages\\sklearn\\linear_model\\_coordinate_descent.py:530: ConvergenceWarning: Objective did not converge. You might want to increase the number of iterations. Duality gap: 2351095286829601.5, tolerance: 770140539118.303\n",
      "  model = cd_fast.enet_coordinate_descent(\n",
      "C:\\Users\\marko\\anaconda3\\lib\\site-packages\\sklearn\\linear_model\\_coordinate_descent.py:530: ConvergenceWarning: Objective did not converge. You might want to increase the number of iterations. Duality gap: 2351095281610414.0, tolerance: 770140539118.303\n",
      "  model = cd_fast.enet_coordinate_descent(\n",
      "C:\\Users\\marko\\anaconda3\\lib\\site-packages\\sklearn\\linear_model\\_coordinate_descent.py:530: ConvergenceWarning: Objective did not converge. You might want to increase the number of iterations. Duality gap: 2351095274681256.5, tolerance: 770140539118.303\n",
      "  model = cd_fast.enet_coordinate_descent(\n",
      "C:\\Users\\marko\\anaconda3\\lib\\site-packages\\sklearn\\linear_model\\_coordinate_descent.py:530: ConvergenceWarning: Objective did not converge. You might want to increase the number of iterations. Duality gap: 2351095265481901.5, tolerance: 770140539118.303\n",
      "  model = cd_fast.enet_coordinate_descent(\n",
      "C:\\Users\\marko\\anaconda3\\lib\\site-packages\\sklearn\\linear_model\\_coordinate_descent.py:530: ConvergenceWarning: Objective did not converge. You might want to increase the number of iterations. Duality gap: 2351095253268574.5, tolerance: 770140539118.303\n",
      "  model = cd_fast.enet_coordinate_descent(\n",
      "C:\\Users\\marko\\anaconda3\\lib\\site-packages\\sklearn\\linear_model\\_coordinate_descent.py:530: ConvergenceWarning: Objective did not converge. You might want to increase the number of iterations. Duality gap: 2351095237053802.5, tolerance: 770140539118.303\n",
      "  model = cd_fast.enet_coordinate_descent(\n",
      "C:\\Users\\marko\\anaconda3\\lib\\site-packages\\sklearn\\linear_model\\_coordinate_descent.py:530: ConvergenceWarning: Objective did not converge. You might want to increase the number of iterations. Duality gap: 2351095215526595.0, tolerance: 770140539118.303\n",
      "  model = cd_fast.enet_coordinate_descent(\n",
      "C:\\Users\\marko\\anaconda3\\lib\\site-packages\\sklearn\\linear_model\\_coordinate_descent.py:530: ConvergenceWarning: Objective did not converge. You might want to increase the number of iterations. Duality gap: 2351095186946401.0, tolerance: 770140539118.303\n",
      "  model = cd_fast.enet_coordinate_descent(\n",
      "C:\\Users\\marko\\anaconda3\\lib\\site-packages\\sklearn\\linear_model\\_coordinate_descent.py:530: ConvergenceWarning: Objective did not converge. You might want to increase the number of iterations. Duality gap: 2351095149002517.5, tolerance: 770140539118.303\n",
      "  model = cd_fast.enet_coordinate_descent(\n",
      "C:\\Users\\marko\\anaconda3\\lib\\site-packages\\sklearn\\linear_model\\_coordinate_descent.py:530: ConvergenceWarning: Objective did not converge. You might want to increase the number of iterations. Duality gap: 2351095098627075.5, tolerance: 770140539118.303\n",
      "  model = cd_fast.enet_coordinate_descent(\n",
      "C:\\Users\\marko\\anaconda3\\lib\\site-packages\\sklearn\\linear_model\\_coordinate_descent.py:530: ConvergenceWarning: Objective did not converge. You might want to increase the number of iterations. Duality gap: 2351095031747145.0, tolerance: 770140539118.303\n",
      "  model = cd_fast.enet_coordinate_descent(\n",
      "C:\\Users\\marko\\anaconda3\\lib\\site-packages\\sklearn\\linear_model\\_coordinate_descent.py:530: ConvergenceWarning: Objective did not converge. You might want to increase the number of iterations. Duality gap: 2351094942955341.0, tolerance: 770140539118.303\n",
      "  model = cd_fast.enet_coordinate_descent(\n",
      "C:\\Users\\marko\\anaconda3\\lib\\site-packages\\sklearn\\linear_model\\_coordinate_descent.py:530: ConvergenceWarning: Objective did not converge. You might want to increase the number of iterations. Duality gap: 2351094825072678.0, tolerance: 770140539118.303\n",
      "  model = cd_fast.enet_coordinate_descent(\n",
      "C:\\Users\\marko\\anaconda3\\lib\\site-packages\\sklearn\\linear_model\\_coordinate_descent.py:530: ConvergenceWarning: Objective did not converge. You might want to increase the number of iterations. Duality gap: 2351094668568104.5, tolerance: 770140539118.303\n",
      "  model = cd_fast.enet_coordinate_descent(\n",
      "C:\\Users\\marko\\anaconda3\\lib\\site-packages\\sklearn\\linear_model\\_coordinate_descent.py:530: ConvergenceWarning: Objective did not converge. You might want to increase the number of iterations. Duality gap: 2351094460787888.0, tolerance: 770140539118.303\n",
      "  model = cd_fast.enet_coordinate_descent(\n",
      "C:\\Users\\marko\\anaconda3\\lib\\site-packages\\sklearn\\linear_model\\_coordinate_descent.py:530: ConvergenceWarning: Objective did not converge. You might want to increase the number of iterations. Duality gap: 2351094184932537.5, tolerance: 770140539118.303\n",
      "  model = cd_fast.enet_coordinate_descent(\n",
      "C:\\Users\\marko\\anaconda3\\lib\\site-packages\\sklearn\\linear_model\\_coordinate_descent.py:530: ConvergenceWarning: Objective did not converge. You might want to increase the number of iterations. Duality gap: 2351093818698428.5, tolerance: 770140539118.303\n",
      "  model = cd_fast.enet_coordinate_descent(\n",
      "C:\\Users\\marko\\anaconda3\\lib\\site-packages\\sklearn\\linear_model\\_coordinate_descent.py:530: ConvergenceWarning: Objective did not converge. You might want to increase the number of iterations. Duality gap: 2351093332474584.5, tolerance: 770140539118.303\n",
      "  model = cd_fast.enet_coordinate_descent(\n",
      "C:\\Users\\marko\\anaconda3\\lib\\site-packages\\sklearn\\linear_model\\_coordinate_descent.py:530: ConvergenceWarning: Objective did not converge. You might want to increase the number of iterations. Duality gap: 2351092686948313.5, tolerance: 770140539118.303\n",
      "  model = cd_fast.enet_coordinate_descent(\n",
      "C:\\Users\\marko\\anaconda3\\lib\\site-packages\\sklearn\\linear_model\\_coordinate_descent.py:530: ConvergenceWarning: Objective did not converge. You might want to increase the number of iterations. Duality gap: 2351091829926600.0, tolerance: 770140539118.303\n",
      "  model = cd_fast.enet_coordinate_descent(\n",
      "C:\\Users\\marko\\anaconda3\\lib\\site-packages\\sklearn\\linear_model\\_coordinate_descent.py:530: ConvergenceWarning: Objective did not converge. You might want to increase the number of iterations. Duality gap: 2351090692115771.5, tolerance: 770140539118.303\n",
      "  model = cd_fast.enet_coordinate_descent(\n",
      "C:\\Users\\marko\\anaconda3\\lib\\site-packages\\sklearn\\linear_model\\_coordinate_descent.py:530: ConvergenceWarning: Objective did not converge. You might want to increase the number of iterations. Duality gap: 2351089181518398.5, tolerance: 770140539118.303\n",
      "  model = cd_fast.enet_coordinate_descent(\n",
      "C:\\Users\\marko\\anaconda3\\lib\\site-packages\\sklearn\\linear_model\\_coordinate_descent.py:530: ConvergenceWarning: Objective did not converge. You might want to increase the number of iterations. Duality gap: 2351087175993989.5, tolerance: 770140539118.303\n",
      "  model = cd_fast.enet_coordinate_descent(\n",
      "C:\\Users\\marko\\anaconda3\\lib\\site-packages\\sklearn\\linear_model\\_coordinate_descent.py:530: ConvergenceWarning: Objective did not converge. You might want to increase the number of iterations. Duality gap: 2351084513381663.0, tolerance: 770140539118.303\n",
      "  model = cd_fast.enet_coordinate_descent(\n",
      "C:\\Users\\marko\\anaconda3\\lib\\site-packages\\sklearn\\linear_model\\_coordinate_descent.py:530: ConvergenceWarning: Objective did not converge. You might want to increase the number of iterations. Duality gap: 2351080978385669.5, tolerance: 770140539118.303\n",
      "  model = cd_fast.enet_coordinate_descent(\n",
      "C:\\Users\\marko\\anaconda3\\lib\\site-packages\\sklearn\\linear_model\\_coordinate_descent.py:530: ConvergenceWarning: Objective did not converge. You might want to increase the number of iterations. Duality gap: 2351076285162060.0, tolerance: 770140539118.303\n",
      "  model = cd_fast.enet_coordinate_descent(\n",
      "C:\\Users\\marko\\anaconda3\\lib\\site-packages\\sklearn\\linear_model\\_coordinate_descent.py:530: ConvergenceWarning: Objective did not converge. You might want to increase the number of iterations. Duality gap: 2351070054196720.5, tolerance: 770140539118.303\n",
      "  model = cd_fast.enet_coordinate_descent(\n",
      "C:\\Users\\marko\\anaconda3\\lib\\site-packages\\sklearn\\linear_model\\_coordinate_descent.py:530: ConvergenceWarning: Objective did not converge. You might want to increase the number of iterations. Duality gap: 2351061781601572.0, tolerance: 770140539118.303\n",
      "  model = cd_fast.enet_coordinate_descent(\n",
      "C:\\Users\\marko\\anaconda3\\lib\\site-packages\\sklearn\\linear_model\\_coordinate_descent.py:530: ConvergenceWarning: Objective did not converge. You might want to increase the number of iterations. Duality gap: 2351050798340076.5, tolerance: 770140539118.303\n",
      "  model = cd_fast.enet_coordinate_descent(\n",
      "C:\\Users\\marko\\anaconda3\\lib\\site-packages\\sklearn\\linear_model\\_coordinate_descent.py:530: ConvergenceWarning: Objective did not converge. You might want to increase the number of iterations. Duality gap: 2351036216074181.5, tolerance: 770140539118.303\n",
      "  model = cd_fast.enet_coordinate_descent(\n",
      "C:\\Users\\marko\\anaconda3\\lib\\site-packages\\sklearn\\linear_model\\_coordinate_descent.py:530: ConvergenceWarning: Objective did not converge. You might want to increase the number of iterations. Duality gap: 2351016855234227.0, tolerance: 770140539118.303\n",
      "  model = cd_fast.enet_coordinate_descent(\n",
      "C:\\Users\\marko\\anaconda3\\lib\\site-packages\\sklearn\\linear_model\\_coordinate_descent.py:530: ConvergenceWarning: Objective did not converge. You might want to increase the number of iterations. Duality gap: 2350991149461271.0, tolerance: 770140539118.303\n",
      "  model = cd_fast.enet_coordinate_descent(\n",
      "C:\\Users\\marko\\anaconda3\\lib\\site-packages\\sklearn\\linear_model\\_coordinate_descent.py:530: ConvergenceWarning: Objective did not converge. You might want to increase the number of iterations. Duality gap: 2350957018633768.0, tolerance: 770140539118.303\n",
      "  model = cd_fast.enet_coordinate_descent(\n",
      "C:\\Users\\marko\\anaconda3\\lib\\site-packages\\sklearn\\linear_model\\_coordinate_descent.py:530: ConvergenceWarning: Objective did not converge. You might want to increase the number of iterations. Duality gap: 2350911700103652.0, tolerance: 770140539118.303\n",
      "  model = cd_fast.enet_coordinate_descent(\n",
      "C:\\Users\\marko\\anaconda3\\lib\\site-packages\\sklearn\\linear_model\\_coordinate_descent.py:530: ConvergenceWarning: Objective did not converge. You might want to increase the number of iterations. Duality gap: 2350851524304872.0, tolerance: 770140539118.303\n",
      "  model = cd_fast.enet_coordinate_descent(\n",
      "C:\\Users\\marko\\anaconda3\\lib\\site-packages\\sklearn\\linear_model\\_coordinate_descent.py:530: ConvergenceWarning: Objective did not converge. You might want to increase the number of iterations. Duality gap: 2350771616252975.0, tolerance: 770140539118.303\n",
      "  model = cd_fast.enet_coordinate_descent(\n",
      "C:\\Users\\marko\\anaconda3\\lib\\site-packages\\sklearn\\linear_model\\_coordinate_descent.py:530: ConvergenceWarning: Objective did not converge. You might want to increase the number of iterations. Duality gap: 2350665508079597.5, tolerance: 770140539118.303\n",
      "  model = cd_fast.enet_coordinate_descent(\n",
      "C:\\Users\\marko\\anaconda3\\lib\\site-packages\\sklearn\\linear_model\\_coordinate_descent.py:530: ConvergenceWarning: Objective did not converge. You might want to increase the number of iterations. Duality gap: 2350524570634520.5, tolerance: 770140539118.303\n",
      "  model = cd_fast.enet_coordinate_descent(\n",
      "C:\\Users\\marko\\anaconda3\\lib\\site-packages\\sklearn\\linear_model\\_coordinate_descent.py:530: ConvergenceWarning: Objective did not converge. You might want to increase the number of iterations. Duality gap: 2350337347961602.0, tolerance: 770140539118.303\n",
      "  model = cd_fast.enet_coordinate_descent(\n",
      "C:\\Users\\marko\\anaconda3\\lib\\site-packages\\sklearn\\linear_model\\_coordinate_descent.py:530: ConvergenceWarning: Objective did not converge. You might want to increase the number of iterations. Duality gap: 2350088636123760.0, tolerance: 770140539118.303\n",
      "  model = cd_fast.enet_coordinate_descent(\n",
      "C:\\Users\\marko\\anaconda3\\lib\\site-packages\\sklearn\\linear_model\\_coordinate_descent.py:530: ConvergenceWarning: Objective did not converge. You might want to increase the number of iterations. Duality gap: 2349758170876444.5, tolerance: 770140539118.303\n",
      "  model = cd_fast.enet_coordinate_descent(\n",
      "C:\\Users\\marko\\anaconda3\\lib\\site-packages\\sklearn\\linear_model\\_coordinate_descent.py:530: ConvergenceWarning: Objective did not converge. You might want to increase the number of iterations. Duality gap: 2349318865170522.0, tolerance: 770140539118.303\n",
      "  model = cd_fast.enet_coordinate_descent(\n",
      "C:\\Users\\marko\\anaconda3\\lib\\site-packages\\sklearn\\linear_model\\_coordinate_descent.py:530: ConvergenceWarning: Objective did not converge. You might want to increase the number of iterations. Duality gap: 2348734834354298.5, tolerance: 770140539118.303\n",
      "  model = cd_fast.enet_coordinate_descent(\n",
      "C:\\Users\\marko\\anaconda3\\lib\\site-packages\\sklearn\\linear_model\\_coordinate_descent.py:530: ConvergenceWarning: Objective did not converge. You might want to increase the number of iterations. Duality gap: 2347957769650169.0, tolerance: 770140539118.303\n",
      "  model = cd_fast.enet_coordinate_descent(\n",
      "C:\\Users\\marko\\anaconda3\\lib\\site-packages\\sklearn\\linear_model\\_coordinate_descent.py:530: ConvergenceWarning: Objective did not converge. You might want to increase the number of iterations. Duality gap: 2346923890521449.5, tolerance: 770140539118.303\n",
      "  model = cd_fast.enet_coordinate_descent(\n",
      "C:\\Users\\marko\\anaconda3\\lib\\site-packages\\sklearn\\linear_model\\_coordinate_descent.py:530: ConvergenceWarning: Objective did not converge. You might want to increase the number of iterations. Duality gap: 2345545787174118.5, tolerance: 770140539118.303\n",
      "  model = cd_fast.enet_coordinate_descent(\n",
      "C:\\Users\\marko\\anaconda3\\lib\\site-packages\\sklearn\\linear_model\\_coordinate_descent.py:530: ConvergenceWarning: Objective did not converge. You might want to increase the number of iterations. Duality gap: 2343707779209157.5, tolerance: 770140539118.303\n",
      "  model = cd_fast.enet_coordinate_descent(\n",
      "C:\\Users\\marko\\anaconda3\\lib\\site-packages\\sklearn\\linear_model\\_coordinate_descent.py:530: ConvergenceWarning: Objective did not converge. You might want to increase the number of iterations. Duality gap: 2341252562705049.0, tolerance: 770140539118.303\n",
      "  model = cd_fast.enet_coordinate_descent(\n",
      "C:\\Users\\marko\\anaconda3\\lib\\site-packages\\sklearn\\linear_model\\_coordinate_descent.py:530: ConvergenceWarning: Objective did not converge. You might want to increase the number of iterations. Duality gap: 2337966183005725.0, tolerance: 770140539118.303\n",
      "  model = cd_fast.enet_coordinate_descent(\n",
      "C:\\Users\\marko\\anaconda3\\lib\\site-packages\\sklearn\\linear_model\\_coordinate_descent.py:530: ConvergenceWarning: Objective did not converge. You might want to increase the number of iterations. Duality gap: 2333557575398785.0, tolerance: 770140539118.303\n",
      "  model = cd_fast.enet_coordinate_descent(\n",
      "C:\\Users\\marko\\anaconda3\\lib\\site-packages\\sklearn\\linear_model\\_coordinate_descent.py:530: ConvergenceWarning: Objective did not converge. You might want to increase the number of iterations. Duality gap: 2327625685475160.0, tolerance: 770140539118.303\n",
      "  model = cd_fast.enet_coordinate_descent(\n",
      "C:\\Users\\marko\\anaconda3\\lib\\site-packages\\sklearn\\linear_model\\_coordinate_descent.py:530: ConvergenceWarning: Objective did not converge. You might want to increase the number of iterations. Duality gap: 2319632478914650.0, tolerance: 770140539118.303\n",
      "  model = cd_fast.enet_coordinate_descent(\n",
      "C:\\Users\\marko\\anaconda3\\lib\\site-packages\\sklearn\\linear_model\\_coordinate_descent.py:530: ConvergenceWarning: Objective did not converge. You might want to increase the number of iterations. Duality gap: 2308803018984877.0, tolerance: 770140539118.303\n",
      "  model = cd_fast.enet_coordinate_descent(\n",
      "C:\\Users\\marko\\anaconda3\\lib\\site-packages\\sklearn\\linear_model\\_coordinate_descent.py:530: ConvergenceWarning: Objective did not converge. You might want to increase the number of iterations. Duality gap: 2294231077290756.5, tolerance: 770140539118.303\n",
      "  model = cd_fast.enet_coordinate_descent(\n",
      "C:\\Users\\marko\\anaconda3\\lib\\site-packages\\sklearn\\linear_model\\_coordinate_descent.py:530: ConvergenceWarning: Objective did not converge. You might want to increase the number of iterations. Duality gap: 2274453603820946.0, tolerance: 770140539118.303\n",
      "  model = cd_fast.enet_coordinate_descent(\n",
      "C:\\Users\\marko\\anaconda3\\lib\\site-packages\\sklearn\\linear_model\\_coordinate_descent.py:530: ConvergenceWarning: Objective did not converge. You might want to increase the number of iterations. Duality gap: 2247042236523814.8, tolerance: 770140539118.303\n",
      "  model = cd_fast.enet_coordinate_descent(\n",
      "C:\\Users\\marko\\anaconda3\\lib\\site-packages\\sklearn\\linear_model\\_coordinate_descent.py:530: ConvergenceWarning: Objective did not converge. You might want to increase the number of iterations. Duality gap: 2208583523920999.5, tolerance: 770140539118.303\n",
      "  model = cd_fast.enet_coordinate_descent(\n",
      "C:\\Users\\marko\\anaconda3\\lib\\site-packages\\sklearn\\linear_model\\_coordinate_descent.py:530: ConvergenceWarning: Objective did not converge. You might want to increase the number of iterations. Duality gap: 2154250578977788.8, tolerance: 770140539118.303\n",
      "  model = cd_fast.enet_coordinate_descent(\n",
      "C:\\Users\\marko\\anaconda3\\lib\\site-packages\\sklearn\\linear_model\\_coordinate_descent.py:530: ConvergenceWarning: Objective did not converge. You might want to increase the number of iterations. Duality gap: 2087816962593884.8, tolerance: 770140539118.303\n",
      "  model = cd_fast.enet_coordinate_descent(\n",
      "C:\\Users\\marko\\anaconda3\\lib\\site-packages\\sklearn\\linear_model\\_coordinate_descent.py:530: ConvergenceWarning: Objective did not converge. You might want to increase the number of iterations. Duality gap: 1998967570679604.0, tolerance: 770140539118.303\n",
      "  model = cd_fast.enet_coordinate_descent(\n",
      "C:\\Users\\marko\\anaconda3\\lib\\site-packages\\sklearn\\linear_model\\_coordinate_descent.py:530: ConvergenceWarning: Objective did not converge. You might want to increase the number of iterations. Duality gap: 1874857148335518.5, tolerance: 770140539118.303\n",
      "  model = cd_fast.enet_coordinate_descent(\n"
     ]
    },
    {
     "name": "stdout",
     "output_type": "stream",
     "text": [
      "Optimal lambda: 1375.5029890088583\n",
      "Validation MSE: 3393994048323.273\n"
     ]
    },
    {
     "name": "stderr",
     "output_type": "stream",
     "text": [
      "C:\\Users\\marko\\anaconda3\\lib\\site-packages\\sklearn\\linear_model\\_coordinate_descent.py:530: ConvergenceWarning: Objective did not converge. You might want to increase the number of iterations. Duality gap: 1700607402142876.0, tolerance: 770140539118.303\n",
      "  model = cd_fast.enet_coordinate_descent(\n",
      "C:\\Users\\marko\\anaconda3\\lib\\site-packages\\sklearn\\linear_model\\_coordinate_descent.py:530: ConvergenceWarning: Objective did not converge. You might want to increase the number of iterations. Duality gap: 1456152728692485.0, tolerance: 770140539118.303\n",
      "  model = cd_fast.enet_coordinate_descent(\n",
      "C:\\Users\\marko\\anaconda3\\lib\\site-packages\\sklearn\\linear_model\\_coordinate_descent.py:530: ConvergenceWarning: Objective did not converge. You might want to increase the number of iterations. Duality gap: 1116986641933827.8, tolerance: 770140539118.303\n",
      "  model = cd_fast.enet_coordinate_descent(\n",
      "C:\\Users\\marko\\anaconda3\\lib\\site-packages\\sklearn\\linear_model\\_coordinate_descent.py:530: ConvergenceWarning: Objective did not converge. You might want to increase the number of iterations. Duality gap: 661343375775031.0, tolerance: 770140539118.303\n",
      "  model = cd_fast.enet_coordinate_descent(\n"
     ]
    }
   ],
   "source": [
    "from sklearn.metrics import mean_squared_error as mse\n",
    "from sklearn.pipeline import make_pipeline\n",
    "from sklearn.model_selection import train_test_split\n",
    "from sklearn.preprocessing import PolynomialFeatures, StandardScaler\n",
    "from sklearn.linear_model import LinearRegression, Lasso\n",
    "\n",
    "perform = [] # Store performance\n",
    "lambdas = np.logspace(-4, 4, 66) # Grid of lambdas\n",
    "\n",
    "# FOR EACH LAMBDA, FIT A MODEL ON TRAINING DATA, CHECK PERFORMANCE ON VALIDATION AND STORE MSE\n",
    "for lambda_ in lambdas:\n",
    "    pipe_lasso = make_pipeline(PolynomialFeatures(), \n",
    "                               StandardScaler(),\n",
    "                               Lasso(alpha=lambda_, random_state=161193))\n",
    "    pipe_lasso.fit(X_train, y_train)\n",
    "    y_pred = pipe_lasso.predict(X_val)\n",
    "    perform.append(mse(y_pred, y_val))\n",
    "\n",
    "# CRATE A SERIES WITH PERFORMANCE AND FIND PARM WITH LOWEST MSE    \n",
    "hyperparam_perform = pd.Series(perform,index=lambdas)\n",
    "optimal = hyperparam_perform.nsmallest(1)    \n",
    "print('Optimal lambda:', optimal.index[0])\n",
    "print('Validation MSE: %.3f' % optimal.values[0])"
   ]
  },
  {
   "cell_type": "code",
   "execution_count": null,
   "id": "dadd8a9c-803a-473e-83fe-2666025baa4c",
   "metadata": {},
   "outputs": [],
   "source": []
  }
 ],
 "metadata": {
  "kernelspec": {
   "display_name": "Python 3 (ipykernel)",
   "language": "python",
   "name": "python3"
  },
  "language_info": {
   "codemirror_mode": {
    "name": "ipython",
    "version": 3
   },
   "file_extension": ".py",
   "mimetype": "text/x-python",
   "name": "python",
   "nbconvert_exporter": "python",
   "pygments_lexer": "ipython3",
   "version": "3.9.7"
  }
 },
 "nbformat": 4,
 "nbformat_minor": 5
}
