{
 "cells": [
  {
   "cell_type": "code",
   "execution_count": 314,
   "id": "5cf00bc2-4498-44cb-ae9c-8ab0b4cc27f0",
   "metadata": {},
   "outputs": [],
   "source": [
    "%matplotlib inline\n",
    "import numpy as np\n",
    "import pandas as pd\n",
    "import matplotlib.pyplot as plt"
   ]
  },
  {
   "cell_type": "markdown",
   "id": "bb8a2578-53db-4b98-84e0-7819f18879f9",
   "metadata": {},
   "source": [
    "# Data Cleaning"
   ]
  },
  {
   "cell_type": "code",
   "execution_count": 315,
   "id": "ad38412b-dc2b-4f05-821f-3fa3cb51a46a",
   "metadata": {},
   "outputs": [],
   "source": [
    "df = pd.read_csv('Final_Cleaned.csv', encoding='utf-8', sep=';')\n",
    "columns_to_drop = df.columns[df.count() < 20000]\n",
    "df = df.drop(columns=columns_to_drop)\n",
    "df['Age'] = 2023 - df['constructed']\n",
    "df_clean = df.drop(columns=['road', 'seller', 'latitude', 'longitude', 'full_address', 'zip_address',\n",
    "                            'link to seller', 'city_3', 'zip address', 'city_2', 'zip',\n",
    "                           'extra', 'constructed', 'days at current seller'])"
   ]
  },
  {
   "cell_type": "code",
   "execution_count": 316,
   "id": "2814a5ac-9df9-4772-be95-345ec862ef8b",
   "metadata": {},
   "outputs": [],
   "source": [
    "new_column_names = {}\n",
    "\n",
    "# Iterate through the existing column names and generate the new names\n",
    "for column in df_clean.columns:\n",
    "    new_name = column.lower().replace(\" \", \"_\")  # Convert to lowercase and replace spaces\n",
    "    new_column_names[column] = new_name\n",
    "\n",
    "# Rename the columns using the generated names\n",
    "df_clean.rename(columns=new_column_names, inplace=True)"
   ]
  },
  {
   "cell_type": "code",
   "execution_count": 317,
   "id": "57ab1ebd-fefe-4547-a231-8779829ab26d",
   "metadata": {},
   "outputs": [
    {
     "data": {
      "text/plain": [
       "(29282, 21)"
      ]
     },
     "execution_count": 317,
     "metadata": {},
     "output_type": "execute_result"
    }
   ],
   "source": [
    "df_clean.loc[df_clean['land_area'].isna(), 'land_area'] = df_clean['area']\n",
    "df_clean = df_clean.dropna().reset_index(drop=True)\n",
    "df_clean.shape"
   ]
  },
  {
   "cell_type": "markdown",
   "id": "d62dea34-d927-49f2-bef0-1440c7d2e5a6",
   "metadata": {},
   "source": [
    "Add or remove distances to cities and the municipalities."
   ]
  },
  {
   "cell_type": "code",
   "execution_count": 318,
   "id": "be1b4ead-2588-4cf6-8227-7f919bf10ce9",
   "metadata": {},
   "outputs": [
    {
     "name": "stdout",
     "output_type": "stream",
     "text": [
      "<class 'pandas.core.frame.DataFrame'>\n",
      "RangeIndex: 29282 entries, 0 to 29281\n",
      "Data columns (total 15 columns):\n",
      " #   Column               Non-Null Count  Dtype  \n",
      "---  ------               --------------  -----  \n",
      " 0   price                29282 non-null  float64\n",
      " 1   energy               29282 non-null  object \n",
      " 2   building_type        29282 non-null  object \n",
      " 3   udbetaling           29282 non-null  float64\n",
      " 4   area                 29282 non-null  float64\n",
      " 5   land_area            29282 non-null  float64\n",
      " 6   rooms                29282 non-null  float64\n",
      " 7   ejerudg              29282 non-null  float64\n",
      " 8   days_active          29282 non-null  float64\n",
      " 9   distance_to_city     29282 non-null  float64\n",
      " 10  closest_city         29282 non-null  object \n",
      " 11  residents            29282 non-null  float64\n",
      " 12  municipal_tax_rate   29282 non-null  float64\n",
      " 13  grundskyldspromille  29282 non-null  float64\n",
      " 14  age                  29282 non-null  float64\n",
      "dtypes: float64(12), object(3)\n",
      "memory usage: 3.4+ MB\n"
     ]
    }
   ],
   "source": [
    "df_final = df_clean.drop(columns=['city', 'municipal',\n",
    "                                 'distance_to_copenhagen', 'distance_to_aarhus', 'distance_to_odense', 'distance_to_aalborg'])\n",
    "#df_final = df_clean.drop(columns=['city', 'residents', 'municipal', 'distance_to_city'])\n",
    "df_final.info()"
   ]
  },
  {
   "cell_type": "code",
   "execution_count": 319,
   "id": "ed4a2c4e-0ace-4874-8c97-36ae59077c1c",
   "metadata": {},
   "outputs": [],
   "source": [
    "# Get the value counts of 'building_type' column\n",
    "building_type_counts = df_final['building_type'].value_counts()\n",
    "\n",
    "# Get the top N most common values\n",
    "top_building_types = building_type_counts.head(4).index.tolist()\n",
    "\n",
    "# Filter the DataFrame to keep only the rows with top N building types\n",
    "df_final = df_final[df_final['building_type'].isin(top_building_types)]\n",
    "#df_final['building_type'].value_counts()"
   ]
  },
  {
   "cell_type": "code",
   "execution_count": 320,
   "id": "66a07612-fb10-4cb3-b6f9-d92f4846827e",
   "metadata": {},
   "outputs": [
    {
     "data": {
      "text/html": [
       "<div>\n",
       "<style scoped>\n",
       "    .dataframe tbody tr th:only-of-type {\n",
       "        vertical-align: middle;\n",
       "    }\n",
       "\n",
       "    .dataframe tbody tr th {\n",
       "        vertical-align: top;\n",
       "    }\n",
       "\n",
       "    .dataframe thead th {\n",
       "        text-align: right;\n",
       "    }\n",
       "</style>\n",
       "<table border=\"1\" class=\"dataframe\">\n",
       "  <thead>\n",
       "    <tr style=\"text-align: right;\">\n",
       "      <th></th>\n",
       "      <th>price</th>\n",
       "      <th>udbetaling</th>\n",
       "      <th>area</th>\n",
       "      <th>land_area</th>\n",
       "      <th>rooms</th>\n",
       "      <th>ejerudg</th>\n",
       "      <th>days_active</th>\n",
       "      <th>distance_to_city</th>\n",
       "      <th>residents</th>\n",
       "      <th>municipal_tax_rate</th>\n",
       "      <th>...</th>\n",
       "      <th>type_Villa</th>\n",
       "      <th>energy_B</th>\n",
       "      <th>energy_C</th>\n",
       "      <th>energy_D</th>\n",
       "      <th>energy_E</th>\n",
       "      <th>energy_F</th>\n",
       "      <th>energy_G</th>\n",
       "      <th>close_Aarhus</th>\n",
       "      <th>close_Copenhagen</th>\n",
       "      <th>close_Odense</th>\n",
       "    </tr>\n",
       "  </thead>\n",
       "  <tbody>\n",
       "    <tr>\n",
       "      <th>0</th>\n",
       "      <td>5195000.0</td>\n",
       "      <td>260000.0</td>\n",
       "      <td>82.0</td>\n",
       "      <td>563.0</td>\n",
       "      <td>5.0</td>\n",
       "      <td>4894.0</td>\n",
       "      <td>87.0</td>\n",
       "      <td>5.126456</td>\n",
       "      <td>644431.0</td>\n",
       "      <td>23.70</td>\n",
       "      <td>...</td>\n",
       "      <td>1</td>\n",
       "      <td>0</td>\n",
       "      <td>0</td>\n",
       "      <td>1</td>\n",
       "      <td>0</td>\n",
       "      <td>0</td>\n",
       "      <td>0</td>\n",
       "      <td>0</td>\n",
       "      <td>1</td>\n",
       "      <td>0</td>\n",
       "    </tr>\n",
       "    <tr>\n",
       "      <th>1</th>\n",
       "      <td>2595000.0</td>\n",
       "      <td>130000.0</td>\n",
       "      <td>192.0</td>\n",
       "      <td>20011.0</td>\n",
       "      <td>7.0</td>\n",
       "      <td>2077.0</td>\n",
       "      <td>6.0</td>\n",
       "      <td>72.075634</td>\n",
       "      <td>55340.0</td>\n",
       "      <td>26.30</td>\n",
       "      <td>...</td>\n",
       "      <td>0</td>\n",
       "      <td>0</td>\n",
       "      <td>0</td>\n",
       "      <td>1</td>\n",
       "      <td>0</td>\n",
       "      <td>0</td>\n",
       "      <td>0</td>\n",
       "      <td>0</td>\n",
       "      <td>0</td>\n",
       "      <td>1</td>\n",
       "    </tr>\n",
       "    <tr>\n",
       "      <th>2</th>\n",
       "      <td>3495000.0</td>\n",
       "      <td>175000.0</td>\n",
       "      <td>116.0</td>\n",
       "      <td>794.0</td>\n",
       "      <td>4.0</td>\n",
       "      <td>3725.0</td>\n",
       "      <td>33.0</td>\n",
       "      <td>20.688457</td>\n",
       "      <td>50818.0</td>\n",
       "      <td>24.42</td>\n",
       "      <td>...</td>\n",
       "      <td>1</td>\n",
       "      <td>0</td>\n",
       "      <td>0</td>\n",
       "      <td>1</td>\n",
       "      <td>0</td>\n",
       "      <td>0</td>\n",
       "      <td>0</td>\n",
       "      <td>0</td>\n",
       "      <td>1</td>\n",
       "      <td>0</td>\n",
       "    </tr>\n",
       "    <tr>\n",
       "      <th>3</th>\n",
       "      <td>4500000.0</td>\n",
       "      <td>225000.0</td>\n",
       "      <td>159.0</td>\n",
       "      <td>833.0</td>\n",
       "      <td>5.0</td>\n",
       "      <td>2862.0</td>\n",
       "      <td>229.0</td>\n",
       "      <td>42.015572</td>\n",
       "      <td>61718.0</td>\n",
       "      <td>25.26</td>\n",
       "      <td>...</td>\n",
       "      <td>1</td>\n",
       "      <td>1</td>\n",
       "      <td>0</td>\n",
       "      <td>0</td>\n",
       "      <td>0</td>\n",
       "      <td>0</td>\n",
       "      <td>0</td>\n",
       "      <td>0</td>\n",
       "      <td>1</td>\n",
       "      <td>0</td>\n",
       "    </tr>\n",
       "    <tr>\n",
       "      <th>4</th>\n",
       "      <td>1245000.0</td>\n",
       "      <td>65000.0</td>\n",
       "      <td>157.0</td>\n",
       "      <td>1075.0</td>\n",
       "      <td>6.0</td>\n",
       "      <td>2101.0</td>\n",
       "      <td>105.0</td>\n",
       "      <td>51.888689</td>\n",
       "      <td>51606.0</td>\n",
       "      <td>25.50</td>\n",
       "      <td>...</td>\n",
       "      <td>1</td>\n",
       "      <td>0</td>\n",
       "      <td>0</td>\n",
       "      <td>1</td>\n",
       "      <td>0</td>\n",
       "      <td>0</td>\n",
       "      <td>0</td>\n",
       "      <td>0</td>\n",
       "      <td>0</td>\n",
       "      <td>1</td>\n",
       "    </tr>\n",
       "    <tr>\n",
       "      <th>...</th>\n",
       "      <td>...</td>\n",
       "      <td>...</td>\n",
       "      <td>...</td>\n",
       "      <td>...</td>\n",
       "      <td>...</td>\n",
       "      <td>...</td>\n",
       "      <td>...</td>\n",
       "      <td>...</td>\n",
       "      <td>...</td>\n",
       "      <td>...</td>\n",
       "      <td>...</td>\n",
       "      <td>...</td>\n",
       "      <td>...</td>\n",
       "      <td>...</td>\n",
       "      <td>...</td>\n",
       "      <td>...</td>\n",
       "      <td>...</td>\n",
       "      <td>...</td>\n",
       "      <td>...</td>\n",
       "      <td>...</td>\n",
       "      <td>...</td>\n",
       "    </tr>\n",
       "    <tr>\n",
       "      <th>29275</th>\n",
       "      <td>1695000.0</td>\n",
       "      <td>85000.0</td>\n",
       "      <td>78.0</td>\n",
       "      <td>828.0</td>\n",
       "      <td>2.0</td>\n",
       "      <td>1816.0</td>\n",
       "      <td>174.0</td>\n",
       "      <td>28.205003</td>\n",
       "      <td>94443.0</td>\n",
       "      <td>25.39</td>\n",
       "      <td>...</td>\n",
       "      <td>1</td>\n",
       "      <td>0</td>\n",
       "      <td>1</td>\n",
       "      <td>0</td>\n",
       "      <td>0</td>\n",
       "      <td>0</td>\n",
       "      <td>0</td>\n",
       "      <td>1</td>\n",
       "      <td>0</td>\n",
       "      <td>0</td>\n",
       "    </tr>\n",
       "    <tr>\n",
       "      <th>29276</th>\n",
       "      <td>798000.0</td>\n",
       "      <td>40000.0</td>\n",
       "      <td>98.0</td>\n",
       "      <td>928.0</td>\n",
       "      <td>3.0</td>\n",
       "      <td>1373.0</td>\n",
       "      <td>174.0</td>\n",
       "      <td>102.510592</td>\n",
       "      <td>115459.0</td>\n",
       "      <td>25.80</td>\n",
       "      <td>...</td>\n",
       "      <td>1</td>\n",
       "      <td>0</td>\n",
       "      <td>0</td>\n",
       "      <td>1</td>\n",
       "      <td>0</td>\n",
       "      <td>0</td>\n",
       "      <td>0</td>\n",
       "      <td>0</td>\n",
       "      <td>0</td>\n",
       "      <td>1</td>\n",
       "    </tr>\n",
       "    <tr>\n",
       "      <th>29278</th>\n",
       "      <td>695000.0</td>\n",
       "      <td>35000.0</td>\n",
       "      <td>144.0</td>\n",
       "      <td>1028.0</td>\n",
       "      <td>4.0</td>\n",
       "      <td>1610.0</td>\n",
       "      <td>404.0</td>\n",
       "      <td>18.842811</td>\n",
       "      <td>51849.0</td>\n",
       "      <td>26.10</td>\n",
       "      <td>...</td>\n",
       "      <td>1</td>\n",
       "      <td>0</td>\n",
       "      <td>0</td>\n",
       "      <td>1</td>\n",
       "      <td>0</td>\n",
       "      <td>0</td>\n",
       "      <td>0</td>\n",
       "      <td>0</td>\n",
       "      <td>0</td>\n",
       "      <td>1</td>\n",
       "    </tr>\n",
       "    <tr>\n",
       "      <th>29280</th>\n",
       "      <td>1750000.0</td>\n",
       "      <td>90000.0</td>\n",
       "      <td>198.0</td>\n",
       "      <td>696.0</td>\n",
       "      <td>7.0</td>\n",
       "      <td>2146.0</td>\n",
       "      <td>174.0</td>\n",
       "      <td>16.770336</td>\n",
       "      <td>38187.0</td>\n",
       "      <td>25.70</td>\n",
       "      <td>...</td>\n",
       "      <td>1</td>\n",
       "      <td>0</td>\n",
       "      <td>1</td>\n",
       "      <td>0</td>\n",
       "      <td>0</td>\n",
       "      <td>0</td>\n",
       "      <td>0</td>\n",
       "      <td>0</td>\n",
       "      <td>0</td>\n",
       "      <td>0</td>\n",
       "    </tr>\n",
       "    <tr>\n",
       "      <th>29281</th>\n",
       "      <td>1645000.0</td>\n",
       "      <td>85000.0</td>\n",
       "      <td>135.0</td>\n",
       "      <td>596.0</td>\n",
       "      <td>6.0</td>\n",
       "      <td>2344.0</td>\n",
       "      <td>174.0</td>\n",
       "      <td>8.935318</td>\n",
       "      <td>221082.0</td>\n",
       "      <td>25.40</td>\n",
       "      <td>...</td>\n",
       "      <td>1</td>\n",
       "      <td>0</td>\n",
       "      <td>0</td>\n",
       "      <td>1</td>\n",
       "      <td>0</td>\n",
       "      <td>0</td>\n",
       "      <td>0</td>\n",
       "      <td>0</td>\n",
       "      <td>0</td>\n",
       "      <td>0</td>\n",
       "    </tr>\n",
       "  </tbody>\n",
       "</table>\n",
       "<p>26630 rows × 24 columns</p>\n",
       "</div>"
      ],
      "text/plain": [
       "           price  udbetaling   area  land_area  rooms  ejerudg  days_active  \\\n",
       "0      5195000.0    260000.0   82.0      563.0    5.0   4894.0         87.0   \n",
       "1      2595000.0    130000.0  192.0    20011.0    7.0   2077.0          6.0   \n",
       "2      3495000.0    175000.0  116.0      794.0    4.0   3725.0         33.0   \n",
       "3      4500000.0    225000.0  159.0      833.0    5.0   2862.0        229.0   \n",
       "4      1245000.0     65000.0  157.0     1075.0    6.0   2101.0        105.0   \n",
       "...          ...         ...    ...        ...    ...      ...          ...   \n",
       "29275  1695000.0     85000.0   78.0      828.0    2.0   1816.0        174.0   \n",
       "29276   798000.0     40000.0   98.0      928.0    3.0   1373.0        174.0   \n",
       "29278   695000.0     35000.0  144.0     1028.0    4.0   1610.0        404.0   \n",
       "29280  1750000.0     90000.0  198.0      696.0    7.0   2146.0        174.0   \n",
       "29281  1645000.0     85000.0  135.0      596.0    6.0   2344.0        174.0   \n",
       "\n",
       "       distance_to_city  residents  municipal_tax_rate  ...  type_Villa  \\\n",
       "0              5.126456   644431.0               23.70  ...           1   \n",
       "1             72.075634    55340.0               26.30  ...           0   \n",
       "2             20.688457    50818.0               24.42  ...           1   \n",
       "3             42.015572    61718.0               25.26  ...           1   \n",
       "4             51.888689    51606.0               25.50  ...           1   \n",
       "...                 ...        ...                 ...  ...         ...   \n",
       "29275         28.205003    94443.0               25.39  ...           1   \n",
       "29276        102.510592   115459.0               25.80  ...           1   \n",
       "29278         18.842811    51849.0               26.10  ...           1   \n",
       "29280         16.770336    38187.0               25.70  ...           1   \n",
       "29281          8.935318   221082.0               25.40  ...           1   \n",
       "\n",
       "       energy_B  energy_C  energy_D  energy_E  energy_F  energy_G  \\\n",
       "0             0         0         1         0         0         0   \n",
       "1             0         0         1         0         0         0   \n",
       "2             0         0         1         0         0         0   \n",
       "3             1         0         0         0         0         0   \n",
       "4             0         0         1         0         0         0   \n",
       "...         ...       ...       ...       ...       ...       ...   \n",
       "29275         0         1         0         0         0         0   \n",
       "29276         0         0         1         0         0         0   \n",
       "29278         0         0         1         0         0         0   \n",
       "29280         0         1         0         0         0         0   \n",
       "29281         0         0         1         0         0         0   \n",
       "\n",
       "       close_Aarhus  close_Copenhagen  close_Odense  \n",
       "0                 0                 1             0  \n",
       "1                 0                 0             1  \n",
       "2                 0                 1             0  \n",
       "3                 0                 1             0  \n",
       "4                 0                 0             1  \n",
       "...             ...               ...           ...  \n",
       "29275             1                 0             0  \n",
       "29276             0                 0             1  \n",
       "29278             0                 0             1  \n",
       "29280             0                 0             0  \n",
       "29281             0                 0             0  \n",
       "\n",
       "[26630 rows x 24 columns]"
      ]
     },
     "execution_count": 320,
     "metadata": {},
     "output_type": "execute_result"
    }
   ],
   "source": [
    "# Create dummy variables for the 'Category' column\n",
    "dummy_1 = pd.get_dummies(df_final['building_type'], prefix='type',drop_first=True)\n",
    "dummy_2 = pd.get_dummies(df_final['energy'], prefix = 'energy',drop_first=True)\n",
    "dummy_3 = pd.get_dummies(df_final['closest_city'], prefix = 'close',drop_first=True)\n",
    "\n",
    "# Concatenate the dummy variables with the original DataFrame\n",
    "df_final = pd.concat([df_final, dummy_1,dummy_2, dummy_3], axis=1)\n",
    "df_final = df_final.drop(columns=['energy', 'building_type', 'closest_city'])\n",
    "df_final"
   ]
  },
  {
   "cell_type": "markdown",
   "id": "c86d5185-5fcb-480d-99e0-b2dbf795b06a",
   "metadata": {},
   "source": [
    "Drop outliers"
   ]
  },
  {
   "cell_type": "code",
   "execution_count": 321,
   "id": "4c8cb34f-b3e6-4e05-9379-dcba9521184a",
   "metadata": {},
   "outputs": [
    {
     "name": "stdout",
     "output_type": "stream",
     "text": [
      "['price', 'udbetaling', 'area', 'land_area', 'rooms', 'ejerudg', 'days_active', 'distance_to_city', 'residents', 'municipal_tax_rate', 'grundskyldspromille', 'age', 'type_Landejendom', 'type_Rækkehus', 'type_Villa', 'energy_B', 'energy_C', 'energy_D', 'energy_E', 'energy_F', 'energy_G', 'close_Aarhus', 'close_Copenhagen', 'close_Odense']\n"
     ]
    }
   ],
   "source": [
    "column_names = df_final.columns.tolist()\n",
    "print(column_names)"
   ]
  },
  {
   "cell_type": "code",
   "execution_count": 322,
   "id": "2d5be0ff-1adf-4d5b-86f3-db7c91623c9a",
   "metadata": {},
   "outputs": [],
   "source": [
    "columns_to_remove_outliers = ['price', 'udbetaling', 'area', 'land_area', 'rooms', 'ejerudg', 'days_active', 'age']\n",
    "\n",
    "def remove_outliers_iqr(data, column):\n",
    "    Q1 = data[column].quantile(0.25)\n",
    "    Q3 = data[column].quantile(0.75)\n",
    "    IQR = Q3 - Q1\n",
    "    lower_bound = Q1 - 1.5 * IQR\n",
    "    upper_bound = Q3 + 1.5 * IQR\n",
    "    return data[(data[column] >= lower_bound) & (data[column] <= upper_bound)]\n",
    "\n",
    "for column in columns_to_remove_outliers:\n",
    "    final = remove_outliers_iqr(df_final, column)"
   ]
  },
  {
   "cell_type": "markdown",
   "id": "7f8edc70-2809-473b-8a8f-b7f0d33bfebe",
   "metadata": {},
   "source": [
    "Drop duplicates"
   ]
  },
  {
   "cell_type": "code",
   "execution_count": 323,
   "id": "621bbe30-5e41-43c9-ae91-2a3fd621932c",
   "metadata": {},
   "outputs": [
    {
     "name": "stdout",
     "output_type": "stream",
     "text": [
      "(38, 24)\n"
     ]
    },
    {
     "data": {
      "text/plain": [
       "(25924, 24)"
      ]
     },
     "execution_count": 323,
     "metadata": {},
     "output_type": "execute_result"
    }
   ],
   "source": [
    "duplicates = final[final.duplicated()]\n",
    "print(duplicates.shape)\n",
    "final = final.drop_duplicates()\n",
    "final.shape"
   ]
  },
  {
   "cell_type": "markdown",
   "id": "47b95fe4-fdc9-42a8-bc97-40cc0664c571",
   "metadata": {},
   "source": [
    "# Machine learning models"
   ]
  },
  {
   "cell_type": "code",
   "execution_count": 324,
   "id": "3c88ab3f-7c55-4d89-9209-9d1b2dd3ad05",
   "metadata": {},
   "outputs": [],
   "source": [
    "from sklearn.metrics import mean_squared_error as mse\n",
    "from sklearn.metrics import r2_score\n",
    "from sklearn.pipeline import make_pipeline\n",
    "from sklearn.model_selection import train_test_split\n",
    "from sklearn.preprocessing import PolynomialFeatures, StandardScaler\n",
    "from sklearn.linear_model import LinearRegression, Lasso\n",
    "from sklearn.linear_model import LassoCV"
   ]
  },
  {
   "cell_type": "code",
   "execution_count": 342,
   "id": "322fa8d0-ae6d-4ce5-890c-936170e44a18",
   "metadata": {},
   "outputs": [],
   "source": [
    "y = final['price']\n",
    "X = final.drop(columns=['price'])"
   ]
  },
  {
   "cell_type": "code",
   "execution_count": 343,
   "id": "dade7483-d6c6-462f-92e7-bf3d7833a2fb",
   "metadata": {},
   "outputs": [],
   "source": [
    "X_dev, X_test, y_dev, y_test = train_test_split(X, y, test_size=0.2, random_state=10)"
   ]
  },
  {
   "cell_type": "markdown",
   "id": "b44b8db3-3e81-4cc2-82d1-fba9d307976f",
   "metadata": {},
   "source": [
    "## Linear Regression"
   ]
  },
  {
   "cell_type": "code",
   "execution_count": 344,
   "id": "2a9c7fce-bd92-4171-a645-9d35e793f012",
   "metadata": {},
   "outputs": [
    {
     "name": "stdout",
     "output_type": "stream",
     "text": [
      "1532514.6055483154 1739753.7969350151\n"
     ]
    }
   ],
   "source": [
    "pipe_lr = make_pipeline(PolynomialFeatures(degree=1, include_bias=False),\n",
    "                        StandardScaler(),\n",
    "                        LinearRegression())\n",
    "\n",
    "pipe_lr.fit(X_dev, y_dev)\n",
    "y_train_pred = pipe_lr.predict(X_dev)\n",
    "y_test_pred = pipe_lr.predict(X_test)\n",
    "\n",
    "train_rmse = np.sqrt(mse(y_dev, y_train_pred))\n",
    "test_rmse = np.sqrt(mse(y_test, y_test_pred))\n",
    "print(train_rmse,test_rmse)"
   ]
  },
  {
   "cell_type": "code",
   "execution_count": 345,
   "id": "c45c9112-c1ad-4b45-8dc0-b63b2587c375",
   "metadata": {},
   "outputs": [
    {
     "data": {
      "image/png": "[encoded data removed]",
      "text/plain": [
       "<Figure size 432x288 with 1 Axes>"
      ]
     },
     "metadata": {
      "needs_background": "light"
     },
     "output_type": "display_data"
    }
   ],
   "source": [
    "# Plot y_test vs y_pred\n",
    "plt.scatter(y_test, y_test_pred, color='blue', label='Actual vs Predicted')\n",
    "plt.plot([y_test.min(), y_test.max()], [y_test.min(), y_test.max()], linestyle='--', color='red', label='Ideal Line')\n",
    "plt.xlabel('Actual Values')\n",
    "plt.ylabel('Predicted Values')\n",
    "plt.title('Actual vs Predicted Values')\n",
    "plt.legend()\n",
    "plt.show()"
   ]
  },
  {
   "cell_type": "code",
   "execution_count": 346,
   "id": "ceb2347b-6fab-46df-a59d-4cd238f93c09",
   "metadata": {},
   "outputs": [
    {
     "data": {
      "text/plain": [
       "0.7086520697857472"
      ]
     },
     "execution_count": 346,
     "metadata": {},
     "output_type": "execute_result"
    }
   ],
   "source": [
    "r2_linear = r2_score(y_test, y_test_pred)\n",
    "r2_linear"
   ]
  },
  {
   "cell_type": "code",
   "execution_count": 347,
   "id": "35aa7eda-e7fe-499b-9ae5-2674533f1b4d",
   "metadata": {},
   "outputs": [
    {
     "name": "stdout",
     "output_type": "stream",
     "text": [
      "Coefficients: {'memory': None, 'steps': [('polynomialfeatures', PolynomialFeatures(degree=1, include_bias=False)), ('standardscaler', StandardScaler()), ('linearregression', LinearRegression())], 'verbose': False, 'polynomialfeatures': PolynomialFeatures(degree=1, include_bias=False), 'standardscaler': StandardScaler(), 'linearregression': LinearRegression(), 'polynomialfeatures__degree': 1, 'polynomialfeatures__include_bias': False, 'polynomialfeatures__interaction_only': False, 'polynomialfeatures__order': 'C', 'standardscaler__copy': True, 'standardscaler__with_mean': True, 'standardscaler__with_std': True, 'linearregression__copy_X': True, 'linearregression__fit_intercept': True, 'linearregression__n_jobs': None, 'linearregression__normalize': False, 'linearregression__positive': False}\n"
     ]
    }
   ],
   "source": [
    "coefficients = pipe_lr.get_params(deep=True)\n",
    "print(\"Coefficients:\", coefficients)"
   ]
  },
  {
   "cell_type": "code",
   "execution_count": 348,
   "id": "456db9ae-02e8-411c-b91f-7d9352f636a8",
   "metadata": {},
   "outputs": [
    {
     "name": "stdout",
     "output_type": "stream",
     "text": [
      "Coefficients: [ 391896.38826677  403121.2199039   360855.74330218  -58231.22041575\n",
      " 2257828.89561514  -73736.72659507  -68045.47375091  305394.12708631\n",
      " -142478.87721424 -217775.26801562  187490.6152834    37224.55714667\n",
      "  135122.90518599  205857.07209204  -55637.78274951 -244733.26286836\n",
      " -335461.22434263 -274484.84733421 -224291.37922803 -177221.47976317\n",
      "  -28300.02304019   38347.05086057  -46456.22759756]\n"
     ]
    }
   ],
   "source": [
    "coefficients = pipe_lr.named_steps['linearregression'].coef_\n",
    "print(\"Coefficients:\", coefficients)\n",
    "scaling_factors = pipe_lr.named_steps['standardscaler'].scale_\n",
    "rescaled_coefficients = coefficients / scaling_factors"
   ]
  },
  {
   "cell_type": "code",
   "execution_count": 349,
   "id": "b2a87bf8-e5ff-403a-980b-dc89512664e0",
   "metadata": {},
   "outputs": [
    {
     "data": {
      "image/png": "[encoded data removed]",
      "text/plain": [
       "<Figure size 864x432 with 2 Axes>"
      ]
     },
     "metadata": {
      "needs_background": "light"
     },
     "output_type": "display_data"
    }
   ],
   "source": [
    "# Create a DataFrame with rescaled coefficients and feature names\n",
    "coef_df = pd.DataFrame(rescaled_coefficients, X.columns, columns=['Coefficient'])\n",
    "\n",
    "# Split coefficients into positive and negative parts\n",
    "positive_coef = coef_df[coef_df['Coefficient'] > 0]\n",
    "negative_coef = coef_df[coef_df['Coefficient'] < 0]\n",
    "\n",
    "# Create subplots with positive and negative coefficients\n",
    "fig, (ax1, ax2) = plt.subplots(1, 2, figsize=(12, 6))\n",
    "positive_coef.plot(kind='barh', ax=ax1)\n",
    "negative_coef.plot(kind='barh', ax=ax2)\n",
    "\n",
    "ax1.set_title('Positive Coefficients')\n",
    "ax2.set_title('Negative Coefficients')\n",
    "\n",
    "plt.tight_layout()\n",
    "plt.show()"
   ]
  },
  {
   "cell_type": "markdown",
   "id": "208b2b2b-203e-4179-8c6d-aae0646d64b8",
   "metadata": {},
   "source": [
    "## Lasso"
   ]
  },
  {
   "cell_type": "code",
   "execution_count": 299,
   "id": "a36384a7-b1c8-439c-8974-6f0e86fd83ac",
   "metadata": {},
   "outputs": [
    {
     "name": "stdout",
     "output_type": "stream",
     "text": [
      "Optimal lambda: 1e-08\n",
      "Test MSE: 3090657180007.074\n"
     ]
    }
   ],
   "source": [
    "perform = [] # Store performance\n",
    "lambdas = np.logspace(-8, 8, 10) # Grid of lambdas\n",
    "\n",
    "# FOR EACH LAMBDA, FIT A MODEL ON TRAINING DATA, CHECK PERFORMANCE ON VALIDATION AND STORE MSE\n",
    "for lambda_ in lambdas:\n",
    "    pipe_lasso = make_pipeline(PolynomialFeatures(degree=1, include_bias=False), \n",
    "                               StandardScaler(),\n",
    "                               Lasso(alpha=lambda_, random_state=161193))\n",
    "    pipe_lasso.fit(X_dev, y_dev)\n",
    "    y_pred = pipe_lasso.predict(X_test)\n",
    "    perform.append(mse(y_pred, y_test))\n",
    "\n",
    "# CRATE A SERIES WITH PERFORMANCE AND FIND PARM WITH LOWEST MSE    \n",
    "hyperparam_perform = pd.Series(perform,index=lambdas)\n",
    "optimal = hyperparam_perform.nsmallest(1)    \n",
    "print('Optimal lambda:', optimal.index[0])\n",
    "print('Test MSE: %.3f' % optimal.values[0])"
   ]
  },
  {
   "cell_type": "code",
   "execution_count": 300,
   "id": "6ba01d81-c46c-4572-923e-269261e54083",
   "metadata": {},
   "outputs": [
    {
     "data": {
      "image/png": "[encoded data removed]",
      "text/plain": [
       "<Figure size 576x432 with 1 Axes>"
      ]
     },
     "metadata": {
      "needs_background": "light"
     },
     "output_type": "display_data"
    }
   ],
   "source": [
    "# Create a line plot of MSE values\n",
    "plt.figure(figsize=(8, 6))\n",
    "plt.plot(lambdas, perform, marker='o')\n",
    "plt.xscale('log')  # Use a logarithmic scale for x-axis (optional)\n",
    "plt.title('MSE vs. Alpha (Lasso Regularization)')\n",
    "plt.xlabel('Alpha (Lambda)')\n",
    "plt.ylabel('Mean Squared Error (MSE)')\n",
    "plt.grid(True)\n",
    "plt.show()"
   ]
  },
  {
   "cell_type": "code",
   "execution_count": 301,
   "id": "74e32a30-fcf7-4825-9122-a635f23ef759",
   "metadata": {},
   "outputs": [
    {
     "name": "stdout",
     "output_type": "stream",
     "text": [
      "RMSE: 1760953.1439972566\n",
      "R-squared: 0.7015085115144657\n"
     ]
    }
   ],
   "source": [
    "from sklearn.metrics import mean_squared_error as mse\n",
    "\n",
    "scaler = StandardScaler()\n",
    "\n",
    "X_dev = scaler.fit_transform(X_dev)\n",
    "X_test = scaler.transform(X_test)\n",
    "\n",
    "lasso_model = Lasso(alpha=6158.482110660255)  # Adjust the alpha parameter as needed\n",
    "lasso_model.fit(X_dev, y_dev)\n",
    "\n",
    "# Make predictions on the test set\n",
    "y_pred = lasso_model.predict(X_test)\n",
    "\n",
    "# Calculate the Mean Squared Error (MSE)\n",
    "rmse = np.sqrt(mse(y_test, y_pred))\n",
    "print(\"RMSE:\",rmse)\n",
    "r2 = r2_score(y_test, y_pred)\n",
    "print(\"R-squared:\", r2)"
   ]
  },
  {
   "cell_type": "code",
   "execution_count": 302,
   "id": "f546454f-507b-411a-bd26-af965c335381",
   "metadata": {},
   "outputs": [
    {
     "data": {
      "image/png": "[encoded data removed]",
      "text/plain": [
       "<Figure size 576x432 with 1 Axes>"
      ]
     },
     "metadata": {
      "needs_background": "light"
     },
     "output_type": "display_data"
    }
   ],
   "source": [
    "plt.figure(figsize=(8, 6))\n",
    "plt.scatter(y_test, y_pred, alpha=0.5)\n",
    "plt.plot([min(y_test), max(y_test)], [min(y_test), max(y_test)], color='red', linestyle='--')\n",
    "plt.title('Predicted vs. Actual Values (Lasso Regression)')\n",
    "plt.xlabel('Actual Values')\n",
    "plt.ylabel('Predicted Values')\n",
    "plt.show()"
   ]
  },
  {
   "cell_type": "code",
   "execution_count": 303,
   "id": "e1f7f715-821c-4296-88fe-c533418c9ec2",
   "metadata": {},
   "outputs": [
    {
     "name": "stdout",
     "output_type": "stream",
     "text": [
      "Best Alpha: 977.0099572992286\n",
      "R-squared: 0.7023991328951094\n"
     ]
    }
   ],
   "source": [
    "alphas = np.logspace(-8, 8, 100)\n",
    "# Create LassoCV model with cross-validation\n",
    "lasso_cv = LassoCV(alphas=alphas, cv=5, random_state=161193)\n",
    "\n",
    "# Fit the model to your data\n",
    "lasso_cv.fit(X_dev, y_dev)\n",
    "\n",
    "# Get the best alpha value\n",
    "best_alpha = lasso_cv.alpha_\n",
    "print(\"Best Alpha:\", best_alpha)\n",
    "\n",
    "# Calculate R-squared on the test set\n",
    "r2 = lasso_cv.score(X_test, y_test)\n",
    "print(\"R-squared:\", r2)"
   ]
  },
  {
   "cell_type": "markdown",
   "id": "9f0e3726-49ff-44e5-a6a9-5b820d10b2d7",
   "metadata": {},
   "source": [
    "## Ridge"
   ]
  },
  {
   "cell_type": "code",
   "execution_count": 304,
   "id": "214da711-4765-48bc-9606-144494c4c112",
   "metadata": {},
   "outputs": [
    {
     "name": "stdout",
     "output_type": "stream",
     "text": [
      "Optimal lambda: 1e-08\n",
      "Validation MSE: 3096501710626.825\n"
     ]
    }
   ],
   "source": [
    "from sklearn.linear_model import Ridge\n",
    "from sklearn.metrics import mean_squared_error as mse\n",
    "\n",
    "\n",
    "\n",
    "performance = [] # Store performance\n",
    "lambdas = np.logspace(-8, 8, 20) # Grid of lambdas\n",
    "\n",
    "# FOR EACH LAMBDA, FIT A MODEL ON TRAINING DATA, CHECK PERFORMANCE ON VALIDATION AND STORE MSE\n",
    "for lambda_ in lambdas:\n",
    "    pipe_ridge = make_pipeline(PolynomialFeatures(degree=1, include_bias=False), \n",
    "                           StandardScaler(),\n",
    "                           Ridge(alpha=6400, random_state=161193))\n",
    "    pipe_ridge.fit(X_dev,y_dev)\n",
    "    y_pred = pipe_ridge.predict(X_test)\n",
    "    performance.append(mse(y_pred, y_test))\n",
    "\n",
    "# CRATE A SERIES WITH PERFORMANCE AND FIND PARM WITH LOWEST MSE    \n",
    "hyperparam_perform = pd.Series(performance,index=lambdas)\n",
    "optimal = hyperparam_perform.nsmallest(1)    \n",
    "print('Optimal lambda:', optimal.index[0])\n",
    "print('Validation MSE: %.3f' % optimal.values[0])"
   ]
  },
  {
   "cell_type": "code",
   "execution_count": 305,
   "id": "a53967aa-3592-4a15-991e-721d03a47ed6",
   "metadata": {},
   "outputs": [
    {
     "name": "stdout",
     "output_type": "stream",
     "text": [
      "1759687.9583115936\n"
     ]
    }
   ],
   "source": [
    "pipe_ridge = make_pipeline(PolynomialFeatures(degree=1, include_bias=False), \n",
    "                           StandardScaler(),\n",
    "                           Ridge(alpha=6400, random_state=161193))\n",
    "pipe_ridge.fit(X_dev,y_dev)\n",
    "y_pred = pipe_ridge.predict(X_test)\n",
    "# Calculate Mean Squared Error\n",
    "print(np.sqrt(mse(y_test, y_pred)))"
   ]
  },
  {
   "cell_type": "code",
   "execution_count": 306,
   "id": "676677b6-108e-421e-a03d-415032c9f0b3",
   "metadata": {},
   "outputs": [
    {
     "data": {
      "image/png": "[encoded data removed]",
      "text/plain": [
       "<Figure size 576x432 with 1 Axes>"
      ]
     },
     "metadata": {
      "needs_background": "light"
     },
     "output_type": "display_data"
    }
   ],
   "source": [
    "# Create a line plot of MSE values\n",
    "plt.figure(figsize=(8, 6))\n",
    "plt.plot(lambdas, performance, marker='o')\n",
    "plt.xscale('log')  # Use a logarithmic scale for x-axis (optional)\n",
    "plt.title('MSE vs. Alpha (Ridge Regularization)')\n",
    "plt.xlabel('Alpha (Lambda)')\n",
    "plt.ylabel('Mean Squared Error (MSE)')\n",
    "plt.grid(True)\n",
    "plt.show()"
   ]
  },
  {
   "cell_type": "code",
   "execution_count": 307,
   "id": "7f9d5e44-31bd-4358-a9d0-acfd5a33e921",
   "metadata": {},
   "outputs": [
    {
     "name": "stdout",
     "output_type": "stream",
     "text": [
      "Best Alpha: 34.30469286314926\n",
      "R-squared: 0.7028072669572822\n"
     ]
    }
   ],
   "source": [
    "from sklearn.linear_model import RidgeCV\n",
    "\n",
    "# Create a range of alpha values on a logarithmic scale\n",
    "alphas = np.logspace(-8, 8, 100)\n",
    "\n",
    "# Create RidgeCV model with cross-validation\n",
    "ridge_cv = RidgeCV(alphas=alphas, cv=5)\n",
    "\n",
    "# Fit the model to your data\n",
    "ridge_cv.fit(X_dev, y_dev)\n",
    "\n",
    "# Get the best alpha value\n",
    "best_alpha = ridge_cv.alpha_\n",
    "print(\"Best Alpha:\", best_alpha)\n",
    "\n",
    "# Calculate R-squared on the test set\n",
    "r2 = ridge_cv.score(X_test, y_test)\n",
    "print(\"R-squared:\", r2)"
   ]
  },
  {
   "cell_type": "markdown",
   "id": "9256ae38-7f31-4006-bb14-2002ae6eca0e",
   "metadata": {},
   "source": [
    "## Model Validation"
   ]
  },
  {
   "cell_type": "markdown",
   "id": "00110ea8-11d9-4d6a-9f34-4db014d6a0d5",
   "metadata": {},
   "source": [
    "Select optimal hypterparameters"
   ]
  },
  {
   "cell_type": "code",
   "execution_count": 68,
   "id": "2dc94d95-6ff4-42e9-b580-13baccc586ae",
   "metadata": {},
   "outputs": [],
   "source": [
    "from sklearn.model_selection import GridSearchCV\n",
    "from sklearn.linear_model import ElasticNet\n",
    "\n",
    "lambdas = np.logspace(-4, 4, 10) # Grid of lambdas\n",
    "\n",
    "pipe_el = make_pipeline(PolynomialFeatures(degree=1, include_bias=False), \n",
    "                        StandardScaler(),\n",
    "                        ElasticNet())\n",
    "\n",
    "gs = GridSearchCV(estimator=pipe_el, \n",
    "                  param_grid={'elasticnet__alpha':lambdas,\n",
    "                              'elasticnet__l1_ratio':np.linspace(0,1,10)}, \n",
    "                  scoring='neg_mean_squared_error', \n",
    "                  cv=5)\n",
    "\n",
    "#gs.fit(X_dev, y_dev)\n",
    "#print(mse(gs.predict(X_test),y_test))"
   ]
  },
  {
   "cell_type": "code",
   "execution_count": 73,
   "id": "71810ed3-4353-4267-8359-d6b626bf646f",
   "metadata": {},
   "outputs": [
    {
     "data": {
      "text/plain": [
       "'\\n# Fit the grid search to your data\\ngrid_search.fit(X_dev, y_dev)\\n\\n# Get the best parameters and model\\nbest_params = grid_search.best_params_\\nbest_model = grid_search.best_estimator_\\n\\n# Make predictions using the best model\\ny_pred = best_model.predict(X_test)\\n\\n# Calculate R-squared on the test set\\nr2 = r2_score(y_test, y_pred)\\nprint(\"Best Parameters:\", best_params)\\nprint(\"Best R-squared:\", r2)'"
      ]
     },
     "execution_count": 73,
     "metadata": {},
     "output_type": "execute_result"
    }
   ],
   "source": [
    "# Create a parameter grid for alpha and l1_ratio\n",
    "param_grid = {\n",
    "    'alpha': np.logspace(-6, 2, 9),      # Range of alpha values on a logarithmic scale\n",
    "    'l1_ratio': np.linspace(0.0, 1.0, 11) # Range of l1_ratio values from 0 to 1\n",
    "}\n",
    "\n",
    "# Create ElasticNet model\n",
    "elastic_net = ElasticNet()\n",
    "\n",
    "# Create GridSearchCV instance\n",
    "grid_search = GridSearchCV(elastic_net, param_grid, cv=5, scoring='neg_mean_squared_error')\n",
    "\"\"\"\n",
    "# Fit the grid search to your data\n",
    "grid_search.fit(X_dev, y_dev)\n",
    "\n",
    "# Get the best parameters and model\n",
    "best_params = grid_search.best_params_\n",
    "best_model = grid_search.best_estimator_\n",
    "\n",
    "# Make predictions using the best model\n",
    "y_pred = best_model.predict(X_test)\n",
    "\n",
    "# Calculate R-squared on the test set\n",
    "r2 = r2_score(y_test, y_pred)\n",
    "print(\"Best Parameters:\", best_params)\n",
    "print(\"Best R-squared:\", r2)\"\"\""
   ]
  },
  {
   "cell_type": "code",
   "execution_count": null,
   "id": "0f1fc88f-61a9-47b9-9a1e-f3c505e682a8",
   "metadata": {},
   "outputs": [],
   "source": []
  },
  {
   "cell_type": "code",
   "execution_count": null,
   "id": "d1c9b9cd-99c2-4586-8978-a945a9c1cca5",
   "metadata": {},
   "outputs": [],
   "source": []
  },
  {
   "cell_type": "code",
   "execution_count": null,
   "id": "700853c2-da82-4444-b25a-56c8d84c1701",
   "metadata": {},
   "outputs": [],
   "source": []
  },
  {
   "cell_type": "markdown",
   "id": "ac026d5d-8e18-41f6-ab56-a7bc1de07a72",
   "metadata": {},
   "source": [
    "## Compare Models"
   ]
  },
  {
   "cell_type": "markdown",
   "id": "74eafe0a-8efe-4d4e-9fca-913e4784707a",
   "metadata": {},
   "source": [
    "### Learning curves"
   ]
  },
  {
   "cell_type": "code",
   "execution_count": 311,
   "id": "9381e160-dbc0-4601-9638-2b8827070976",
   "metadata": {},
   "outputs": [
    {
     "data": {
      "text/html": [
       "<div>\n",
       "<style scoped>\n",
       "    .dataframe tbody tr th:only-of-type {\n",
       "        vertical-align: middle;\n",
       "    }\n",
       "\n",
       "    .dataframe tbody tr th {\n",
       "        vertical-align: top;\n",
       "    }\n",
       "\n",
       "    .dataframe thead th {\n",
       "        text-align: right;\n",
       "    }\n",
       "</style>\n",
       "<table border=\"1\" class=\"dataframe\">\n",
       "  <thead>\n",
       "    <tr style=\"text-align: right;\">\n",
       "      <th></th>\n",
       "      <th>Train</th>\n",
       "      <th>Test</th>\n",
       "    </tr>\n",
       "    <tr>\n",
       "      <th>sample size</th>\n",
       "      <th></th>\n",
       "      <th></th>\n",
       "    </tr>\n",
       "  </thead>\n",
       "  <tbody>\n",
       "    <tr>\n",
       "      <th>933</th>\n",
       "      <td>2.707669e+12</td>\n",
       "      <td>4.317083e+12</td>\n",
       "    </tr>\n",
       "    <tr>\n",
       "      <th>1866</th>\n",
       "      <td>2.571752e+12</td>\n",
       "      <td>4.310711e+12</td>\n",
       "    </tr>\n",
       "    <tr>\n",
       "      <th>2799</th>\n",
       "      <td>2.544606e+12</td>\n",
       "      <td>3.428617e+12</td>\n",
       "    </tr>\n",
       "    <tr>\n",
       "      <th>3733</th>\n",
       "      <td>2.514826e+12</td>\n",
       "      <td>2.700668e+12</td>\n",
       "    </tr>\n",
       "    <tr>\n",
       "      <th>4666</th>\n",
       "      <td>2.434713e+12</td>\n",
       "      <td>2.627305e+12</td>\n",
       "    </tr>\n",
       "    <tr>\n",
       "      <th>5599</th>\n",
       "      <td>2.311455e+12</td>\n",
       "      <td>2.629971e+12</td>\n",
       "    </tr>\n",
       "    <tr>\n",
       "      <th>6532</th>\n",
       "      <td>2.298332e+12</td>\n",
       "      <td>2.527486e+12</td>\n",
       "    </tr>\n",
       "    <tr>\n",
       "      <th>7466</th>\n",
       "      <td>2.275969e+12</td>\n",
       "      <td>2.493619e+12</td>\n",
       "    </tr>\n",
       "    <tr>\n",
       "      <th>8399</th>\n",
       "      <td>2.309374e+12</td>\n",
       "      <td>2.473810e+12</td>\n",
       "    </tr>\n",
       "    <tr>\n",
       "      <th>9332</th>\n",
       "      <td>2.227190e+12</td>\n",
       "      <td>2.471171e+12</td>\n",
       "    </tr>\n",
       "  </tbody>\n",
       "</table>\n",
       "</div>"
      ],
      "text/plain": [
       "                    Train          Test\n",
       "sample size                            \n",
       "933          2.707669e+12  4.317083e+12\n",
       "1866         2.571752e+12  4.310711e+12\n",
       "2799         2.544606e+12  3.428617e+12\n",
       "3733         2.514826e+12  2.700668e+12\n",
       "4666         2.434713e+12  2.627305e+12\n",
       "5599         2.311455e+12  2.629971e+12\n",
       "6532         2.298332e+12  2.527486e+12\n",
       "7466         2.275969e+12  2.493619e+12\n",
       "8399         2.309374e+12  2.473810e+12\n",
       "9332         2.227190e+12  2.471171e+12"
      ]
     },
     "execution_count": 311,
     "metadata": {},
     "output_type": "execute_result"
    }
   ],
   "source": [
    "# LOAD FROM SCIKIT-LEARN\n",
    "from sklearn.model_selection import learning_curve\n",
    "\n",
    "train_sizes, train_scores, test_scores = \\\n",
    "    learning_curve(estimator=pipe_lr,\n",
    "                   X=X_dev,\n",
    "                   y=y_dev,\n",
    "                   train_sizes=np.arange(0.05, 1.05, .05),\n",
    "                   scoring='neg_mean_squared_error',                 \n",
    "                   cv=10)\n",
    "    \n",
    "mse_ = pd.DataFrame({'Train':-train_scores.mean(axis=1),\n",
    "                     'Test':-test_scores.mean(axis=1)})\\\n",
    "        .set_index(pd.Index(train_sizes,name='sample size'))\n",
    "\n",
    "mse_.head(10)"
   ]
  },
  {
   "cell_type": "code",
   "execution_count": 312,
   "id": "f08a67e3-6264-4993-8a42-fa9018b28059",
   "metadata": {},
   "outputs": [
    {
     "data": {
      "image/png": "[encoded data removed]",
      "text/plain": [
       "<Figure size 504x216 with 1 Axes>"
      ]
     },
     "metadata": {
      "needs_background": "light"
     },
     "output_type": "display_data"
    }
   ],
   "source": [
    "f_learn, ax = plt.subplots(figsize=(7,3))\n",
    "ax.plot(train_sizes,np.sqrt(-test_scores.mean(1)), alpha=0.25, linewidth=2, label ='Test', color='blue') # negated, because we already use neg_MSE\n",
    "ax.plot(train_sizes,np.sqrt(-train_scores.mean(1)), alpha=0.25, linewidth=2, label='Train', color='orange') # negated, because we already use neg_MSE\n",
    "\n",
    "ax.set_title('Mean performance')\n",
    "ax.set_ylabel('Root-Mean squared error')\n",
    "ax.legend();"
   ]
  },
  {
   "cell_type": "code",
   "execution_count": null,
   "id": "640d604e-b96a-4eff-b7f9-96bd85fd1132",
   "metadata": {},
   "outputs": [],
   "source": []
  },
  {
   "cell_type": "markdown",
   "id": "8b3db110-01e2-4494-a559-f3b522b5d128",
   "metadata": {},
   "source": [
    "# Normal OLS for comparison"
   ]
  },
  {
   "cell_type": "code",
   "execution_count": 333,
   "id": "5e1d111d-0316-4d26-a181-a17c99a02507",
   "metadata": {},
   "outputs": [
    {
     "name": "stdout",
     "output_type": "stream",
     "text": [
      "                            OLS Regression Results                            \n",
      "==============================================================================\n",
      "Dep. Variable:                  price   R-squared:                       0.759\n",
      "Model:                            OLS   Adj. R-squared:                  0.759\n",
      "Method:                 Least Squares   F-statistic:                     3547.\n",
      "Date:                Thu, 17 Aug 2023   Prob (F-statistic):               0.00\n",
      "Time:                        19:08:24   Log-Likelihood:            -4.0669e+05\n",
      "No. Observations:               25924   AIC:                         8.134e+05\n",
      "Df Residuals:                   25900   BIC:                         8.136e+05\n",
      "Df Model:                          23                                         \n",
      "Covariance Type:            nonrobust                                         \n",
      "=======================================================================================\n",
      "                          coef    std err          t      P>|t|      [0.025      0.975]\n",
      "---------------------------------------------------------------------------------------\n",
      "const                 4.77e+06   4.45e+05     10.714      0.000     3.9e+06    5.64e+06\n",
      "udbetaling              1.3384      0.035     37.807      0.000       1.269       1.408\n",
      "area                 6857.5500    276.810     24.774      0.000    6314.988    7400.112\n",
      "land_area              11.3226      0.469     24.163      0.000      10.404      12.241\n",
      "rooms               -2.958e+04   8846.294     -3.344      0.001   -4.69e+04   -1.22e+04\n",
      "ejerudg              1216.9497      7.551    161.155      0.000    1202.149    1231.751\n",
      "days_active          -225.1599     30.435     -7.398      0.000    -284.814    -165.506\n",
      "distance_to_city    -2230.6360    273.255     -8.163      0.000   -2766.230   -1695.042\n",
      "residents               2.1700      0.097     22.468      0.000       1.981       2.359\n",
      "municipal_tax_rate  -2.049e+05   1.75e+04    -11.743      0.000   -2.39e+05   -1.71e+05\n",
      "grundskyldspromille -4.903e+04   2450.359    -20.008      0.000   -5.38e+04   -4.42e+04\n",
      "age                  4583.1183    313.116     14.637      0.000    3969.393    5196.843\n",
      "type_Landejendom     1.893e+05    6.5e+04      2.911      0.004    6.18e+04    3.17e+05\n",
      "type_Rækkehus        4.784e+05   4.21e+04     11.376      0.000    3.96e+05    5.61e+05\n",
      "type_Villa           4.396e+05   3.36e+04     13.071      0.000    3.74e+05    5.06e+05\n",
      "energy_B            -2.261e+05   5.24e+04     -4.315      0.000   -3.29e+05   -1.23e+05\n",
      "energy_C            -5.738e+05   4.51e+04    -12.725      0.000   -6.62e+05   -4.85e+05\n",
      "energy_D            -7.672e+05   4.74e+04    -16.201      0.000    -8.6e+05   -6.74e+05\n",
      "energy_E             -8.39e+05   5.32e+04    -15.769      0.000   -9.43e+05   -7.35e+05\n",
      "energy_F            -1.005e+06   6.27e+04    -16.039      0.000   -1.13e+06   -8.82e+05\n",
      "energy_G            -1.037e+06    7.5e+04    -13.822      0.000   -1.18e+06    -8.9e+05\n",
      "close_Aarhus        -6.941e+04   3.18e+04     -2.185      0.029   -1.32e+05   -7146.947\n",
      "close_Copenhagen     1.652e+05   3.44e+04      4.797      0.000    9.77e+04    2.33e+05\n",
      "close_Odense        -1.066e+05   3.22e+04     -3.310      0.001    -1.7e+05   -4.35e+04\n",
      "==============================================================================\n",
      "Omnibus:                    22842.578   Durbin-Watson:                   1.964\n",
      "Prob(Omnibus):                  0.000   Jarque-Bera (JB):         31731349.639\n",
      "Skew:                           3.001   Prob(JB):                         0.00\n",
      "Kurtosis:                     174.290   Cond. No.                     1.61e+07\n",
      "==============================================================================\n",
      "\n",
      "Notes:\n",
      "[1] Standard Errors assume that the covariance matrix of the errors is correctly specified.\n",
      "[2] The condition number is large, 1.61e+07. This might indicate that there are\n",
      "strong multicollinearity or other numerical problems.\n"
     ]
    },
    {
     "name": "stderr",
     "output_type": "stream",
     "text": [
      "C:\\Users\\marko\\anaconda3\\lib\\site-packages\\statsmodels\\tsa\\tsatools.py:142: FutureWarning: In a future version of pandas all arguments of concat except for the argument 'objs' will be keyword-only\n",
      "  x = pd.concat(x[::order], 1)\n"
     ]
    }
   ],
   "source": [
    "import pandas as pd\n",
    "import numpy as np\n",
    "import statsmodels.api as sm\n",
    "\n",
    "# Add a constant term to X\n",
    "X = sm.add_constant(X)\n",
    "\n",
    "# Fit OLS regression model\n",
    "model = sm.OLS(y, X).fit()\n",
    "\n",
    "# Print regression summary\n",
    "print(model.summary())"
   ]
  },
  {
   "cell_type": "code",
   "execution_count": null,
   "id": "3620c3e2-7a4a-4c79-aeac-8d978aaa809f",
   "metadata": {},
   "outputs": [],
   "source": []
  },
  {
   "cell_type": "markdown",
   "id": "86456de7-b8e4-4f31-83ed-ea3f560b28ad",
   "metadata": {},
   "source": [
    "# Data Visualization"
   ]
  },
  {
   "cell_type": "code",
   "execution_count": 33,
   "id": "5e9cddb0-b7e2-4447-b899-08510f95cd42",
   "metadata": {},
   "outputs": [],
   "source": [
    "apply_fcts = ['median', 'mean']\n",
    "mean_prices = df.groupby('property_type')['Kontantpris'].agg(apply_fcts)"
   ]
  },
  {
   "cell_type": "code",
   "execution_count": 34,
   "id": "5252f461-32e4-4074-a6d3-76bf13a71cb7",
   "metadata": {},
   "outputs": [
    {
     "data": {
      "image/png": "[encoded data removed]",
      "text/plain": [
       "<Figure size 432x288 with 1 Axes>"
      ]
     },
     "metadata": {
      "needs_background": "light"
     },
     "output_type": "display_data"
    }
   ],
   "source": [
    "mean_prices.plot(kind='bar')\n",
    "plt.xlabel('Property Type')\n",
    "plt.ylabel('Mean Kontantpris')\n",
    "plt.title('Mean Kontantpris by Property Type')\n",
    "plt.xticks(rotation=45)\n",
    "plt.show()"
   ]
  },
  {
   "cell_type": "code",
   "execution_count": 35,
   "id": "0cc1ba75-a795-4754-9305-bb04bbf5255f",
   "metadata": {},
   "outputs": [
    {
     "data": {
      "text/html": [
       "<div>\n",
       "<style scoped>\n",
       "    .dataframe tbody tr th:only-of-type {\n",
       "        vertical-align: middle;\n",
       "    }\n",
       "\n",
       "    .dataframe tbody tr th {\n",
       "        vertical-align: top;\n",
       "    }\n",
       "\n",
       "    .dataframe thead th {\n",
       "        text-align: right;\n",
       "    }\n",
       "</style>\n",
       "<table border=\"1\" class=\"dataframe\">\n",
       "  <thead>\n",
       "    <tr style=\"text-align: right;\">\n",
       "      <th></th>\n",
       "      <th>Kontantpris</th>\n",
       "      <th>Rum</th>\n",
       "      <th>Toilet</th>\n",
       "      <th>Boligareal</th>\n",
       "      <th>Grundareal</th>\n",
       "      <th>Age</th>\n",
       "      <th>close_city_Copenhagen</th>\n",
       "      <th>close_city_Odense</th>\n",
       "      <th>close_city_Aarhus</th>\n",
       "    </tr>\n",
       "  </thead>\n",
       "  <tbody>\n",
       "    <tr>\n",
       "      <th>count</th>\n",
       "      <td>4782</td>\n",
       "      <td>4782</td>\n",
       "      <td>4782</td>\n",
       "      <td>4782</td>\n",
       "      <td>4782</td>\n",
       "      <td>4782</td>\n",
       "      <td>4782</td>\n",
       "      <td>4782</td>\n",
       "      <td>4782</td>\n",
       "    </tr>\n",
       "    <tr>\n",
       "      <th>mean</th>\n",
       "      <td>2909893</td>\n",
       "      <td>5</td>\n",
       "      <td>2</td>\n",
       "      <td>143</td>\n",
       "      <td>2102</td>\n",
       "      <td>71</td>\n",
       "      <td>0</td>\n",
       "      <td>0</td>\n",
       "      <td>0</td>\n",
       "    </tr>\n",
       "    <tr>\n",
       "      <th>min</th>\n",
       "      <td>95000</td>\n",
       "      <td>1</td>\n",
       "      <td>1</td>\n",
       "      <td>21</td>\n",
       "      <td>0</td>\n",
       "      <td>-1</td>\n",
       "      <td>0</td>\n",
       "      <td>0</td>\n",
       "      <td>0</td>\n",
       "    </tr>\n",
       "    <tr>\n",
       "      <th>max</th>\n",
       "      <td>32500000</td>\n",
       "      <td>19</td>\n",
       "      <td>7</td>\n",
       "      <td>735</td>\n",
       "      <td>339000</td>\n",
       "      <td>446</td>\n",
       "      <td>1</td>\n",
       "      <td>1</td>\n",
       "      <td>1</td>\n",
       "    </tr>\n",
       "  </tbody>\n",
       "</table>\n",
       "</div>"
      ],
      "text/plain": [
       "       Kontantpris   Rum  Toilet  Boligareal  Grundareal   Age  \\\n",
       "count         4782  4782    4782        4782        4782  4782   \n",
       "mean       2909893     5       2         143        2102    71   \n",
       "min          95000     1       1          21           0    -1   \n",
       "max       32500000    19       7         735      339000   446   \n",
       "\n",
       "       close_city_Copenhagen  close_city_Odense  close_city_Aarhus  \n",
       "count                   4782               4782               4782  \n",
       "mean                       0                  0                  0  \n",
       "min                        0                  0                  0  \n",
       "max                        1                  1                  1  "
      ]
     },
     "execution_count": 35,
     "metadata": {},
     "output_type": "execute_result"
    }
   ],
   "source": [
    "# Specify the columns and statistics you want\n",
    "selected_columns = ['Kontantpris', 'Rum', 'Toilet', 'Boligareal', 'Grundareal', 'Age', 'close_city_Copenhagen', 'close_city_Odense', 'close_city_Aarhus']\n",
    "selected_stats = ['count', 'mean', 'min', 'max']\n",
    "\n",
    "# Calculate descriptive statistics\n",
    "statistics = df[selected_columns].agg(selected_stats)\n",
    "formatted_statistics = statistics.applymap(lambda x: int(x) if x == int(x) else int(round(x)))\n",
    "formatted_statistics"
   ]
  },
  {
   "cell_type": "code",
   "execution_count": 125,
   "id": "0eef8d13-21d2-4aec-aa89-85fef78f1f79",
   "metadata": {},
   "outputs": [
    {
     "name": "stdout",
     "output_type": "stream",
     "text": [
      "\\begin{tabular}{lrrrrrrrrr}\n",
      "\\toprule\n",
      "{} &  Kontantpris &   Rum &  Toilet &  Boligareal &  Grundareal &   Age &  close\\_city\\_Copenhagen &  close\\_city\\_Odense &  close\\_city\\_Aarhus \\\\\n",
      "\\midrule\n",
      "count &         4782 &  4782 &    4782 &        4782 &        4782 &  4782 &                   4782 &               4782 &               4782 \\\\\n",
      "mean  &      2909893 &     5 &       2 &         143 &        2102 &    71 &                      0 &                  0 &                  0 \\\\\n",
      "min   &        95000 &     1 &       1 &          21 &           0 &    -1 &                      0 &                  0 &                  0 \\\\\n",
      "max   &     32500000 &    19 &       7 &         735 &      339000 &   446 &                      1 &                  1 &                  1 \\\\\n",
      "\\bottomrule\n",
      "\\end{tabular}\n",
      "\n"
     ]
    }
   ],
   "source": [
    "# Convert statistics to LaTeX table\n",
    "latex_table = formatted_statistics.to_latex()\n",
    "\n",
    "# Print or save the LaTeX table\n",
    "print(latex_table)"
   ]
  },
  {
   "cell_type": "code",
   "execution_count": null,
   "id": "6ab2a057-7dc5-472e-9825-20a8a5e47d7a",
   "metadata": {},
   "outputs": [],
   "source": []
  }
 ],
 "metadata": {
  "kernelspec": {
   "display_name": "Python 3 (ipykernel)",
   "language": "python",
   "name": "python3"
  },
  "language_info": {
   "codemirror_mode": {
    "name": "ipython",
    "version": 3
   },
   "file_extension": ".py",
   "mimetype": "text/x-python",
   "name": "python",
   "nbconvert_exporter": "python",
   "pygments_lexer": "ipython3",
   "version": "3.9.7"
  }
 },
 "nbformat": 4,
 "nbformat_minor": 5
}
