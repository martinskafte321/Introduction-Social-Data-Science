{
 "cells": [
  {
   "cell_type": "markdown",
   "metadata": {
    "ExecuteTime": {
     "end_time": "2017-08-23T15:30:03.634114Z",
     "start_time": "2017-08-23T15:30:03.629294Z"
    }
   },
   "source": [
    "# Videos and Exercises for Session 12: Model Selection and Cross-Validation\n",
    "\n",
    "In this combined teaching module and exercise set, we will investigate how to optimize the choice of hyperparameters using model validation and cross validation. As an aside, we will see how to build machine learning models using a formalized pipeline from preprocessed (i.e. tidy) data to a model.\n",
    "\n",
    "The structure of this notebook is as follows:\n",
    "1. Model Building with Pipelines\n",
    "2. Model Selection and Validation\n",
    "    - Simple Validation\n",
    "    - Cross Validation\n",
    "    - Tools for Model Selection"
   ]
  },
  {
   "cell_type": "markdown",
   "metadata": {},
   "source": [
    "## Packages\n",
    "First, we need to import our standard stuff. Notice that (similar to last session), we are not interested in seeing the convergence warning in scikit-learn, so we suppress them for now."
   ]
  },
  {
   "cell_type": "code",
   "execution_count": 1,
   "metadata": {},
   "outputs": [],
   "source": [
    "import warnings\n",
    "from sklearn.exceptions import ConvergenceWarning\n",
    "warnings.filterwarnings(action='ignore', category=ConvergenceWarning)\n",
    "\n",
    "import matplotlib.pyplot as plt\n",
    "import numpy as np \n",
    "import pandas as pd \n",
    "import seaborn as sns"
   ]
  },
  {
   "cell_type": "markdown",
   "metadata": {},
   "source": [
    "# Part 1: Model Building with Pipelines\n",
    "\n",
    "A powerful tool for making and applying models are pipelines, which allows to combine different preprocessing and model procedures into one. This has many advantages, mainly being more safe but also has the added side effect being more code-efficient."
   ]
  },
  {
   "cell_type": "code",
   "execution_count": 2,
   "metadata": {},
   "outputs": [
    {
     "data": {
      "image/jpeg": "[encoded data removed]",
      "text/html": [
       "\n",
       "        <iframe\n",
       "            width=\"640\"\n",
       "            height=\"360\"\n",
       "            src=\"https://www.youtube.com/embed/e_98Co2xRuQ\"\n",
       "            frameborder=\"0\"\n",
       "            allowfullscreen\n",
       "            \n",
       "        ></iframe>\n",
       "        "
      ],
      "text/plain": [
       "<IPython.lib.display.YouTubeVideo at 0x2753245cdc0>"
      ]
     },
     "execution_count": 2,
     "metadata": {},
     "output_type": "execute_result"
    }
   ],
   "source": [
    "from IPython.display import YouTubeVideo\n",
    "YouTubeVideo('e_98Co2xRuQ', width=640, height=360)"
   ]
  },
  {
   "cell_type": "markdown",
   "metadata": {},
   "source": [
    "\n",
    "First, load the housing dataset from Ex. 11.2.0 using the code below. "
   ]
  },
  {
   "cell_type": "code",
   "execution_count": 57,
   "metadata": {},
   "outputs": [],
   "source": [
    "from sklearn.datasets import fetch_california_housing\n",
    "from sklearn.model_selection import train_test_split\n",
    "from sklearn.pipeline import make_pipeline\n",
    "from sklearn.preprocessing import PolynomialFeatures, StandardScaler\n",
    "from sklearn.linear_model import Lasso, LinearRegression\n",
    "from sklearn.metrics import mean_squared_error as mse\n",
    "from sklearn.model_selection import KFold\n",
    "\n",
    "cal_house = fetch_california_housing()    \n",
    "\n",
    "X = pd.DataFrame(data=cal_house['data'], \n",
    "                 columns=cal_house['feature_names'])\\\n",
    "             .iloc[:,:-2]\n",
    "y = cal_house['target']"
   ]
  },
  {
   "cell_type": "markdown",
   "metadata": {},
   "source": [
    "> **Ex. 12.1.1:** Construct a model building pipeline which: \n",
    "> 1. adds polynomial features of degree 3 without bias;\n",
    "> 2. scales the features to mean zero and unit std. \n",
    "\n",
    "> *Hint:* a modelling pipeline can be constructed with `make_pipeline` from `sklearn.pipeline`."
   ]
  },
  {
   "cell_type": "code",
   "execution_count": 9,
   "metadata": {
    "deletable": false,
    "nbgrader": {
     "cell_type": "code",
     "checksum": "d1a68e769aaf9219bd7632517a9ad8c5",
     "grade": false,
     "grade_id": "cell-a993cef564dd7353",
     "locked": false,
     "schema_version": 3,
     "solution": true,
     "task": false
    }
   },
   "outputs": [],
   "source": [
    "# YOUR CODE HERE\n",
    "\n",
    "# Define the pipeline\n",
    "pipe = make_pipeline(PolynomialFeatures(degree = 3), \n",
    "                             StandardScaler()) #need to specify in correct order\n"
   ]
  },
  {
   "cell_type": "markdown",
   "metadata": {},
   "source": [
    "# Part 2: Model Selection and Validation\n",
    "\n",
    "\n",
    "## Simple Validation\n",
    "In machine learning, we have two types of parameters: those that are learned from\n",
    "the training data, for example, the weights in logistic regression, and the parameters\n",
    "of a learning algorithm that are optimized separately. The latter are the tuning\n",
    "parameters, also called *hyperparameters*, of a model. These could for example be the regularization\n",
    "parameter in logistic regression or the depth parameter of a decision tree.\n",
    "\n",
    "Below, we investigate how we can choose optimal hyperparameters."
   ]
  },
  {
   "cell_type": "code",
   "execution_count": 10,
   "metadata": {},
   "outputs": [
    {
     "data": {
      "image/jpeg": "[encoded data removed]",
      "text/html": [
       "\n",
       "        <iframe\n",
       "            width=\"640\"\n",
       "            height=\"360\"\n",
       "            src=\"https://www.youtube.com/embed/jSPGLkxJ0cQ\"\n",
       "            frameborder=\"0\"\n",
       "            allowfullscreen\n",
       "            \n",
       "        ></iframe>\n",
       "        "
      ],
      "text/plain": [
       "<IPython.lib.display.YouTubeVideo at 0x275325d4ca0>"
      ]
     },
     "execution_count": 10,
     "metadata": {},
     "output_type": "execute_result"
    }
   ],
   "source": [
    "YouTubeVideo('jSPGLkxJ0cQ', width=640, height=360)"
   ]
  },
  {
   "cell_type": "markdown",
   "metadata": {},
   "source": [
    "In what follows, we will regard the \"train\" (aka. development, non-test) data for two purposes. \n",
    "- First we are interested in getting a credible measure of models under different hyperparameters to perform a model selection. \n",
    "- Then - with the selected model - we estimate/train it on all the training data. "
   ]
  },
  {
   "cell_type": "markdown",
   "metadata": {},
   "source": [
    "> **Ex. 12.2.1:** Make a for loop with 10 iterations where you:\n",
    "> 1. Split the input data into, train (also know as development) and test where the test sample should be one third. Set a new random state for each iteration of the loop, so each iteration makes a different split.\n",
    "> 2. Further split the training (aka development) data into two even sized bins; the first data is for training models and the other is for validating them. Therefore these data sets are often called training and validation.\n",
    "> 3. Train a linear regression model with sub-training data. Compute the RMSE for out-of-sample predictions for both the test data  and the validation data. Save the RMSE.\n",
    ">\n",
    "> You should now have a 10x2 DataFrame with 10 RMSE from both the test data set and the train data set. Compute descriptive statistics of RMSE for the out-of-sample predictions on test and validation data. Are they simular?    \n",
    ">   They hopefuly are pretty simular. This shows us, that we can split the train data, and use this to fit the model. \n",
    ">\n",
    "> *Hint*: you can reuse any code used to solve e.g. exercises 11.3.2."
   ]
  },
  {
   "cell_type": "code",
   "execution_count": 48,
   "metadata": {
    "deletable": false,
    "nbgrader": {
     "cell_type": "code",
     "checksum": "063444a85f076df0cd894ca9a3e20904",
     "grade": false,
     "grade_id": "cell-7f4fc2d7f61542ec",
     "locked": false,
     "schema_version": 3,
     "solution": true,
     "task": false
    }
   },
   "outputs": [
    {
     "name": "stdout",
     "output_type": "stream",
     "text": [
      "   validation   test\n",
      "0        0.61   2.06\n",
      "1        0.64   2.03\n",
      "2        0.61   2.13\n",
      "3        0.63   2.01\n",
      "4        0.60   2.03\n",
      "5       15.21  16.92\n",
      "6        1.51   2.99\n",
      "7        0.64   2.07\n",
      "8        0.64   2.03\n",
      "9        0.61   2.11\n"
     ]
    }
   ],
   "source": [
    "# Preparation\n",
    "performance_val = []\n",
    "performance_test = []\n",
    "\n",
    "\n",
    "for iteration in range(10):\n",
    "    # SPLIT INTO DEVELOPMENT (2/3) AND TEST DATA (1/3)\n",
    "    X_dev, X_test, y_dev, y_test = train_test_split(X, y, test_size=1/3, random_state=iteration)\n",
    "    \n",
    "    # SPLIT THE DEVELOPMENT DATA INTO TRAIN (1/2) AND VALIDATION (1/2)\n",
    "    X_train, X_val, y_train, y_val = train_test_split(X_dev, y_dev, test_size=1/2, random_state=iteration)\n",
    "\n",
    "    # Define the pipeline\n",
    "    pipe = make_pipeline(\n",
    "        LinearRegression()) \n",
    "\n",
    "    # Train and fit the model, then predict and calculate RMSE\n",
    "    pipe.fit(X_train, y_train)\n",
    "    \n",
    "    y_pred_val = pipe.predict(X_val)\n",
    "    RMSE_val = mse(y_val,y_pred_val)\n",
    "    performance_val.append(RMSE_val.round(2))\n",
    "    \n",
    "    y_pred_test = pipe.predict(X_test)\n",
    "    RMSE_test = mse(y_test,y_pred_val)\n",
    "    performance_test.append(RMSE_test.round(2))\n",
    "\n",
    "rmse = pd.DataFrame(np.column_stack([performance_val,performance_test]), columns = ['validation','test'])\n",
    "print(rmse)\n"
   ]
  },
  {
   "cell_type": "markdown",
   "metadata": {},
   "source": [
    "> **Ex. 12.2.2:** Construct a model building pipeline which \n",
    "> 1. adds polynomial features of degree 3 without bias;\n",
    "> 2. scales the features to mean zero and unit std. \n",
    "> 3. estimates a Lasso model"
   ]
  },
  {
   "cell_type": "code",
   "execution_count": null,
   "metadata": {
    "deletable": false,
    "nbgrader": {
     "cell_type": "code",
     "checksum": "28c8478dac9d6269616f87689298ef3e",
     "grade": false,
     "grade_id": "cell-b9e732407b6a3bc7",
     "locked": false,
     "schema_version": 3,
     "solution": true,
     "task": false
    }
   },
   "outputs": [],
   "source": [
    "\n",
    "# Define the pipeline\n",
    "pipe = make_pipeline(PolynomialFeatures(degree = 3), \n",
    "                     StandardScaler(),\n",
    "                     Lasso()) #need to specify in correct order\n",
    "\n",
    "raise NotImplementedError()"
   ]
  },
  {
   "cell_type": "markdown",
   "metadata": {},
   "source": [
    "## Cross Validation\n",
    "\n",
    "  \n",
    "The simple validation procedure that we outlined above has one disadvantage: it only uses parts of the *development* data for validation. In the video below, we present a refined approach that uses all the *development* for validation.\n",
    "\n"
   ]
  },
  {
   "cell_type": "code",
   "execution_count": 49,
   "metadata": {},
   "outputs": [
    {
     "data": {
      "image/jpeg": "[encoded data removed]",
      "text/html": [
       "\n",
       "        <iframe\n",
       "            width=\"640\"\n",
       "            height=\"360\"\n",
       "            src=\"https://www.youtube.com/embed/-G--B3woZGU\"\n",
       "            frameborder=\"0\"\n",
       "            allowfullscreen\n",
       "            \n",
       "        ></iframe>\n",
       "        "
      ],
      "text/plain": [
       "<IPython.lib.display.YouTubeVideo at 0x275328fba00>"
      ]
     },
     "execution_count": 49,
     "metadata": {},
     "output_type": "execute_result"
    }
   ],
   "source": [
    "YouTubeVideo('-G--B3woZGU', width=640, height=360)"
   ]
  },
  {
   "cell_type": "markdown",
   "metadata": {},
   "source": [
    "When we want to optimize over both normal parameters and hyperparameters, we do this using nested loops (two-layered cross validation). In the outer loop, we vary the hyperparameters, and then in the inner loop, we do cross validation for the model with the specific selection of hyperparameters. This way, we can find the model with the lowest mean MSE. "
   ]
  },
  {
   "cell_type": "markdown",
   "metadata": {},
   "source": [
    "> **Ex. 12.2.3:**\n",
    "Run a Lasso regression using the Pipeline from `Ex 12.2.2`. In the outer loop, search through the lambdas specified below. \n",
    "In the inner loop, make *5 fold cross validation* on the selected model and store the average MSE for each fold. Which lambda, from the selection below, gives the lowest test MSE?\n",
    ">  ```python \n",
    "> lambdas =  np.logspace(-4, 4, 12)\n",
    "> ```\n",
    "> *Hint:* `KFold` in `sklearn.model_selection` may be useful."
   ]
  },
  {
   "cell_type": "code",
   "execution_count": null,
   "metadata": {},
   "outputs": [],
   "source": [
    "# INCLUDED IN ASSIGNMENT 2\n"
   ]
  },
  {
   "cell_type": "code",
   "execution_count": 101,
   "metadata": {
    "tags": []
   },
   "outputs": [
    {
     "name": "stdout",
     "output_type": "stream",
     "text": [
      "(array([ 2752,  2753,  2754, ..., 13757, 13758, 13759]), array([   0,    1,    2, ..., 2749, 2750, 2751]))\n"
     ]
    },
    {
     "ename": "KeyError",
     "evalue": "'[2752, 2757, 2758, 2763, 2769, 2770, 2771, 2772, 2773, 2777, 2783, 2787, 2792, 2793, 2796, 2801, 2802, 2807, 2815, 2816, 2817, 2818, 2820, 2825, 2829, 2830, 2836, 2839, 2843, 2845, 2846, 2849, 2850, 2857, 2858, 2861, 2862, 2864, 2866, 2867, 2868, 2869, 2870, 2873, 2876, 2877, 2882, 2884, 2886, 2887, 2892, 2899, 2902, 2903, 2909, 2912, 2914, 2917, 2926, 2927, 2934, 2936, 2938, 2940, 2944, 2948, 2950, 2952, 2954, 2955, 2957, 2959, 2960, 2961, 2962, 2963, 2964, 2968, 2970, 2972, 2974, 2976, 2978, 2979, 2984, 2986, 2989, 2990, 2991, 3002, 3005, 3006, 3010, 3013, 3014, 3015, 3023, 3028, 3031, 3033, 3034, 3035, 3038, 3044, 3054, 3055, 3059, 3060, 3067, 3068, 3072, 3075, 3076, 3078, 3081, 3086, 3087, 3097, 3099, 3100, 3102, 3105, 3107, 3108, 3115, 3122, 3123, 3124, 3128, 3131, 3133, 3134, 3135, 3136, 3140, 3142, 3143, 3144, 3147, 3151, 3154, 3159, 3164, 3165, 3168, 3170, 3172, 3176, 3177, 3178, 3179, 3182, 3187, 3189, 3194, 3202, 3205, 3207, 3209, 3212, 3214, 3217, 3219, 3220, 3221, 3224, 3228, 3233, 3236, 3237, 3239, 3242, 3245, 3246, 3247, 3255, 3258, 3261, 3267, 3269, 3278, 3281, 3283, 3284, 3289, 3290, 3298, 3300, 3304, 3305, 3306, 3309, 3310, 3311, 3316, 3317, 3321, 3322, 3323, 3327, 3328, 3331, 3332, 3335, 3336, 3339, 3341, 3342, 3344, 3346, 3347, 3351, 3359, 3360, 3361, 3363, 3368, 3369, 3371, 3372, 3377, 3379, 3386, 3389, 3391, 3396, 3397, 3401, 3403, 3407, 3409, 3410, 3413, 3418, 3421, 3422, 3426, 3428, 3430, 3431, 3434, 3436, 3438, 3439, 3443, 3444, 3449, 3455, 3461, 3469, 3470, 3478, 3485, 3486, 3487, 3498, 3499, 3504, 3508, 3515, 3516, 3518, 3522, 3526, 3532, 3534, 3536, 3539, 3542, 3544, 3547, 3553, 3555, 3559, 3560, 3561, 3566, 3569, 3570, 3572, 3578, 3587, 3588, 3591, 3595, 3596, 3597, 3600, 3602, 3604, 3606, 3611, 3618, 3620, 3624, 3627, 3630, 3631, 3634, 3636, 3638, 3639, 3640, 3646, 3651, 3654, 3657, 3664, 3665, 3670, 3676, 3677, 3678, 3679, 3680, 3681, 3684, 3689, 3690, 3695, 3697, 3700, 3701, 3703, 3707, 3708, 3710, 3711, 3713, 3715, 3717, 3720, 3725, 3726, 3727, 3733, 3734, 3737, 3738, 3740, 3741, 3742, 3743, 3745, 3746, 3747, 3756, 3759, 3761, 3765, 3772, 3773, 3774, 3775, 3777, 3783, 3784, 3788, 3789, 3794, 3795, 3799, 3801, 3804, 3805, 3806, 3807, 3808, 3809, 3815, 3820, 3828, 3829, 3832, 3836, 3837, 3838, 3839, 3841, 3843, 3845, 3847, 3848, 3849, 3855, 3858, 3862, 3866, 3870, 3872, 3874, 3875, 3878, 3883, 3884, 3886, 3896, 3900, 3901, 3902, 3903, 3909, 3910, 3911, 3912, 3921, 3922, 3923, 3925, 3927, 3931, 3935, 3941, 3946, 3947, 3952, 3954, 3955, 3960, 3967, 3969, 3970, 3977, 3978, 3979, 3980, 3981, 3982, 3984, 3987, 3988, 3989, 3990, 3991, 3994, 3997, 3999, 4001, 4004, 4006, 4008, 4010, 4013, 4014, 4015, 4019, 4020, 4021, 4023, 4024, 4031, 4036, 4039, 4041, 4044, 4048, 4052, 4053, 4061, 4064, 4065, 4066, 4073, 4077, 4078, 4086, 4089, 4090, 4093, 4095, 4096, 4098, 4100, 4108, 4110, 4118, 4119, 4123, 4131, 4144, 4145, 4150, 4151, 4155, 4158, 4159, 4167, 4171, 4172, 4173, 4179, 4181, 4183, 4187, 4188, 4190, 4193, 4195, 4196, 4199, 4200, 4206, 4208, 4209, 4210, 4214, 4219, 4221, 4227, 4228, 4231, 4232, 4233, 4234, 4239, 4242, 4244, 4249, 4250, 4255, 4261, 4262, 4264, 4267, 4271, 4274, 4276, 4277, 4281, 4283, 4286, 4289, 4296, 4304, 4305, 4306, 4307, 4308, 4309, 4310, 4313, 4315, 4325, 4326, 4327, 4331, 4332, 4340, 4341, 4344, 4347, 4348, 4351, 4353, 4356, 4365, 4370, 4372, 4374, 4375, 4379, 4381, 4382, 4383, 4384, 4391, 4393, 4400, 4401, 4405, 4407, 4413, 4414, 4418, 4419, 4422, 4427, 4429, 4434, 4435, 4438, 4440, 4441, 4443, 4451, 4458, 4459, 4461, 4462, 4463, 4464, 4465, 4473, 4475, 4478, 4482, 4484, 4487, 4490, 4497, 4503, 4507, 4516, 4517, 4518, 4521, 4522, 4524, 4525, 4526, 4529, 4534, 4537, 4539, 4540, 4544, 4545, 4546, 4547, 4549, 4550, 4551, 4554, 4555, 4556, 4560, 4561, 4566, 4573, 4576, 4577, 4578, 4579, 4583, 4584, 4585, 4591, 4592, 4593, 4594, 4597, 4599, 4601, 4602, 4608, 4609, 4610, 4614, 4623, 4624, 4625, 4628, 4629, 4631, 4632, 4633, 4636, 4638, 4648, 4653, 4656, 4664, 4666, 4667, 4669, 4675, 4677, 4678, 4682, 4686, 4689, 4690, 4692, 4694, 4702, 4704, 4707, 4708, 4709, 4715, 4716, 4718, 4722, 4725, 4727, 4729, 4731, 4732, 4738, 4741, 4743, 4745, 4746, 4747, 4752, 4753, 4755, 4756, 4765, 4766, 4769, 4770, 4771, 4776, 4777, 4786, 4790, 4791, 4792, 4793, 4794, 4799, 4800, 4806, 4815, 4816, 4818, 4822, 4825, 4830, 4831, 4832, 4833, 4834, 4836, 4842, 4843, 4848, 4849, 4854, 4855, 4858, 4865, 4866, 4867, 4869, 4874, 4877, 4881, 4882, 4883, 4886, 4887, 4891, 4892, 4893, 4894, 4896, 4898, 4900, 4901, 4907, 4909, 4910, 4919, 4920, 4922, 4924, 4927, 4928, 4931, 4932, 4933, 4935, 4936, 4937, 4938, 4941, 4942, 4945, 4947, 4959, 4968, 4973, 4975, 4981, 4982, 4984, 4986, 4990, 4999, 5004, 5007, 5009, 5015, 5024, 5028, 5029, 5033, 5035, 5039, 5045, 5051, 5052, 5055, 5062, 5063, 5066, 5070, 5073, 5074, 5075, 5079, 5081, 5086, 5091, 5092, 5094, 5098, 5103, 5106, 5111, 5114, 5116, 5119, 5123, 5128, 5136, 5137, 5141, 5142, 5143, 5147, 5149, 5153, 5154, 5155, 5156, 5157, 5161, 5162, 5171, 5173, 5175, 5179, 5184, 5187, 5189, 5192, 5193, 5194, 5196, 5198, 5200, 5203, 5204, 5205, 5207, 5214, 5218, 5220, 5223, 5224, 5225, 5227, 5230, 5236, 5241, 5246, 5251, 5253, 5255, 5260, 5261, 5262, 5269, 5270, 5271, 5273, 5274, 5275, 5280, 5283, 5288, 5290, 5293, 5295, 5298, 5302, 5304, 5305, 5313, 5315, 5317, 5318, 5320, 5322, 5332, 5339, 5346, 5348, 5352, 5354, 5357, 5359, 5361, 5372, 5373, 5377, 5378, 5379, 5381, 5383, 5384, 5385, 5386, 5389, 5390, 5392, 5393, 5395, 5396, 5397, 5398, 5399, 5402, 5408, 5409, 5415, 5419, 5422, 5423, 5425, 5428, 5431, 5432, 5440, 5442, 5447, 5449, 5450, 5454, 5455, 5456, 5457, 5461, 5464, 5476, 5477, 5481, 5488, 5489, 5495, 5504, 5510, 5511, 5512, 5514, 5517, 5525, 5528, 5529, 5530, 5532, 5533, 5535, 5538, 5543, 5546, 5551, 5552, 5553, 5558, 5559, 5561, 5562, 5568, 5571, 5576, 5579, 5582, 5584, 5589, 5591, 5594, 5602, 5603, 5610, 5613, 5614, 5618, 5622, 5624, 5628, 5638, 5642, 5645, 5646, 5647, 5652, 5653, 5655, 5675, 5680, 5683, 5684, 5685, 5686, 5687, 5688, 5689, 5690, 5691, 5692, 5695, 5696, 5698, 5703, 5705, 5706, 5707, 5710, 5712, 5714, 5718, 5723, 5724, 5725, 5727, 5728, 5734, 5735, 5737, 5741, 5742, 5749, 5750, 5751, 5756, 5768, 5771, 5773, 5775, 5777, 5781, 5791, 5792, 5801, 5805, 5808, 5812, 5816, 5817, 5818, 5819, 5820, 5821, 5823, 5837, 5845, 5850, 5851, 5860, 5861, 5862, 5863, 5866, 5867, 5874, 5876, 5877, 5892, 5895, 5899, 5900, 5901, 5905, 5906, 5908, 5911, 5913, 5920, 5922, 5929, 5931, 5944, 5945, 5947, 5949, 5951, 5952, 5954, 5955, 5958, 5960, 5961, 5962, 5963, 5968, 5972, 5976, 5977, 5978, 5986, 5987, 5988, 5989, 5993, 5994, 5999, 6001, 6002, 6003, 6004, 6005, 6008, 6009, 6010, 6014, 6017, 6021, 6022, 6023, 6027, 6028, 6030, 6035, 6036, 6042, 6043, 6044, 6046, 6048, 6052, 6058, 6059, 6065, 6067, 6068, 6070, 6074, 6075, 6077, 6078, 6080, 6084, 6095, 6097, 6100, 6102, 6105, 6111, 6112, 6116, 6119, 6122, 6125, 6132, 6133, 6134, 6135, 6140, 6143, 6146, 6147, 6148, 6152, 6154, 6155, 6159, 6164, 6165, 6167, 6170, 6172, 6176, 6179, 6183, 6184, 6185, 6187, 6191, 6192, 6194, 6195, 6196, 6197, 6198, 6200, 6209, 6210, 6211, 6212, 6215, 6217, 6218, 6220, 6222, 6223, 6225, 6227, 6228, 6230, 6233, 6236, 6242, 6249, 6251, 6254, 6256, 6257, 6259, 6266, 6267, 6268, 6270, 6271, 6274, 6290, 6292, 6294, 6296, 6297, 6298, 6304, 6310, 6316, 6320, 6321, 6322, 6324, 6326, 6327, 6328, 6329, 6330, 6338, 6343, 6350, 6351, 6358, 6361, 6365, 6370, 6373, 6374, 6375, 6377, 6378, 6385, 6387, 6392, 6396, 6397, 6399, 6401, 6405, 6411, 6412, 6414, 6415, 6423, 6424, 6426, 6430, 6442, 6444, 6447, 6448, 6449, 6453, 6458, 6460, 6461, 6464, 6465, 6468, 6481, 6486, 6488, 6493, 6496, 6498, 6499, 6504, 6506, 6508, 6510, 6511, 6513, 6515, 6517, 6523, 6524, 6525, 6526, 6537, 6538, 6539, 6546, 6553, 6555, 6564, 6565, 6566, 6570, 6572, 6573, 6581, 6582, 6584, 6585, 6589, 6591, 6595, 6596, 6600, 6601, 6603, 6607, 6608, 6611, 6616, 6618, 6619, 6637, 6644, 6645, 6646, 6652, 6662, 6663, 6664, 6665, 6672, 6674, 6680, 6682, 6683, 6685, 6692, 6695, 6696, 6700, 6701, 6704, 6705, 6712, 6716, 6718, 6720, 6721, 6723, 6724, 6727, 6729, 6733, 6736, 6738, 6739, 6747, 6751, 6755, 6764, 6771, 6779, 6783, 6785, 6793, 6795, 6796, 6799, 6807, 6811, 6812, 6815, 6817, 6818, 6819, 6822, 6824, 6827, 6828, 6830, 6831, 6834, 6835, 6836, 6837, 6838, 6839, 6844, 6845, 6848, 6849, 6853, 6855, 6859, 6865, 6869, 6872, 6873, 6874, 6881, 6887, 6888, 6893, 6900, 6903, 6908, 6909, 6911, 6913, 6915, 6917, 6924, 6926, 6929, 6930, 6932, 6938, 6942, 6943, 6945, 6947, 6948, 6949, 6952, 6956, 6959, 6960, 6962, 6964, 6970, 6972, 6977, 6979, 6991, 6993, 6994, 6997, 7002, 7003, 7014, 7017, 7021, 7024, 7027, 7033, 7036, 7040, 7041, 7042, 7044, 7045, 7046, 7049, 7052, 7053, 7057, 7060, 7065, 7070, 7073, 7076, 7077, 7085, 7087, 7088, 7092, 7095, 7096, 7097, 7100, 7101, 7117, 7118, 7121, 7127, 7128, 7131, 7133, 7135, 7137, 7138, 7142, 7143, 7144, 7145, 7149, 7150, 7152, 7154, 7159, 7161, 7162, 7164, 7169, 7178, 7184, 7187, 7188, 7192, 7193, 7196, 7198, 7210, 7215, 7216, 7217, 7218, 7220, 7227, 7231, 7232, 7234, 7235, 7236, 7243, 7244, 7248, 7256, 7264, 7267, 7268, 7271, 7274, 7278, 7288, 7289, 7291, 7292, 7293, 7300, 7301, 7302, 7304, 7311, 7315, 7318, 7319, 7325, 7328, 7332, 7334, 7336, 7337, 7339, 7340, 7342, 7344, 7345, 7347, 7348, 7350, 7359, 7360, 7364, 7369, 7370, 7372, 7373, 7374, 7376, 7377, 7381, 7384, 7385, 7386, 7387, 7389, 7397, 7404, 7408, 7410, 7411, 7412, 7414, 7418, 7421, 7423, 7428, 7434, 7436, 7437, 7439, 7440, 7442, 7445, 7449, 7453, 7454, 7457, 7460, 7461, 7462, 7463, 7466, 7467, 7468, 7469, 7470, 7471, 7476, 7484, 7486, 7494, 7498, 7500, 7501, 7508, 7511, 7512, 7513, 7514, 7524, 7527, 7529, 7530, 7532, 7536, 7544, 7556, 7558, 7560, 7561, 7564, 7570, 7574, 7576, 7577, 7578, 7581, 7589, 7593, 7595, 7597, 7600, 7604, 7605, 7609, 7611, 7614, 7623, 7627, 7628, 7633, 7634, 7636, 7650, 7651, 7653, 7662, 7665, 7666, 7671, 7677, 7678, 7682, 7685, 7688, 7689, 7691, 7695, 7696, 7704, 7708, 7712, 7714, 7716, 7717, 7727, 7731, 7737, 7740, 7741, 7742, 7744, 7746, 7747, 7751, 7754, 7758, 7761, 7771, 7772, 7777, 7778, 7785, 7786, 7788, 7791, 7798, 7799, 7800, 7806, 7808, 7810, 7812, 7815, 7819, 7821, 7825, 7828, 7832, 7834, 7835, 7845, 7848, 7849, 7850, 7852, 7853, 7854, 7855, 7856, 7857, 7860, 7864, 7865, 7868, 7875, 7876, 7877, 7878, 7879, 7880, 7889, 7890, 7900, 7901, 7905, 7907, 7908, 7909, 7913, 7919, 7921, 7922, 7923, 7924, 7925, 7930, 7932, 7936, 7938, 7939, 7942, 7945, 7949, 7956, 7959, 7962, 7967, 7968, 7971, 7972, 7974, 7977, 7982, 7983, 7984, 7985, 7989, 7990, 7992, 7993, 7997, 7998, 8002, 8006, 8007, 8010, 8017, 8018, 8020, 8021, 8025, 8026, 8028, 8033, 8034, 8036, 8037, 8038, 8044, 8045, 8052, 8056, 8060, 8062, 8064, 8065, 8066, 8068, 8069, 8071, 8073, 8074, 8077, 8079, 8080, 8090, 8091, 8100, 8101, 8105, 8112, 8113, 8115, 8118, 8120, 8122, 8123, 8129, 8132, 8134, 8137, 8138, 8149, 8160, 8163, 8164, 8167, 8171, 8173, 8175, 8182, 8187, 8189, 8196, 8200, 8204, 8209, 8212, 8218, 8223, 8227, 8242, 8248, 8249, 8250, 8251, 8256, 8257, 8258, 8263, 8264, 8265, 8269, 8270, 8271, 8272, 8279, 8281, 8286, 8287, 8291, 8294, 8298, 8302, 8304, 8306, 8314, 8315, 8316, 8321, 8323, 8324, 8328, 8331, 8332, 8334, 8336, 8337, 8339, 8341, 8344, 8347, 8349, 8354, 8356, 8357, 8358, 8359, 8361, 8363, 8365, 8367, 8368, 8373, 8382, 8385, 8386, 8388, 8389, 8393, 8405, 8408, 8410, 8415, 8416, 8418, 8425, 8429, 8430, 8434, 8435, 8436, 8437, 8438, 8439, 8442, 8444, 8448, 8450, 8454, 8456, 8457, 8458, 8461, 8466, 8474, 8477, 8478, 8479, 8481, 8483, 8484, 8485, 8486, 8490, 8491, 8495, 8497, 8498, 8502, 8503, 8509, 8511, 8514, 8516, 8517, 8519, 8520, 8521, 8529, 8533, 8535, 8537, 8542, 8546, 8548, 8549, 8552, 8555, 8563, 8564, 8574, 8577, 8578, 8579, 8584, 8585, 8588, 8597, 8598, 8605, 8607, 8609, 8610, 8613, 8616, 8617, 8621, 8622, 8625, 8626, 8627, 8628, 8630, 8633, 8638, 8641, 8645, 8647, 8649, 8652, 8655, 8656, 8659, 8660, 8665, 8668, 8674, 8676, 8679, 8683, 8686, 8691, 8696, 8698, 8700, 8701, 8702, 8705, 8706, 8708, 8711, 8712, 8714, 8720, 8724, 8728, 8730, 8733, 8734, 8739, 8744, 8748, 8750, 8753, 8763, 8765, 8766, 8771, 8773, 8775, 8785, 8791, 8792, 8794, 8795, 8796, 8798, 8799, 8801, 8805, 8807, 8808, 8809, 8811, 8812, 8821, 8829, 8830, 8833, 8836, 8840, 8842, 8847, 8849, 8850, 8853, 8854, 8855, 8856, 8862, 8863, 8868, 8870, 8873, 8874, 8877, 8878, 8881, 8884, 8888, 8889, 8890, 8895, 8897, 8899, 8902, 8904, 8905, 8906, 8910, 8911, 8913, 8914, 8917, 8921, 8926, 8928, 8929, 8932, 8938, 8939, 8940, 8942, 8948, 8949, 8950, 8953, 8957, 8958, 8959, 8965, 8973, 8984, 8986, 8991, 8992, 8993, 8994, 8997, 9001, 9004, 9006, 9007, 9008, 9009, 9010, 9012, 9017, 9018, 9020, 9022, 9024, 9032, 9033, 9034, 9036, 9038, 9045, 9047, 9048, 9051, 9052, 9057, 9058, 9069, 9072, 9074, 9084, 9085, 9091, 9092, 9101, 9102, 9103, 9104, 9109, 9111, 9112, 9113, 9115, 9117, 9118, 9119, 9124, 9125, 9131, 9136, 9139, 9142, 9145, 9151, 9154, 9155, 9157, 9162, 9163, 9166, 9170, 9173, 9183, 9187, 9188, 9189, 9195, 9196, 9199, 9204, 9206, 9207, 9213, 9216, 9217, 9221, 9223, 9230, 9236, 9237, 9238, 9239, 9241, 9244, 9247, 9250, 9256, 9257, 9259, 9264, 9267, 9274, 9276, 9279, 9285, 9286, 9294, 9295, 9298, 9302, 9310, 9311, 9322, 9324, 9326, 9329, 9330, 9331, 9336, 9346, 9348, 9349, 9350, 9356, 9357, 9358, 9362, 9372, 9373, 9376, 9380, 9381, 9385, 9388, 9389, 9395, 9402, 9403, 9407, 9408, 9409, 9410, 9411, 9417, 9420, 9421, 9423, 9430, 9432, 9433, 9440, 9446, 9448, 9453, 9457, 9458, 9462, 9469, 9471, 9474, 9479, 9481, 9482, 9484, 9485, 9486, 9488, 9489, 9490, 9494, 9497, 9498, 9500, 9502, 9504, 9507, 9508, 9509, 9518, 9520, 9524, 9525, 9533, 9534, 9539, 9540, 9541, 9542, 9549, 9556, 9558, 9561, 9562, 9563, 9569, 9571, 9572, 9576, 9582, 9586, 9588, 9591, 9600, 9603, 9605, 9610, 9612, 9615, 9619, 9626, 9628, 9631, 9633, 9634, 9639, 9641, 9642, 9645, 9650, 9653, 9654, 9655, 9661, 9666, 9667, 9672, 9677, 9680, 9685, 9690, 9691, 9694, 9699, 9703, 9709, 9712, 9713, 9715, 9721, 9724, 9728, 9732, 9734, 9735, 9736, 9741, 9743, 9744, 9748, 9749, 9750, 9755, 9756, 9762, 9764, 9765, 9766, 9767, 9769, 9772, 9775, 9781, 9785, 9790, 9794, 9799, 9801, 9802, 9806, 9808, 9812, 9815, 9823, 9824, 9830, 9831, 9832, 9835, 9839, 9840, 9844, 9846, 9850, 9852, 9854, 9859, 9860, 9862, 9865, 9866, 9867, 9871, 9872, 9873, 9878, 9880, 9885, 9890, 9892, 9893, 9894, 9895, 9896, 9899, 9901, 9902, 9905, 9908, 9911, 9913, 9914, 9915, 9921, 9922, 9925, 9931, 9932, 9933, 9937, 9940, 9942, 9945, 9946, 9947, 9952, 9953, 9954, 9956, 9960, 9961, 9962, 9971, 9977, 9978, 9980, 9984, 9985, 9988, 9989, 9993, 10002, 10003, 10006, 10009, 10011, 10013, 10014, 10024, 10025, 10027, 10029, 10035, 10038, 10039, 10043, 10048, 10050, 10051, 10052, 10053, 10057, 10060, 10061, 10063, 10064, 10066, 10067, 10068, 10070, 10073, 10075, 10076, 10079, 10080, 10082, 10086, 10090, 10091, 10092, 10093, 10096, 10102, 10104, 10106, 10110, 10113, 10117, 10119, 10123, 10128, 10129, 10130, 10132, 10146, 10147, 10159, 10160, 10161, 10169, 10171, 10174, 10177, 10181, 10183, 10184, 10185, 10186, 10191, 10194, 10195, 10197, 10198, 10199, 10200, 10202, 10205, 10213, 10214, 10215, 10216, 10218, 10219, 10223, 10225, 10235, 10236, 10242, 10245, 10246, 10251, 10256, 10257, 10259, 10262, 10263, 10268, 10271, 10273, 10275, 10278, 10280, 10287, 10294, 10295, 10299, 10301, 10302, 10307, 10308, 10309, 10324, 10328, 10332, 10333, 10334, 10340, 10341, 10343, 10344, 10345, 10349, 10352, 10355, 10358, 10364, 10367, 10373, 10374, 10380, 10381, 10382, 10385, 10388, 10393, 10394, 10395, 10399, 10403, 10405, 10413, 10417, 10418, 10419, 10420, 10424, 10429, 10431, 10433, 10434, 10437, 10438, 10443, 10449, 10450, 10456, 10467, 10468, 10470, 10471, 10475, 10476, 10479, 10481, 10483, 10484, 10485, 10491, 10492, 10500, 10501, 10508, 10509, 10517, 10520, 10524, 10526, 10527, 10530, 10532, 10533, 10540, 10544, 10545, 10546, 10551, 10555, 10561, 10562, 10563, 10567, 10569, 10572, 10578, 10579, 10582, 10591, 10593, 10595, 10603, 10612, 10615, 10617, 10619, 10628, 10629, 10634, 10640, 10642, 10647, 10650, 10651, 10652, 10656, 10662, 10666, 10667, 10669, 10670, 10673, 10676, 10678, 10680, 10693, 10701, 10702, 10706, 10708, 10709, 10712, 10715, 10717, 10724, 10725, 10726, 10728, 10730, 10731, 10732, 10736, 10738, 10740, 10742, 10743, 10749, 10751, 10752, 10753, 10754, 10756, 10758, 10759, 10761, 10764, 10773, 10774, 10775, 10779, 10782, 10783, 10785, 10786, 10788, 10791, 10793, 10794, 10795, 10800, 10803, 10804, 10811, 10814, 10821, 10825, 10828, 10831, 10832, 10835, 10839, 10842, 10845, 10848, 10852, 10856, 10864, 10870, 10871, 10872, 10873, 10877, 10878, 10880, 10884, 10888, 10890, 10892, 10895, 10897, 10898, 10900, 10901, 10904, 10906, 10907, 10908, 10910, 10914, 10916, 10917, 10918, 10919, 10921, 10922, 10924, 10925, 10928, 10934, 10937, 10938, 10939, 10945, 10951, 10952, 10959, 10962, 10964, 10968, 10969, 10970, 10973, 10976, 10979, 10980, 10984, 10989, 10991, 10992, 11003, 11009, 11010, 11011, 11014, 11017, 11020, 11023, 11024, 11025, 11030, 11032, 11033, 11039, 11040, 11042, 11043, 11049, 11053, 11057, 11058, 11062, 11064, 11069, 11071, 11073, 11076, 11077, 11079, 11080, 11081, 11085, 11087, 11089, 11092, 11107, 11108, 11111, 11114, 11115, 11119, 11123, 11124, 11125, 11126, 11127, 11129, 11130, 11132, 11133, 11135, 11136, 11138, 11139, 11143, 11147, 11148, 11152, 11160, 11161, 11163, 11171, 11185, 11187, 11191, 11192, 11193, 11195, 11198, 11202, 11205, 11206, 11207, 11210, 11215, 11218, 11224, 11226, 11227, 11229, 11231, 11236, 11246, 11249, 11250, 11252, 11257, 11261, 11266, 11271, 11274, 11275, 11276, 11277, 11279, 11283, 11289, 11294, 11297, 11299, 11303, 11309, 11312, 11314, 11323, 11327, 11329, 11333, 11337, 11338, 11349, 11350, 11353, 11355, 11357, 11359, 11360, 11366, 11369, 11378, 11379, 11382, 11389, 11390, 11397, 11402, 11404, 11407, 11408, 11409, 11411, 11414, 11425, 11427, 11428, 11429, 11432, 11440, 11442, 11444, 11449, 11452, 11453, 11458, 11459, 11460, 11467, 11476, 11479, 11480, 11483, 11484, 11485, 11487, 11488, 11490, 11497, 11502, 11503, 11504, 11507, 11508, 11510, 11514, 11515, 11521, 11524, 11525, 11528, 11534, 11536, 11539, 11543, 11544, 11551, 11553, 11555, 11559, 11560, 11562, 11569, 11570, 11575, 11576, 11578, 11580, 11581, 11585, 11587, 11588, 11589, 11590, 11592, 11594, 11595, 11596, 11599, 11602, 11603, 11605, 11612, 11614, 11616, 11618, 11619, 11620, 11621, 11625, 11627, 11630, 11631, 11634, 11635, 11636, 11640, 11642, 11646, 11650, 11653, 11661, 11662, 11664, 11670, 11671, 11672, 11678, 11680, 11686, 11688, 11691, 11692, 11695, 11717, 11719, 11721, 11726, 11728, 11734, 11735, 11736, 11740, 11744, 11747, 11752, 11754, 11757, 11758, 11759, 11761, 11763, 11765, 11770, 11771, 11782, 11786, 11789, 11791, 11804, 11808, 11812, 11815, 11816, 11817, 11818, 11821, 11825, 11829, 11833, 11836, 11840, 11841, 11842, 11845, 11846, 11853, 11858, 11862, 11866, 11867, 11868, 11869, 11870, 11875, 11876, 11880, 11881, 11882, 11884, 11886, 11890, 11897, 11901, 11902, 11903, 11905, 11908, 11912, 11914, 11918, 11920, 11921, 11926, 11929, 11930, 11932, 11934, 11939, 11941, 11945, 11948, 11950, 11954, 11955, 11959, 11960, 11961, 11963, 11965, 11966, 11973, 11974, 11975, 11976, 11978, 11983, 11992, 11993, 11994, 11995, 12002, 12004, 12005, 12011, 12013, 12016, 12017, 12019, 12024, 12029, 12032, 12035, 12039, 12049, 12052, 12059, 12061, 12062, 12066, 12067, 12075, 12083, 12084, 12086, 12091, 12092, 12093, 12098, 12099, 12102, 12103, 12105, 12106, 12112, 12113, 12115, 12117, 12121, 12122, 12125, 12126, 12127, 12129, 12133, 12139, 12147, 12156, 12158, 12164, 12168, 12172, 12173, 12174, 12176, 12177, 12179, 12190, 12197, 12203, 12204, 12208, 12212, 12215, 12218, 12219, 12224, 12229, 12234, 12237, 12241, 12243, 12244, 12248, 12249, 12251, 12257, 12259, 12266, 12279, 12280, 12287, 12289, 12290, 12298, 12304, 12305, 12308, 12310, 12315, 12317, 12318, 12320, 12326, 12328, 12329, 12331, 12332, 12333, 12336, 12339, 12342, 12344, 12345, 12346, 12347, 12350, 12354, 12359, 12360, 12363, 12364, 12365, 12368, 12376, 12381, 12382, 12383, 12385, 12395, 12396, 12398, 12399, 12400, 12405, 12410, 12415, 12416, 12421, 12426, 12428, 12429, 12431, 12432, 12433, 12434, 12439, 12441, 12453, 12459, 12460, 12461, 12463, 12464, 12465, 12467, 12469, 12470, 12473, 12474, 12475, 12476, 12478, 12479, 12480, 12482, 12489, 12491, 12497, 12498, 12503, 12505, 12509, 12512, 12513, 12523, 12524, 12526, 12530, 12531, 12534, 12535, 12536, 12537, 12540, 12542, 12546, 12548, 12549, 12552, 12553, 12555, 12557, 12563, 12567, 12569, 12576, 12582, 12583, 12585, 12591, 12592, 12593, 12597, 12598, 12605, 12606, 12611, 12615, 12616, 12618, 12622, 12625, 12632, 12633, 12636, 12637, 12641, 12645, 12649, 12651, 12652, 12657, 12658, 12661, 12662, 12664, 12665, 12669, 12670, 12671, 12675, 12680, 12682, 12685, 12687, 12689, 12694, 12696, 12697, 12698, 12702, 12715, 12718, 12720, 12722, 12726, 12728, 12729, 12730, 12731, 12733, 12735, 12739, 12745, 12747, 12748, 12749, 12763, 12771, 12772, 12773, 12778, 12790, 12791, 12794, 12795, 12796, 12797, 12801, 12806, 12817, 12818, 12819, 12822, 12824, 12838, 12840, 12845, 12849, 12851, 12853, 12856, 12861, 12864, 12866, 12867, 12870, 12872, 12873, 12874, 12886, 12887, 12888, 12889, 12893, 12894, 12895, 12898, 12901, 12905, 12906, 12909, 12912, 12923, 12924, 12926, 12929, 12933, 12938, 12942, 12943, 12946, 12951, 12952, 12955, 12956, 12958, 12961, 12963, 12964, 12966, 12967, 12968, 12969, 12970, 12972, 12975, 12978, 12979, 12982, 12983, 12984, 12985, 12987, 12988, 12989, 12991, 12992, 12994, 12996, 13001, 13002, 13003, 13004, 13006, 13012, 13015, 13017, 13018, 13019, 13020, 13021, 13022, 13031, 13032, 13033, 13035, 13037, 13040, 13041, 13044, 13045, 13046, 13048, 13051, 13052, 13056, 13060, 13065, 13073, 13075, 13084, 13085, 13087, 13088, 13101, 13109, 13111, 13113, 13115, 13119, 13120, 13124, 13125, 13129, 13132, 13134, 13142, 13147, 13150, 13151, 13153, 13158, 13160, 13161, 13166, 13172, 13175, 13177, 13181, 13183, 13184, 13186, 13187, 13189, 13194, 13195, 13196, 13199, 13201, 13202, 13203, 13207, 13209, 13216, 13217, 13218, 13220, 13225, 13226, 13227, 13233, 13234, 13241, 13246, 13247, 13249, 13250, 13252, 13258, 13260, 13261, 13262, 13263, 13268, 13270, 13276, 13278, 13282, 13286, 13288, 13295, 13300, 13302, 13305, 13308, 13309, 13315, 13316, 13322, 13324, 13326, 13328, 13337, 13338, 13339, 13340, 13342, 13351, 13353, 13365, 13366, 13367, 13371, 13375, 13376, 13377, 13378, 13382, 13388, 13389, 13391, 13394, 13395, 13399, 13400, 13401, 13403, 13407, 13409, 13419, 13420, 13423, 13425, 13432, 13434, 13435, 13441, 13447, 13448, 13451, 13452, 13455, 13456, 13457, 13461, 13463, 13464, 13472, 13473, 13478, 13480, 13481, 13489, 13493, 13498, 13499, 13501, 13506, 13507, 13512, 13513, 13514, 13516, 13521, 13523, 13528, 13531, 13533, 13537, 13538, 13540, 13552, 13558, 13560, 13561, 13562, 13563, 13564, 13570, 13576, 13577, 13583, 13584, 13587, 13591, 13592, 13595, 13596, 13600, 13603, 13605, 13606, 13607, 13611, 13613, 13618, 13621, 13628, 13631, 13642, 13655, 13656, 13657, 13662, 13663, 13665, 13666, 13670, 13675, 13676, 13677, 13678, 13680, 13681, 13683, 13685, 13689, 13690, 13693, 13694, 13697, 13701, 13705, 13707, 13711, 13714, 13718, 13720, 13727, 13729, 13731, 13732, 13733, 13735, 13740, 13742, 13743, 13744, 13745, 13748, 13749, 13750, 13752, 13753, 13754, 13755] not in index'",
     "output_type": "error",
     "traceback": [
      "\u001b[1;31m---------------------------------------------------------------------------\u001b[0m",
      "\u001b[1;31mKeyError\u001b[0m                                  Traceback (most recent call last)",
      "Cell \u001b[1;32mIn[101], line 25\u001b[0m\n\u001b[0;32m     20\u001b[0m \u001b[38;5;28;01mfor\u001b[39;00m train_idx, val_idx \u001b[38;5;129;01min\u001b[39;00m folds:\n\u001b[0;32m     21\u001b[0m     pipe \u001b[38;5;241m=\u001b[39m make_pipeline(PolynomialFeatures(degree \u001b[38;5;241m=\u001b[39m \u001b[38;5;241m3\u001b[39m, include_bias \u001b[38;5;241m=\u001b[39m \u001b[38;5;28;01mFalse\u001b[39;00m), \n\u001b[0;32m     22\u001b[0m                      StandardScaler(),\n\u001b[0;32m     23\u001b[0m                      Lasso(alpha \u001b[38;5;241m=\u001b[39m lambda_)) \u001b[38;5;66;03m#need to specify in correct order\u001b[39;00m\n\u001b[1;32m---> 25\u001b[0m     X_train, y_train \u001b[38;5;241m=\u001b[39m \u001b[43mX_dev\u001b[49m\u001b[38;5;241;43m.\u001b[39;49m\u001b[43mloc\u001b[49m\u001b[43m[\u001b[49m\u001b[43mtrain_idx\u001b[49m\u001b[43m]\u001b[49m, y_dev\u001b[38;5;241m.\u001b[39mloc[train_idx] \u001b[38;5;66;03m# The for loop lets us pick the first, second, etc., folds in the list. Thus every loop runs through each folds. \u001b[39;00m\n\u001b[0;32m     26\u001b[0m     X_val, y_val \u001b[38;5;241m=\u001b[39m X_dev\u001b[38;5;241m.\u001b[39mloc[val_idx], y_dev\u001b[38;5;241m.\u001b[39mloc[val_idx] \u001b[38;5;66;03m# The for loop lets us pick the first, second, etc., folds in the list. Thus every loop runs through each folds.\u001b[39;00m\n\u001b[0;32m     28\u001b[0m     pipe\u001b[38;5;241m.\u001b[39mfit(X_train, y_train)\n",
      "File \u001b[1;32m~\\anaconda3\\lib\\site-packages\\pandas\\core\\indexing.py:1073\u001b[0m, in \u001b[0;36m_LocationIndexer.__getitem__\u001b[1;34m(self, key)\u001b[0m\n\u001b[0;32m   1070\u001b[0m axis \u001b[38;5;241m=\u001b[39m \u001b[38;5;28mself\u001b[39m\u001b[38;5;241m.\u001b[39maxis \u001b[38;5;129;01mor\u001b[39;00m \u001b[38;5;241m0\u001b[39m\n\u001b[0;32m   1072\u001b[0m maybe_callable \u001b[38;5;241m=\u001b[39m com\u001b[38;5;241m.\u001b[39mapply_if_callable(key, \u001b[38;5;28mself\u001b[39m\u001b[38;5;241m.\u001b[39mobj)\n\u001b[1;32m-> 1073\u001b[0m \u001b[38;5;28;01mreturn\u001b[39;00m \u001b[38;5;28;43mself\u001b[39;49m\u001b[38;5;241;43m.\u001b[39;49m\u001b[43m_getitem_axis\u001b[49m\u001b[43m(\u001b[49m\u001b[43mmaybe_callable\u001b[49m\u001b[43m,\u001b[49m\u001b[43m \u001b[49m\u001b[43maxis\u001b[49m\u001b[38;5;241;43m=\u001b[39;49m\u001b[43maxis\u001b[49m\u001b[43m)\u001b[49m\n",
      "File \u001b[1;32m~\\anaconda3\\lib\\site-packages\\pandas\\core\\indexing.py:1301\u001b[0m, in \u001b[0;36m_LocIndexer._getitem_axis\u001b[1;34m(self, key, axis)\u001b[0m\n\u001b[0;32m   1298\u001b[0m     \u001b[38;5;28;01mif\u001b[39;00m \u001b[38;5;28mhasattr\u001b[39m(key, \u001b[38;5;124m\"\u001b[39m\u001b[38;5;124mndim\u001b[39m\u001b[38;5;124m\"\u001b[39m) \u001b[38;5;129;01mand\u001b[39;00m key\u001b[38;5;241m.\u001b[39mndim \u001b[38;5;241m>\u001b[39m \u001b[38;5;241m1\u001b[39m:\n\u001b[0;32m   1299\u001b[0m         \u001b[38;5;28;01mraise\u001b[39;00m \u001b[38;5;167;01mValueError\u001b[39;00m(\u001b[38;5;124m\"\u001b[39m\u001b[38;5;124mCannot index with multidimensional key\u001b[39m\u001b[38;5;124m\"\u001b[39m)\n\u001b[1;32m-> 1301\u001b[0m     \u001b[38;5;28;01mreturn\u001b[39;00m \u001b[38;5;28;43mself\u001b[39;49m\u001b[38;5;241;43m.\u001b[39;49m\u001b[43m_getitem_iterable\u001b[49m\u001b[43m(\u001b[49m\u001b[43mkey\u001b[49m\u001b[43m,\u001b[49m\u001b[43m \u001b[49m\u001b[43maxis\u001b[49m\u001b[38;5;241;43m=\u001b[39;49m\u001b[43maxis\u001b[49m\u001b[43m)\u001b[49m\n\u001b[0;32m   1303\u001b[0m \u001b[38;5;66;03m# nested tuple slicing\u001b[39;00m\n\u001b[0;32m   1304\u001b[0m \u001b[38;5;28;01mif\u001b[39;00m is_nested_tuple(key, labels):\n",
      "File \u001b[1;32m~\\anaconda3\\lib\\site-packages\\pandas\\core\\indexing.py:1239\u001b[0m, in \u001b[0;36m_LocIndexer._getitem_iterable\u001b[1;34m(self, key, axis)\u001b[0m\n\u001b[0;32m   1236\u001b[0m \u001b[38;5;28mself\u001b[39m\u001b[38;5;241m.\u001b[39m_validate_key(key, axis)\n\u001b[0;32m   1238\u001b[0m \u001b[38;5;66;03m# A collection of keys\u001b[39;00m\n\u001b[1;32m-> 1239\u001b[0m keyarr, indexer \u001b[38;5;241m=\u001b[39m \u001b[38;5;28;43mself\u001b[39;49m\u001b[38;5;241;43m.\u001b[39;49m\u001b[43m_get_listlike_indexer\u001b[49m\u001b[43m(\u001b[49m\u001b[43mkey\u001b[49m\u001b[43m,\u001b[49m\u001b[43m \u001b[49m\u001b[43maxis\u001b[49m\u001b[43m)\u001b[49m\n\u001b[0;32m   1240\u001b[0m \u001b[38;5;28;01mreturn\u001b[39;00m \u001b[38;5;28mself\u001b[39m\u001b[38;5;241m.\u001b[39mobj\u001b[38;5;241m.\u001b[39m_reindex_with_indexers(\n\u001b[0;32m   1241\u001b[0m     {axis: [keyarr, indexer]}, copy\u001b[38;5;241m=\u001b[39m\u001b[38;5;28;01mTrue\u001b[39;00m, allow_dups\u001b[38;5;241m=\u001b[39m\u001b[38;5;28;01mTrue\u001b[39;00m\n\u001b[0;32m   1242\u001b[0m )\n",
      "File \u001b[1;32m~\\anaconda3\\lib\\site-packages\\pandas\\core\\indexing.py:1432\u001b[0m, in \u001b[0;36m_LocIndexer._get_listlike_indexer\u001b[1;34m(self, key, axis)\u001b[0m\n\u001b[0;32m   1429\u001b[0m ax \u001b[38;5;241m=\u001b[39m \u001b[38;5;28mself\u001b[39m\u001b[38;5;241m.\u001b[39mobj\u001b[38;5;241m.\u001b[39m_get_axis(axis)\n\u001b[0;32m   1430\u001b[0m axis_name \u001b[38;5;241m=\u001b[39m \u001b[38;5;28mself\u001b[39m\u001b[38;5;241m.\u001b[39mobj\u001b[38;5;241m.\u001b[39m_get_axis_name(axis)\n\u001b[1;32m-> 1432\u001b[0m keyarr, indexer \u001b[38;5;241m=\u001b[39m \u001b[43max\u001b[49m\u001b[38;5;241;43m.\u001b[39;49m\u001b[43m_get_indexer_strict\u001b[49m\u001b[43m(\u001b[49m\u001b[43mkey\u001b[49m\u001b[43m,\u001b[49m\u001b[43m \u001b[49m\u001b[43maxis_name\u001b[49m\u001b[43m)\u001b[49m\n\u001b[0;32m   1434\u001b[0m \u001b[38;5;28;01mreturn\u001b[39;00m keyarr, indexer\n",
      "File \u001b[1;32m~\\anaconda3\\lib\\site-packages\\pandas\\core\\indexes\\base.py:6070\u001b[0m, in \u001b[0;36mIndex._get_indexer_strict\u001b[1;34m(self, key, axis_name)\u001b[0m\n\u001b[0;32m   6067\u001b[0m \u001b[38;5;28;01melse\u001b[39;00m:\n\u001b[0;32m   6068\u001b[0m     keyarr, indexer, new_indexer \u001b[38;5;241m=\u001b[39m \u001b[38;5;28mself\u001b[39m\u001b[38;5;241m.\u001b[39m_reindex_non_unique(keyarr)\n\u001b[1;32m-> 6070\u001b[0m \u001b[38;5;28;43mself\u001b[39;49m\u001b[38;5;241;43m.\u001b[39;49m\u001b[43m_raise_if_missing\u001b[49m\u001b[43m(\u001b[49m\u001b[43mkeyarr\u001b[49m\u001b[43m,\u001b[49m\u001b[43m \u001b[49m\u001b[43mindexer\u001b[49m\u001b[43m,\u001b[49m\u001b[43m \u001b[49m\u001b[43maxis_name\u001b[49m\u001b[43m)\u001b[49m\n\u001b[0;32m   6072\u001b[0m keyarr \u001b[38;5;241m=\u001b[39m \u001b[38;5;28mself\u001b[39m\u001b[38;5;241m.\u001b[39mtake(indexer)\n\u001b[0;32m   6073\u001b[0m \u001b[38;5;28;01mif\u001b[39;00m \u001b[38;5;28misinstance\u001b[39m(key, Index):\n\u001b[0;32m   6074\u001b[0m     \u001b[38;5;66;03m# GH 42790 - Preserve name from an Index\u001b[39;00m\n",
      "File \u001b[1;32m~\\anaconda3\\lib\\site-packages\\pandas\\core\\indexes\\base.py:6133\u001b[0m, in \u001b[0;36mIndex._raise_if_missing\u001b[1;34m(self, key, indexer, axis_name)\u001b[0m\n\u001b[0;32m   6130\u001b[0m     \u001b[38;5;28;01mraise\u001b[39;00m \u001b[38;5;167;01mKeyError\u001b[39;00m(\u001b[38;5;124mf\u001b[39m\u001b[38;5;124m\"\u001b[39m\u001b[38;5;124mNone of [\u001b[39m\u001b[38;5;132;01m{\u001b[39;00mkey\u001b[38;5;132;01m}\u001b[39;00m\u001b[38;5;124m] are in the [\u001b[39m\u001b[38;5;132;01m{\u001b[39;00maxis_name\u001b[38;5;132;01m}\u001b[39;00m\u001b[38;5;124m]\u001b[39m\u001b[38;5;124m\"\u001b[39m)\n\u001b[0;32m   6132\u001b[0m not_found \u001b[38;5;241m=\u001b[39m \u001b[38;5;28mlist\u001b[39m(ensure_index(key)[missing_mask\u001b[38;5;241m.\u001b[39mnonzero()[\u001b[38;5;241m0\u001b[39m]]\u001b[38;5;241m.\u001b[39munique())\n\u001b[1;32m-> 6133\u001b[0m \u001b[38;5;28;01mraise\u001b[39;00m \u001b[38;5;167;01mKeyError\u001b[39;00m(\u001b[38;5;124mf\u001b[39m\u001b[38;5;124m\"\u001b[39m\u001b[38;5;132;01m{\u001b[39;00mnot_found\u001b[38;5;132;01m}\u001b[39;00m\u001b[38;5;124m not in index\u001b[39m\u001b[38;5;124m\"\u001b[39m)\n",
      "\u001b[1;31mKeyError\u001b[0m: '[2752, 2757, 2758, 2763, 2769, 2770, 2771, 2772, 2773, 2777, 2783, 2787, 2792, 2793, 2796, 2801, 2802, 2807, 2815, 2816, 2817, 2818, 2820, 2825, 2829, 2830, 2836, 2839, 2843, 2845, 2846, 2849, 2850, 2857, 2858, 2861, 2862, 2864, 2866, 2867, 2868, 2869, 2870, 2873, 2876, 2877, 2882, 2884, 2886, 2887, 2892, 2899, 2902, 2903, 2909, 2912, 2914, 2917, 2926, 2927, 2934, 2936, 2938, 2940, 2944, 2948, 2950, 2952, 2954, 2955, 2957, 2959, 2960, 2961, 2962, 2963, 2964, 2968, 2970, 2972, 2974, 2976, 2978, 2979, 2984, 2986, 2989, 2990, 2991, 3002, 3005, 3006, 3010, 3013, 3014, 3015, 3023, 3028, 3031, 3033, 3034, 3035, 3038, 3044, 3054, 3055, 3059, 3060, 3067, 3068, 3072, 3075, 3076, 3078, 3081, 3086, 3087, 3097, 3099, 3100, 3102, 3105, 3107, 3108, 3115, 3122, 3123, 3124, 3128, 3131, 3133, 3134, 3135, 3136, 3140, 3142, 3143, 3144, 3147, 3151, 3154, 3159, 3164, 3165, 3168, 3170, 3172, 3176, 3177, 3178, 3179, 3182, 3187, 3189, 3194, 3202, 3205, 3207, 3209, 3212, 3214, 3217, 3219, 3220, 3221, 3224, 3228, 3233, 3236, 3237, 3239, 3242, 3245, 3246, 3247, 3255, 3258, 3261, 3267, 3269, 3278, 3281, 3283, 3284, 3289, 3290, 3298, 3300, 3304, 3305, 3306, 3309, 3310, 3311, 3316, 3317, 3321, 3322, 3323, 3327, 3328, 3331, 3332, 3335, 3336, 3339, 3341, 3342, 3344, 3346, 3347, 3351, 3359, 3360, 3361, 3363, 3368, 3369, 3371, 3372, 3377, 3379, 3386, 3389, 3391, 3396, 3397, 3401, 3403, 3407, 3409, 3410, 3413, 3418, 3421, 3422, 3426, 3428, 3430, 3431, 3434, 3436, 3438, 3439, 3443, 3444, 3449, 3455, 3461, 3469, 3470, 3478, 3485, 3486, 3487, 3498, 3499, 3504, 3508, 3515, 3516, 3518, 3522, 3526, 3532, 3534, 3536, 3539, 3542, 3544, 3547, 3553, 3555, 3559, 3560, 3561, 3566, 3569, 3570, 3572, 3578, 3587, 3588, 3591, 3595, 3596, 3597, 3600, 3602, 3604, 3606, 3611, 3618, 3620, 3624, 3627, 3630, 3631, 3634, 3636, 3638, 3639, 3640, 3646, 3651, 3654, 3657, 3664, 3665, 3670, 3676, 3677, 3678, 3679, 3680, 3681, 3684, 3689, 3690, 3695, 3697, 3700, 3701, 3703, 3707, 3708, 3710, 3711, 3713, 3715, 3717, 3720, 3725, 3726, 3727, 3733, 3734, 3737, 3738, 3740, 3741, 3742, 3743, 3745, 3746, 3747, 3756, 3759, 3761, 3765, 3772, 3773, 3774, 3775, 3777, 3783, 3784, 3788, 3789, 3794, 3795, 3799, 3801, 3804, 3805, 3806, 3807, 3808, 3809, 3815, 3820, 3828, 3829, 3832, 3836, 3837, 3838, 3839, 3841, 3843, 3845, 3847, 3848, 3849, 3855, 3858, 3862, 3866, 3870, 3872, 3874, 3875, 3878, 3883, 3884, 3886, 3896, 3900, 3901, 3902, 3903, 3909, 3910, 3911, 3912, 3921, 3922, 3923, 3925, 3927, 3931, 3935, 3941, 3946, 3947, 3952, 3954, 3955, 3960, 3967, 3969, 3970, 3977, 3978, 3979, 3980, 3981, 3982, 3984, 3987, 3988, 3989, 3990, 3991, 3994, 3997, 3999, 4001, 4004, 4006, 4008, 4010, 4013, 4014, 4015, 4019, 4020, 4021, 4023, 4024, 4031, 4036, 4039, 4041, 4044, 4048, 4052, 4053, 4061, 4064, 4065, 4066, 4073, 4077, 4078, 4086, 4089, 4090, 4093, 4095, 4096, 4098, 4100, 4108, 4110, 4118, 4119, 4123, 4131, 4144, 4145, 4150, 4151, 4155, 4158, 4159, 4167, 4171, 4172, 4173, 4179, 4181, 4183, 4187, 4188, 4190, 4193, 4195, 4196, 4199, 4200, 4206, 4208, 4209, 4210, 4214, 4219, 4221, 4227, 4228, 4231, 4232, 4233, 4234, 4239, 4242, 4244, 4249, 4250, 4255, 4261, 4262, 4264, 4267, 4271, 4274, 4276, 4277, 4281, 4283, 4286, 4289, 4296, 4304, 4305, 4306, 4307, 4308, 4309, 4310, 4313, 4315, 4325, 4326, 4327, 4331, 4332, 4340, 4341, 4344, 4347, 4348, 4351, 4353, 4356, 4365, 4370, 4372, 4374, 4375, 4379, 4381, 4382, 4383, 4384, 4391, 4393, 4400, 4401, 4405, 4407, 4413, 4414, 4418, 4419, 4422, 4427, 4429, 4434, 4435, 4438, 4440, 4441, 4443, 4451, 4458, 4459, 4461, 4462, 4463, 4464, 4465, 4473, 4475, 4478, 4482, 4484, 4487, 4490, 4497, 4503, 4507, 4516, 4517, 4518, 4521, 4522, 4524, 4525, 4526, 4529, 4534, 4537, 4539, 4540, 4544, 4545, 4546, 4547, 4549, 4550, 4551, 4554, 4555, 4556, 4560, 4561, 4566, 4573, 4576, 4577, 4578, 4579, 4583, 4584, 4585, 4591, 4592, 4593, 4594, 4597, 4599, 4601, 4602, 4608, 4609, 4610, 4614, 4623, 4624, 4625, 4628, 4629, 4631, 4632, 4633, 4636, 4638, 4648, 4653, 4656, 4664, 4666, 4667, 4669, 4675, 4677, 4678, 4682, 4686, 4689, 4690, 4692, 4694, 4702, 4704, 4707, 4708, 4709, 4715, 4716, 4718, 4722, 4725, 4727, 4729, 4731, 4732, 4738, 4741, 4743, 4745, 4746, 4747, 4752, 4753, 4755, 4756, 4765, 4766, 4769, 4770, 4771, 4776, 4777, 4786, 4790, 4791, 4792, 4793, 4794, 4799, 4800, 4806, 4815, 4816, 4818, 4822, 4825, 4830, 4831, 4832, 4833, 4834, 4836, 4842, 4843, 4848, 4849, 4854, 4855, 4858, 4865, 4866, 4867, 4869, 4874, 4877, 4881, 4882, 4883, 4886, 4887, 4891, 4892, 4893, 4894, 4896, 4898, 4900, 4901, 4907, 4909, 4910, 4919, 4920, 4922, 4924, 4927, 4928, 4931, 4932, 4933, 4935, 4936, 4937, 4938, 4941, 4942, 4945, 4947, 4959, 4968, 4973, 4975, 4981, 4982, 4984, 4986, 4990, 4999, 5004, 5007, 5009, 5015, 5024, 5028, 5029, 5033, 5035, 5039, 5045, 5051, 5052, 5055, 5062, 5063, 5066, 5070, 5073, 5074, 5075, 5079, 5081, 5086, 5091, 5092, 5094, 5098, 5103, 5106, 5111, 5114, 5116, 5119, 5123, 5128, 5136, 5137, 5141, 5142, 5143, 5147, 5149, 5153, 5154, 5155, 5156, 5157, 5161, 5162, 5171, 5173, 5175, 5179, 5184, 5187, 5189, 5192, 5193, 5194, 5196, 5198, 5200, 5203, 5204, 5205, 5207, 5214, 5218, 5220, 5223, 5224, 5225, 5227, 5230, 5236, 5241, 5246, 5251, 5253, 5255, 5260, 5261, 5262, 5269, 5270, 5271, 5273, 5274, 5275, 5280, 5283, 5288, 5290, 5293, 5295, 5298, 5302, 5304, 5305, 5313, 5315, 5317, 5318, 5320, 5322, 5332, 5339, 5346, 5348, 5352, 5354, 5357, 5359, 5361, 5372, 5373, 5377, 5378, 5379, 5381, 5383, 5384, 5385, 5386, 5389, 5390, 5392, 5393, 5395, 5396, 5397, 5398, 5399, 5402, 5408, 5409, 5415, 5419, 5422, 5423, 5425, 5428, 5431, 5432, 5440, 5442, 5447, 5449, 5450, 5454, 5455, 5456, 5457, 5461, 5464, 5476, 5477, 5481, 5488, 5489, 5495, 5504, 5510, 5511, 5512, 5514, 5517, 5525, 5528, 5529, 5530, 5532, 5533, 5535, 5538, 5543, 5546, 5551, 5552, 5553, 5558, 5559, 5561, 5562, 5568, 5571, 5576, 5579, 5582, 5584, 5589, 5591, 5594, 5602, 5603, 5610, 5613, 5614, 5618, 5622, 5624, 5628, 5638, 5642, 5645, 5646, 5647, 5652, 5653, 5655, 5675, 5680, 5683, 5684, 5685, 5686, 5687, 5688, 5689, 5690, 5691, 5692, 5695, 5696, 5698, 5703, 5705, 5706, 5707, 5710, 5712, 5714, 5718, 5723, 5724, 5725, 5727, 5728, 5734, 5735, 5737, 5741, 5742, 5749, 5750, 5751, 5756, 5768, 5771, 5773, 5775, 5777, 5781, 5791, 5792, 5801, 5805, 5808, 5812, 5816, 5817, 5818, 5819, 5820, 5821, 5823, 5837, 5845, 5850, 5851, 5860, 5861, 5862, 5863, 5866, 5867, 5874, 5876, 5877, 5892, 5895, 5899, 5900, 5901, 5905, 5906, 5908, 5911, 5913, 5920, 5922, 5929, 5931, 5944, 5945, 5947, 5949, 5951, 5952, 5954, 5955, 5958, 5960, 5961, 5962, 5963, 5968, 5972, 5976, 5977, 5978, 5986, 5987, 5988, 5989, 5993, 5994, 5999, 6001, 6002, 6003, 6004, 6005, 6008, 6009, 6010, 6014, 6017, 6021, 6022, 6023, 6027, 6028, 6030, 6035, 6036, 6042, 6043, 6044, 6046, 6048, 6052, 6058, 6059, 6065, 6067, 6068, 6070, 6074, 6075, 6077, 6078, 6080, 6084, 6095, 6097, 6100, 6102, 6105, 6111, 6112, 6116, 6119, 6122, 6125, 6132, 6133, 6134, 6135, 6140, 6143, 6146, 6147, 6148, 6152, 6154, 6155, 6159, 6164, 6165, 6167, 6170, 6172, 6176, 6179, 6183, 6184, 6185, 6187, 6191, 6192, 6194, 6195, 6196, 6197, 6198, 6200, 6209, 6210, 6211, 6212, 6215, 6217, 6218, 6220, 6222, 6223, 6225, 6227, 6228, 6230, 6233, 6236, 6242, 6249, 6251, 6254, 6256, 6257, 6259, 6266, 6267, 6268, 6270, 6271, 6274, 6290, 6292, 6294, 6296, 6297, 6298, 6304, 6310, 6316, 6320, 6321, 6322, 6324, 6326, 6327, 6328, 6329, 6330, 6338, 6343, 6350, 6351, 6358, 6361, 6365, 6370, 6373, 6374, 6375, 6377, 6378, 6385, 6387, 6392, 6396, 6397, 6399, 6401, 6405, 6411, 6412, 6414, 6415, 6423, 6424, 6426, 6430, 6442, 6444, 6447, 6448, 6449, 6453, 6458, 6460, 6461, 6464, 6465, 6468, 6481, 6486, 6488, 6493, 6496, 6498, 6499, 6504, 6506, 6508, 6510, 6511, 6513, 6515, 6517, 6523, 6524, 6525, 6526, 6537, 6538, 6539, 6546, 6553, 6555, 6564, 6565, 6566, 6570, 6572, 6573, 6581, 6582, 6584, 6585, 6589, 6591, 6595, 6596, 6600, 6601, 6603, 6607, 6608, 6611, 6616, 6618, 6619, 6637, 6644, 6645, 6646, 6652, 6662, 6663, 6664, 6665, 6672, 6674, 6680, 6682, 6683, 6685, 6692, 6695, 6696, 6700, 6701, 6704, 6705, 6712, 6716, 6718, 6720, 6721, 6723, 6724, 6727, 6729, 6733, 6736, 6738, 6739, 6747, 6751, 6755, 6764, 6771, 6779, 6783, 6785, 6793, 6795, 6796, 6799, 6807, 6811, 6812, 6815, 6817, 6818, 6819, 6822, 6824, 6827, 6828, 6830, 6831, 6834, 6835, 6836, 6837, 6838, 6839, 6844, 6845, 6848, 6849, 6853, 6855, 6859, 6865, 6869, 6872, 6873, 6874, 6881, 6887, 6888, 6893, 6900, 6903, 6908, 6909, 6911, 6913, 6915, 6917, 6924, 6926, 6929, 6930, 6932, 6938, 6942, 6943, 6945, 6947, 6948, 6949, 6952, 6956, 6959, 6960, 6962, 6964, 6970, 6972, 6977, 6979, 6991, 6993, 6994, 6997, 7002, 7003, 7014, 7017, 7021, 7024, 7027, 7033, 7036, 7040, 7041, 7042, 7044, 7045, 7046, 7049, 7052, 7053, 7057, 7060, 7065, 7070, 7073, 7076, 7077, 7085, 7087, 7088, 7092, 7095, 7096, 7097, 7100, 7101, 7117, 7118, 7121, 7127, 7128, 7131, 7133, 7135, 7137, 7138, 7142, 7143, 7144, 7145, 7149, 7150, 7152, 7154, 7159, 7161, 7162, 7164, 7169, 7178, 7184, 7187, 7188, 7192, 7193, 7196, 7198, 7210, 7215, 7216, 7217, 7218, 7220, 7227, 7231, 7232, 7234, 7235, 7236, 7243, 7244, 7248, 7256, 7264, 7267, 7268, 7271, 7274, 7278, 7288, 7289, 7291, 7292, 7293, 7300, 7301, 7302, 7304, 7311, 7315, 7318, 7319, 7325, 7328, 7332, 7334, 7336, 7337, 7339, 7340, 7342, 7344, 7345, 7347, 7348, 7350, 7359, 7360, 7364, 7369, 7370, 7372, 7373, 7374, 7376, 7377, 7381, 7384, 7385, 7386, 7387, 7389, 7397, 7404, 7408, 7410, 7411, 7412, 7414, 7418, 7421, 7423, 7428, 7434, 7436, 7437, 7439, 7440, 7442, 7445, 7449, 7453, 7454, 7457, 7460, 7461, 7462, 7463, 7466, 7467, 7468, 7469, 7470, 7471, 7476, 7484, 7486, 7494, 7498, 7500, 7501, 7508, 7511, 7512, 7513, 7514, 7524, 7527, 7529, 7530, 7532, 7536, 7544, 7556, 7558, 7560, 7561, 7564, 7570, 7574, 7576, 7577, 7578, 7581, 7589, 7593, 7595, 7597, 7600, 7604, 7605, 7609, 7611, 7614, 7623, 7627, 7628, 7633, 7634, 7636, 7650, 7651, 7653, 7662, 7665, 7666, 7671, 7677, 7678, 7682, 7685, 7688, 7689, 7691, 7695, 7696, 7704, 7708, 7712, 7714, 7716, 7717, 7727, 7731, 7737, 7740, 7741, 7742, 7744, 7746, 7747, 7751, 7754, 7758, 7761, 7771, 7772, 7777, 7778, 7785, 7786, 7788, 7791, 7798, 7799, 7800, 7806, 7808, 7810, 7812, 7815, 7819, 7821, 7825, 7828, 7832, 7834, 7835, 7845, 7848, 7849, 7850, 7852, 7853, 7854, 7855, 7856, 7857, 7860, 7864, 7865, 7868, 7875, 7876, 7877, 7878, 7879, 7880, 7889, 7890, 7900, 7901, 7905, 7907, 7908, 7909, 7913, 7919, 7921, 7922, 7923, 7924, 7925, 7930, 7932, 7936, 7938, 7939, 7942, 7945, 7949, 7956, 7959, 7962, 7967, 7968, 7971, 7972, 7974, 7977, 7982, 7983, 7984, 7985, 7989, 7990, 7992, 7993, 7997, 7998, 8002, 8006, 8007, 8010, 8017, 8018, 8020, 8021, 8025, 8026, 8028, 8033, 8034, 8036, 8037, 8038, 8044, 8045, 8052, 8056, 8060, 8062, 8064, 8065, 8066, 8068, 8069, 8071, 8073, 8074, 8077, 8079, 8080, 8090, 8091, 8100, 8101, 8105, 8112, 8113, 8115, 8118, 8120, 8122, 8123, 8129, 8132, 8134, 8137, 8138, 8149, 8160, 8163, 8164, 8167, 8171, 8173, 8175, 8182, 8187, 8189, 8196, 8200, 8204, 8209, 8212, 8218, 8223, 8227, 8242, 8248, 8249, 8250, 8251, 8256, 8257, 8258, 8263, 8264, 8265, 8269, 8270, 8271, 8272, 8279, 8281, 8286, 8287, 8291, 8294, 8298, 8302, 8304, 8306, 8314, 8315, 8316, 8321, 8323, 8324, 8328, 8331, 8332, 8334, 8336, 8337, 8339, 8341, 8344, 8347, 8349, 8354, 8356, 8357, 8358, 8359, 8361, 8363, 8365, 8367, 8368, 8373, 8382, 8385, 8386, 8388, 8389, 8393, 8405, 8408, 8410, 8415, 8416, 8418, 8425, 8429, 8430, 8434, 8435, 8436, 8437, 8438, 8439, 8442, 8444, 8448, 8450, 8454, 8456, 8457, 8458, 8461, 8466, 8474, 8477, 8478, 8479, 8481, 8483, 8484, 8485, 8486, 8490, 8491, 8495, 8497, 8498, 8502, 8503, 8509, 8511, 8514, 8516, 8517, 8519, 8520, 8521, 8529, 8533, 8535, 8537, 8542, 8546, 8548, 8549, 8552, 8555, 8563, 8564, 8574, 8577, 8578, 8579, 8584, 8585, 8588, 8597, 8598, 8605, 8607, 8609, 8610, 8613, 8616, 8617, 8621, 8622, 8625, 8626, 8627, 8628, 8630, 8633, 8638, 8641, 8645, 8647, 8649, 8652, 8655, 8656, 8659, 8660, 8665, 8668, 8674, 8676, 8679, 8683, 8686, 8691, 8696, 8698, 8700, 8701, 8702, 8705, 8706, 8708, 8711, 8712, 8714, 8720, 8724, 8728, 8730, 8733, 8734, 8739, 8744, 8748, 8750, 8753, 8763, 8765, 8766, 8771, 8773, 8775, 8785, 8791, 8792, 8794, 8795, 8796, 8798, 8799, 8801, 8805, 8807, 8808, 8809, 8811, 8812, 8821, 8829, 8830, 8833, 8836, 8840, 8842, 8847, 8849, 8850, 8853, 8854, 8855, 8856, 8862, 8863, 8868, 8870, 8873, 8874, 8877, 8878, 8881, 8884, 8888, 8889, 8890, 8895, 8897, 8899, 8902, 8904, 8905, 8906, 8910, 8911, 8913, 8914, 8917, 8921, 8926, 8928, 8929, 8932, 8938, 8939, 8940, 8942, 8948, 8949, 8950, 8953, 8957, 8958, 8959, 8965, 8973, 8984, 8986, 8991, 8992, 8993, 8994, 8997, 9001, 9004, 9006, 9007, 9008, 9009, 9010, 9012, 9017, 9018, 9020, 9022, 9024, 9032, 9033, 9034, 9036, 9038, 9045, 9047, 9048, 9051, 9052, 9057, 9058, 9069, 9072, 9074, 9084, 9085, 9091, 9092, 9101, 9102, 9103, 9104, 9109, 9111, 9112, 9113, 9115, 9117, 9118, 9119, 9124, 9125, 9131, 9136, 9139, 9142, 9145, 9151, 9154, 9155, 9157, 9162, 9163, 9166, 9170, 9173, 9183, 9187, 9188, 9189, 9195, 9196, 9199, 9204, 9206, 9207, 9213, 9216, 9217, 9221, 9223, 9230, 9236, 9237, 9238, 9239, 9241, 9244, 9247, 9250, 9256, 9257, 9259, 9264, 9267, 9274, 9276, 9279, 9285, 9286, 9294, 9295, 9298, 9302, 9310, 9311, 9322, 9324, 9326, 9329, 9330, 9331, 9336, 9346, 9348, 9349, 9350, 9356, 9357, 9358, 9362, 9372, 9373, 9376, 9380, 9381, 9385, 9388, 9389, 9395, 9402, 9403, 9407, 9408, 9409, 9410, 9411, 9417, 9420, 9421, 9423, 9430, 9432, 9433, 9440, 9446, 9448, 9453, 9457, 9458, 9462, 9469, 9471, 9474, 9479, 9481, 9482, 9484, 9485, 9486, 9488, 9489, 9490, 9494, 9497, 9498, 9500, 9502, 9504, 9507, 9508, 9509, 9518, 9520, 9524, 9525, 9533, 9534, 9539, 9540, 9541, 9542, 9549, 9556, 9558, 9561, 9562, 9563, 9569, 9571, 9572, 9576, 9582, 9586, 9588, 9591, 9600, 9603, 9605, 9610, 9612, 9615, 9619, 9626, 9628, 9631, 9633, 9634, 9639, 9641, 9642, 9645, 9650, 9653, 9654, 9655, 9661, 9666, 9667, 9672, 9677, 9680, 9685, 9690, 9691, 9694, 9699, 9703, 9709, 9712, 9713, 9715, 9721, 9724, 9728, 9732, 9734, 9735, 9736, 9741, 9743, 9744, 9748, 9749, 9750, 9755, 9756, 9762, 9764, 9765, 9766, 9767, 9769, 9772, 9775, 9781, 9785, 9790, 9794, 9799, 9801, 9802, 9806, 9808, 9812, 9815, 9823, 9824, 9830, 9831, 9832, 9835, 9839, 9840, 9844, 9846, 9850, 9852, 9854, 9859, 9860, 9862, 9865, 9866, 9867, 9871, 9872, 9873, 9878, 9880, 9885, 9890, 9892, 9893, 9894, 9895, 9896, 9899, 9901, 9902, 9905, 9908, 9911, 9913, 9914, 9915, 9921, 9922, 9925, 9931, 9932, 9933, 9937, 9940, 9942, 9945, 9946, 9947, 9952, 9953, 9954, 9956, 9960, 9961, 9962, 9971, 9977, 9978, 9980, 9984, 9985, 9988, 9989, 9993, 10002, 10003, 10006, 10009, 10011, 10013, 10014, 10024, 10025, 10027, 10029, 10035, 10038, 10039, 10043, 10048, 10050, 10051, 10052, 10053, 10057, 10060, 10061, 10063, 10064, 10066, 10067, 10068, 10070, 10073, 10075, 10076, 10079, 10080, 10082, 10086, 10090, 10091, 10092, 10093, 10096, 10102, 10104, 10106, 10110, 10113, 10117, 10119, 10123, 10128, 10129, 10130, 10132, 10146, 10147, 10159, 10160, 10161, 10169, 10171, 10174, 10177, 10181, 10183, 10184, 10185, 10186, 10191, 10194, 10195, 10197, 10198, 10199, 10200, 10202, 10205, 10213, 10214, 10215, 10216, 10218, 10219, 10223, 10225, 10235, 10236, 10242, 10245, 10246, 10251, 10256, 10257, 10259, 10262, 10263, 10268, 10271, 10273, 10275, 10278, 10280, 10287, 10294, 10295, 10299, 10301, 10302, 10307, 10308, 10309, 10324, 10328, 10332, 10333, 10334, 10340, 10341, 10343, 10344, 10345, 10349, 10352, 10355, 10358, 10364, 10367, 10373, 10374, 10380, 10381, 10382, 10385, 10388, 10393, 10394, 10395, 10399, 10403, 10405, 10413, 10417, 10418, 10419, 10420, 10424, 10429, 10431, 10433, 10434, 10437, 10438, 10443, 10449, 10450, 10456, 10467, 10468, 10470, 10471, 10475, 10476, 10479, 10481, 10483, 10484, 10485, 10491, 10492, 10500, 10501, 10508, 10509, 10517, 10520, 10524, 10526, 10527, 10530, 10532, 10533, 10540, 10544, 10545, 10546, 10551, 10555, 10561, 10562, 10563, 10567, 10569, 10572, 10578, 10579, 10582, 10591, 10593, 10595, 10603, 10612, 10615, 10617, 10619, 10628, 10629, 10634, 10640, 10642, 10647, 10650, 10651, 10652, 10656, 10662, 10666, 10667, 10669, 10670, 10673, 10676, 10678, 10680, 10693, 10701, 10702, 10706, 10708, 10709, 10712, 10715, 10717, 10724, 10725, 10726, 10728, 10730, 10731, 10732, 10736, 10738, 10740, 10742, 10743, 10749, 10751, 10752, 10753, 10754, 10756, 10758, 10759, 10761, 10764, 10773, 10774, 10775, 10779, 10782, 10783, 10785, 10786, 10788, 10791, 10793, 10794, 10795, 10800, 10803, 10804, 10811, 10814, 10821, 10825, 10828, 10831, 10832, 10835, 10839, 10842, 10845, 10848, 10852, 10856, 10864, 10870, 10871, 10872, 10873, 10877, 10878, 10880, 10884, 10888, 10890, 10892, 10895, 10897, 10898, 10900, 10901, 10904, 10906, 10907, 10908, 10910, 10914, 10916, 10917, 10918, 10919, 10921, 10922, 10924, 10925, 10928, 10934, 10937, 10938, 10939, 10945, 10951, 10952, 10959, 10962, 10964, 10968, 10969, 10970, 10973, 10976, 10979, 10980, 10984, 10989, 10991, 10992, 11003, 11009, 11010, 11011, 11014, 11017, 11020, 11023, 11024, 11025, 11030, 11032, 11033, 11039, 11040, 11042, 11043, 11049, 11053, 11057, 11058, 11062, 11064, 11069, 11071, 11073, 11076, 11077, 11079, 11080, 11081, 11085, 11087, 11089, 11092, 11107, 11108, 11111, 11114, 11115, 11119, 11123, 11124, 11125, 11126, 11127, 11129, 11130, 11132, 11133, 11135, 11136, 11138, 11139, 11143, 11147, 11148, 11152, 11160, 11161, 11163, 11171, 11185, 11187, 11191, 11192, 11193, 11195, 11198, 11202, 11205, 11206, 11207, 11210, 11215, 11218, 11224, 11226, 11227, 11229, 11231, 11236, 11246, 11249, 11250, 11252, 11257, 11261, 11266, 11271, 11274, 11275, 11276, 11277, 11279, 11283, 11289, 11294, 11297, 11299, 11303, 11309, 11312, 11314, 11323, 11327, 11329, 11333, 11337, 11338, 11349, 11350, 11353, 11355, 11357, 11359, 11360, 11366, 11369, 11378, 11379, 11382, 11389, 11390, 11397, 11402, 11404, 11407, 11408, 11409, 11411, 11414, 11425, 11427, 11428, 11429, 11432, 11440, 11442, 11444, 11449, 11452, 11453, 11458, 11459, 11460, 11467, 11476, 11479, 11480, 11483, 11484, 11485, 11487, 11488, 11490, 11497, 11502, 11503, 11504, 11507, 11508, 11510, 11514, 11515, 11521, 11524, 11525, 11528, 11534, 11536, 11539, 11543, 11544, 11551, 11553, 11555, 11559, 11560, 11562, 11569, 11570, 11575, 11576, 11578, 11580, 11581, 11585, 11587, 11588, 11589, 11590, 11592, 11594, 11595, 11596, 11599, 11602, 11603, 11605, 11612, 11614, 11616, 11618, 11619, 11620, 11621, 11625, 11627, 11630, 11631, 11634, 11635, 11636, 11640, 11642, 11646, 11650, 11653, 11661, 11662, 11664, 11670, 11671, 11672, 11678, 11680, 11686, 11688, 11691, 11692, 11695, 11717, 11719, 11721, 11726, 11728, 11734, 11735, 11736, 11740, 11744, 11747, 11752, 11754, 11757, 11758, 11759, 11761, 11763, 11765, 11770, 11771, 11782, 11786, 11789, 11791, 11804, 11808, 11812, 11815, 11816, 11817, 11818, 11821, 11825, 11829, 11833, 11836, 11840, 11841, 11842, 11845, 11846, 11853, 11858, 11862, 11866, 11867, 11868, 11869, 11870, 11875, 11876, 11880, 11881, 11882, 11884, 11886, 11890, 11897, 11901, 11902, 11903, 11905, 11908, 11912, 11914, 11918, 11920, 11921, 11926, 11929, 11930, 11932, 11934, 11939, 11941, 11945, 11948, 11950, 11954, 11955, 11959, 11960, 11961, 11963, 11965, 11966, 11973, 11974, 11975, 11976, 11978, 11983, 11992, 11993, 11994, 11995, 12002, 12004, 12005, 12011, 12013, 12016, 12017, 12019, 12024, 12029, 12032, 12035, 12039, 12049, 12052, 12059, 12061, 12062, 12066, 12067, 12075, 12083, 12084, 12086, 12091, 12092, 12093, 12098, 12099, 12102, 12103, 12105, 12106, 12112, 12113, 12115, 12117, 12121, 12122, 12125, 12126, 12127, 12129, 12133, 12139, 12147, 12156, 12158, 12164, 12168, 12172, 12173, 12174, 12176, 12177, 12179, 12190, 12197, 12203, 12204, 12208, 12212, 12215, 12218, 12219, 12224, 12229, 12234, 12237, 12241, 12243, 12244, 12248, 12249, 12251, 12257, 12259, 12266, 12279, 12280, 12287, 12289, 12290, 12298, 12304, 12305, 12308, 12310, 12315, 12317, 12318, 12320, 12326, 12328, 12329, 12331, 12332, 12333, 12336, 12339, 12342, 12344, 12345, 12346, 12347, 12350, 12354, 12359, 12360, 12363, 12364, 12365, 12368, 12376, 12381, 12382, 12383, 12385, 12395, 12396, 12398, 12399, 12400, 12405, 12410, 12415, 12416, 12421, 12426, 12428, 12429, 12431, 12432, 12433, 12434, 12439, 12441, 12453, 12459, 12460, 12461, 12463, 12464, 12465, 12467, 12469, 12470, 12473, 12474, 12475, 12476, 12478, 12479, 12480, 12482, 12489, 12491, 12497, 12498, 12503, 12505, 12509, 12512, 12513, 12523, 12524, 12526, 12530, 12531, 12534, 12535, 12536, 12537, 12540, 12542, 12546, 12548, 12549, 12552, 12553, 12555, 12557, 12563, 12567, 12569, 12576, 12582, 12583, 12585, 12591, 12592, 12593, 12597, 12598, 12605, 12606, 12611, 12615, 12616, 12618, 12622, 12625, 12632, 12633, 12636, 12637, 12641, 12645, 12649, 12651, 12652, 12657, 12658, 12661, 12662, 12664, 12665, 12669, 12670, 12671, 12675, 12680, 12682, 12685, 12687, 12689, 12694, 12696, 12697, 12698, 12702, 12715, 12718, 12720, 12722, 12726, 12728, 12729, 12730, 12731, 12733, 12735, 12739, 12745, 12747, 12748, 12749, 12763, 12771, 12772, 12773, 12778, 12790, 12791, 12794, 12795, 12796, 12797, 12801, 12806, 12817, 12818, 12819, 12822, 12824, 12838, 12840, 12845, 12849, 12851, 12853, 12856, 12861, 12864, 12866, 12867, 12870, 12872, 12873, 12874, 12886, 12887, 12888, 12889, 12893, 12894, 12895, 12898, 12901, 12905, 12906, 12909, 12912, 12923, 12924, 12926, 12929, 12933, 12938, 12942, 12943, 12946, 12951, 12952, 12955, 12956, 12958, 12961, 12963, 12964, 12966, 12967, 12968, 12969, 12970, 12972, 12975, 12978, 12979, 12982, 12983, 12984, 12985, 12987, 12988, 12989, 12991, 12992, 12994, 12996, 13001, 13002, 13003, 13004, 13006, 13012, 13015, 13017, 13018, 13019, 13020, 13021, 13022, 13031, 13032, 13033, 13035, 13037, 13040, 13041, 13044, 13045, 13046, 13048, 13051, 13052, 13056, 13060, 13065, 13073, 13075, 13084, 13085, 13087, 13088, 13101, 13109, 13111, 13113, 13115, 13119, 13120, 13124, 13125, 13129, 13132, 13134, 13142, 13147, 13150, 13151, 13153, 13158, 13160, 13161, 13166, 13172, 13175, 13177, 13181, 13183, 13184, 13186, 13187, 13189, 13194, 13195, 13196, 13199, 13201, 13202, 13203, 13207, 13209, 13216, 13217, 13218, 13220, 13225, 13226, 13227, 13233, 13234, 13241, 13246, 13247, 13249, 13250, 13252, 13258, 13260, 13261, 13262, 13263, 13268, 13270, 13276, 13278, 13282, 13286, 13288, 13295, 13300, 13302, 13305, 13308, 13309, 13315, 13316, 13322, 13324, 13326, 13328, 13337, 13338, 13339, 13340, 13342, 13351, 13353, 13365, 13366, 13367, 13371, 13375, 13376, 13377, 13378, 13382, 13388, 13389, 13391, 13394, 13395, 13399, 13400, 13401, 13403, 13407, 13409, 13419, 13420, 13423, 13425, 13432, 13434, 13435, 13441, 13447, 13448, 13451, 13452, 13455, 13456, 13457, 13461, 13463, 13464, 13472, 13473, 13478, 13480, 13481, 13489, 13493, 13498, 13499, 13501, 13506, 13507, 13512, 13513, 13514, 13516, 13521, 13523, 13528, 13531, 13533, 13537, 13538, 13540, 13552, 13558, 13560, 13561, 13562, 13563, 13564, 13570, 13576, 13577, 13583, 13584, 13587, 13591, 13592, 13595, 13596, 13600, 13603, 13605, 13606, 13607, 13611, 13613, 13618, 13621, 13628, 13631, 13642, 13655, 13656, 13657, 13662, 13663, 13665, 13666, 13670, 13675, 13676, 13677, 13678, 13680, 13681, 13683, 13685, 13689, 13690, 13693, 13694, 13697, 13701, 13705, 13707, 13711, 13714, 13718, 13720, 13727, 13729, 13731, 13732, 13733, 13735, 13740, 13742, 13743, 13744, 13745, 13748, 13749, 13750, 13752, 13753, 13754, 13755] not in index'"
     ]
    }
   ],
   "source": [
    "# SPLIT INTO DEVELOPMENT (2/3) AND TEST DATA (1/3)\n",
    "X_dev, X_test, y_dev, y_test = train_test_split(X, y, test_size=1/3)\n",
    "    \n",
    "# SPLIT THE DEVELOPMENT DATA INTO TRAIN (1/2) AND VALIDATION (1/2)\n",
    "X_train, X_val, y_train, y_val = train_test_split(X_dev, y_dev, test_size=1/2)\n",
    "\n",
    "lambdas =  np.logspace(-4, 4, 12)\n",
    "\n",
    "kfolds = KFold(n_splits=5)\n",
    "folds = list(kfolds.split(X_dev, y_dev)) # The folds data is a list, where every item on the list is the X and y development sets from the folds, 1st, 2nd, 3rd and so on.  \n",
    "\n",
    "print(folds[0])  \n",
    "\n",
    "# Outer loop: lambdas\n",
    "mseCV = []\n",
    "for lambda_ in lambdas:\n",
    "    \n",
    "    # Inner loop: folds\n",
    "    mseCV_ = []\n",
    "    for train_idx, val_idx in folds:\n",
    "        pipe = make_pipeline(PolynomialFeatures(degree = 3, include_bias = False), \n",
    "                         StandardScaler(),\n",
    "                         Lasso(alpha = lambda_)) #need to specify in correct order\n",
    "        \n",
    "        X_train, y_train = X_dev.loc[train_idx], y_dev.loc[train_idx] # The for loop lets us pick the first, second, etc., folds in the list. Thus every loop runs through each folds. \n",
    "        X_val, y_val = X_dev.loc[val_idx], y_dev.loc[val_idx] # The for loop lets us pick the first, second, etc., folds in the list. Thus every loop runs through each folds.\n",
    "        \n",
    "        pipe.fit(X_train, y_train)\n",
    "        mseCV_.append(mse(pipe.predict(X_val), y_val))\n",
    "    \n",
    "    # Store result    \n",
    "    mseCV.append(mseCV_)\n",
    "\n",
    "\n",
    "#X.iloc[:,1]"
   ]
  },
  {
   "cell_type": "code",
   "execution_count": null,
   "metadata": {
    "deletable": false,
    "nbgrader": {
     "cell_type": "code",
     "checksum": "c46e1dc9b059e940eb191451d3538957",
     "grade": false,
     "grade_id": "cell-2d18991cf35410c2",
     "locked": false,
     "schema_version": 3,
     "solution": true,
     "task": false
    }
   },
   "outputs": [],
   "source": [
    "# YOUR CODE HERE\n",
    "raise NotImplementedError()"
   ]
  },
  {
   "cell_type": "markdown",
   "metadata": {},
   "source": [
    "## Tools for model selection\n",
    "\n",
    "Below we review three useful tools for performing model selection. The first tool, the learning curve, can be used to assess whether there is over- and underfitting."
   ]
  },
  {
   "cell_type": "code",
   "execution_count": 4,
   "metadata": {},
   "outputs": [
    {
     "data": {
      "text/html": [
       "\n",
       "        <iframe\n",
       "            width=\"640\"\n",
       "            height=\"360\"\n",
       "            src=\"https://www.youtube.com/embed/BMR6O9NaYdc\"\n",
       "            frameborder=\"0\"\n",
       "            allowfullscreen\n",
       "            \n",
       "        ></iframe>\n",
       "        "
      ],
      "text/plain": [
       "<IPython.lib.display.YouTubeVideo at 0x1bf2c91da60>"
      ]
     },
     "execution_count": 4,
     "metadata": {},
     "output_type": "execute_result"
    }
   ],
   "source": [
    "YouTubeVideo('BMR6O9NaYdc', width=640, height=360)"
   ]
  },
  {
   "cell_type": "markdown",
   "metadata": {},
   "source": [
    "The next tool, the validation curve, helps to make perform automated model selection and to visualize the process of model selection."
   ]
  },
  {
   "cell_type": "code",
   "execution_count": null,
   "metadata": {},
   "outputs": [],
   "source": [
    "YouTubeVideo('c9NkJC7EzPg', width=640, height=360)"
   ]
  },
  {
   "cell_type": "markdown",
   "metadata": {},
   "source": [
    "When we have more than one hyperparameter, we need to find the combination of optimal hyperparameters. In the video below we see how to do that for *elastic net*, which has both L1 and L2 regularization."
   ]
  },
  {
   "cell_type": "code",
   "execution_count": null,
   "metadata": {},
   "outputs": [],
   "source": [
    "YouTubeVideo('AjEpa24mFGw', width=640, height=360)"
   ]
  },
  {
   "cell_type": "markdown",
   "metadata": {},
   "source": [
    "> **Ex. 12.2.4:** __Automated Cross Validation in one dimension__  \n",
    "Now we want to repeat exercise 12.2.3 in a more automated fashion. \n",
    "When you are doing cross validation with one hyperparameter, you can automate the process by using `validation_curve` from `sklearn.model_selection`. Use this function to search through the values of lambdas, and find the value of lambda, which give the lowest test error.  \n",
    ">\n",
    "> Check if you got the same output for the manual implementation (Ex. 12.2.3) and the automated implementation (Ex. 12.2.4) \n",
    ">\n",
    "> BONUS: Plot the average MSE-test and MSE-train against the different values of lambda. (*Hint*: Use logarithmic axes, and lambda as index)"
   ]
  },
  {
   "cell_type": "code",
   "execution_count": null,
   "metadata": {
    "deletable": false,
    "nbgrader": {
     "cell_type": "code",
     "checksum": "609c9fdda72359dd5195b9620df03315",
     "grade": false,
     "grade_id": "cell-e0de0809041fc3c4",
     "locked": false,
     "schema_version": 3,
     "solution": true,
     "task": false
    }
   },
   "outputs": [],
   "source": [
    "# YOUR CODE HERE\n",
    "raise NotImplementedError()"
   ]
  },
  {
   "cell_type": "markdown",
   "metadata": {},
   "source": [
    "When you have *more than one* hyperparameter, you will want to fit the model to all the possible combinations of hyperparameters. This is done in an approch called `Grid Search`, which is implementet in `sklearn.model_selection` as `GridSearchCV`\n",
    "\n",
    "> **Ex. 12.2.5:** To get to know `Grid Search`, we want to implement it in one dimension. Using `GridSearchCV`, implement the Lasso, with the same lambdas as before (`lambdas =  np.logspace(-4, 4, 12)`), 10-fold CV and (negative) mean squared error as the scoring variable. Which value of Lambda gives the lowest test error? "
   ]
  },
  {
   "cell_type": "code",
   "execution_count": null,
   "metadata": {
    "deletable": false,
    "nbgrader": {
     "cell_type": "code",
     "checksum": "713b145793dd707d22099feae8543fe7",
     "grade": false,
     "grade_id": "cell-6c3aad24ac0d4f7e",
     "locked": false,
     "schema_version": 3,
     "solution": true,
     "task": false
    }
   },
   "outputs": [],
   "source": [
    "# YOUR CODE HERE\n",
    "raise NotImplementedError()"
   ]
  },
  {
   "cell_type": "markdown",
   "metadata": {},
   "source": [
    "> **Ex. 12.1.6 BONUS** Now set `lambdas =  np.logspace(-4, 4, 100)`, and repeat the previous now with RandomizedSearchCV with `n_iter=12`."
   ]
  },
  {
   "cell_type": "code",
   "execution_count": null,
   "metadata": {
    "deletable": false,
    "nbgrader": {
     "cell_type": "code",
     "checksum": "fb7f7f0d0c310b7ef2eb4c682e975a07",
     "grade": false,
     "grade_id": "cell-4fd89f0b3462a65d",
     "locked": false,
     "schema_version": 3,
     "solution": true,
     "task": false
    }
   },
   "outputs": [],
   "source": [
    "ffrom sklearn.model_selection import RandomizedSearchCV\n",
    "\n",
    "# YOUR CODE HERE\n",
    "raise NotImplementedError()"
   ]
  }
 ],
 "metadata": {
  "celltoolbar": "Edit Metadata",
  "kernelspec": {
   "display_name": "Python 3 (ipykernel)",
   "language": "python",
   "name": "python3"
  },
  "language_info": {
   "codemirror_mode": {
    "name": "ipython",
    "version": 3
   },
   "file_extension": ".py",
   "mimetype": "text/x-python",
   "name": "python",
   "nbconvert_exporter": "python",
   "pygments_lexer": "ipython3",
   "version": "3.10.9"
  },
  "nav_menu": {},
  "toc": {
   "navigate_menu": true,
   "number_sections": false,
   "sideBar": true,
   "threshold": 6,
   "toc_cell": false,
   "toc_section_display": "block",
   "toc_window_display": true
  }
 },
 "nbformat": 4,
 "nbformat_minor": 4
}
