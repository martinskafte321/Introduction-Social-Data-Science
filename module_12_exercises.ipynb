{
 "cells": [
  {
   "cell_type": "markdown",
   "metadata": {
    "ExecuteTime": {
     "end_time": "2017-08-23T15:30:03.634114Z",
     "start_time": "2017-08-23T15:30:03.629294Z"
    }
   },
   "source": [
    "# Videos and Exercises for Session 12: Model Selection and Cross-Validation\n",
    "\n",
    "In this combined teaching module and exercise set, we will investigate how to optimize the choice of hyperparameters using model validation and cross validation. As an aside, we will see how to build machine learning models using a formalized pipeline from preprocessed (i.e. tidy) data to a model.\n",
    "\n",
    "The structure of this notebook is as follows:\n",
    "1. Model Building with Pipelines\n",
    "2. Model Selection and Validation\n",
    "    - Simple Validation\n",
    "    - Cross Validation\n",
    "    - Tools for Model Selection"
   ]
  },
  {
   "cell_type": "markdown",
   "metadata": {},
   "source": [
    "## Packages\n",
    "First, we need to import our standard stuff. Notice that (similar to last session), we are not interested in seeing the convergence warning in scikit-learn, so we suppress them for now."
   ]
  },
  {
   "cell_type": "code",
   "execution_count": 1,
   "metadata": {},
   "outputs": [],
   "source": [
    "import warnings\n",
    "from sklearn.exceptions import ConvergenceWarning\n",
    "warnings.filterwarnings(action='ignore', category=ConvergenceWarning)\n",
    "\n",
    "import matplotlib.pyplot as plt\n",
    "import numpy as np \n",
    "import pandas as pd \n",
    "import seaborn as sns"
   ]
  },
  {
   "cell_type": "markdown",
   "metadata": {},
   "source": [
    "# Part 1: Model Building with Pipelines\n",
    "\n",
    "A powerful tool for making and applying models are pipelines, which allows to combine different preprocessing and model procedures into one. This has many advantages, mainly being more safe but also has the added side effect being more code-efficient."
   ]
  },
  {
   "cell_type": "code",
   "execution_count": 2,
   "metadata": {},
   "outputs": [
    {
     "data": {
      "image/jpeg": "[encoded data removed]",
      "text/html": [
       "\n",
       "        <iframe\n",
       "            width=\"640\"\n",
       "            height=\"360\"\n",
       "            src=\"https://www.youtube.com/embed/e_98Co2xRuQ\"\n",
       "            frameborder=\"0\"\n",
       "            allowfullscreen\n",
       "            \n",
       "        ></iframe>\n",
       "        "
      ],
      "text/plain": [
       "<IPython.lib.display.YouTubeVideo at 0x2753245cdc0>"
      ]
     },
     "execution_count": 2,
     "metadata": {},
     "output_type": "execute_result"
    }
   ],
   "source": [
    "from IPython.display import YouTubeVideo\n",
    "YouTubeVideo('e_98Co2xRuQ', width=640, height=360)"
   ]
  },
  {
   "cell_type": "markdown",
   "metadata": {},
   "source": [
    "\n",
    "First, load the housing dataset from Ex. 11.2.0 using the code below. "
   ]
  },
  {
   "cell_type": "code",
   "execution_count": 2,
   "metadata": {},
   "outputs": [],
   "source": [
    "from sklearn.datasets import fetch_california_housing\n",
    "from sklearn.model_selection import train_test_split\n",
    "from sklearn.pipeline import make_pipeline\n",
    "from sklearn.preprocessing import PolynomialFeatures, StandardScaler\n",
    "from sklearn.linear_model import Lasso, LinearRegression\n",
    "from sklearn.metrics import mean_squared_error as mse\n",
    "from sklearn.model_selection import KFold, validation_curve, learning_curve, GridSearchCV\n",
    "\n",
    "cal_house = fetch_california_housing()    \n",
    "\n",
    "X = pd.DataFrame(data=cal_house['data'], \n",
    "                 columns=cal_house['feature_names'])\\\n",
    "             .iloc[:,:-2]\n",
    "y = cal_house['target']"
   ]
  },
  {
   "cell_type": "markdown",
   "metadata": {},
   "source": [
    "> **Ex. 12.1.1:** Construct a model building pipeline which: \n",
    "> 1. adds polynomial features of degree 3 without bias;\n",
    "> 2. scales the features to mean zero and unit std. \n",
    "\n",
    "> *Hint:* a modelling pipeline can be constructed with `make_pipeline` from `sklearn.pipeline`."
   ]
  },
  {
   "cell_type": "code",
   "execution_count": 9,
   "metadata": {
    "deletable": false,
    "nbgrader": {
     "cell_type": "code",
     "checksum": "d1a68e769aaf9219bd7632517a9ad8c5",
     "grade": false,
     "grade_id": "cell-a993cef564dd7353",
     "locked": false,
     "schema_version": 3,
     "solution": true,
     "task": false
    }
   },
   "outputs": [],
   "source": [
    "# YOUR CODE HERE\n",
    "\n",
    "# Define the pipeline\n",
    "pipe = make_pipeline(PolynomialFeatures(degree = 3), \n",
    "                             StandardScaler()) #need to specify in correct order\n"
   ]
  },
  {
   "cell_type": "markdown",
   "metadata": {},
   "source": [
    "# Part 2: Model Selection and Validation\n",
    "\n",
    "\n",
    "## Simple Validation\n",
    "In machine learning, we have two types of parameters: those that are learned from\n",
    "the training data, for example, the weights in logistic regression, and the parameters\n",
    "of a learning algorithm that are optimized separately. The latter are the tuning\n",
    "parameters, also called *hyperparameters*, of a model. These could for example be the regularization\n",
    "parameter in logistic regression or the depth parameter of a decision tree.\n",
    "\n",
    "Below, we investigate how we can choose optimal hyperparameters."
   ]
  },
  {
   "cell_type": "code",
   "execution_count": 10,
   "metadata": {},
   "outputs": [
    {
     "data": {
      "image/jpeg": "[encoded data removed]",
      "text/html": [
       "\n",
       "        <iframe\n",
       "            width=\"640\"\n",
       "            height=\"360\"\n",
       "            src=\"https://www.youtube.com/embed/jSPGLkxJ0cQ\"\n",
       "            frameborder=\"0\"\n",
       "            allowfullscreen\n",
       "            \n",
       "        ></iframe>\n",
       "        "
      ],
      "text/plain": [
       "<IPython.lib.display.YouTubeVideo at 0x275325d4ca0>"
      ]
     },
     "execution_count": 10,
     "metadata": {},
     "output_type": "execute_result"
    }
   ],
   "source": [
    "YouTubeVideo('jSPGLkxJ0cQ', width=640, height=360)"
   ]
  },
  {
   "cell_type": "markdown",
   "metadata": {},
   "source": [
    "In what follows, we will regard the \"train\" (aka. development, non-test) data for two purposes. \n",
    "- First we are interested in getting a credible measure of models under different hyperparameters to perform a model selection. \n",
    "- Then - with the selected model - we estimate/train it on all the training data. "
   ]
  },
  {
   "cell_type": "markdown",
   "metadata": {},
   "source": [
    "> **Ex. 12.2.1:** Make a for loop with 10 iterations where you:\n",
    "> 1. Split the input data into, train (also know as development) and test where the test sample should be one third. Set a new random state for each iteration of the loop, so each iteration makes a different split.\n",
    "> 2. Further split the training (aka development) data into two even sized bins; the first data is for training models and the other is for validating them. Therefore these data sets are often called training and validation.\n",
    "> 3. Train a linear regression model with sub-training data. Compute the RMSE for out-of-sample predictions for both the test data  and the validation data. Save the RMSE.\n",
    ">\n",
    "> You should now have a 10x2 DataFrame with 10 RMSE from both the test data set and the train data set. Compute descriptive statistics of RMSE for the out-of-sample predictions on test and validation data. Are they simular?    \n",
    ">   They hopefuly are pretty simular. This shows us, that we can split the train data, and use this to fit the model. \n",
    ">\n",
    "> *Hint*: you can reuse any code used to solve e.g. exercises 11.3.2."
   ]
  },
  {
   "cell_type": "code",
   "execution_count": 3,
   "metadata": {
    "deletable": false,
    "nbgrader": {
     "cell_type": "code",
     "checksum": "063444a85f076df0cd894ca9a3e20904",
     "grade": false,
     "grade_id": "cell-7f4fc2d7f61542ec",
     "locked": false,
     "schema_version": 3,
     "solution": true,
     "task": false
    }
   },
   "outputs": [
    {
     "name": "stdout",
     "output_type": "stream",
     "text": [
      "   validation   test\n",
      "0        0.61   2.06\n",
      "1        0.64   2.03\n",
      "2        0.61   2.13\n",
      "3        0.63   2.01\n",
      "4        0.60   2.03\n",
      "5       15.21  16.92\n",
      "6        1.51   2.99\n",
      "7        0.64   2.07\n",
      "8        0.64   2.03\n",
      "9        0.61   2.11\n"
     ]
    }
   ],
   "source": [
    "# Preparation\n",
    "performance_val = []\n",
    "performance_test = []\n",
    "\n",
    "\n",
    "for iteration in range(10):\n",
    "    # SPLIT INTO DEVELOPMENT (2/3) AND TEST DATA (1/3)\n",
    "    X_dev, X_test, y_dev, y_test = train_test_split(X, y, test_size=1/3, random_state=iteration)\n",
    "    \n",
    "    # SPLIT THE DEVELOPMENT DATA INTO TRAIN (1/2) AND VALIDATION (1/2)\n",
    "    X_train, X_val, y_train, y_val = train_test_split(X_dev, y_dev, test_size=1/2, random_state=iteration)\n",
    "\n",
    "    # Define the pipeline\n",
    "    pipe = make_pipeline(\n",
    "        LinearRegression()) \n",
    "\n",
    "    # Train and fit the model, then predict and calculate RMSE\n",
    "    pipe.fit(X_train, y_train)\n",
    "    \n",
    "    y_pred_val = pipe.predict(X_val)\n",
    "    RMSE_val = mse(y_val,y_pred_val)\n",
    "    performance_val.append(RMSE_val.round(2))\n",
    "    \n",
    "    y_pred_test = pipe.predict(X_test)\n",
    "    RMSE_test = mse(y_test,y_pred_val)\n",
    "    performance_test.append(RMSE_test.round(2))\n",
    "\n",
    "rmse = pd.DataFrame(np.column_stack([performance_val,performance_test]), columns = ['validation','test'])\n",
    "print(rmse)\n"
   ]
  },
  {
   "cell_type": "markdown",
   "metadata": {},
   "source": [
    "> **Ex. 12.2.2:** Construct a model building pipeline which \n",
    "> 1. adds polynomial features of degree 3 without bias;\n",
    "> 2. scales the features to mean zero and unit std. \n",
    "> 3. estimates a Lasso model"
   ]
  },
  {
   "cell_type": "code",
   "execution_count": null,
   "metadata": {
    "deletable": false,
    "nbgrader": {
     "cell_type": "code",
     "checksum": "28c8478dac9d6269616f87689298ef3e",
     "grade": false,
     "grade_id": "cell-b9e732407b6a3bc7",
     "locked": false,
     "schema_version": 3,
     "solution": true,
     "task": false
    }
   },
   "outputs": [],
   "source": [
    "\n",
    "# Define the pipeline\n",
    "pipe = make_pipeline(PolynomialFeatures(degree = 3), \n",
    "                     StandardScaler(),\n",
    "                     Lasso()) #need to specify in correct order\n",
    "\n",
    "raise NotImplementedError()"
   ]
  },
  {
   "cell_type": "markdown",
   "metadata": {},
   "source": [
    "## Cross Validation\n",
    "\n",
    "  \n",
    "The simple validation procedure that we outlined above has one disadvantage: it only uses parts of the *development* data for validation. In the video below, we present a refined approach that uses all the *development* for validation.\n",
    "\n"
   ]
  },
  {
   "cell_type": "code",
   "execution_count": 49,
   "metadata": {},
   "outputs": [
    {
     "data": {
      "image/jpeg": "[encoded data removed]",
      "text/html": [
       "\n",
       "        <iframe\n",
       "            width=\"640\"\n",
       "            height=\"360\"\n",
       "            src=\"https://www.youtube.com/embed/-G--B3woZGU\"\n",
       "            frameborder=\"0\"\n",
       "            allowfullscreen\n",
       "            \n",
       "        ></iframe>\n",
       "        "
      ],
      "text/plain": [
       "<IPython.lib.display.YouTubeVideo at 0x275328fba00>"
      ]
     },
     "execution_count": 49,
     "metadata": {},
     "output_type": "execute_result"
    }
   ],
   "source": [
    "YouTubeVideo('-G--B3woZGU', width=640, height=360)"
   ]
  },
  {
   "cell_type": "markdown",
   "metadata": {},
   "source": [
    "When we want to optimize over both normal parameters and hyperparameters, we do this using nested loops (two-layered cross validation). In the outer loop, we vary the hyperparameters, and then in the inner loop, we do cross validation for the model with the specific selection of hyperparameters. This way, we can find the model with the lowest mean MSE. "
   ]
  },
  {
   "cell_type": "markdown",
   "metadata": {},
   "source": [
    "> **Ex. 12.2.3:**\n",
    "Run a Lasso regression using the Pipeline from `Ex 12.2.2`. In the outer loop, search through the lambdas specified below. \n",
    "In the inner loop, make *5 fold cross validation* on the selected model and store the average MSE for each fold. Which lambda, from the selection below, gives the lowest test MSE?\n",
    ">  ```python \n",
    "> lambdas =  np.logspace(-4, 4, 12)\n",
    "> ```\n",
    "> *Hint:* `KFold` in `sklearn.model_selection` may be useful."
   ]
  },
  {
   "cell_type": "code",
   "execution_count": null,
   "metadata": {},
   "outputs": [],
   "source": [
    "# INCLUDED IN ASSIGNMENT 2\n"
   ]
  },
  {
   "cell_type": "code",
   "execution_count": 10,
   "metadata": {
    "tags": []
   },
   "outputs": [
    {
     "name": "stdout",
     "output_type": "stream",
     "text": [
      "[[0.5144850453221926, 0.6639253899214925, 12.441780030121219, 0.8768465999344274, 0.6433724736968383], [0.5072899553263545, 0.524721247475411, 0.6442194147223176, 1.1945993142631488, 0.6405277048434737], [0.5242044320098955, 0.5820355555830968, 13.44910311347081, 0.8646725762464802, 0.4936898229485251], [0.5916888474506862, 0.7028860859410877, 1.833623170387864, 0.7087785759743424, 0.5991715609770074], [0.6652910449648504, 0.7104602151518269, 0.6348607559878814, 0.692069862738754, 0.6389670825409256], [0.8732427607902878, 0.936078317327263, 0.8195400589493438, 0.9136103965115547, 0.8875186045294091], [1.316751757112546, 1.4033779246453986, 1.2617422299315955, 1.3848804941727555, 1.32209495429962], [1.316751757112546, 1.4033779246453986, 1.2617422299315955, 1.3848804941727555, 1.32209495429962], [1.316751757112546, 1.4033779246453986, 1.2617422299315955, 1.3848804941727555, 1.32209495429962], [1.316751757112546, 1.4033779246453986, 1.2617422299315955, 1.3848804941727555, 1.32209495429962], [1.316751757112546, 1.4033779246453986, 1.2617422299315955, 1.3848804941727555, 1.32209495429962], [1.316751757112546, 1.4033779246453986, 1.2617422299315955, 1.3848804941727555, 1.32209495429962]]\n"
     ]
    }
   ],
   "source": [
    "# SPLIT INTO DEVELOPMENT (2/3) AND TEST DATA (1/3)\n",
    "X_dev, X_test, y_dev, y_test = train_test_split(X, y, test_size=1/3, random_state=432432)\n",
    "    \n",
    "# SPLIT THE DEVELOPMENT DATA INTO TRAIN (1/2) AND VALIDATION (1/2)\n",
    "#X_train, X_val, y_train, y_val = train_test_split(X_dev, y_dev, test_size=1/2)\n",
    "\n",
    "lambdas =  np.logspace(-4, 4, 12)\n",
    "\n",
    "kfolds = KFold(n_splits=5)\n",
    "folds = list(kfolds.split(X_dev, y_dev)) # The folds data is a list, where every item on the list is the X and y development sets from the folds, 1st, 2nd, 3rd and so on.  \n",
    "\n",
    "# Outer loop: lambdas\n",
    "mseCV = []\n",
    "for lambda_ in lambdas:\n",
    "    \n",
    "    # Inner loop: folds\n",
    "    mseCV_ = []\n",
    "    for train_idx, val_idx in folds:\n",
    "        pipe = make_pipeline(PolynomialFeatures(degree = 3, include_bias = False), \n",
    "                         StandardScaler(),\n",
    "                         Lasso(alpha = lambda_)) #need to specify in correct order\n",
    "        \n",
    "        X_train, y_train = X_dev.iloc[train_idx], y_dev[train_idx] # The for loop lets us pick the first, second, etc., folds in the list. Thus every loop runs through each folds. \n",
    "        X_val, y_val = X_dev.iloc[val_idx], y_dev[val_idx] # The for loop lets us pick the first, second, etc., folds in the list. Thus every loop runs through each folds.\n",
    "        \n",
    "        pipe.fit(X_train, y_train)\n",
    "        mseCV_.append(mse(pipe.predict(X_val), y_val))\n",
    "    \n",
    "    # Store result    \n",
    "    mseCV.append(mseCV_)\n",
    "\n",
    "print(mseCV)\n",
    "\n"
   ]
  },
  {
   "cell_type": "code",
   "execution_count": 11,
   "metadata": {
    "deletable": false,
    "nbgrader": {
     "cell_type": "code",
     "checksum": "c46e1dc9b059e940eb191451d3538957",
     "grade": false,
     "grade_id": "cell-2d18991cf35410c2",
     "locked": false,
     "schema_version": 3,
     "solution": true,
     "task": false
    }
   },
   "outputs": [
    {
     "name": "stdout",
     "output_type": "stream",
     "text": [
      "0.000100        3.028082\n",
      "0.000534        0.702272\n",
      "0.002848        3.182741\n",
      "0.015199        0.887230\n",
      "0.081113        0.668330\n",
      "0.432876        0.885998\n",
      "2.310130        1.337769\n",
      "12.328467       1.337769\n",
      "65.793322       1.337769\n",
      "351.119173      1.337769\n",
      "1873.817423     1.337769\n",
      "10000.000000    1.337769\n",
      "dtype: float64\n",
      "0.081113    0.66833\n",
      "dtype: float64\n"
     ]
    }
   ],
   "source": [
    "# Convert to DataFrame\n",
    "mseCV_df = pd.DataFrame(mseCV, index=lambdas).mean(axis=1)\n",
    "print(mseCV_df)\n",
    "print(mseCV_df.nsmallest(1))\n"
   ]
  },
  {
   "cell_type": "markdown",
   "metadata": {},
   "source": [
    "## Tools for model selection\n",
    "\n",
    "Below we review three useful tools for performing model selection. The first tool, the learning curve, can be used to assess whether there is over- and underfitting."
   ]
  },
  {
   "cell_type": "code",
   "execution_count": 4,
   "metadata": {},
   "outputs": [
    {
     "data": {
      "text/html": [
       "\n",
       "        <iframe\n",
       "            width=\"640\"\n",
       "            height=\"360\"\n",
       "            src=\"https://www.youtube.com/embed/BMR6O9NaYdc\"\n",
       "            frameborder=\"0\"\n",
       "            allowfullscreen\n",
       "            \n",
       "        ></iframe>\n",
       "        "
      ],
      "text/plain": [
       "<IPython.lib.display.YouTubeVideo at 0x1bf2c91da60>"
      ]
     },
     "execution_count": 4,
     "metadata": {},
     "output_type": "execute_result"
    }
   ],
   "source": [
    "YouTubeVideo('BMR6O9NaYdc', width=640, height=360)"
   ]
  },
  {
   "cell_type": "markdown",
   "metadata": {},
   "source": [
    "The next tool, the validation curve, helps to make perform automated model selection and to visualize the process of model selection."
   ]
  },
  {
   "cell_type": "code",
   "execution_count": null,
   "metadata": {},
   "outputs": [],
   "source": [
    "YouTubeVideo('c9NkJC7EzPg', width=640, height=360)"
   ]
  },
  {
   "cell_type": "markdown",
   "metadata": {},
   "source": [
    "When we have more than one hyperparameter, we need to find the combination of optimal hyperparameters. In the video below we see how to do that for *elastic net*, which has both L1 and L2 regularization."
   ]
  },
  {
   "cell_type": "code",
   "execution_count": null,
   "metadata": {},
   "outputs": [],
   "source": [
    "YouTubeVideo('AjEpa24mFGw', width=640, height=360)"
   ]
  },
  {
   "cell_type": "markdown",
   "metadata": {},
   "source": [
    "> **Ex. 12.2.4:** __Automated Cross Validation in one dimension__  \n",
    "Now we want to repeat exercise 12.2.3 in a more automated fashion. \n",
    "When you are doing cross validation with one hyperparameter, you can automate the process by using `validation_curve` from `sklearn.model_selection`. Use this function to search through the values of lambdas, and find the value of lambda, which give the lowest test error.  \n",
    ">\n",
    "> Check if you got the same output for the manual implementation (Ex. 12.2.3) and the automated implementation (Ex. 12.2.4) \n",
    ">\n",
    "> BONUS: Plot the average MSE-test and MSE-train against the different values of lambda. (*Hint*: Use logarithmic axes, and lambda as index)"
   ]
  },
  {
   "cell_type": "code",
   "execution_count": 66,
   "metadata": {
    "deletable": false,
    "nbgrader": {
     "cell_type": "code",
     "checksum": "609c9fdda72359dd5195b9620df03315",
     "grade": false,
     "grade_id": "cell-e0de0809041fc3c4",
     "locked": false,
     "schema_version": 3,
     "solution": true,
     "task": false
    }
   },
   "outputs": [
    {
     "name": "stdout",
     "output_type": "stream",
     "text": [
      "lambda\n",
      "0.081113    0.66833\n",
      "Name: Validation, dtype: float64\n"
     ]
    }
   ],
   "source": [
    "# YOUR CODE HERE\n",
    "\n",
    "train_scores, test_scores = validation_curve(estimator=pipe,\n",
    "                     X=X_dev,\n",
    "                     y=y_dev,\n",
    "                     param_name='lasso__alpha',\n",
    "                     param_range=lambdas,\n",
    "                     scoring='neg_mean_squared_error',\n",
    "                     cv=5)\n",
    "\n",
    "mse_score = pd.DataFrame({'Train':-train_scores.mean(axis=1),\n",
    "                          'Validation':-test_scores.mean(axis=1),\n",
    "                          'lambda':lambdas}).set_index('lambda')\n",
    "mse = mse_score.Validation.nsmallest(1)\n",
    "\n"
   ]
  },
  {
   "cell_type": "code",
   "execution_count": 67,
   "metadata": {},
   "outputs": [
    {
     "data": {
      "text/plain": [
       "<Axes: xlabel='lambda'>"
      ]
     },
     "execution_count": 67,
     "metadata": {},
     "output_type": "execute_result"
    },
    {
     "data": {
      "image/png": "[encoded data removed]",
      "text/plain": [
       "<Figure size 640x480 with 1 Axes>"
      ]
     },
     "metadata": {},
     "output_type": "display_data"
    }
   ],
   "source": [
    "np.sqrt(mse_score).plot(logx=True,index)"
   ]
  },
  {
   "cell_type": "markdown",
   "metadata": {},
   "source": [
    "When you have *more than one* hyperparameter, you will want to fit the model to all the possible combinations of hyperparameters. This is done in an approch called `Grid Search`, which is implementet in `sklearn.model_selection` as `GridSearchCV`\n",
    "\n",
    "> **Ex. 12.2.5:** To get to know `Grid Search`, we want to implement it in one dimension. Using `GridSearchCV`, implement the Lasso, with the same lambdas as before (`lambdas =  np.logspace(-4, 4, 12)`), 10-fold CV and (negative) mean squared error as the scoring variable. Which value of Lambda gives the lowest test error? "
   ]
  },
  {
   "cell_type": "code",
   "execution_count": 77,
   "metadata": {
    "deletable": false,
    "nbgrader": {
     "cell_type": "code",
     "checksum": "713b145793dd707d22099feae8543fe7",
     "grade": false,
     "grade_id": "cell-6c3aad24ac0d4f7e",
     "locked": false,
     "schema_version": 3,
     "solution": true,
     "task": false
    }
   },
   "outputs": [
    {
     "name": "stdout",
     "output_type": "stream",
     "text": [
      "lasso 0.66\n",
      "\n",
      "CV params: {'lasso__alpha': 0.08111308307896872}\n"
     ]
    },
    {
     "data": {
      "text/plain": [
       "' \\nfor name, model in models:\\n      score = mse(gs.predict(X_test),y_test)\\n      print(name, round(score,2))\\nprint()\\nprint()\\n'"
      ]
     },
     "execution_count": 77,
     "metadata": {},
     "output_type": "execute_result"
    }
   ],
   "source": [
    "# YOUR CODE HERE\n",
    "\"\"\" \n",
    "gs = GridSearchCV(estimator=pipe, \n",
    "                  param_grid={'lasso__alpha':lambdas}, \n",
    "                  scoring='neg_mean_squared_error', \n",
    "                  cv=5)\n",
    "\"\"\"\n",
    "\n",
    "models = {}\n",
    "models['lasso'] = gs.fit(X_dev, y_dev)\n",
    "\n",
    "for name, model in models.items():\n",
    "    score = mse(model.predict(X_test),y_test)\n",
    "    print(name, round(score, 2))\n",
    "print()\n",
    "print('CV params:', gs.best_params_)\n",
    "#print(models)\n",
    "\n",
    "\"\"\" \n",
    "for name, model in models:\n",
    "      score = mse(gs.predict(X_test),y_test)\n",
    "      print(name, round(score,2))\n",
    "print()\n",
    "print()\n",
    "\"\"\""
   ]
  },
  {
   "cell_type": "markdown",
   "metadata": {},
   "source": [
    "> **Ex. 12.1.6 BONUS** Now set `lambdas =  np.logspace(-4, 4, 100)`, and repeat the previous now with RandomizedSearchCV with `n_iter=12`."
   ]
  },
  {
   "cell_type": "code",
   "execution_count": null,
   "metadata": {
    "deletable": false,
    "nbgrader": {
     "cell_type": "code",
     "checksum": "fb7f7f0d0c310b7ef2eb4c682e975a07",
     "grade": false,
     "grade_id": "cell-4fd89f0b3462a65d",
     "locked": false,
     "schema_version": 3,
     "solution": true,
     "task": false
    }
   },
   "outputs": [],
   "source": []
  }
 ],
 "metadata": {
  "celltoolbar": "Edit Metadata",
  "kernelspec": {
   "display_name": "Python 3 (ipykernel)",
   "language": "python",
   "name": "python3"
  },
  "language_info": {
   "codemirror_mode": {
    "name": "ipython",
    "version": 3
   },
   "file_extension": ".py",
   "mimetype": "text/x-python",
   "name": "python",
   "nbconvert_exporter": "python",
   "pygments_lexer": "ipython3",
   "version": "3.10.9"
  },
  "nav_menu": {},
  "toc": {
   "navigate_menu": true,
   "number_sections": false,
   "sideBar": true,
   "threshold": 6,
   "toc_cell": false,
   "toc_section_display": "block",
   "toc_window_display": true
  }
 },
 "nbformat": 4,
 "nbformat_minor": 4
}
